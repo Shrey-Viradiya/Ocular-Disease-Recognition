{
 "cells": [
  {
   "cell_type": "markdown",
   "metadata": {
    "papermill": {
     "duration": 0.022268,
     "end_time": "2020-08-31T10:45:29.192564",
     "exception": false,
     "start_time": "2020-08-31T10:45:29.170296",
     "status": "completed"
    },
    "tags": []
   },
   "source": [
    "# ODIR5K: EDA, keyphrases, image sorting\n",
    "\n",
    "In this notebook, I performed a superficial exploratory data analysis, investigated the relationship between diagnostic keyphrases and diagnosed conditions and, based on the latter, implemented some code to sort images of retinal fundi, according to conditions whose symptoms they display."
   ]
  },
  {
   "cell_type": "code",
   "execution_count": 1,
   "metadata": {
    "execution": {
     "iopub.execute_input": "2020-08-31T10:45:29.244532Z",
     "iopub.status.busy": "2020-08-31T10:45:29.243658Z",
     "iopub.status.idle": "2020-08-31T10:45:38.146869Z",
     "shell.execute_reply": "2020-08-31T10:45:38.145949Z"
    },
    "papermill": {
     "duration": 8.933368,
     "end_time": "2020-08-31T10:45:38.147010",
     "exception": false,
     "start_time": "2020-08-31T10:45:29.213642",
     "status": "completed"
    },
    "tags": []
   },
   "outputs": [],
   "source": [
    "# Import everything we need\n",
    "\n",
    "import os\n",
    "import numpy as np\n",
    "import pandas as pd\n",
    "from matplotlib import pyplot as plt, image as mpimg\n",
    "from tqdm import tqdm\n",
    "from time import time\n",
    "from collections import Counter\n",
    "import random\n",
    "\n",
    "from skimage.transform import resize\n",
    "\n",
    "import re"
   ]
  },
  {
   "cell_type": "code",
   "execution_count": null,
   "metadata": {},
   "outputs": [],
   "source": [
    "import tensorflow as tf\n",
    "from tensorflow.keras import models, layers, optimizers, utils, callbacks\n",
    "from tensorflow.python.keras.preprocessing.image import load_img, img_to_array"
   ]
  },
  {
   "cell_type": "code",
   "execution_count": 2,
   "metadata": {
    "execution": {
     "iopub.execute_input": "2020-08-31T10:45:38.195296Z",
     "iopub.status.busy": "2020-08-31T10:45:38.194375Z",
     "iopub.status.idle": "2020-08-31T10:45:38.197901Z",
     "shell.execute_reply": "2020-08-31T10:45:38.197147Z"
    },
    "papermill": {
     "duration": 0.030532,
     "end_time": "2020-08-31T10:45:38.198044",
     "exception": false,
     "start_time": "2020-08-31T10:45:38.167512",
     "status": "completed"
    },
    "tags": []
   },
   "outputs": [],
   "source": [
    "# Set up all the paths\n",
    "\n",
    "train_dir = './OcularD/ODIR-5K/ODIR-5K/Training Images'\n",
    "test_dir = './OcularD/ODIR-5K/ODIR-5K/Testing Images'\n",
    "main_dir = './OcularD/ODIR-5K/ODIR-5K/'\n",
    "work_dir = './'"
   ]
  },
  {
   "cell_type": "markdown",
   "metadata": {
    "papermill": {
     "duration": 0.019929,
     "end_time": "2020-08-31T10:45:38.238440",
     "exception": false,
     "start_time": "2020-08-31T10:45:38.218511",
     "status": "completed"
    },
    "tags": []
   },
   "source": [
    "First, let's load our data to a DataFrame and take a look at it"
   ]
  },
  {
   "cell_type": "code",
   "execution_count": 5,
   "metadata": {
    "execution": {
     "iopub.execute_input": "2020-08-31T10:45:38.287607Z",
     "iopub.status.busy": "2020-08-31T10:45:38.286693Z",
     "iopub.status.idle": "2020-08-31T10:45:39.704357Z",
     "shell.execute_reply": "2020-08-31T10:45:39.705088Z"
    },
    "papermill": {
     "duration": 1.446513,
     "end_time": "2020-08-31T10:45:39.705312",
     "exception": false,
     "start_time": "2020-08-31T10:45:38.258799",
     "status": "completed"
    },
    "tags": []
   },
   "outputs": [
    {
     "output_type": "execute_result",
     "data": {
      "text/plain": [
       "        ID  Patient Age Patient Sex    Left-Fundus    Right-Fundus  \\\n",
       "0        0           69      Female     0_left.jpg     0_right.jpg   \n",
       "1        1           57        Male     1_left.jpg     1_right.jpg   \n",
       "2        2           42        Male     2_left.jpg     2_right.jpg   \n",
       "3        3           66        Male     3_left.jpg     3_right.jpg   \n",
       "4        4           53        Male     4_left.jpg     4_right.jpg   \n",
       "...    ...          ...         ...            ...             ...   \n",
       "3495  4686           63        Male  4686_left.jpg  4686_right.jpg   \n",
       "3496  4688           42        Male  4688_left.jpg  4688_right.jpg   \n",
       "3497  4689           54        Male  4689_left.jpg  4689_right.jpg   \n",
       "3498  4690           57        Male  4690_left.jpg  4690_right.jpg   \n",
       "3499  4784           58        Male  4784_left.jpg  4784_right.jpg   \n",
       "\n",
       "                               Left-Diagnostic Keywords  \\\n",
       "0                                              cataract   \n",
       "1                                         normal fundus   \n",
       "2     laser spot，moderate non proliferative retinopathy   \n",
       "3                                         normal fundus   \n",
       "4                           macular epiretinal membrane   \n",
       "...                                                 ...   \n",
       "3495                severe nonproliferative retinopathy   \n",
       "3496             moderate non proliferative retinopathy   \n",
       "3497                  mild nonproliferative retinopathy   \n",
       "3498                  mild nonproliferative retinopathy   \n",
       "3499  hypertensive retinopathy，age-related macular d...   \n",
       "\n",
       "                              Right-Diagnostic Keywords  N  D  G  C  A  H  M  \\\n",
       "0                                         normal fundus  0  0  0  1  0  0  0   \n",
       "1                                         normal fundus  1  0  0  0  0  0  0   \n",
       "2                moderate non proliferative retinopathy  0  1  0  0  0  0  0   \n",
       "3                       branch retinal artery occlusion  0  0  0  0  0  0  0   \n",
       "4                     mild nonproliferative retinopathy  0  1  0  0  0  0  0   \n",
       "...                                                 ... .. .. .. .. .. .. ..   \n",
       "3495                 proliferative diabetic retinopathy  0  1  0  0  0  0  0   \n",
       "3496             moderate non proliferative retinopathy  0  1  0  0  0  0  0   \n",
       "3497                                      normal fundus  0  1  0  0  0  0  0   \n",
       "3498                  mild nonproliferative retinopathy  0  1  0  0  0  0  0   \n",
       "3499  hypertensive retinopathy，age-related macular d...  0  0  0  0  1  1  0   \n",
       "\n",
       "      O  \n",
       "0     0  \n",
       "1     0  \n",
       "2     1  \n",
       "3     1  \n",
       "4     1  \n",
       "...  ..  \n",
       "3495  0  \n",
       "3496  0  \n",
       "3497  0  \n",
       "3498  0  \n",
       "3499  0  \n",
       "\n",
       "[3500 rows x 15 columns]"
      ],
      "text/html": "<div>\n<style scoped>\n    .dataframe tbody tr th:only-of-type {\n        vertical-align: middle;\n    }\n\n    .dataframe tbody tr th {\n        vertical-align: top;\n    }\n\n    .dataframe thead th {\n        text-align: right;\n    }\n</style>\n<table border=\"1\" class=\"dataframe\">\n  <thead>\n    <tr style=\"text-align: right;\">\n      <th></th>\n      <th>ID</th>\n      <th>Patient Age</th>\n      <th>Patient Sex</th>\n      <th>Left-Fundus</th>\n      <th>Right-Fundus</th>\n      <th>Left-Diagnostic Keywords</th>\n      <th>Right-Diagnostic Keywords</th>\n      <th>N</th>\n      <th>D</th>\n      <th>G</th>\n      <th>C</th>\n      <th>A</th>\n      <th>H</th>\n      <th>M</th>\n      <th>O</th>\n    </tr>\n  </thead>\n  <tbody>\n    <tr>\n      <th>0</th>\n      <td>0</td>\n      <td>69</td>\n      <td>Female</td>\n      <td>0_left.jpg</td>\n      <td>0_right.jpg</td>\n      <td>cataract</td>\n      <td>normal fundus</td>\n      <td>0</td>\n      <td>0</td>\n      <td>0</td>\n      <td>1</td>\n      <td>0</td>\n      <td>0</td>\n      <td>0</td>\n      <td>0</td>\n    </tr>\n    <tr>\n      <th>1</th>\n      <td>1</td>\n      <td>57</td>\n      <td>Male</td>\n      <td>1_left.jpg</td>\n      <td>1_right.jpg</td>\n      <td>normal fundus</td>\n      <td>normal fundus</td>\n      <td>1</td>\n      <td>0</td>\n      <td>0</td>\n      <td>0</td>\n      <td>0</td>\n      <td>0</td>\n      <td>0</td>\n      <td>0</td>\n    </tr>\n    <tr>\n      <th>2</th>\n      <td>2</td>\n      <td>42</td>\n      <td>Male</td>\n      <td>2_left.jpg</td>\n      <td>2_right.jpg</td>\n      <td>laser spot，moderate non proliferative retinopathy</td>\n      <td>moderate non proliferative retinopathy</td>\n      <td>0</td>\n      <td>1</td>\n      <td>0</td>\n      <td>0</td>\n      <td>0</td>\n      <td>0</td>\n      <td>0</td>\n      <td>1</td>\n    </tr>\n    <tr>\n      <th>3</th>\n      <td>3</td>\n      <td>66</td>\n      <td>Male</td>\n      <td>3_left.jpg</td>\n      <td>3_right.jpg</td>\n      <td>normal fundus</td>\n      <td>branch retinal artery occlusion</td>\n      <td>0</td>\n      <td>0</td>\n      <td>0</td>\n      <td>0</td>\n      <td>0</td>\n      <td>0</td>\n      <td>0</td>\n      <td>1</td>\n    </tr>\n    <tr>\n      <th>4</th>\n      <td>4</td>\n      <td>53</td>\n      <td>Male</td>\n      <td>4_left.jpg</td>\n      <td>4_right.jpg</td>\n      <td>macular epiretinal membrane</td>\n      <td>mild nonproliferative retinopathy</td>\n      <td>0</td>\n      <td>1</td>\n      <td>0</td>\n      <td>0</td>\n      <td>0</td>\n      <td>0</td>\n      <td>0</td>\n      <td>1</td>\n    </tr>\n    <tr>\n      <th>...</th>\n      <td>...</td>\n      <td>...</td>\n      <td>...</td>\n      <td>...</td>\n      <td>...</td>\n      <td>...</td>\n      <td>...</td>\n      <td>...</td>\n      <td>...</td>\n      <td>...</td>\n      <td>...</td>\n      <td>...</td>\n      <td>...</td>\n      <td>...</td>\n      <td>...</td>\n    </tr>\n    <tr>\n      <th>3495</th>\n      <td>4686</td>\n      <td>63</td>\n      <td>Male</td>\n      <td>4686_left.jpg</td>\n      <td>4686_right.jpg</td>\n      <td>severe nonproliferative retinopathy</td>\n      <td>proliferative diabetic retinopathy</td>\n      <td>0</td>\n      <td>1</td>\n      <td>0</td>\n      <td>0</td>\n      <td>0</td>\n      <td>0</td>\n      <td>0</td>\n      <td>0</td>\n    </tr>\n    <tr>\n      <th>3496</th>\n      <td>4688</td>\n      <td>42</td>\n      <td>Male</td>\n      <td>4688_left.jpg</td>\n      <td>4688_right.jpg</td>\n      <td>moderate non proliferative retinopathy</td>\n      <td>moderate non proliferative retinopathy</td>\n      <td>0</td>\n      <td>1</td>\n      <td>0</td>\n      <td>0</td>\n      <td>0</td>\n      <td>0</td>\n      <td>0</td>\n      <td>0</td>\n    </tr>\n    <tr>\n      <th>3497</th>\n      <td>4689</td>\n      <td>54</td>\n      <td>Male</td>\n      <td>4689_left.jpg</td>\n      <td>4689_right.jpg</td>\n      <td>mild nonproliferative retinopathy</td>\n      <td>normal fundus</td>\n      <td>0</td>\n      <td>1</td>\n      <td>0</td>\n      <td>0</td>\n      <td>0</td>\n      <td>0</td>\n      <td>0</td>\n      <td>0</td>\n    </tr>\n    <tr>\n      <th>3498</th>\n      <td>4690</td>\n      <td>57</td>\n      <td>Male</td>\n      <td>4690_left.jpg</td>\n      <td>4690_right.jpg</td>\n      <td>mild nonproliferative retinopathy</td>\n      <td>mild nonproliferative retinopathy</td>\n      <td>0</td>\n      <td>1</td>\n      <td>0</td>\n      <td>0</td>\n      <td>0</td>\n      <td>0</td>\n      <td>0</td>\n      <td>0</td>\n    </tr>\n    <tr>\n      <th>3499</th>\n      <td>4784</td>\n      <td>58</td>\n      <td>Male</td>\n      <td>4784_left.jpg</td>\n      <td>4784_right.jpg</td>\n      <td>hypertensive retinopathy，age-related macular d...</td>\n      <td>hypertensive retinopathy，age-related macular d...</td>\n      <td>0</td>\n      <td>0</td>\n      <td>0</td>\n      <td>0</td>\n      <td>1</td>\n      <td>1</td>\n      <td>0</td>\n      <td>0</td>\n    </tr>\n  </tbody>\n</table>\n<p>3500 rows × 15 columns</p>\n</div>"
     },
     "metadata": {},
     "execution_count": 5
    }
   ],
   "source": [
    "data = pd.read_excel(os.path.join(main_dir,'data.xlsx'), sheet_name=None)\n",
    "data = pd.DataFrame(data[list(data.keys())[0]])\n",
    "\n",
    "data"
   ]
  },
  {
   "cell_type": "markdown",
   "metadata": {
    "papermill": {
     "duration": 0.020812,
     "end_time": "2020-08-31T10:45:39.747653",
     "exception": false,
     "start_time": "2020-08-31T10:45:39.726841",
     "status": "completed"
    },
    "tags": []
   },
   "source": [
    "# Basic Exploratory Data Analysis"
   ]
  },
  {
   "cell_type": "markdown",
   "metadata": {
    "papermill": {
     "duration": 0.020401,
     "end_time": "2020-08-31T10:45:39.789206",
     "exception": false,
     "start_time": "2020-08-31T10:45:39.768805",
     "status": "completed"
    },
    "tags": []
   },
   "source": [
    "Let's now take parts of the data, which we can easily express numerically and look at their their distribution"
   ]
  },
  {
   "cell_type": "code",
   "execution_count": 6,
   "metadata": {
    "execution": {
     "iopub.execute_input": "2020-08-31T10:45:39.851927Z",
     "iopub.status.busy": "2020-08-31T10:45:39.847894Z",
     "iopub.status.idle": "2020-08-31T10:45:41.773908Z",
     "shell.execute_reply": "2020-08-31T10:45:41.773059Z"
    },
    "papermill": {
     "duration": 1.962445,
     "end_time": "2020-08-31T10:45:41.774066",
     "exception": false,
     "start_time": "2020-08-31T10:45:39.811621",
     "status": "completed"
    },
    "tags": []
   },
   "outputs": [
    {
     "output_type": "stream",
     "name": "stderr",
     "text": [
      "s:\\IVP_Project\\Alcon\\lib\\site-packages\\pandas\\plotting\\_matplotlib\\tools.py:400: MatplotlibDeprecationWarning: \nThe is_first_col function was deprecated in Matplotlib 3.4 and will be removed two minor releases later. Use ax.get_subplotspec().is_first_col() instead.\n  if ax.is_first_col():\n"
     ]
    },
    {
     "output_type": "display_data",
     "data": {
      "text/plain": "<Figure size 1080x864 with 12 Axes>",
      "image/svg+xml": "<?xml version=\"1.0\" encoding=\"utf-8\" standalone=\"no\"?>\r\n<!DOCTYPE svg PUBLIC \"-//W3C//DTD SVG 1.1//EN\"\r\n  \"http://www.w3.org/Graphics/SVG/1.1/DTD/svg11.dtd\">\r\n<svg height=\"698.51625pt\" version=\"1.1\" viewBox=\"0 0 883.85 698.51625\" width=\"883.85pt\" xmlns=\"http://www.w3.org/2000/svg\" xmlns:xlink=\"http://www.w3.org/1999/xlink\">\r\n <metadata>\r\n  <rdf:RDF xmlns:cc=\"http://creativecommons.org/ns#\" xmlns:dc=\"http://purl.org/dc/elements/1.1/\" xmlns:rdf=\"http://www.w3.org/1999/02/22-rdf-syntax-ns#\">\r\n   <cc:Work>\r\n    <dc:type rdf:resource=\"http://purl.org/dc/dcmitype/StillImage\"/>\r\n    <dc:date>2021-04-11T21:07:46.065185</dc:date>\r\n    <dc:format>image/svg+xml</dc:format>\r\n    <dc:creator>\r\n     <cc:Agent>\r\n      <dc:title>Matplotlib v3.4.1, https://matplotlib.org/</dc:title>\r\n     </cc:Agent>\r\n    </dc:creator>\r\n   </cc:Work>\r\n  </rdf:RDF>\r\n </metadata>\r\n <defs>\r\n  <style type=\"text/css\">*{stroke-linecap:butt;stroke-linejoin:round;}</style>\r\n </defs>\r\n <g id=\"figure_1\">\r\n  <g id=\"patch_1\">\r\n   <path d=\"M -0 698.51625 \r\nL 883.85 698.51625 \r\nL 883.85 -0 \r\nL -0 -0 \r\nz\r\n\" style=\"fill:none;\"/>\r\n  </g>\r\n  <g id=\"axes_1\">\r\n   <g id=\"patch_2\">\r\n    <path d=\"M 39.65 155.444656 \r\nL 272.15 155.444656 \r\nL 272.15 22.318125 \r\nL 39.65 22.318125 \r\nz\r\n\" style=\"fill:#ffffff;\"/>\r\n   </g>\r\n   <g id=\"patch_3\">\r\n    <path clip-path=\"url(#pba6ab42b4b)\" d=\"M 50.218182 155.444656 \r\nL 71.354545 155.444656 \r\nL 71.354545 153.647849 \r\nL 50.218182 153.647849 \r\nz\r\n\" style=\"fill:#1f77b4;\"/>\r\n   </g>\r\n   <g id=\"patch_4\">\r\n    <path clip-path=\"url(#pba6ab42b4b)\" d=\"M 71.354545 155.444656 \r\nL 92.490909 155.444656 \r\nL 92.490909 154.995454 \r\nL 71.354545 154.995454 \r\nz\r\n\" style=\"fill:#1f77b4;\"/>\r\n   </g>\r\n   <g id=\"patch_5\">\r\n    <path clip-path=\"url(#pba6ab42b4b)\" d=\"M 92.490909 155.444656 \r\nL 113.627273 155.444656 \r\nL 113.627273 153.647849 \r\nL 92.490909 153.647849 \r\nz\r\n\" style=\"fill:#1f77b4;\"/>\r\n   </g>\r\n   <g id=\"patch_6\">\r\n    <path clip-path=\"url(#pba6ab42b4b)\" d=\"M 113.627273 155.444656 \r\nL 134.763636 155.444656 \r\nL 134.763636 141.968605 \r\nL 113.627273 141.968605 \r\nz\r\n\" style=\"fill:#1f77b4;\"/>\r\n   </g>\r\n   <g id=\"patch_7\">\r\n    <path clip-path=\"url(#pba6ab42b4b)\" d=\"M 134.763636 155.444656 \r\nL 155.9 155.444656 \r\nL 155.9 118.94702 \r\nL 134.763636 118.94702 \r\nz\r\n\" style=\"fill:#1f77b4;\"/>\r\n   </g>\r\n   <g id=\"patch_8\">\r\n    <path clip-path=\"url(#pba6ab42b4b)\" d=\"M 155.9 155.444656 \r\nL 177.036364 155.444656 \r\nL 177.036364 71.893145 \r\nL 155.9 71.893145 \r\nz\r\n\" style=\"fill:#1f77b4;\"/>\r\n   </g>\r\n   <g id=\"patch_9\">\r\n    <path clip-path=\"url(#pba6ab42b4b)\" d=\"M 177.036364 155.444656 \r\nL 198.172727 155.444656 \r\nL 198.172727 28.657484 \r\nL 177.036364 28.657484 \r\nz\r\n\" style=\"fill:#1f77b4;\"/>\r\n   </g>\r\n   <g id=\"patch_10\">\r\n    <path clip-path=\"url(#pba6ab42b4b)\" d=\"M 198.172727 155.444656 \r\nL 219.309091 155.444656 \r\nL 219.309091 61.224605 \r\nL 198.172727 61.224605 \r\nz\r\n\" style=\"fill:#1f77b4;\"/>\r\n   </g>\r\n   <g id=\"patch_11\">\r\n    <path clip-path=\"url(#pba6ab42b4b)\" d=\"M 219.309091 155.444656 \r\nL 240.445455 155.444656 \r\nL 240.445455 125.797345 \r\nL 219.309091 125.797345 \r\nz\r\n\" style=\"fill:#1f77b4;\"/>\r\n   </g>\r\n   <g id=\"patch_12\">\r\n    <path clip-path=\"url(#pba6ab42b4b)\" d=\"M 240.445455 155.444656 \r\nL 261.581818 155.444656 \r\nL 261.581818 150.615738 \r\nL 240.445455 150.615738 \r\nz\r\n\" style=\"fill:#1f77b4;\"/>\r\n   </g>\r\n   <g id=\"matplotlib.axis_1\">\r\n    <g id=\"xtick_1\">\r\n     <g id=\"line2d_1\">\r\n      <path clip-path=\"url(#pba6ab42b4b)\" d=\"M 47.869697 155.444656 \r\nL 47.869697 22.318125 \r\n\" style=\"fill:none;stroke:#b0b0b0;stroke-linecap:square;stroke-width:0.8;\"/>\r\n     </g>\r\n     <g id=\"line2d_2\">\r\n      <defs>\r\n       <path d=\"M 0 0 \r\nL 0 3.5 \r\n\" id=\"m2f43a095d0\" style=\"stroke:#000000;stroke-width:0.8;\"/>\r\n      </defs>\r\n      <g>\r\n       <use style=\"stroke:#000000;stroke-width:0.8;\" x=\"47.869697\" xlink:href=\"#m2f43a095d0\" y=\"155.444656\"/>\r\n      </g>\r\n     </g>\r\n     <g id=\"text_1\">\r\n      <!-- 0 -->\r\n      <g transform=\"translate(44.688447 170.043093)scale(0.1 -0.1)\">\r\n       <defs>\r\n        <path d=\"M 2034 4250 \r\nQ 1547 4250 1301 3770 \r\nQ 1056 3291 1056 2328 \r\nQ 1056 1369 1301 889 \r\nQ 1547 409 2034 409 \r\nQ 2525 409 2770 889 \r\nQ 3016 1369 3016 2328 \r\nQ 3016 3291 2770 3770 \r\nQ 2525 4250 2034 4250 \r\nz\r\nM 2034 4750 \r\nQ 2819 4750 3233 4129 \r\nQ 3647 3509 3647 2328 \r\nQ 3647 1150 3233 529 \r\nQ 2819 -91 2034 -91 \r\nQ 1250 -91 836 529 \r\nQ 422 1150 422 2328 \r\nQ 422 3509 836 4129 \r\nQ 1250 4750 2034 4750 \r\nz\r\n\" id=\"DejaVuSans-30\" transform=\"scale(0.015625)\"/>\r\n       </defs>\r\n       <use xlink:href=\"#DejaVuSans-30\"/>\r\n      </g>\r\n     </g>\r\n    </g>\r\n    <g id=\"xtick_2\">\r\n     <g id=\"line2d_3\">\r\n      <path clip-path=\"url(#pba6ab42b4b)\" d=\"M 94.839394 155.444656 \r\nL 94.839394 22.318125 \r\n\" style=\"fill:none;stroke:#b0b0b0;stroke-linecap:square;stroke-width:0.8;\"/>\r\n     </g>\r\n     <g id=\"line2d_4\">\r\n      <g>\r\n       <use style=\"stroke:#000000;stroke-width:0.8;\" x=\"94.839394\" xlink:href=\"#m2f43a095d0\" y=\"155.444656\"/>\r\n      </g>\r\n     </g>\r\n     <g id=\"text_2\">\r\n      <!-- 20 -->\r\n      <g transform=\"translate(88.476894 170.043093)scale(0.1 -0.1)\">\r\n       <defs>\r\n        <path d=\"M 1228 531 \r\nL 3431 531 \r\nL 3431 0 \r\nL 469 0 \r\nL 469 531 \r\nQ 828 903 1448 1529 \r\nQ 2069 2156 2228 2338 \r\nQ 2531 2678 2651 2914 \r\nQ 2772 3150 2772 3378 \r\nQ 2772 3750 2511 3984 \r\nQ 2250 4219 1831 4219 \r\nQ 1534 4219 1204 4116 \r\nQ 875 4013 500 3803 \r\nL 500 4441 \r\nQ 881 4594 1212 4672 \r\nQ 1544 4750 1819 4750 \r\nQ 2544 4750 2975 4387 \r\nQ 3406 4025 3406 3419 \r\nQ 3406 3131 3298 2873 \r\nQ 3191 2616 2906 2266 \r\nQ 2828 2175 2409 1742 \r\nQ 1991 1309 1228 531 \r\nz\r\n\" id=\"DejaVuSans-32\" transform=\"scale(0.015625)\"/>\r\n       </defs>\r\n       <use xlink:href=\"#DejaVuSans-32\"/>\r\n       <use x=\"63.623047\" xlink:href=\"#DejaVuSans-30\"/>\r\n      </g>\r\n     </g>\r\n    </g>\r\n    <g id=\"xtick_3\">\r\n     <g id=\"line2d_5\">\r\n      <path clip-path=\"url(#pba6ab42b4b)\" d=\"M 141.809091 155.444656 \r\nL 141.809091 22.318125 \r\n\" style=\"fill:none;stroke:#b0b0b0;stroke-linecap:square;stroke-width:0.8;\"/>\r\n     </g>\r\n     <g id=\"line2d_6\">\r\n      <g>\r\n       <use style=\"stroke:#000000;stroke-width:0.8;\" x=\"141.809091\" xlink:href=\"#m2f43a095d0\" y=\"155.444656\"/>\r\n      </g>\r\n     </g>\r\n     <g id=\"text_3\">\r\n      <!-- 40 -->\r\n      <g transform=\"translate(135.446591 170.043093)scale(0.1 -0.1)\">\r\n       <defs>\r\n        <path d=\"M 2419 4116 \r\nL 825 1625 \r\nL 2419 1625 \r\nL 2419 4116 \r\nz\r\nM 2253 4666 \r\nL 3047 4666 \r\nL 3047 1625 \r\nL 3713 1625 \r\nL 3713 1100 \r\nL 3047 1100 \r\nL 3047 0 \r\nL 2419 0 \r\nL 2419 1100 \r\nL 313 1100 \r\nL 313 1709 \r\nL 2253 4666 \r\nz\r\n\" id=\"DejaVuSans-34\" transform=\"scale(0.015625)\"/>\r\n       </defs>\r\n       <use xlink:href=\"#DejaVuSans-34\"/>\r\n       <use x=\"63.623047\" xlink:href=\"#DejaVuSans-30\"/>\r\n      </g>\r\n     </g>\r\n    </g>\r\n    <g id=\"xtick_4\">\r\n     <g id=\"line2d_7\">\r\n      <path clip-path=\"url(#pba6ab42b4b)\" d=\"M 188.778788 155.444656 \r\nL 188.778788 22.318125 \r\n\" style=\"fill:none;stroke:#b0b0b0;stroke-linecap:square;stroke-width:0.8;\"/>\r\n     </g>\r\n     <g id=\"line2d_8\">\r\n      <g>\r\n       <use style=\"stroke:#000000;stroke-width:0.8;\" x=\"188.778788\" xlink:href=\"#m2f43a095d0\" y=\"155.444656\"/>\r\n      </g>\r\n     </g>\r\n     <g id=\"text_4\">\r\n      <!-- 60 -->\r\n      <g transform=\"translate(182.416288 170.043093)scale(0.1 -0.1)\">\r\n       <defs>\r\n        <path d=\"M 2113 2584 \r\nQ 1688 2584 1439 2293 \r\nQ 1191 2003 1191 1497 \r\nQ 1191 994 1439 701 \r\nQ 1688 409 2113 409 \r\nQ 2538 409 2786 701 \r\nQ 3034 994 3034 1497 \r\nQ 3034 2003 2786 2293 \r\nQ 2538 2584 2113 2584 \r\nz\r\nM 3366 4563 \r\nL 3366 3988 \r\nQ 3128 4100 2886 4159 \r\nQ 2644 4219 2406 4219 \r\nQ 1781 4219 1451 3797 \r\nQ 1122 3375 1075 2522 \r\nQ 1259 2794 1537 2939 \r\nQ 1816 3084 2150 3084 \r\nQ 2853 3084 3261 2657 \r\nQ 3669 2231 3669 1497 \r\nQ 3669 778 3244 343 \r\nQ 2819 -91 2113 -91 \r\nQ 1303 -91 875 529 \r\nQ 447 1150 447 2328 \r\nQ 447 3434 972 4092 \r\nQ 1497 4750 2381 4750 \r\nQ 2619 4750 2861 4703 \r\nQ 3103 4656 3366 4563 \r\nz\r\n\" id=\"DejaVuSans-36\" transform=\"scale(0.015625)\"/>\r\n       </defs>\r\n       <use xlink:href=\"#DejaVuSans-36\"/>\r\n       <use x=\"63.623047\" xlink:href=\"#DejaVuSans-30\"/>\r\n      </g>\r\n     </g>\r\n    </g>\r\n    <g id=\"xtick_5\">\r\n     <g id=\"line2d_9\">\r\n      <path clip-path=\"url(#pba6ab42b4b)\" d=\"M 235.748485 155.444656 \r\nL 235.748485 22.318125 \r\n\" style=\"fill:none;stroke:#b0b0b0;stroke-linecap:square;stroke-width:0.8;\"/>\r\n     </g>\r\n     <g id=\"line2d_10\">\r\n      <g>\r\n       <use style=\"stroke:#000000;stroke-width:0.8;\" x=\"235.748485\" xlink:href=\"#m2f43a095d0\" y=\"155.444656\"/>\r\n      </g>\r\n     </g>\r\n     <g id=\"text_5\">\r\n      <!-- 80 -->\r\n      <g transform=\"translate(229.385985 170.043093)scale(0.1 -0.1)\">\r\n       <defs>\r\n        <path d=\"M 2034 2216 \r\nQ 1584 2216 1326 1975 \r\nQ 1069 1734 1069 1313 \r\nQ 1069 891 1326 650 \r\nQ 1584 409 2034 409 \r\nQ 2484 409 2743 651 \r\nQ 3003 894 3003 1313 \r\nQ 3003 1734 2745 1975 \r\nQ 2488 2216 2034 2216 \r\nz\r\nM 1403 2484 \r\nQ 997 2584 770 2862 \r\nQ 544 3141 544 3541 \r\nQ 544 4100 942 4425 \r\nQ 1341 4750 2034 4750 \r\nQ 2731 4750 3128 4425 \r\nQ 3525 4100 3525 3541 \r\nQ 3525 3141 3298 2862 \r\nQ 3072 2584 2669 2484 \r\nQ 3125 2378 3379 2068 \r\nQ 3634 1759 3634 1313 \r\nQ 3634 634 3220 271 \r\nQ 2806 -91 2034 -91 \r\nQ 1263 -91 848 271 \r\nQ 434 634 434 1313 \r\nQ 434 1759 690 2068 \r\nQ 947 2378 1403 2484 \r\nz\r\nM 1172 3481 \r\nQ 1172 3119 1398 2916 \r\nQ 1625 2713 2034 2713 \r\nQ 2441 2713 2670 2916 \r\nQ 2900 3119 2900 3481 \r\nQ 2900 3844 2670 4047 \r\nQ 2441 4250 2034 4250 \r\nQ 1625 4250 1398 4047 \r\nQ 1172 3844 1172 3481 \r\nz\r\n\" id=\"DejaVuSans-38\" transform=\"scale(0.015625)\"/>\r\n       </defs>\r\n       <use xlink:href=\"#DejaVuSans-38\"/>\r\n       <use x=\"63.623047\" xlink:href=\"#DejaVuSans-30\"/>\r\n      </g>\r\n     </g>\r\n    </g>\r\n   </g>\r\n   <g id=\"matplotlib.axis_2\">\r\n    <g id=\"ytick_1\">\r\n     <g id=\"line2d_11\">\r\n      <path clip-path=\"url(#pba6ab42b4b)\" d=\"M 39.65 155.444656 \r\nL 272.15 155.444656 \r\n\" style=\"fill:none;stroke:#b0b0b0;stroke-linecap:square;stroke-width:0.8;\"/>\r\n     </g>\r\n     <g id=\"line2d_12\">\r\n      <defs>\r\n       <path d=\"M 0 0 \r\nL -3.5 0 \r\n\" id=\"m86550c65fa\" style=\"stroke:#000000;stroke-width:0.8;\"/>\r\n      </defs>\r\n      <g>\r\n       <use style=\"stroke:#000000;stroke-width:0.8;\" x=\"39.65\" xlink:href=\"#m86550c65fa\" y=\"155.444656\"/>\r\n      </g>\r\n     </g>\r\n     <g id=\"text_6\">\r\n      <!-- 0 -->\r\n      <g transform=\"translate(26.2875 159.243874)scale(0.1 -0.1)\">\r\n       <use xlink:href=\"#DejaVuSans-30\"/>\r\n      </g>\r\n     </g>\r\n    </g>\r\n    <g id=\"ytick_2\">\r\n     <g id=\"line2d_13\">\r\n      <path clip-path=\"url(#pba6ab42b4b)\" d=\"M 39.65 132.984572 \r\nL 272.15 132.984572 \r\n\" style=\"fill:none;stroke:#b0b0b0;stroke-linecap:square;stroke-width:0.8;\"/>\r\n     </g>\r\n     <g id=\"line2d_14\">\r\n      <g>\r\n       <use style=\"stroke:#000000;stroke-width:0.8;\" x=\"39.65\" xlink:href=\"#m86550c65fa\" y=\"132.984572\"/>\r\n      </g>\r\n     </g>\r\n     <g id=\"text_7\">\r\n      <!-- 200 -->\r\n      <g transform=\"translate(13.5625 136.783791)scale(0.1 -0.1)\">\r\n       <use xlink:href=\"#DejaVuSans-32\"/>\r\n       <use x=\"63.623047\" xlink:href=\"#DejaVuSans-30\"/>\r\n       <use x=\"127.246094\" xlink:href=\"#DejaVuSans-30\"/>\r\n      </g>\r\n     </g>\r\n    </g>\r\n    <g id=\"ytick_3\">\r\n     <g id=\"line2d_15\">\r\n      <path clip-path=\"url(#pba6ab42b4b)\" d=\"M 39.65 110.524488 \r\nL 272.15 110.524488 \r\n\" style=\"fill:none;stroke:#b0b0b0;stroke-linecap:square;stroke-width:0.8;\"/>\r\n     </g>\r\n     <g id=\"line2d_16\">\r\n      <g>\r\n       <use style=\"stroke:#000000;stroke-width:0.8;\" x=\"39.65\" xlink:href=\"#m86550c65fa\" y=\"110.524488\"/>\r\n      </g>\r\n     </g>\r\n     <g id=\"text_8\">\r\n      <!-- 400 -->\r\n      <g transform=\"translate(13.5625 114.323707)scale(0.1 -0.1)\">\r\n       <use xlink:href=\"#DejaVuSans-34\"/>\r\n       <use x=\"63.623047\" xlink:href=\"#DejaVuSans-30\"/>\r\n       <use x=\"127.246094\" xlink:href=\"#DejaVuSans-30\"/>\r\n      </g>\r\n     </g>\r\n    </g>\r\n    <g id=\"ytick_4\">\r\n     <g id=\"line2d_17\">\r\n      <path clip-path=\"url(#pba6ab42b4b)\" d=\"M 39.65 88.064405 \r\nL 272.15 88.064405 \r\n\" style=\"fill:none;stroke:#b0b0b0;stroke-linecap:square;stroke-width:0.8;\"/>\r\n     </g>\r\n     <g id=\"line2d_18\">\r\n      <g>\r\n       <use style=\"stroke:#000000;stroke-width:0.8;\" x=\"39.65\" xlink:href=\"#m86550c65fa\" y=\"88.064405\"/>\r\n      </g>\r\n     </g>\r\n     <g id=\"text_9\">\r\n      <!-- 600 -->\r\n      <g transform=\"translate(13.5625 91.863624)scale(0.1 -0.1)\">\r\n       <use xlink:href=\"#DejaVuSans-36\"/>\r\n       <use x=\"63.623047\" xlink:href=\"#DejaVuSans-30\"/>\r\n       <use x=\"127.246094\" xlink:href=\"#DejaVuSans-30\"/>\r\n      </g>\r\n     </g>\r\n    </g>\r\n    <g id=\"ytick_5\">\r\n     <g id=\"line2d_19\">\r\n      <path clip-path=\"url(#pba6ab42b4b)\" d=\"M 39.65 65.604321 \r\nL 272.15 65.604321 \r\n\" style=\"fill:none;stroke:#b0b0b0;stroke-linecap:square;stroke-width:0.8;\"/>\r\n     </g>\r\n     <g id=\"line2d_20\">\r\n      <g>\r\n       <use style=\"stroke:#000000;stroke-width:0.8;\" x=\"39.65\" xlink:href=\"#m86550c65fa\" y=\"65.604321\"/>\r\n      </g>\r\n     </g>\r\n     <g id=\"text_10\">\r\n      <!-- 800 -->\r\n      <g transform=\"translate(13.5625 69.40354)scale(0.1 -0.1)\">\r\n       <use xlink:href=\"#DejaVuSans-38\"/>\r\n       <use x=\"63.623047\" xlink:href=\"#DejaVuSans-30\"/>\r\n       <use x=\"127.246094\" xlink:href=\"#DejaVuSans-30\"/>\r\n      </g>\r\n     </g>\r\n    </g>\r\n    <g id=\"ytick_6\">\r\n     <g id=\"line2d_21\">\r\n      <path clip-path=\"url(#pba6ab42b4b)\" d=\"M 39.65 43.144238 \r\nL 272.15 43.144238 \r\n\" style=\"fill:none;stroke:#b0b0b0;stroke-linecap:square;stroke-width:0.8;\"/>\r\n     </g>\r\n     <g id=\"line2d_22\">\r\n      <g>\r\n       <use style=\"stroke:#000000;stroke-width:0.8;\" x=\"39.65\" xlink:href=\"#m86550c65fa\" y=\"43.144238\"/>\r\n      </g>\r\n     </g>\r\n     <g id=\"text_11\">\r\n      <!-- 1000 -->\r\n      <g transform=\"translate(7.2 46.943456)scale(0.1 -0.1)\">\r\n       <defs>\r\n        <path d=\"M 794 531 \r\nL 1825 531 \r\nL 1825 4091 \r\nL 703 3866 \r\nL 703 4441 \r\nL 1819 4666 \r\nL 2450 4666 \r\nL 2450 531 \r\nL 3481 531 \r\nL 3481 0 \r\nL 794 0 \r\nL 794 531 \r\nz\r\n\" id=\"DejaVuSans-31\" transform=\"scale(0.015625)\"/>\r\n       </defs>\r\n       <use xlink:href=\"#DejaVuSans-31\"/>\r\n       <use x=\"63.623047\" xlink:href=\"#DejaVuSans-30\"/>\r\n       <use x=\"127.246094\" xlink:href=\"#DejaVuSans-30\"/>\r\n       <use x=\"190.869141\" xlink:href=\"#DejaVuSans-30\"/>\r\n      </g>\r\n     </g>\r\n    </g>\r\n   </g>\r\n   <g id=\"patch_13\">\r\n    <path d=\"M 39.65 155.444656 \r\nL 39.65 22.318125 \r\n\" style=\"fill:none;stroke:#000000;stroke-linecap:square;stroke-linejoin:miter;stroke-width:0.8;\"/>\r\n   </g>\r\n   <g id=\"patch_14\">\r\n    <path d=\"M 272.15 155.444656 \r\nL 272.15 22.318125 \r\n\" style=\"fill:none;stroke:#000000;stroke-linecap:square;stroke-linejoin:miter;stroke-width:0.8;\"/>\r\n   </g>\r\n   <g id=\"patch_15\">\r\n    <path d=\"M 39.65 155.444656 \r\nL 272.15 155.444656 \r\n\" style=\"fill:none;stroke:#000000;stroke-linecap:square;stroke-linejoin:miter;stroke-width:0.8;\"/>\r\n   </g>\r\n   <g id=\"patch_16\">\r\n    <path d=\"M 39.65 22.318125 \r\nL 272.15 22.318125 \r\n\" style=\"fill:none;stroke:#000000;stroke-linecap:square;stroke-linejoin:miter;stroke-width:0.8;\"/>\r\n   </g>\r\n   <g id=\"text_12\">\r\n    <!-- Patient Age -->\r\n    <g transform=\"translate(121.4975 16.318125)scale(0.12 -0.12)\">\r\n     <defs>\r\n      <path d=\"M 1259 4147 \r\nL 1259 2394 \r\nL 2053 2394 \r\nQ 2494 2394 2734 2622 \r\nQ 2975 2850 2975 3272 \r\nQ 2975 3691 2734 3919 \r\nQ 2494 4147 2053 4147 \r\nL 1259 4147 \r\nz\r\nM 628 4666 \r\nL 2053 4666 \r\nQ 2838 4666 3239 4311 \r\nQ 3641 3956 3641 3272 \r\nQ 3641 2581 3239 2228 \r\nQ 2838 1875 2053 1875 \r\nL 1259 1875 \r\nL 1259 0 \r\nL 628 0 \r\nL 628 4666 \r\nz\r\n\" id=\"DejaVuSans-50\" transform=\"scale(0.015625)\"/>\r\n      <path d=\"M 2194 1759 \r\nQ 1497 1759 1228 1600 \r\nQ 959 1441 959 1056 \r\nQ 959 750 1161 570 \r\nQ 1363 391 1709 391 \r\nQ 2188 391 2477 730 \r\nQ 2766 1069 2766 1631 \r\nL 2766 1759 \r\nL 2194 1759 \r\nz\r\nM 3341 1997 \r\nL 3341 0 \r\nL 2766 0 \r\nL 2766 531 \r\nQ 2569 213 2275 61 \r\nQ 1981 -91 1556 -91 \r\nQ 1019 -91 701 211 \r\nQ 384 513 384 1019 \r\nQ 384 1609 779 1909 \r\nQ 1175 2209 1959 2209 \r\nL 2766 2209 \r\nL 2766 2266 \r\nQ 2766 2663 2505 2880 \r\nQ 2244 3097 1772 3097 \r\nQ 1472 3097 1187 3025 \r\nQ 903 2953 641 2809 \r\nL 641 3341 \r\nQ 956 3463 1253 3523 \r\nQ 1550 3584 1831 3584 \r\nQ 2591 3584 2966 3190 \r\nQ 3341 2797 3341 1997 \r\nz\r\n\" id=\"DejaVuSans-61\" transform=\"scale(0.015625)\"/>\r\n      <path d=\"M 1172 4494 \r\nL 1172 3500 \r\nL 2356 3500 \r\nL 2356 3053 \r\nL 1172 3053 \r\nL 1172 1153 \r\nQ 1172 725 1289 603 \r\nQ 1406 481 1766 481 \r\nL 2356 481 \r\nL 2356 0 \r\nL 1766 0 \r\nQ 1100 0 847 248 \r\nQ 594 497 594 1153 \r\nL 594 3053 \r\nL 172 3053 \r\nL 172 3500 \r\nL 594 3500 \r\nL 594 4494 \r\nL 1172 4494 \r\nz\r\n\" id=\"DejaVuSans-74\" transform=\"scale(0.015625)\"/>\r\n      <path d=\"M 603 3500 \r\nL 1178 3500 \r\nL 1178 0 \r\nL 603 0 \r\nL 603 3500 \r\nz\r\nM 603 4863 \r\nL 1178 4863 \r\nL 1178 4134 \r\nL 603 4134 \r\nL 603 4863 \r\nz\r\n\" id=\"DejaVuSans-69\" transform=\"scale(0.015625)\"/>\r\n      <path d=\"M 3597 1894 \r\nL 3597 1613 \r\nL 953 1613 \r\nQ 991 1019 1311 708 \r\nQ 1631 397 2203 397 \r\nQ 2534 397 2845 478 \r\nQ 3156 559 3463 722 \r\nL 3463 178 \r\nQ 3153 47 2828 -22 \r\nQ 2503 -91 2169 -91 \r\nQ 1331 -91 842 396 \r\nQ 353 884 353 1716 \r\nQ 353 2575 817 3079 \r\nQ 1281 3584 2069 3584 \r\nQ 2775 3584 3186 3129 \r\nQ 3597 2675 3597 1894 \r\nz\r\nM 3022 2063 \r\nQ 3016 2534 2758 2815 \r\nQ 2500 3097 2075 3097 \r\nQ 1594 3097 1305 2825 \r\nQ 1016 2553 972 2059 \r\nL 3022 2063 \r\nz\r\n\" id=\"DejaVuSans-65\" transform=\"scale(0.015625)\"/>\r\n      <path d=\"M 3513 2113 \r\nL 3513 0 \r\nL 2938 0 \r\nL 2938 2094 \r\nQ 2938 2591 2744 2837 \r\nQ 2550 3084 2163 3084 \r\nQ 1697 3084 1428 2787 \r\nQ 1159 2491 1159 1978 \r\nL 1159 0 \r\nL 581 0 \r\nL 581 3500 \r\nL 1159 3500 \r\nL 1159 2956 \r\nQ 1366 3272 1645 3428 \r\nQ 1925 3584 2291 3584 \r\nQ 2894 3584 3203 3211 \r\nQ 3513 2838 3513 2113 \r\nz\r\n\" id=\"DejaVuSans-6e\" transform=\"scale(0.015625)\"/>\r\n      <path id=\"DejaVuSans-20\" transform=\"scale(0.015625)\"/>\r\n      <path d=\"M 2188 4044 \r\nL 1331 1722 \r\nL 3047 1722 \r\nL 2188 4044 \r\nz\r\nM 1831 4666 \r\nL 2547 4666 \r\nL 4325 0 \r\nL 3669 0 \r\nL 3244 1197 \r\nL 1141 1197 \r\nL 716 0 \r\nL 50 0 \r\nL 1831 4666 \r\nz\r\n\" id=\"DejaVuSans-41\" transform=\"scale(0.015625)\"/>\r\n      <path d=\"M 2906 1791 \r\nQ 2906 2416 2648 2759 \r\nQ 2391 3103 1925 3103 \r\nQ 1463 3103 1205 2759 \r\nQ 947 2416 947 1791 \r\nQ 947 1169 1205 825 \r\nQ 1463 481 1925 481 \r\nQ 2391 481 2648 825 \r\nQ 2906 1169 2906 1791 \r\nz\r\nM 3481 434 \r\nQ 3481 -459 3084 -895 \r\nQ 2688 -1331 1869 -1331 \r\nQ 1566 -1331 1297 -1286 \r\nQ 1028 -1241 775 -1147 \r\nL 775 -588 \r\nQ 1028 -725 1275 -790 \r\nQ 1522 -856 1778 -856 \r\nQ 2344 -856 2625 -561 \r\nQ 2906 -266 2906 331 \r\nL 2906 616 \r\nQ 2728 306 2450 153 \r\nQ 2172 0 1784 0 \r\nQ 1141 0 747 490 \r\nQ 353 981 353 1791 \r\nQ 353 2603 747 3093 \r\nQ 1141 3584 1784 3584 \r\nQ 2172 3584 2450 3431 \r\nQ 2728 3278 2906 2969 \r\nL 2906 3500 \r\nL 3481 3500 \r\nL 3481 434 \r\nz\r\n\" id=\"DejaVuSans-67\" transform=\"scale(0.015625)\"/>\r\n     </defs>\r\n     <use xlink:href=\"#DejaVuSans-50\"/>\r\n     <use x=\"55.802734\" xlink:href=\"#DejaVuSans-61\"/>\r\n     <use x=\"117.082031\" xlink:href=\"#DejaVuSans-74\"/>\r\n     <use x=\"156.291016\" xlink:href=\"#DejaVuSans-69\"/>\r\n     <use x=\"184.074219\" xlink:href=\"#DejaVuSans-65\"/>\r\n     <use x=\"245.597656\" xlink:href=\"#DejaVuSans-6e\"/>\r\n     <use x=\"308.976562\" xlink:href=\"#DejaVuSans-74\"/>\r\n     <use x=\"348.185547\" xlink:href=\"#DejaVuSans-20\"/>\r\n     <use x=\"379.972656\" xlink:href=\"#DejaVuSans-41\"/>\r\n     <use x=\"448.380859\" xlink:href=\"#DejaVuSans-67\"/>\r\n     <use x=\"511.857422\" xlink:href=\"#DejaVuSans-65\"/>\r\n    </g>\r\n   </g>\r\n  </g>\r\n  <g id=\"axes_2\">\r\n   <g id=\"patch_17\">\r\n    <path d=\"M 341.9 155.444656 \r\nL 574.4 155.444656 \r\nL 574.4 22.318125 \r\nL 341.9 22.318125 \r\nz\r\n\" style=\"fill:#ffffff;\"/>\r\n   </g>\r\n   <g id=\"patch_18\">\r\n    <path clip-path=\"url(#pdb3a17a68e)\" d=\"M 352.468182 155.444656 \r\nL 373.604545 155.444656 \r\nL 373.604545 46.81798 \r\nL 352.468182 46.81798 \r\nz\r\n\" style=\"fill:#1f77b4;\"/>\r\n   </g>\r\n   <g id=\"patch_19\">\r\n    <path clip-path=\"url(#pdb3a17a68e)\" d=\"M 373.604545 155.444656 \r\nL 394.740909 155.444656 \r\nL 394.740909 155.444656 \r\nL 373.604545 155.444656 \r\nz\r\n\" style=\"fill:#1f77b4;\"/>\r\n   </g>\r\n   <g id=\"patch_20\">\r\n    <path clip-path=\"url(#pdb3a17a68e)\" d=\"M 394.740909 155.444656 \r\nL 415.877273 155.444656 \r\nL 415.877273 155.444656 \r\nL 394.740909 155.444656 \r\nz\r\n\" style=\"fill:#1f77b4;\"/>\r\n   </g>\r\n   <g id=\"patch_21\">\r\n    <path clip-path=\"url(#pdb3a17a68e)\" d=\"M 415.877273 155.444656 \r\nL 437.013636 155.444656 \r\nL 437.013636 155.444656 \r\nL 415.877273 155.444656 \r\nz\r\n\" style=\"fill:#1f77b4;\"/>\r\n   </g>\r\n   <g id=\"patch_22\">\r\n    <path clip-path=\"url(#pdb3a17a68e)\" d=\"M 437.013636 155.444656 \r\nL 458.15 155.444656 \r\nL 458.15 155.444656 \r\nL 437.013636 155.444656 \r\nz\r\n\" style=\"fill:#1f77b4;\"/>\r\n   </g>\r\n   <g id=\"patch_23\">\r\n    <path clip-path=\"url(#pdb3a17a68e)\" d=\"M 458.15 155.444656 \r\nL 479.286364 155.444656 \r\nL 479.286364 155.444656 \r\nL 458.15 155.444656 \r\nz\r\n\" style=\"fill:#1f77b4;\"/>\r\n   </g>\r\n   <g id=\"patch_24\">\r\n    <path clip-path=\"url(#pdb3a17a68e)\" d=\"M 479.286364 155.444656 \r\nL 500.422727 155.444656 \r\nL 500.422727 155.444656 \r\nL 479.286364 155.444656 \r\nz\r\n\" style=\"fill:#1f77b4;\"/>\r\n   </g>\r\n   <g id=\"patch_25\">\r\n    <path clip-path=\"url(#pdb3a17a68e)\" d=\"M 500.422727 155.444656 \r\nL 521.559091 155.444656 \r\nL 521.559091 155.444656 \r\nL 500.422727 155.444656 \r\nz\r\n\" style=\"fill:#1f77b4;\"/>\r\n   </g>\r\n   <g id=\"patch_26\">\r\n    <path clip-path=\"url(#pdb3a17a68e)\" d=\"M 521.559091 155.444656 \r\nL 542.695455 155.444656 \r\nL 542.695455 155.444656 \r\nL 521.559091 155.444656 \r\nz\r\n\" style=\"fill:#1f77b4;\"/>\r\n   </g>\r\n   <g id=\"patch_27\">\r\n    <path clip-path=\"url(#pdb3a17a68e)\" d=\"M 542.695455 155.444656 \r\nL 563.831818 155.444656 \r\nL 563.831818 28.657484 \r\nL 542.695455 28.657484 \r\nz\r\n\" style=\"fill:#1f77b4;\"/>\r\n   </g>\r\n   <g id=\"matplotlib.axis_3\">\r\n    <g id=\"xtick_6\">\r\n     <g id=\"line2d_23\">\r\n      <path clip-path=\"url(#pdb3a17a68e)\" d=\"M 352.468182 155.444656 \r\nL 352.468182 22.318125 \r\n\" style=\"fill:none;stroke:#b0b0b0;stroke-linecap:square;stroke-width:0.8;\"/>\r\n     </g>\r\n     <g id=\"line2d_24\">\r\n      <g>\r\n       <use style=\"stroke:#000000;stroke-width:0.8;\" x=\"352.468182\" xlink:href=\"#m2f43a095d0\" y=\"155.444656\"/>\r\n      </g>\r\n     </g>\r\n     <g id=\"text_13\">\r\n      <!-- 0.0 -->\r\n      <g transform=\"translate(344.516619 170.043093)scale(0.1 -0.1)\">\r\n       <defs>\r\n        <path d=\"M 684 794 \r\nL 1344 794 \r\nL 1344 0 \r\nL 684 0 \r\nL 684 794 \r\nz\r\n\" id=\"DejaVuSans-2e\" transform=\"scale(0.015625)\"/>\r\n       </defs>\r\n       <use xlink:href=\"#DejaVuSans-30\"/>\r\n       <use x=\"63.623047\" xlink:href=\"#DejaVuSans-2e\"/>\r\n       <use x=\"95.410156\" xlink:href=\"#DejaVuSans-30\"/>\r\n      </g>\r\n     </g>\r\n    </g>\r\n    <g id=\"xtick_7\">\r\n     <g id=\"line2d_25\">\r\n      <path clip-path=\"url(#pdb3a17a68e)\" d=\"M 394.740909 155.444656 \r\nL 394.740909 22.318125 \r\n\" style=\"fill:none;stroke:#b0b0b0;stroke-linecap:square;stroke-width:0.8;\"/>\r\n     </g>\r\n     <g id=\"line2d_26\">\r\n      <g>\r\n       <use style=\"stroke:#000000;stroke-width:0.8;\" x=\"394.740909\" xlink:href=\"#m2f43a095d0\" y=\"155.444656\"/>\r\n      </g>\r\n     </g>\r\n     <g id=\"text_14\">\r\n      <!-- 0.2 -->\r\n      <g transform=\"translate(386.789347 170.043093)scale(0.1 -0.1)\">\r\n       <use xlink:href=\"#DejaVuSans-30\"/>\r\n       <use x=\"63.623047\" xlink:href=\"#DejaVuSans-2e\"/>\r\n       <use x=\"95.410156\" xlink:href=\"#DejaVuSans-32\"/>\r\n      </g>\r\n     </g>\r\n    </g>\r\n    <g id=\"xtick_8\">\r\n     <g id=\"line2d_27\">\r\n      <path clip-path=\"url(#pdb3a17a68e)\" d=\"M 437.013636 155.444656 \r\nL 437.013636 22.318125 \r\n\" style=\"fill:none;stroke:#b0b0b0;stroke-linecap:square;stroke-width:0.8;\"/>\r\n     </g>\r\n     <g id=\"line2d_28\">\r\n      <g>\r\n       <use style=\"stroke:#000000;stroke-width:0.8;\" x=\"437.013636\" xlink:href=\"#m2f43a095d0\" y=\"155.444656\"/>\r\n      </g>\r\n     </g>\r\n     <g id=\"text_15\">\r\n      <!-- 0.4 -->\r\n      <g transform=\"translate(429.062074 170.043093)scale(0.1 -0.1)\">\r\n       <use xlink:href=\"#DejaVuSans-30\"/>\r\n       <use x=\"63.623047\" xlink:href=\"#DejaVuSans-2e\"/>\r\n       <use x=\"95.410156\" xlink:href=\"#DejaVuSans-34\"/>\r\n      </g>\r\n     </g>\r\n    </g>\r\n    <g id=\"xtick_9\">\r\n     <g id=\"line2d_29\">\r\n      <path clip-path=\"url(#pdb3a17a68e)\" d=\"M 479.286364 155.444656 \r\nL 479.286364 22.318125 \r\n\" style=\"fill:none;stroke:#b0b0b0;stroke-linecap:square;stroke-width:0.8;\"/>\r\n     </g>\r\n     <g id=\"line2d_30\">\r\n      <g>\r\n       <use style=\"stroke:#000000;stroke-width:0.8;\" x=\"479.286364\" xlink:href=\"#m2f43a095d0\" y=\"155.444656\"/>\r\n      </g>\r\n     </g>\r\n     <g id=\"text_16\">\r\n      <!-- 0.6 -->\r\n      <g transform=\"translate(471.334801 170.043093)scale(0.1 -0.1)\">\r\n       <use xlink:href=\"#DejaVuSans-30\"/>\r\n       <use x=\"63.623047\" xlink:href=\"#DejaVuSans-2e\"/>\r\n       <use x=\"95.410156\" xlink:href=\"#DejaVuSans-36\"/>\r\n      </g>\r\n     </g>\r\n    </g>\r\n    <g id=\"xtick_10\">\r\n     <g id=\"line2d_31\">\r\n      <path clip-path=\"url(#pdb3a17a68e)\" d=\"M 521.559091 155.444656 \r\nL 521.559091 22.318125 \r\n\" style=\"fill:none;stroke:#b0b0b0;stroke-linecap:square;stroke-width:0.8;\"/>\r\n     </g>\r\n     <g id=\"line2d_32\">\r\n      <g>\r\n       <use style=\"stroke:#000000;stroke-width:0.8;\" x=\"521.559091\" xlink:href=\"#m2f43a095d0\" y=\"155.444656\"/>\r\n      </g>\r\n     </g>\r\n     <g id=\"text_17\">\r\n      <!-- 0.8 -->\r\n      <g transform=\"translate(513.607528 170.043093)scale(0.1 -0.1)\">\r\n       <use xlink:href=\"#DejaVuSans-30\"/>\r\n       <use x=\"63.623047\" xlink:href=\"#DejaVuSans-2e\"/>\r\n       <use x=\"95.410156\" xlink:href=\"#DejaVuSans-38\"/>\r\n      </g>\r\n     </g>\r\n    </g>\r\n    <g id=\"xtick_11\">\r\n     <g id=\"line2d_33\">\r\n      <path clip-path=\"url(#pdb3a17a68e)\" d=\"M 563.831818 155.444656 \r\nL 563.831818 22.318125 \r\n\" style=\"fill:none;stroke:#b0b0b0;stroke-linecap:square;stroke-width:0.8;\"/>\r\n     </g>\r\n     <g id=\"line2d_34\">\r\n      <g>\r\n       <use style=\"stroke:#000000;stroke-width:0.8;\" x=\"563.831818\" xlink:href=\"#m2f43a095d0\" y=\"155.444656\"/>\r\n      </g>\r\n     </g>\r\n     <g id=\"text_18\">\r\n      <!-- 1.0 -->\r\n      <g transform=\"translate(555.880256 170.043093)scale(0.1 -0.1)\">\r\n       <use xlink:href=\"#DejaVuSans-31\"/>\r\n       <use x=\"63.623047\" xlink:href=\"#DejaVuSans-2e\"/>\r\n       <use x=\"95.410156\" xlink:href=\"#DejaVuSans-30\"/>\r\n      </g>\r\n     </g>\r\n    </g>\r\n   </g>\r\n   <g id=\"matplotlib.axis_4\">\r\n    <g id=\"ytick_7\">\r\n     <g id=\"line2d_35\">\r\n      <path clip-path=\"url(#pdb3a17a68e)\" d=\"M 341.9 155.444656 \r\nL 574.4 155.444656 \r\n\" style=\"fill:none;stroke:#b0b0b0;stroke-linecap:square;stroke-width:0.8;\"/>\r\n     </g>\r\n     <g id=\"line2d_36\">\r\n      <g>\r\n       <use style=\"stroke:#000000;stroke-width:0.8;\" x=\"341.9\" xlink:href=\"#m86550c65fa\" y=\"155.444656\"/>\r\n      </g>\r\n     </g>\r\n     <g id=\"text_19\">\r\n      <!-- 0 -->\r\n      <g transform=\"translate(328.5375 159.243874)scale(0.1 -0.1)\">\r\n       <use xlink:href=\"#DejaVuSans-30\"/>\r\n      </g>\r\n     </g>\r\n    </g>\r\n    <g id=\"ytick_8\">\r\n     <g id=\"line2d_37\">\r\n      <path clip-path=\"url(#pdb3a17a68e)\" d=\"M 341.9 121.814106 \r\nL 574.4 121.814106 \r\n\" style=\"fill:none;stroke:#b0b0b0;stroke-linecap:square;stroke-width:0.8;\"/>\r\n     </g>\r\n     <g id=\"line2d_38\">\r\n      <g>\r\n       <use style=\"stroke:#000000;stroke-width:0.8;\" x=\"341.9\" xlink:href=\"#m86550c65fa\" y=\"121.814106\"/>\r\n      </g>\r\n     </g>\r\n     <g id=\"text_20\">\r\n      <!-- 500 -->\r\n      <g transform=\"translate(315.8125 125.613325)scale(0.1 -0.1)\">\r\n       <defs>\r\n        <path d=\"M 691 4666 \r\nL 3169 4666 \r\nL 3169 4134 \r\nL 1269 4134 \r\nL 1269 2991 \r\nQ 1406 3038 1543 3061 \r\nQ 1681 3084 1819 3084 \r\nQ 2600 3084 3056 2656 \r\nQ 3513 2228 3513 1497 \r\nQ 3513 744 3044 326 \r\nQ 2575 -91 1722 -91 \r\nQ 1428 -91 1123 -41 \r\nQ 819 9 494 109 \r\nL 494 744 \r\nQ 775 591 1075 516 \r\nQ 1375 441 1709 441 \r\nQ 2250 441 2565 725 \r\nQ 2881 1009 2881 1497 \r\nQ 2881 1984 2565 2268 \r\nQ 2250 2553 1709 2553 \r\nQ 1456 2553 1204 2497 \r\nQ 953 2441 691 2322 \r\nL 691 4666 \r\nz\r\n\" id=\"DejaVuSans-35\" transform=\"scale(0.015625)\"/>\r\n       </defs>\r\n       <use xlink:href=\"#DejaVuSans-35\"/>\r\n       <use x=\"63.623047\" xlink:href=\"#DejaVuSans-30\"/>\r\n       <use x=\"127.246094\" xlink:href=\"#DejaVuSans-30\"/>\r\n      </g>\r\n     </g>\r\n    </g>\r\n    <g id=\"ytick_9\">\r\n     <g id=\"line2d_39\">\r\n      <path clip-path=\"url(#pdb3a17a68e)\" d=\"M 341.9 88.183556 \r\nL 574.4 88.183556 \r\n\" style=\"fill:none;stroke:#b0b0b0;stroke-linecap:square;stroke-width:0.8;\"/>\r\n     </g>\r\n     <g id=\"line2d_40\">\r\n      <g>\r\n       <use style=\"stroke:#000000;stroke-width:0.8;\" x=\"341.9\" xlink:href=\"#m86550c65fa\" y=\"88.183556\"/>\r\n      </g>\r\n     </g>\r\n     <g id=\"text_21\">\r\n      <!-- 1000 -->\r\n      <g transform=\"translate(309.45 91.982775)scale(0.1 -0.1)\">\r\n       <use xlink:href=\"#DejaVuSans-31\"/>\r\n       <use x=\"63.623047\" xlink:href=\"#DejaVuSans-30\"/>\r\n       <use x=\"127.246094\" xlink:href=\"#DejaVuSans-30\"/>\r\n       <use x=\"190.869141\" xlink:href=\"#DejaVuSans-30\"/>\r\n      </g>\r\n     </g>\r\n    </g>\r\n    <g id=\"ytick_10\">\r\n     <g id=\"line2d_41\">\r\n      <path clip-path=\"url(#pdb3a17a68e)\" d=\"M 341.9 54.553007 \r\nL 574.4 54.553007 \r\n\" style=\"fill:none;stroke:#b0b0b0;stroke-linecap:square;stroke-width:0.8;\"/>\r\n     </g>\r\n     <g id=\"line2d_42\">\r\n      <g>\r\n       <use style=\"stroke:#000000;stroke-width:0.8;\" x=\"341.9\" xlink:href=\"#m86550c65fa\" y=\"54.553007\"/>\r\n      </g>\r\n     </g>\r\n     <g id=\"text_22\">\r\n      <!-- 1500 -->\r\n      <g transform=\"translate(309.45 58.352226)scale(0.1 -0.1)\">\r\n       <use xlink:href=\"#DejaVuSans-31\"/>\r\n       <use x=\"63.623047\" xlink:href=\"#DejaVuSans-35\"/>\r\n       <use x=\"127.246094\" xlink:href=\"#DejaVuSans-30\"/>\r\n       <use x=\"190.869141\" xlink:href=\"#DejaVuSans-30\"/>\r\n      </g>\r\n     </g>\r\n    </g>\r\n   </g>\r\n   <g id=\"patch_28\">\r\n    <path d=\"M 341.9 155.444656 \r\nL 341.9 22.318125 \r\n\" style=\"fill:none;stroke:#000000;stroke-linecap:square;stroke-linejoin:miter;stroke-width:0.8;\"/>\r\n   </g>\r\n   <g id=\"patch_29\">\r\n    <path d=\"M 574.4 155.444656 \r\nL 574.4 22.318125 \r\n\" style=\"fill:none;stroke:#000000;stroke-linecap:square;stroke-linejoin:miter;stroke-width:0.8;\"/>\r\n   </g>\r\n   <g id=\"patch_30\">\r\n    <path d=\"M 341.9 155.444656 \r\nL 574.4 155.444656 \r\n\" style=\"fill:none;stroke:#000000;stroke-linecap:square;stroke-linejoin:miter;stroke-width:0.8;\"/>\r\n   </g>\r\n   <g id=\"patch_31\">\r\n    <path d=\"M 341.9 22.318125 \r\nL 574.4 22.318125 \r\n\" style=\"fill:none;stroke:#000000;stroke-linecap:square;stroke-linejoin:miter;stroke-width:0.8;\"/>\r\n   </g>\r\n   <g id=\"text_23\">\r\n    <!-- Patient Sex -->\r\n    <g transform=\"translate(424.405625 16.318125)scale(0.12 -0.12)\">\r\n     <defs>\r\n      <path d=\"M 3425 4513 \r\nL 3425 3897 \r\nQ 3066 4069 2747 4153 \r\nQ 2428 4238 2131 4238 \r\nQ 1616 4238 1336 4038 \r\nQ 1056 3838 1056 3469 \r\nQ 1056 3159 1242 3001 \r\nQ 1428 2844 1947 2747 \r\nL 2328 2669 \r\nQ 3034 2534 3370 2195 \r\nQ 3706 1856 3706 1288 \r\nQ 3706 609 3251 259 \r\nQ 2797 -91 1919 -91 \r\nQ 1588 -91 1214 -16 \r\nQ 841 59 441 206 \r\nL 441 856 \r\nQ 825 641 1194 531 \r\nQ 1563 422 1919 422 \r\nQ 2459 422 2753 634 \r\nQ 3047 847 3047 1241 \r\nQ 3047 1584 2836 1778 \r\nQ 2625 1972 2144 2069 \r\nL 1759 2144 \r\nQ 1053 2284 737 2584 \r\nQ 422 2884 422 3419 \r\nQ 422 4038 858 4394 \r\nQ 1294 4750 2059 4750 \r\nQ 2388 4750 2728 4690 \r\nQ 3069 4631 3425 4513 \r\nz\r\n\" id=\"DejaVuSans-53\" transform=\"scale(0.015625)\"/>\r\n      <path d=\"M 3513 3500 \r\nL 2247 1797 \r\nL 3578 0 \r\nL 2900 0 \r\nL 1881 1375 \r\nL 863 0 \r\nL 184 0 \r\nL 1544 1831 \r\nL 300 3500 \r\nL 978 3500 \r\nL 1906 2253 \r\nL 2834 3500 \r\nL 3513 3500 \r\nz\r\n\" id=\"DejaVuSans-78\" transform=\"scale(0.015625)\"/>\r\n     </defs>\r\n     <use xlink:href=\"#DejaVuSans-50\"/>\r\n     <use x=\"55.802734\" xlink:href=\"#DejaVuSans-61\"/>\r\n     <use x=\"117.082031\" xlink:href=\"#DejaVuSans-74\"/>\r\n     <use x=\"156.291016\" xlink:href=\"#DejaVuSans-69\"/>\r\n     <use x=\"184.074219\" xlink:href=\"#DejaVuSans-65\"/>\r\n     <use x=\"245.597656\" xlink:href=\"#DejaVuSans-6e\"/>\r\n     <use x=\"308.976562\" xlink:href=\"#DejaVuSans-74\"/>\r\n     <use x=\"348.185547\" xlink:href=\"#DejaVuSans-20\"/>\r\n     <use x=\"379.972656\" xlink:href=\"#DejaVuSans-53\"/>\r\n     <use x=\"443.449219\" xlink:href=\"#DejaVuSans-65\"/>\r\n     <use x=\"503.222656\" xlink:href=\"#DejaVuSans-78\"/>\r\n    </g>\r\n   </g>\r\n  </g>\r\n  <g id=\"axes_3\">\r\n   <g id=\"patch_32\">\r\n    <path d=\"M 644.15 155.444656 \r\nL 876.65 155.444656 \r\nL 876.65 22.318125 \r\nL 644.15 22.318125 \r\nz\r\n\" style=\"fill:#ffffff;\"/>\r\n   </g>\r\n   <g id=\"patch_33\">\r\n    <path clip-path=\"url(#p26ccdc059f)\" d=\"M 654.718182 155.444656 \r\nL 675.854545 155.444656 \r\nL 675.854545 28.657484 \r\nL 654.718182 28.657484 \r\nz\r\n\" style=\"fill:#1f77b4;\"/>\r\n   </g>\r\n   <g id=\"patch_34\">\r\n    <path clip-path=\"url(#p26ccdc059f)\" d=\"M 675.854545 155.444656 \r\nL 696.990909 155.444656 \r\nL 696.990909 155.444656 \r\nL 675.854545 155.444656 \r\nz\r\n\" style=\"fill:#1f77b4;\"/>\r\n   </g>\r\n   <g id=\"patch_35\">\r\n    <path clip-path=\"url(#p26ccdc059f)\" d=\"M 696.990909 155.444656 \r\nL 718.127273 155.444656 \r\nL 718.127273 155.444656 \r\nL 696.990909 155.444656 \r\nz\r\n\" style=\"fill:#1f77b4;\"/>\r\n   </g>\r\n   <g id=\"patch_36\">\r\n    <path clip-path=\"url(#p26ccdc059f)\" d=\"M 718.127273 155.444656 \r\nL 739.263636 155.444656 \r\nL 739.263636 155.444656 \r\nL 718.127273 155.444656 \r\nz\r\n\" style=\"fill:#1f77b4;\"/>\r\n   </g>\r\n   <g id=\"patch_37\">\r\n    <path clip-path=\"url(#p26ccdc059f)\" d=\"M 739.263636 155.444656 \r\nL 760.4 155.444656 \r\nL 760.4 155.444656 \r\nL 739.263636 155.444656 \r\nz\r\n\" style=\"fill:#1f77b4;\"/>\r\n   </g>\r\n   <g id=\"patch_38\">\r\n    <path clip-path=\"url(#p26ccdc059f)\" d=\"M 760.4 155.444656 \r\nL 781.536364 155.444656 \r\nL 781.536364 155.444656 \r\nL 760.4 155.444656 \r\nz\r\n\" style=\"fill:#1f77b4;\"/>\r\n   </g>\r\n   <g id=\"patch_39\">\r\n    <path clip-path=\"url(#p26ccdc059f)\" d=\"M 781.536364 155.444656 \r\nL 802.672727 155.444656 \r\nL 802.672727 155.444656 \r\nL 781.536364 155.444656 \r\nz\r\n\" style=\"fill:#1f77b4;\"/>\r\n   </g>\r\n   <g id=\"patch_40\">\r\n    <path clip-path=\"url(#p26ccdc059f)\" d=\"M 802.672727 155.444656 \r\nL 823.809091 155.444656 \r\nL 823.809091 155.444656 \r\nL 802.672727 155.444656 \r\nz\r\n\" style=\"fill:#1f77b4;\"/>\r\n   </g>\r\n   <g id=\"patch_41\">\r\n    <path clip-path=\"url(#p26ccdc059f)\" d=\"M 823.809091 155.444656 \r\nL 844.945455 155.444656 \r\nL 844.945455 155.444656 \r\nL 823.809091 155.444656 \r\nz\r\n\" style=\"fill:#1f77b4;\"/>\r\n   </g>\r\n   <g id=\"patch_42\">\r\n    <path clip-path=\"url(#p26ccdc059f)\" d=\"M 844.945455 155.444656 \r\nL 866.081818 155.444656 \r\nL 866.081818 94.200005 \r\nL 844.945455 94.200005 \r\nz\r\n\" style=\"fill:#1f77b4;\"/>\r\n   </g>\r\n   <g id=\"matplotlib.axis_5\">\r\n    <g id=\"xtick_12\">\r\n     <g id=\"line2d_43\">\r\n      <path clip-path=\"url(#p26ccdc059f)\" d=\"M 654.718182 155.444656 \r\nL 654.718182 22.318125 \r\n\" style=\"fill:none;stroke:#b0b0b0;stroke-linecap:square;stroke-width:0.8;\"/>\r\n     </g>\r\n     <g id=\"line2d_44\">\r\n      <g>\r\n       <use style=\"stroke:#000000;stroke-width:0.8;\" x=\"654.718182\" xlink:href=\"#m2f43a095d0\" y=\"155.444656\"/>\r\n      </g>\r\n     </g>\r\n     <g id=\"text_24\">\r\n      <!-- 0.0 -->\r\n      <g transform=\"translate(646.766619 170.043093)scale(0.1 -0.1)\">\r\n       <use xlink:href=\"#DejaVuSans-30\"/>\r\n       <use x=\"63.623047\" xlink:href=\"#DejaVuSans-2e\"/>\r\n       <use x=\"95.410156\" xlink:href=\"#DejaVuSans-30\"/>\r\n      </g>\r\n     </g>\r\n    </g>\r\n    <g id=\"xtick_13\">\r\n     <g id=\"line2d_45\">\r\n      <path clip-path=\"url(#p26ccdc059f)\" d=\"M 696.990909 155.444656 \r\nL 696.990909 22.318125 \r\n\" style=\"fill:none;stroke:#b0b0b0;stroke-linecap:square;stroke-width:0.8;\"/>\r\n     </g>\r\n     <g id=\"line2d_46\">\r\n      <g>\r\n       <use style=\"stroke:#000000;stroke-width:0.8;\" x=\"696.990909\" xlink:href=\"#m2f43a095d0\" y=\"155.444656\"/>\r\n      </g>\r\n     </g>\r\n     <g id=\"text_25\">\r\n      <!-- 0.2 -->\r\n      <g transform=\"translate(689.039347 170.043093)scale(0.1 -0.1)\">\r\n       <use xlink:href=\"#DejaVuSans-30\"/>\r\n       <use x=\"63.623047\" xlink:href=\"#DejaVuSans-2e\"/>\r\n       <use x=\"95.410156\" xlink:href=\"#DejaVuSans-32\"/>\r\n      </g>\r\n     </g>\r\n    </g>\r\n    <g id=\"xtick_14\">\r\n     <g id=\"line2d_47\">\r\n      <path clip-path=\"url(#p26ccdc059f)\" d=\"M 739.263636 155.444656 \r\nL 739.263636 22.318125 \r\n\" style=\"fill:none;stroke:#b0b0b0;stroke-linecap:square;stroke-width:0.8;\"/>\r\n     </g>\r\n     <g id=\"line2d_48\">\r\n      <g>\r\n       <use style=\"stroke:#000000;stroke-width:0.8;\" x=\"739.263636\" xlink:href=\"#m2f43a095d0\" y=\"155.444656\"/>\r\n      </g>\r\n     </g>\r\n     <g id=\"text_26\">\r\n      <!-- 0.4 -->\r\n      <g transform=\"translate(731.312074 170.043093)scale(0.1 -0.1)\">\r\n       <use xlink:href=\"#DejaVuSans-30\"/>\r\n       <use x=\"63.623047\" xlink:href=\"#DejaVuSans-2e\"/>\r\n       <use x=\"95.410156\" xlink:href=\"#DejaVuSans-34\"/>\r\n      </g>\r\n     </g>\r\n    </g>\r\n    <g id=\"xtick_15\">\r\n     <g id=\"line2d_49\">\r\n      <path clip-path=\"url(#p26ccdc059f)\" d=\"M 781.536364 155.444656 \r\nL 781.536364 22.318125 \r\n\" style=\"fill:none;stroke:#b0b0b0;stroke-linecap:square;stroke-width:0.8;\"/>\r\n     </g>\r\n     <g id=\"line2d_50\">\r\n      <g>\r\n       <use style=\"stroke:#000000;stroke-width:0.8;\" x=\"781.536364\" xlink:href=\"#m2f43a095d0\" y=\"155.444656\"/>\r\n      </g>\r\n     </g>\r\n     <g id=\"text_27\">\r\n      <!-- 0.6 -->\r\n      <g transform=\"translate(773.584801 170.043093)scale(0.1 -0.1)\">\r\n       <use xlink:href=\"#DejaVuSans-30\"/>\r\n       <use x=\"63.623047\" xlink:href=\"#DejaVuSans-2e\"/>\r\n       <use x=\"95.410156\" xlink:href=\"#DejaVuSans-36\"/>\r\n      </g>\r\n     </g>\r\n    </g>\r\n    <g id=\"xtick_16\">\r\n     <g id=\"line2d_51\">\r\n      <path clip-path=\"url(#p26ccdc059f)\" d=\"M 823.809091 155.444656 \r\nL 823.809091 22.318125 \r\n\" style=\"fill:none;stroke:#b0b0b0;stroke-linecap:square;stroke-width:0.8;\"/>\r\n     </g>\r\n     <g id=\"line2d_52\">\r\n      <g>\r\n       <use style=\"stroke:#000000;stroke-width:0.8;\" x=\"823.809091\" xlink:href=\"#m2f43a095d0\" y=\"155.444656\"/>\r\n      </g>\r\n     </g>\r\n     <g id=\"text_28\">\r\n      <!-- 0.8 -->\r\n      <g transform=\"translate(815.857528 170.043093)scale(0.1 -0.1)\">\r\n       <use xlink:href=\"#DejaVuSans-30\"/>\r\n       <use x=\"63.623047\" xlink:href=\"#DejaVuSans-2e\"/>\r\n       <use x=\"95.410156\" xlink:href=\"#DejaVuSans-38\"/>\r\n      </g>\r\n     </g>\r\n    </g>\r\n    <g id=\"xtick_17\">\r\n     <g id=\"line2d_53\">\r\n      <path clip-path=\"url(#p26ccdc059f)\" d=\"M 866.081818 155.444656 \r\nL 866.081818 22.318125 \r\n\" style=\"fill:none;stroke:#b0b0b0;stroke-linecap:square;stroke-width:0.8;\"/>\r\n     </g>\r\n     <g id=\"line2d_54\">\r\n      <g>\r\n       <use style=\"stroke:#000000;stroke-width:0.8;\" x=\"866.081818\" xlink:href=\"#m2f43a095d0\" y=\"155.444656\"/>\r\n      </g>\r\n     </g>\r\n     <g id=\"text_29\">\r\n      <!-- 1.0 -->\r\n      <g transform=\"translate(858.130256 170.043093)scale(0.1 -0.1)\">\r\n       <use xlink:href=\"#DejaVuSans-31\"/>\r\n       <use x=\"63.623047\" xlink:href=\"#DejaVuSans-2e\"/>\r\n       <use x=\"95.410156\" xlink:href=\"#DejaVuSans-30\"/>\r\n      </g>\r\n     </g>\r\n    </g>\r\n   </g>\r\n   <g id=\"matplotlib.axis_6\">\r\n    <g id=\"ytick_11\">\r\n     <g id=\"line2d_55\">\r\n      <path clip-path=\"url(#p26ccdc059f)\" d=\"M 644.15 155.444656 \r\nL 876.65 155.444656 \r\n\" style=\"fill:none;stroke:#b0b0b0;stroke-linecap:square;stroke-width:0.8;\"/>\r\n     </g>\r\n     <g id=\"line2d_56\">\r\n      <g>\r\n       <use style=\"stroke:#000000;stroke-width:0.8;\" x=\"644.15\" xlink:href=\"#m86550c65fa\" y=\"155.444656\"/>\r\n      </g>\r\n     </g>\r\n     <g id=\"text_30\">\r\n      <!-- 0 -->\r\n      <g transform=\"translate(630.7875 159.243874)scale(0.1 -0.1)\">\r\n       <use xlink:href=\"#DejaVuSans-30\"/>\r\n      </g>\r\n     </g>\r\n    </g>\r\n    <g id=\"ytick_12\">\r\n     <g id=\"line2d_57\">\r\n      <path clip-path=\"url(#p26ccdc059f)\" d=\"M 644.15 128.582967 \r\nL 876.65 128.582967 \r\n\" style=\"fill:none;stroke:#b0b0b0;stroke-linecap:square;stroke-width:0.8;\"/>\r\n     </g>\r\n     <g id=\"line2d_58\">\r\n      <g>\r\n       <use style=\"stroke:#000000;stroke-width:0.8;\" x=\"644.15\" xlink:href=\"#m86550c65fa\" y=\"128.582967\"/>\r\n      </g>\r\n     </g>\r\n     <g id=\"text_31\">\r\n      <!-- 500 -->\r\n      <g transform=\"translate(618.0625 132.382185)scale(0.1 -0.1)\">\r\n       <use xlink:href=\"#DejaVuSans-35\"/>\r\n       <use x=\"63.623047\" xlink:href=\"#DejaVuSans-30\"/>\r\n       <use x=\"127.246094\" xlink:href=\"#DejaVuSans-30\"/>\r\n      </g>\r\n     </g>\r\n    </g>\r\n    <g id=\"ytick_13\">\r\n     <g id=\"line2d_59\">\r\n      <path clip-path=\"url(#p26ccdc059f)\" d=\"M 644.15 101.721278 \r\nL 876.65 101.721278 \r\n\" style=\"fill:none;stroke:#b0b0b0;stroke-linecap:square;stroke-width:0.8;\"/>\r\n     </g>\r\n     <g id=\"line2d_60\">\r\n      <g>\r\n       <use style=\"stroke:#000000;stroke-width:0.8;\" x=\"644.15\" xlink:href=\"#m86550c65fa\" y=\"101.721278\"/>\r\n      </g>\r\n     </g>\r\n     <g id=\"text_32\">\r\n      <!-- 1000 -->\r\n      <g transform=\"translate(611.7 105.520496)scale(0.1 -0.1)\">\r\n       <use xlink:href=\"#DejaVuSans-31\"/>\r\n       <use x=\"63.623047\" xlink:href=\"#DejaVuSans-30\"/>\r\n       <use x=\"127.246094\" xlink:href=\"#DejaVuSans-30\"/>\r\n       <use x=\"190.869141\" xlink:href=\"#DejaVuSans-30\"/>\r\n      </g>\r\n     </g>\r\n    </g>\r\n    <g id=\"ytick_14\">\r\n     <g id=\"line2d_61\">\r\n      <path clip-path=\"url(#p26ccdc059f)\" d=\"M 644.15 74.859589 \r\nL 876.65 74.859589 \r\n\" style=\"fill:none;stroke:#b0b0b0;stroke-linecap:square;stroke-width:0.8;\"/>\r\n     </g>\r\n     <g id=\"line2d_62\">\r\n      <g>\r\n       <use style=\"stroke:#000000;stroke-width:0.8;\" x=\"644.15\" xlink:href=\"#m86550c65fa\" y=\"74.859589\"/>\r\n      </g>\r\n     </g>\r\n     <g id=\"text_33\">\r\n      <!-- 1500 -->\r\n      <g transform=\"translate(611.7 78.658807)scale(0.1 -0.1)\">\r\n       <use xlink:href=\"#DejaVuSans-31\"/>\r\n       <use x=\"63.623047\" xlink:href=\"#DejaVuSans-35\"/>\r\n       <use x=\"127.246094\" xlink:href=\"#DejaVuSans-30\"/>\r\n       <use x=\"190.869141\" xlink:href=\"#DejaVuSans-30\"/>\r\n      </g>\r\n     </g>\r\n    </g>\r\n    <g id=\"ytick_15\">\r\n     <g id=\"line2d_63\">\r\n      <path clip-path=\"url(#p26ccdc059f)\" d=\"M 644.15 47.9979 \r\nL 876.65 47.9979 \r\n\" style=\"fill:none;stroke:#b0b0b0;stroke-linecap:square;stroke-width:0.8;\"/>\r\n     </g>\r\n     <g id=\"line2d_64\">\r\n      <g>\r\n       <use style=\"stroke:#000000;stroke-width:0.8;\" x=\"644.15\" xlink:href=\"#m86550c65fa\" y=\"47.9979\"/>\r\n      </g>\r\n     </g>\r\n     <g id=\"text_34\">\r\n      <!-- 2000 -->\r\n      <g transform=\"translate(611.7 51.797118)scale(0.1 -0.1)\">\r\n       <use xlink:href=\"#DejaVuSans-32\"/>\r\n       <use x=\"63.623047\" xlink:href=\"#DejaVuSans-30\"/>\r\n       <use x=\"127.246094\" xlink:href=\"#DejaVuSans-30\"/>\r\n       <use x=\"190.869141\" xlink:href=\"#DejaVuSans-30\"/>\r\n      </g>\r\n     </g>\r\n    </g>\r\n   </g>\r\n   <g id=\"patch_43\">\r\n    <path d=\"M 644.15 155.444656 \r\nL 644.15 22.318125 \r\n\" style=\"fill:none;stroke:#000000;stroke-linecap:square;stroke-linejoin:miter;stroke-width:0.8;\"/>\r\n   </g>\r\n   <g id=\"patch_44\">\r\n    <path d=\"M 876.65 155.444656 \r\nL 876.65 22.318125 \r\n\" style=\"fill:none;stroke:#000000;stroke-linecap:square;stroke-linejoin:miter;stroke-width:0.8;\"/>\r\n   </g>\r\n   <g id=\"patch_45\">\r\n    <path d=\"M 644.15 155.444656 \r\nL 876.65 155.444656 \r\n\" style=\"fill:none;stroke:#000000;stroke-linecap:square;stroke-linejoin:miter;stroke-width:0.8;\"/>\r\n   </g>\r\n   <g id=\"patch_46\">\r\n    <path d=\"M 644.15 22.318125 \r\nL 876.65 22.318125 \r\n\" style=\"fill:none;stroke:#000000;stroke-linecap:square;stroke-linejoin:miter;stroke-width:0.8;\"/>\r\n   </g>\r\n   <g id=\"text_35\">\r\n    <!-- N -->\r\n    <g transform=\"translate(755.91125 16.318125)scale(0.12 -0.12)\">\r\n     <defs>\r\n      <path d=\"M 628 4666 \r\nL 1478 4666 \r\nL 3547 763 \r\nL 3547 4666 \r\nL 4159 4666 \r\nL 4159 0 \r\nL 3309 0 \r\nL 1241 3903 \r\nL 1241 0 \r\nL 628 0 \r\nL 628 4666 \r\nz\r\n\" id=\"DejaVuSans-4e\" transform=\"scale(0.015625)\"/>\r\n     </defs>\r\n     <use xlink:href=\"#DejaVuSans-4e\"/>\r\n    </g>\r\n   </g>\r\n  </g>\r\n  <g id=\"axes_4\">\r\n   <g id=\"patch_47\">\r\n    <path d=\"M 39.65 328.509145 \r\nL 272.15 328.509145 \r\nL 272.15 195.382615 \r\nL 39.65 195.382615 \r\nz\r\n\" style=\"fill:#ffffff;\"/>\r\n   </g>\r\n   <g id=\"patch_48\">\r\n    <path clip-path=\"url(#pceb5cb4bbd)\" d=\"M 50.218182 328.509145 \r\nL 71.354545 328.509145 \r\nL 71.354545 201.721973 \r\nL 50.218182 201.721973 \r\nz\r\n\" style=\"fill:#1f77b4;\"/>\r\n   </g>\r\n   <g id=\"patch_49\">\r\n    <path clip-path=\"url(#pceb5cb4bbd)\" d=\"M 71.354545 328.509145 \r\nL 92.490909 328.509145 \r\nL 92.490909 328.509145 \r\nL 71.354545 328.509145 \r\nz\r\n\" style=\"fill:#1f77b4;\"/>\r\n   </g>\r\n   <g id=\"patch_50\">\r\n    <path clip-path=\"url(#pceb5cb4bbd)\" d=\"M 92.490909 328.509145 \r\nL 113.627273 328.509145 \r\nL 113.627273 328.509145 \r\nL 92.490909 328.509145 \r\nz\r\n\" style=\"fill:#1f77b4;\"/>\r\n   </g>\r\n   <g id=\"patch_51\">\r\n    <path clip-path=\"url(#pceb5cb4bbd)\" d=\"M 113.627273 328.509145 \r\nL 134.763636 328.509145 \r\nL 134.763636 328.509145 \r\nL 113.627273 328.509145 \r\nz\r\n\" style=\"fill:#1f77b4;\"/>\r\n   </g>\r\n   <g id=\"patch_52\">\r\n    <path clip-path=\"url(#pceb5cb4bbd)\" d=\"M 134.763636 328.509145 \r\nL 155.9 328.509145 \r\nL 155.9 328.509145 \r\nL 134.763636 328.509145 \r\nz\r\n\" style=\"fill:#1f77b4;\"/>\r\n   </g>\r\n   <g id=\"patch_53\">\r\n    <path clip-path=\"url(#pceb5cb4bbd)\" d=\"M 155.9 328.509145 \r\nL 177.036364 328.509145 \r\nL 177.036364 328.509145 \r\nL 155.9 328.509145 \r\nz\r\n\" style=\"fill:#1f77b4;\"/>\r\n   </g>\r\n   <g id=\"patch_54\">\r\n    <path clip-path=\"url(#pceb5cb4bbd)\" d=\"M 177.036364 328.509145 \r\nL 198.172727 328.509145 \r\nL 198.172727 328.509145 \r\nL 177.036364 328.509145 \r\nz\r\n\" style=\"fill:#1f77b4;\"/>\r\n   </g>\r\n   <g id=\"patch_55\">\r\n    <path clip-path=\"url(#pceb5cb4bbd)\" d=\"M 198.172727 328.509145 \r\nL 219.309091 328.509145 \r\nL 219.309091 328.509145 \r\nL 198.172727 328.509145 \r\nz\r\n\" style=\"fill:#1f77b4;\"/>\r\n   </g>\r\n   <g id=\"patch_56\">\r\n    <path clip-path=\"url(#pceb5cb4bbd)\" d=\"M 219.309091 328.509145 \r\nL 240.445455 328.509145 \r\nL 240.445455 328.509145 \r\nL 219.309091 328.509145 \r\nz\r\n\" style=\"fill:#1f77b4;\"/>\r\n   </g>\r\n   <g id=\"patch_57\">\r\n    <path clip-path=\"url(#pceb5cb4bbd)\" d=\"M 240.445455 328.509145 \r\nL 261.581818 328.509145 \r\nL 261.581818 268.215752 \r\nL 240.445455 268.215752 \r\nz\r\n\" style=\"fill:#1f77b4;\"/>\r\n   </g>\r\n   <g id=\"matplotlib.axis_7\">\r\n    <g id=\"xtick_18\">\r\n     <g id=\"line2d_65\">\r\n      <path clip-path=\"url(#pceb5cb4bbd)\" d=\"M 50.218182 328.509145 \r\nL 50.218182 195.382615 \r\n\" style=\"fill:none;stroke:#b0b0b0;stroke-linecap:square;stroke-width:0.8;\"/>\r\n     </g>\r\n     <g id=\"line2d_66\">\r\n      <g>\r\n       <use style=\"stroke:#000000;stroke-width:0.8;\" x=\"50.218182\" xlink:href=\"#m2f43a095d0\" y=\"328.509145\"/>\r\n      </g>\r\n     </g>\r\n     <g id=\"text_36\">\r\n      <!-- 0.0 -->\r\n      <g transform=\"translate(42.266619 343.107583)scale(0.1 -0.1)\">\r\n       <use xlink:href=\"#DejaVuSans-30\"/>\r\n       <use x=\"63.623047\" xlink:href=\"#DejaVuSans-2e\"/>\r\n       <use x=\"95.410156\" xlink:href=\"#DejaVuSans-30\"/>\r\n      </g>\r\n     </g>\r\n    </g>\r\n    <g id=\"xtick_19\">\r\n     <g id=\"line2d_67\">\r\n      <path clip-path=\"url(#pceb5cb4bbd)\" d=\"M 92.490909 328.509145 \r\nL 92.490909 195.382615 \r\n\" style=\"fill:none;stroke:#b0b0b0;stroke-linecap:square;stroke-width:0.8;\"/>\r\n     </g>\r\n     <g id=\"line2d_68\">\r\n      <g>\r\n       <use style=\"stroke:#000000;stroke-width:0.8;\" x=\"92.490909\" xlink:href=\"#m2f43a095d0\" y=\"328.509145\"/>\r\n      </g>\r\n     </g>\r\n     <g id=\"text_37\">\r\n      <!-- 0.2 -->\r\n      <g transform=\"translate(84.539347 343.107583)scale(0.1 -0.1)\">\r\n       <use xlink:href=\"#DejaVuSans-30\"/>\r\n       <use x=\"63.623047\" xlink:href=\"#DejaVuSans-2e\"/>\r\n       <use x=\"95.410156\" xlink:href=\"#DejaVuSans-32\"/>\r\n      </g>\r\n     </g>\r\n    </g>\r\n    <g id=\"xtick_20\">\r\n     <g id=\"line2d_69\">\r\n      <path clip-path=\"url(#pceb5cb4bbd)\" d=\"M 134.763636 328.509145 \r\nL 134.763636 195.382615 \r\n\" style=\"fill:none;stroke:#b0b0b0;stroke-linecap:square;stroke-width:0.8;\"/>\r\n     </g>\r\n     <g id=\"line2d_70\">\r\n      <g>\r\n       <use style=\"stroke:#000000;stroke-width:0.8;\" x=\"134.763636\" xlink:href=\"#m2f43a095d0\" y=\"328.509145\"/>\r\n      </g>\r\n     </g>\r\n     <g id=\"text_38\">\r\n      <!-- 0.4 -->\r\n      <g transform=\"translate(126.812074 343.107583)scale(0.1 -0.1)\">\r\n       <use xlink:href=\"#DejaVuSans-30\"/>\r\n       <use x=\"63.623047\" xlink:href=\"#DejaVuSans-2e\"/>\r\n       <use x=\"95.410156\" xlink:href=\"#DejaVuSans-34\"/>\r\n      </g>\r\n     </g>\r\n    </g>\r\n    <g id=\"xtick_21\">\r\n     <g id=\"line2d_71\">\r\n      <path clip-path=\"url(#pceb5cb4bbd)\" d=\"M 177.036364 328.509145 \r\nL 177.036364 195.382615 \r\n\" style=\"fill:none;stroke:#b0b0b0;stroke-linecap:square;stroke-width:0.8;\"/>\r\n     </g>\r\n     <g id=\"line2d_72\">\r\n      <g>\r\n       <use style=\"stroke:#000000;stroke-width:0.8;\" x=\"177.036364\" xlink:href=\"#m2f43a095d0\" y=\"328.509145\"/>\r\n      </g>\r\n     </g>\r\n     <g id=\"text_39\">\r\n      <!-- 0.6 -->\r\n      <g transform=\"translate(169.084801 343.107583)scale(0.1 -0.1)\">\r\n       <use xlink:href=\"#DejaVuSans-30\"/>\r\n       <use x=\"63.623047\" xlink:href=\"#DejaVuSans-2e\"/>\r\n       <use x=\"95.410156\" xlink:href=\"#DejaVuSans-36\"/>\r\n      </g>\r\n     </g>\r\n    </g>\r\n    <g id=\"xtick_22\">\r\n     <g id=\"line2d_73\">\r\n      <path clip-path=\"url(#pceb5cb4bbd)\" d=\"M 219.309091 328.509145 \r\nL 219.309091 195.382615 \r\n\" style=\"fill:none;stroke:#b0b0b0;stroke-linecap:square;stroke-width:0.8;\"/>\r\n     </g>\r\n     <g id=\"line2d_74\">\r\n      <g>\r\n       <use style=\"stroke:#000000;stroke-width:0.8;\" x=\"219.309091\" xlink:href=\"#m2f43a095d0\" y=\"328.509145\"/>\r\n      </g>\r\n     </g>\r\n     <g id=\"text_40\">\r\n      <!-- 0.8 -->\r\n      <g transform=\"translate(211.357528 343.107583)scale(0.1 -0.1)\">\r\n       <use xlink:href=\"#DejaVuSans-30\"/>\r\n       <use x=\"63.623047\" xlink:href=\"#DejaVuSans-2e\"/>\r\n       <use x=\"95.410156\" xlink:href=\"#DejaVuSans-38\"/>\r\n      </g>\r\n     </g>\r\n    </g>\r\n    <g id=\"xtick_23\">\r\n     <g id=\"line2d_75\">\r\n      <path clip-path=\"url(#pceb5cb4bbd)\" d=\"M 261.581818 328.509145 \r\nL 261.581818 195.382615 \r\n\" style=\"fill:none;stroke:#b0b0b0;stroke-linecap:square;stroke-width:0.8;\"/>\r\n     </g>\r\n     <g id=\"line2d_76\">\r\n      <g>\r\n       <use style=\"stroke:#000000;stroke-width:0.8;\" x=\"261.581818\" xlink:href=\"#m2f43a095d0\" y=\"328.509145\"/>\r\n      </g>\r\n     </g>\r\n     <g id=\"text_41\">\r\n      <!-- 1.0 -->\r\n      <g transform=\"translate(253.630256 343.107583)scale(0.1 -0.1)\">\r\n       <use xlink:href=\"#DejaVuSans-31\"/>\r\n       <use x=\"63.623047\" xlink:href=\"#DejaVuSans-2e\"/>\r\n       <use x=\"95.410156\" xlink:href=\"#DejaVuSans-30\"/>\r\n      </g>\r\n     </g>\r\n    </g>\r\n   </g>\r\n   <g id=\"matplotlib.axis_8\">\r\n    <g id=\"ytick_16\">\r\n     <g id=\"line2d_77\">\r\n      <path clip-path=\"url(#pceb5cb4bbd)\" d=\"M 39.65 328.509145 \r\nL 272.15 328.509145 \r\n\" style=\"fill:none;stroke:#b0b0b0;stroke-linecap:square;stroke-width:0.8;\"/>\r\n     </g>\r\n     <g id=\"line2d_78\">\r\n      <g>\r\n       <use style=\"stroke:#000000;stroke-width:0.8;\" x=\"39.65\" xlink:href=\"#m86550c65fa\" y=\"328.509145\"/>\r\n      </g>\r\n     </g>\r\n     <g id=\"text_42\">\r\n      <!-- 0 -->\r\n      <g transform=\"translate(26.2875 332.308364)scale(0.1 -0.1)\">\r\n       <use xlink:href=\"#DejaVuSans-30\"/>\r\n      </g>\r\n     </g>\r\n    </g>\r\n    <g id=\"ytick_17\">\r\n     <g id=\"line2d_79\">\r\n      <path clip-path=\"url(#pceb5cb4bbd)\" d=\"M 39.65 301.78335 \r\nL 272.15 301.78335 \r\n\" style=\"fill:none;stroke:#b0b0b0;stroke-linecap:square;stroke-width:0.8;\"/>\r\n     </g>\r\n     <g id=\"line2d_80\">\r\n      <g>\r\n       <use style=\"stroke:#000000;stroke-width:0.8;\" x=\"39.65\" xlink:href=\"#m86550c65fa\" y=\"301.78335\"/>\r\n      </g>\r\n     </g>\r\n     <g id=\"text_43\">\r\n      <!-- 500 -->\r\n      <g transform=\"translate(13.5625 305.582569)scale(0.1 -0.1)\">\r\n       <use xlink:href=\"#DejaVuSans-35\"/>\r\n       <use x=\"63.623047\" xlink:href=\"#DejaVuSans-30\"/>\r\n       <use x=\"127.246094\" xlink:href=\"#DejaVuSans-30\"/>\r\n      </g>\r\n     </g>\r\n    </g>\r\n    <g id=\"ytick_18\">\r\n     <g id=\"line2d_81\">\r\n      <path clip-path=\"url(#pceb5cb4bbd)\" d=\"M 39.65 275.057555 \r\nL 272.15 275.057555 \r\n\" style=\"fill:none;stroke:#b0b0b0;stroke-linecap:square;stroke-width:0.8;\"/>\r\n     </g>\r\n     <g id=\"line2d_82\">\r\n      <g>\r\n       <use style=\"stroke:#000000;stroke-width:0.8;\" x=\"39.65\" xlink:href=\"#m86550c65fa\" y=\"275.057555\"/>\r\n      </g>\r\n     </g>\r\n     <g id=\"text_44\">\r\n      <!-- 1000 -->\r\n      <g transform=\"translate(7.2 278.856774)scale(0.1 -0.1)\">\r\n       <use xlink:href=\"#DejaVuSans-31\"/>\r\n       <use x=\"63.623047\" xlink:href=\"#DejaVuSans-30\"/>\r\n       <use x=\"127.246094\" xlink:href=\"#DejaVuSans-30\"/>\r\n       <use x=\"190.869141\" xlink:href=\"#DejaVuSans-30\"/>\r\n      </g>\r\n     </g>\r\n    </g>\r\n    <g id=\"ytick_19\">\r\n     <g id=\"line2d_83\">\r\n      <path clip-path=\"url(#pceb5cb4bbd)\" d=\"M 39.65 248.33176 \r\nL 272.15 248.33176 \r\n\" style=\"fill:none;stroke:#b0b0b0;stroke-linecap:square;stroke-width:0.8;\"/>\r\n     </g>\r\n     <g id=\"line2d_84\">\r\n      <g>\r\n       <use style=\"stroke:#000000;stroke-width:0.8;\" x=\"39.65\" xlink:href=\"#m86550c65fa\" y=\"248.33176\"/>\r\n      </g>\r\n     </g>\r\n     <g id=\"text_45\">\r\n      <!-- 1500 -->\r\n      <g transform=\"translate(7.2 252.130979)scale(0.1 -0.1)\">\r\n       <use xlink:href=\"#DejaVuSans-31\"/>\r\n       <use x=\"63.623047\" xlink:href=\"#DejaVuSans-35\"/>\r\n       <use x=\"127.246094\" xlink:href=\"#DejaVuSans-30\"/>\r\n       <use x=\"190.869141\" xlink:href=\"#DejaVuSans-30\"/>\r\n      </g>\r\n     </g>\r\n    </g>\r\n    <g id=\"ytick_20\">\r\n     <g id=\"line2d_85\">\r\n      <path clip-path=\"url(#pceb5cb4bbd)\" d=\"M 39.65 221.605965 \r\nL 272.15 221.605965 \r\n\" style=\"fill:none;stroke:#b0b0b0;stroke-linecap:square;stroke-width:0.8;\"/>\r\n     </g>\r\n     <g id=\"line2d_86\">\r\n      <g>\r\n       <use style=\"stroke:#000000;stroke-width:0.8;\" x=\"39.65\" xlink:href=\"#m86550c65fa\" y=\"221.605965\"/>\r\n      </g>\r\n     </g>\r\n     <g id=\"text_46\">\r\n      <!-- 2000 -->\r\n      <g transform=\"translate(7.2 225.405184)scale(0.1 -0.1)\">\r\n       <use xlink:href=\"#DejaVuSans-32\"/>\r\n       <use x=\"63.623047\" xlink:href=\"#DejaVuSans-30\"/>\r\n       <use x=\"127.246094\" xlink:href=\"#DejaVuSans-30\"/>\r\n       <use x=\"190.869141\" xlink:href=\"#DejaVuSans-30\"/>\r\n      </g>\r\n     </g>\r\n    </g>\r\n   </g>\r\n   <g id=\"patch_58\">\r\n    <path d=\"M 39.65 328.509145 \r\nL 39.65 195.382615 \r\n\" style=\"fill:none;stroke:#000000;stroke-linecap:square;stroke-linejoin:miter;stroke-width:0.8;\"/>\r\n   </g>\r\n   <g id=\"patch_59\">\r\n    <path d=\"M 272.15 328.509145 \r\nL 272.15 195.382615 \r\n\" style=\"fill:none;stroke:#000000;stroke-linecap:square;stroke-linejoin:miter;stroke-width:0.8;\"/>\r\n   </g>\r\n   <g id=\"patch_60\">\r\n    <path d=\"M 39.65 328.509145 \r\nL 272.15 328.509145 \r\n\" style=\"fill:none;stroke:#000000;stroke-linecap:square;stroke-linejoin:miter;stroke-width:0.8;\"/>\r\n   </g>\r\n   <g id=\"patch_61\">\r\n    <path d=\"M 39.65 195.382615 \r\nL 272.15 195.382615 \r\n\" style=\"fill:none;stroke:#000000;stroke-linecap:square;stroke-linejoin:miter;stroke-width:0.8;\"/>\r\n   </g>\r\n   <g id=\"text_47\">\r\n    <!-- D -->\r\n    <g transform=\"translate(151.28 189.382615)scale(0.12 -0.12)\">\r\n     <defs>\r\n      <path d=\"M 1259 4147 \r\nL 1259 519 \r\nL 2022 519 \r\nQ 2988 519 3436 956 \r\nQ 3884 1394 3884 2338 \r\nQ 3884 3275 3436 3711 \r\nQ 2988 4147 2022 4147 \r\nL 1259 4147 \r\nz\r\nM 628 4666 \r\nL 1925 4666 \r\nQ 3281 4666 3915 4102 \r\nQ 4550 3538 4550 2338 \r\nQ 4550 1131 3912 565 \r\nQ 3275 0 1925 0 \r\nL 628 0 \r\nL 628 4666 \r\nz\r\n\" id=\"DejaVuSans-44\" transform=\"scale(0.015625)\"/>\r\n     </defs>\r\n     <use xlink:href=\"#DejaVuSans-44\"/>\r\n    </g>\r\n   </g>\r\n  </g>\r\n  <g id=\"axes_5\">\r\n   <g id=\"patch_62\">\r\n    <path d=\"M 341.9 328.509145 \r\nL 574.4 328.509145 \r\nL 574.4 195.382615 \r\nL 341.9 195.382615 \r\nz\r\n\" style=\"fill:#ffffff;\"/>\r\n   </g>\r\n   <g id=\"patch_63\">\r\n    <path clip-path=\"url(#p5077ac57e4)\" d=\"M 352.468182 328.509145 \r\nL 373.604545 328.509145 \r\nL 373.604545 201.721973 \r\nL 352.468182 201.721973 \r\nz\r\n\" style=\"fill:#1f77b4;\"/>\r\n   </g>\r\n   <g id=\"patch_64\">\r\n    <path clip-path=\"url(#p5077ac57e4)\" d=\"M 373.604545 328.509145 \r\nL 394.740909 328.509145 \r\nL 394.740909 328.509145 \r\nL 373.604545 328.509145 \r\nz\r\n\" style=\"fill:#1f77b4;\"/>\r\n   </g>\r\n   <g id=\"patch_65\">\r\n    <path clip-path=\"url(#p5077ac57e4)\" d=\"M 394.740909 328.509145 \r\nL 415.877273 328.509145 \r\nL 415.877273 328.509145 \r\nL 394.740909 328.509145 \r\nz\r\n\" style=\"fill:#1f77b4;\"/>\r\n   </g>\r\n   <g id=\"patch_66\">\r\n    <path clip-path=\"url(#p5077ac57e4)\" d=\"M 415.877273 328.509145 \r\nL 437.013636 328.509145 \r\nL 437.013636 328.509145 \r\nL 415.877273 328.509145 \r\nz\r\n\" style=\"fill:#1f77b4;\"/>\r\n   </g>\r\n   <g id=\"patch_67\">\r\n    <path clip-path=\"url(#p5077ac57e4)\" d=\"M 437.013636 328.509145 \r\nL 458.15 328.509145 \r\nL 458.15 328.509145 \r\nL 437.013636 328.509145 \r\nz\r\n\" style=\"fill:#1f77b4;\"/>\r\n   </g>\r\n   <g id=\"patch_68\">\r\n    <path clip-path=\"url(#p5077ac57e4)\" d=\"M 458.15 328.509145 \r\nL 479.286364 328.509145 \r\nL 479.286364 328.509145 \r\nL 458.15 328.509145 \r\nz\r\n\" style=\"fill:#1f77b4;\"/>\r\n   </g>\r\n   <g id=\"patch_69\">\r\n    <path clip-path=\"url(#p5077ac57e4)\" d=\"M 479.286364 328.509145 \r\nL 500.422727 328.509145 \r\nL 500.422727 328.509145 \r\nL 479.286364 328.509145 \r\nz\r\n\" style=\"fill:#1f77b4;\"/>\r\n   </g>\r\n   <g id=\"patch_70\">\r\n    <path clip-path=\"url(#p5077ac57e4)\" d=\"M 500.422727 328.509145 \r\nL 521.559091 328.509145 \r\nL 521.559091 328.509145 \r\nL 500.422727 328.509145 \r\nz\r\n\" style=\"fill:#1f77b4;\"/>\r\n   </g>\r\n   <g id=\"patch_71\">\r\n    <path clip-path=\"url(#p5077ac57e4)\" d=\"M 521.559091 328.509145 \r\nL 542.695455 328.509145 \r\nL 542.695455 328.509145 \r\nL 521.559091 328.509145 \r\nz\r\n\" style=\"fill:#1f77b4;\"/>\r\n   </g>\r\n   <g id=\"patch_72\">\r\n    <path clip-path=\"url(#p5077ac57e4)\" d=\"M 542.695455 328.509145 \r\nL 563.831818 328.509145 \r\nL 563.831818 320.21105 \r\nL 542.695455 320.21105 \r\nz\r\n\" style=\"fill:#1f77b4;\"/>\r\n   </g>\r\n   <g id=\"matplotlib.axis_9\">\r\n    <g id=\"xtick_24\">\r\n     <g id=\"line2d_87\">\r\n      <path clip-path=\"url(#p5077ac57e4)\" d=\"M 352.468182 328.509145 \r\nL 352.468182 195.382615 \r\n\" style=\"fill:none;stroke:#b0b0b0;stroke-linecap:square;stroke-width:0.8;\"/>\r\n     </g>\r\n     <g id=\"line2d_88\">\r\n      <g>\r\n       <use style=\"stroke:#000000;stroke-width:0.8;\" x=\"352.468182\" xlink:href=\"#m2f43a095d0\" y=\"328.509145\"/>\r\n      </g>\r\n     </g>\r\n     <g id=\"text_48\">\r\n      <!-- 0.0 -->\r\n      <g transform=\"translate(344.516619 343.107583)scale(0.1 -0.1)\">\r\n       <use xlink:href=\"#DejaVuSans-30\"/>\r\n       <use x=\"63.623047\" xlink:href=\"#DejaVuSans-2e\"/>\r\n       <use x=\"95.410156\" xlink:href=\"#DejaVuSans-30\"/>\r\n      </g>\r\n     </g>\r\n    </g>\r\n    <g id=\"xtick_25\">\r\n     <g id=\"line2d_89\">\r\n      <path clip-path=\"url(#p5077ac57e4)\" d=\"M 394.740909 328.509145 \r\nL 394.740909 195.382615 \r\n\" style=\"fill:none;stroke:#b0b0b0;stroke-linecap:square;stroke-width:0.8;\"/>\r\n     </g>\r\n     <g id=\"line2d_90\">\r\n      <g>\r\n       <use style=\"stroke:#000000;stroke-width:0.8;\" x=\"394.740909\" xlink:href=\"#m2f43a095d0\" y=\"328.509145\"/>\r\n      </g>\r\n     </g>\r\n     <g id=\"text_49\">\r\n      <!-- 0.2 -->\r\n      <g transform=\"translate(386.789347 343.107583)scale(0.1 -0.1)\">\r\n       <use xlink:href=\"#DejaVuSans-30\"/>\r\n       <use x=\"63.623047\" xlink:href=\"#DejaVuSans-2e\"/>\r\n       <use x=\"95.410156\" xlink:href=\"#DejaVuSans-32\"/>\r\n      </g>\r\n     </g>\r\n    </g>\r\n    <g id=\"xtick_26\">\r\n     <g id=\"line2d_91\">\r\n      <path clip-path=\"url(#p5077ac57e4)\" d=\"M 437.013636 328.509145 \r\nL 437.013636 195.382615 \r\n\" style=\"fill:none;stroke:#b0b0b0;stroke-linecap:square;stroke-width:0.8;\"/>\r\n     </g>\r\n     <g id=\"line2d_92\">\r\n      <g>\r\n       <use style=\"stroke:#000000;stroke-width:0.8;\" x=\"437.013636\" xlink:href=\"#m2f43a095d0\" y=\"328.509145\"/>\r\n      </g>\r\n     </g>\r\n     <g id=\"text_50\">\r\n      <!-- 0.4 -->\r\n      <g transform=\"translate(429.062074 343.107583)scale(0.1 -0.1)\">\r\n       <use xlink:href=\"#DejaVuSans-30\"/>\r\n       <use x=\"63.623047\" xlink:href=\"#DejaVuSans-2e\"/>\r\n       <use x=\"95.410156\" xlink:href=\"#DejaVuSans-34\"/>\r\n      </g>\r\n     </g>\r\n    </g>\r\n    <g id=\"xtick_27\">\r\n     <g id=\"line2d_93\">\r\n      <path clip-path=\"url(#p5077ac57e4)\" d=\"M 479.286364 328.509145 \r\nL 479.286364 195.382615 \r\n\" style=\"fill:none;stroke:#b0b0b0;stroke-linecap:square;stroke-width:0.8;\"/>\r\n     </g>\r\n     <g id=\"line2d_94\">\r\n      <g>\r\n       <use style=\"stroke:#000000;stroke-width:0.8;\" x=\"479.286364\" xlink:href=\"#m2f43a095d0\" y=\"328.509145\"/>\r\n      </g>\r\n     </g>\r\n     <g id=\"text_51\">\r\n      <!-- 0.6 -->\r\n      <g transform=\"translate(471.334801 343.107583)scale(0.1 -0.1)\">\r\n       <use xlink:href=\"#DejaVuSans-30\"/>\r\n       <use x=\"63.623047\" xlink:href=\"#DejaVuSans-2e\"/>\r\n       <use x=\"95.410156\" xlink:href=\"#DejaVuSans-36\"/>\r\n      </g>\r\n     </g>\r\n    </g>\r\n    <g id=\"xtick_28\">\r\n     <g id=\"line2d_95\">\r\n      <path clip-path=\"url(#p5077ac57e4)\" d=\"M 521.559091 328.509145 \r\nL 521.559091 195.382615 \r\n\" style=\"fill:none;stroke:#b0b0b0;stroke-linecap:square;stroke-width:0.8;\"/>\r\n     </g>\r\n     <g id=\"line2d_96\">\r\n      <g>\r\n       <use style=\"stroke:#000000;stroke-width:0.8;\" x=\"521.559091\" xlink:href=\"#m2f43a095d0\" y=\"328.509145\"/>\r\n      </g>\r\n     </g>\r\n     <g id=\"text_52\">\r\n      <!-- 0.8 -->\r\n      <g transform=\"translate(513.607528 343.107583)scale(0.1 -0.1)\">\r\n       <use xlink:href=\"#DejaVuSans-30\"/>\r\n       <use x=\"63.623047\" xlink:href=\"#DejaVuSans-2e\"/>\r\n       <use x=\"95.410156\" xlink:href=\"#DejaVuSans-38\"/>\r\n      </g>\r\n     </g>\r\n    </g>\r\n    <g id=\"xtick_29\">\r\n     <g id=\"line2d_97\">\r\n      <path clip-path=\"url(#p5077ac57e4)\" d=\"M 563.831818 328.509145 \r\nL 563.831818 195.382615 \r\n\" style=\"fill:none;stroke:#b0b0b0;stroke-linecap:square;stroke-width:0.8;\"/>\r\n     </g>\r\n     <g id=\"line2d_98\">\r\n      <g>\r\n       <use style=\"stroke:#000000;stroke-width:0.8;\" x=\"563.831818\" xlink:href=\"#m2f43a095d0\" y=\"328.509145\"/>\r\n      </g>\r\n     </g>\r\n     <g id=\"text_53\">\r\n      <!-- 1.0 -->\r\n      <g transform=\"translate(555.880256 343.107583)scale(0.1 -0.1)\">\r\n       <use xlink:href=\"#DejaVuSans-31\"/>\r\n       <use x=\"63.623047\" xlink:href=\"#DejaVuSans-2e\"/>\r\n       <use x=\"95.410156\" xlink:href=\"#DejaVuSans-30\"/>\r\n      </g>\r\n     </g>\r\n    </g>\r\n   </g>\r\n   <g id=\"matplotlib.axis_10\">\r\n    <g id=\"ytick_21\">\r\n     <g id=\"line2d_99\">\r\n      <path clip-path=\"url(#p5077ac57e4)\" d=\"M 341.9 328.509145 \r\nL 574.4 328.509145 \r\n\" style=\"fill:none;stroke:#b0b0b0;stroke-linecap:square;stroke-width:0.8;\"/>\r\n     </g>\r\n     <g id=\"line2d_100\">\r\n      <g>\r\n       <use style=\"stroke:#000000;stroke-width:0.8;\" x=\"341.9\" xlink:href=\"#m86550c65fa\" y=\"328.509145\"/>\r\n      </g>\r\n     </g>\r\n     <g id=\"text_54\">\r\n      <!-- 0 -->\r\n      <g transform=\"translate(328.5375 332.308364)scale(0.1 -0.1)\">\r\n       <use xlink:href=\"#DejaVuSans-30\"/>\r\n      </g>\r\n     </g>\r\n    </g>\r\n    <g id=\"ytick_22\">\r\n     <g id=\"line2d_101\">\r\n      <path clip-path=\"url(#p5077ac57e4)\" d=\"M 341.9 289.913355 \r\nL 574.4 289.913355 \r\n\" style=\"fill:none;stroke:#b0b0b0;stroke-linecap:square;stroke-width:0.8;\"/>\r\n     </g>\r\n     <g id=\"line2d_102\">\r\n      <g>\r\n       <use style=\"stroke:#000000;stroke-width:0.8;\" x=\"341.9\" xlink:href=\"#m86550c65fa\" y=\"289.913355\"/>\r\n      </g>\r\n     </g>\r\n     <g id=\"text_55\">\r\n      <!-- 1000 -->\r\n      <g transform=\"translate(309.45 293.712574)scale(0.1 -0.1)\">\r\n       <use xlink:href=\"#DejaVuSans-31\"/>\r\n       <use x=\"63.623047\" xlink:href=\"#DejaVuSans-30\"/>\r\n       <use x=\"127.246094\" xlink:href=\"#DejaVuSans-30\"/>\r\n       <use x=\"190.869141\" xlink:href=\"#DejaVuSans-30\"/>\r\n      </g>\r\n     </g>\r\n    </g>\r\n    <g id=\"ytick_23\">\r\n     <g id=\"line2d_103\">\r\n      <path clip-path=\"url(#p5077ac57e4)\" d=\"M 341.9 251.317564 \r\nL 574.4 251.317564 \r\n\" style=\"fill:none;stroke:#b0b0b0;stroke-linecap:square;stroke-width:0.8;\"/>\r\n     </g>\r\n     <g id=\"line2d_104\">\r\n      <g>\r\n       <use style=\"stroke:#000000;stroke-width:0.8;\" x=\"341.9\" xlink:href=\"#m86550c65fa\" y=\"251.317564\"/>\r\n      </g>\r\n     </g>\r\n     <g id=\"text_56\">\r\n      <!-- 2000 -->\r\n      <g transform=\"translate(309.45 255.116783)scale(0.1 -0.1)\">\r\n       <use xlink:href=\"#DejaVuSans-32\"/>\r\n       <use x=\"63.623047\" xlink:href=\"#DejaVuSans-30\"/>\r\n       <use x=\"127.246094\" xlink:href=\"#DejaVuSans-30\"/>\r\n       <use x=\"190.869141\" xlink:href=\"#DejaVuSans-30\"/>\r\n      </g>\r\n     </g>\r\n    </g>\r\n    <g id=\"ytick_24\">\r\n     <g id=\"line2d_105\">\r\n      <path clip-path=\"url(#p5077ac57e4)\" d=\"M 341.9 212.721774 \r\nL 574.4 212.721774 \r\n\" style=\"fill:none;stroke:#b0b0b0;stroke-linecap:square;stroke-width:0.8;\"/>\r\n     </g>\r\n     <g id=\"line2d_106\">\r\n      <g>\r\n       <use style=\"stroke:#000000;stroke-width:0.8;\" x=\"341.9\" xlink:href=\"#m86550c65fa\" y=\"212.721774\"/>\r\n      </g>\r\n     </g>\r\n     <g id=\"text_57\">\r\n      <!-- 3000 -->\r\n      <g transform=\"translate(309.45 216.520992)scale(0.1 -0.1)\">\r\n       <defs>\r\n        <path d=\"M 2597 2516 \r\nQ 3050 2419 3304 2112 \r\nQ 3559 1806 3559 1356 \r\nQ 3559 666 3084 287 \r\nQ 2609 -91 1734 -91 \r\nQ 1441 -91 1130 -33 \r\nQ 819 25 488 141 \r\nL 488 750 \r\nQ 750 597 1062 519 \r\nQ 1375 441 1716 441 \r\nQ 2309 441 2620 675 \r\nQ 2931 909 2931 1356 \r\nQ 2931 1769 2642 2001 \r\nQ 2353 2234 1838 2234 \r\nL 1294 2234 \r\nL 1294 2753 \r\nL 1863 2753 \r\nQ 2328 2753 2575 2939 \r\nQ 2822 3125 2822 3475 \r\nQ 2822 3834 2567 4026 \r\nQ 2313 4219 1838 4219 \r\nQ 1578 4219 1281 4162 \r\nQ 984 4106 628 3988 \r\nL 628 4550 \r\nQ 988 4650 1302 4700 \r\nQ 1616 4750 1894 4750 \r\nQ 2613 4750 3031 4423 \r\nQ 3450 4097 3450 3541 \r\nQ 3450 3153 3228 2886 \r\nQ 3006 2619 2597 2516 \r\nz\r\n\" id=\"DejaVuSans-33\" transform=\"scale(0.015625)\"/>\r\n       </defs>\r\n       <use xlink:href=\"#DejaVuSans-33\"/>\r\n       <use x=\"63.623047\" xlink:href=\"#DejaVuSans-30\"/>\r\n       <use x=\"127.246094\" xlink:href=\"#DejaVuSans-30\"/>\r\n       <use x=\"190.869141\" xlink:href=\"#DejaVuSans-30\"/>\r\n      </g>\r\n     </g>\r\n    </g>\r\n   </g>\r\n   <g id=\"patch_73\">\r\n    <path d=\"M 341.9 328.509145 \r\nL 341.9 195.382615 \r\n\" style=\"fill:none;stroke:#000000;stroke-linecap:square;stroke-linejoin:miter;stroke-width:0.8;\"/>\r\n   </g>\r\n   <g id=\"patch_74\">\r\n    <path d=\"M 574.4 328.509145 \r\nL 574.4 195.382615 \r\n\" style=\"fill:none;stroke:#000000;stroke-linecap:square;stroke-linejoin:miter;stroke-width:0.8;\"/>\r\n   </g>\r\n   <g id=\"patch_75\">\r\n    <path d=\"M 341.9 328.509145 \r\nL 574.4 328.509145 \r\n\" style=\"fill:none;stroke:#000000;stroke-linecap:square;stroke-linejoin:miter;stroke-width:0.8;\"/>\r\n   </g>\r\n   <g id=\"patch_76\">\r\n    <path d=\"M 341.9 195.382615 \r\nL 574.4 195.382615 \r\n\" style=\"fill:none;stroke:#000000;stroke-linecap:square;stroke-linejoin:miter;stroke-width:0.8;\"/>\r\n   </g>\r\n   <g id=\"text_58\">\r\n    <!-- G -->\r\n    <g transform=\"translate(453.500937 189.382615)scale(0.12 -0.12)\">\r\n     <defs>\r\n      <path d=\"M 3809 666 \r\nL 3809 1919 \r\nL 2778 1919 \r\nL 2778 2438 \r\nL 4434 2438 \r\nL 4434 434 \r\nQ 4069 175 3628 42 \r\nQ 3188 -91 2688 -91 \r\nQ 1594 -91 976 548 \r\nQ 359 1188 359 2328 \r\nQ 359 3472 976 4111 \r\nQ 1594 4750 2688 4750 \r\nQ 3144 4750 3555 4637 \r\nQ 3966 4525 4313 4306 \r\nL 4313 3634 \r\nQ 3963 3931 3569 4081 \r\nQ 3175 4231 2741 4231 \r\nQ 1884 4231 1454 3753 \r\nQ 1025 3275 1025 2328 \r\nQ 1025 1384 1454 906 \r\nQ 1884 428 2741 428 \r\nQ 3075 428 3337 486 \r\nQ 3600 544 3809 666 \r\nz\r\n\" id=\"DejaVuSans-47\" transform=\"scale(0.015625)\"/>\r\n     </defs>\r\n     <use xlink:href=\"#DejaVuSans-47\"/>\r\n    </g>\r\n   </g>\r\n  </g>\r\n  <g id=\"axes_6\">\r\n   <g id=\"patch_77\">\r\n    <path d=\"M 644.15 328.509145 \r\nL 876.65 328.509145 \r\nL 876.65 195.382615 \r\nL 644.15 195.382615 \r\nz\r\n\" style=\"fill:#ffffff;\"/>\r\n   </g>\r\n   <g id=\"patch_78\">\r\n    <path clip-path=\"url(#p3e07cd01d5)\" d=\"M 654.718182 328.509145 \r\nL 675.854545 328.509145 \r\nL 675.854545 201.721973 \r\nL 654.718182 201.721973 \r\nz\r\n\" style=\"fill:#1f77b4;\"/>\r\n   </g>\r\n   <g id=\"patch_79\">\r\n    <path clip-path=\"url(#p3e07cd01d5)\" d=\"M 675.854545 328.509145 \r\nL 696.990909 328.509145 \r\nL 696.990909 328.509145 \r\nL 675.854545 328.509145 \r\nz\r\n\" style=\"fill:#1f77b4;\"/>\r\n   </g>\r\n   <g id=\"patch_80\">\r\n    <path clip-path=\"url(#p3e07cd01d5)\" d=\"M 696.990909 328.509145 \r\nL 718.127273 328.509145 \r\nL 718.127273 328.509145 \r\nL 696.990909 328.509145 \r\nz\r\n\" style=\"fill:#1f77b4;\"/>\r\n   </g>\r\n   <g id=\"patch_81\">\r\n    <path clip-path=\"url(#p3e07cd01d5)\" d=\"M 718.127273 328.509145 \r\nL 739.263636 328.509145 \r\nL 739.263636 328.509145 \r\nL 718.127273 328.509145 \r\nz\r\n\" style=\"fill:#1f77b4;\"/>\r\n   </g>\r\n   <g id=\"patch_82\">\r\n    <path clip-path=\"url(#p3e07cd01d5)\" d=\"M 739.263636 328.509145 \r\nL 760.4 328.509145 \r\nL 760.4 328.509145 \r\nL 739.263636 328.509145 \r\nz\r\n\" style=\"fill:#1f77b4;\"/>\r\n   </g>\r\n   <g id=\"patch_83\">\r\n    <path clip-path=\"url(#p3e07cd01d5)\" d=\"M 760.4 328.509145 \r\nL 781.536364 328.509145 \r\nL 781.536364 328.509145 \r\nL 760.4 328.509145 \r\nz\r\n\" style=\"fill:#1f77b4;\"/>\r\n   </g>\r\n   <g id=\"patch_84\">\r\n    <path clip-path=\"url(#p3e07cd01d5)\" d=\"M 781.536364 328.509145 \r\nL 802.672727 328.509145 \r\nL 802.672727 328.509145 \r\nL 781.536364 328.509145 \r\nz\r\n\" style=\"fill:#1f77b4;\"/>\r\n   </g>\r\n   <g id=\"patch_85\">\r\n    <path clip-path=\"url(#p3e07cd01d5)\" d=\"M 802.672727 328.509145 \r\nL 823.809091 328.509145 \r\nL 823.809091 328.509145 \r\nL 802.672727 328.509145 \r\nz\r\n\" style=\"fill:#1f77b4;\"/>\r\n   </g>\r\n   <g id=\"patch_86\">\r\n    <path clip-path=\"url(#p3e07cd01d5)\" d=\"M 823.809091 328.509145 \r\nL 844.945455 328.509145 \r\nL 844.945455 328.509145 \r\nL 823.809091 328.509145 \r\nz\r\n\" style=\"fill:#1f77b4;\"/>\r\n   </g>\r\n   <g id=\"patch_87\">\r\n    <path clip-path=\"url(#p3e07cd01d5)\" d=\"M 844.945455 328.509145 \r\nL 866.081818 328.509145 \r\nL 866.081818 320.334303 \r\nL 844.945455 320.334303 \r\nz\r\n\" style=\"fill:#1f77b4;\"/>\r\n   </g>\r\n   <g id=\"matplotlib.axis_11\">\r\n    <g id=\"xtick_30\">\r\n     <g id=\"line2d_107\">\r\n      <path clip-path=\"url(#p3e07cd01d5)\" d=\"M 654.718182 328.509145 \r\nL 654.718182 195.382615 \r\n\" style=\"fill:none;stroke:#b0b0b0;stroke-linecap:square;stroke-width:0.8;\"/>\r\n     </g>\r\n     <g id=\"line2d_108\">\r\n      <g>\r\n       <use style=\"stroke:#000000;stroke-width:0.8;\" x=\"654.718182\" xlink:href=\"#m2f43a095d0\" y=\"328.509145\"/>\r\n      </g>\r\n     </g>\r\n     <g id=\"text_59\">\r\n      <!-- 0.0 -->\r\n      <g transform=\"translate(646.766619 343.107583)scale(0.1 -0.1)\">\r\n       <use xlink:href=\"#DejaVuSans-30\"/>\r\n       <use x=\"63.623047\" xlink:href=\"#DejaVuSans-2e\"/>\r\n       <use x=\"95.410156\" xlink:href=\"#DejaVuSans-30\"/>\r\n      </g>\r\n     </g>\r\n    </g>\r\n    <g id=\"xtick_31\">\r\n     <g id=\"line2d_109\">\r\n      <path clip-path=\"url(#p3e07cd01d5)\" d=\"M 696.990909 328.509145 \r\nL 696.990909 195.382615 \r\n\" style=\"fill:none;stroke:#b0b0b0;stroke-linecap:square;stroke-width:0.8;\"/>\r\n     </g>\r\n     <g id=\"line2d_110\">\r\n      <g>\r\n       <use style=\"stroke:#000000;stroke-width:0.8;\" x=\"696.990909\" xlink:href=\"#m2f43a095d0\" y=\"328.509145\"/>\r\n      </g>\r\n     </g>\r\n     <g id=\"text_60\">\r\n      <!-- 0.2 -->\r\n      <g transform=\"translate(689.039347 343.107583)scale(0.1 -0.1)\">\r\n       <use xlink:href=\"#DejaVuSans-30\"/>\r\n       <use x=\"63.623047\" xlink:href=\"#DejaVuSans-2e\"/>\r\n       <use x=\"95.410156\" xlink:href=\"#DejaVuSans-32\"/>\r\n      </g>\r\n     </g>\r\n    </g>\r\n    <g id=\"xtick_32\">\r\n     <g id=\"line2d_111\">\r\n      <path clip-path=\"url(#p3e07cd01d5)\" d=\"M 739.263636 328.509145 \r\nL 739.263636 195.382615 \r\n\" style=\"fill:none;stroke:#b0b0b0;stroke-linecap:square;stroke-width:0.8;\"/>\r\n     </g>\r\n     <g id=\"line2d_112\">\r\n      <g>\r\n       <use style=\"stroke:#000000;stroke-width:0.8;\" x=\"739.263636\" xlink:href=\"#m2f43a095d0\" y=\"328.509145\"/>\r\n      </g>\r\n     </g>\r\n     <g id=\"text_61\">\r\n      <!-- 0.4 -->\r\n      <g transform=\"translate(731.312074 343.107583)scale(0.1 -0.1)\">\r\n       <use xlink:href=\"#DejaVuSans-30\"/>\r\n       <use x=\"63.623047\" xlink:href=\"#DejaVuSans-2e\"/>\r\n       <use x=\"95.410156\" xlink:href=\"#DejaVuSans-34\"/>\r\n      </g>\r\n     </g>\r\n    </g>\r\n    <g id=\"xtick_33\">\r\n     <g id=\"line2d_113\">\r\n      <path clip-path=\"url(#p3e07cd01d5)\" d=\"M 781.536364 328.509145 \r\nL 781.536364 195.382615 \r\n\" style=\"fill:none;stroke:#b0b0b0;stroke-linecap:square;stroke-width:0.8;\"/>\r\n     </g>\r\n     <g id=\"line2d_114\">\r\n      <g>\r\n       <use style=\"stroke:#000000;stroke-width:0.8;\" x=\"781.536364\" xlink:href=\"#m2f43a095d0\" y=\"328.509145\"/>\r\n      </g>\r\n     </g>\r\n     <g id=\"text_62\">\r\n      <!-- 0.6 -->\r\n      <g transform=\"translate(773.584801 343.107583)scale(0.1 -0.1)\">\r\n       <use xlink:href=\"#DejaVuSans-30\"/>\r\n       <use x=\"63.623047\" xlink:href=\"#DejaVuSans-2e\"/>\r\n       <use x=\"95.410156\" xlink:href=\"#DejaVuSans-36\"/>\r\n      </g>\r\n     </g>\r\n    </g>\r\n    <g id=\"xtick_34\">\r\n     <g id=\"line2d_115\">\r\n      <path clip-path=\"url(#p3e07cd01d5)\" d=\"M 823.809091 328.509145 \r\nL 823.809091 195.382615 \r\n\" style=\"fill:none;stroke:#b0b0b0;stroke-linecap:square;stroke-width:0.8;\"/>\r\n     </g>\r\n     <g id=\"line2d_116\">\r\n      <g>\r\n       <use style=\"stroke:#000000;stroke-width:0.8;\" x=\"823.809091\" xlink:href=\"#m2f43a095d0\" y=\"328.509145\"/>\r\n      </g>\r\n     </g>\r\n     <g id=\"text_63\">\r\n      <!-- 0.8 -->\r\n      <g transform=\"translate(815.857528 343.107583)scale(0.1 -0.1)\">\r\n       <use xlink:href=\"#DejaVuSans-30\"/>\r\n       <use x=\"63.623047\" xlink:href=\"#DejaVuSans-2e\"/>\r\n       <use x=\"95.410156\" xlink:href=\"#DejaVuSans-38\"/>\r\n      </g>\r\n     </g>\r\n    </g>\r\n    <g id=\"xtick_35\">\r\n     <g id=\"line2d_117\">\r\n      <path clip-path=\"url(#p3e07cd01d5)\" d=\"M 866.081818 328.509145 \r\nL 866.081818 195.382615 \r\n\" style=\"fill:none;stroke:#b0b0b0;stroke-linecap:square;stroke-width:0.8;\"/>\r\n     </g>\r\n     <g id=\"line2d_118\">\r\n      <g>\r\n       <use style=\"stroke:#000000;stroke-width:0.8;\" x=\"866.081818\" xlink:href=\"#m2f43a095d0\" y=\"328.509145\"/>\r\n      </g>\r\n     </g>\r\n     <g id=\"text_64\">\r\n      <!-- 1.0 -->\r\n      <g transform=\"translate(858.130256 343.107583)scale(0.1 -0.1)\">\r\n       <use xlink:href=\"#DejaVuSans-31\"/>\r\n       <use x=\"63.623047\" xlink:href=\"#DejaVuSans-2e\"/>\r\n       <use x=\"95.410156\" xlink:href=\"#DejaVuSans-30\"/>\r\n      </g>\r\n     </g>\r\n    </g>\r\n   </g>\r\n   <g id=\"matplotlib.axis_12\">\r\n    <g id=\"ytick_25\">\r\n     <g id=\"line2d_119\">\r\n      <path clip-path=\"url(#p3e07cd01d5)\" d=\"M 644.15 328.509145 \r\nL 876.65 328.509145 \r\n\" style=\"fill:none;stroke:#b0b0b0;stroke-linecap:square;stroke-width:0.8;\"/>\r\n     </g>\r\n     <g id=\"line2d_120\">\r\n      <g>\r\n       <use style=\"stroke:#000000;stroke-width:0.8;\" x=\"644.15\" xlink:href=\"#m86550c65fa\" y=\"328.509145\"/>\r\n      </g>\r\n     </g>\r\n     <g id=\"text_65\">\r\n      <!-- 0 -->\r\n      <g transform=\"translate(630.7875 332.308364)scale(0.1 -0.1)\">\r\n       <use xlink:href=\"#DejaVuSans-30\"/>\r\n      </g>\r\n     </g>\r\n    </g>\r\n    <g id=\"ytick_26\">\r\n     <g id=\"line2d_121\">\r\n      <path clip-path=\"url(#p3e07cd01d5)\" d=\"M 644.15 289.94857 \r\nL 876.65 289.94857 \r\n\" style=\"fill:none;stroke:#b0b0b0;stroke-linecap:square;stroke-width:0.8;\"/>\r\n     </g>\r\n     <g id=\"line2d_122\">\r\n      <g>\r\n       <use style=\"stroke:#000000;stroke-width:0.8;\" x=\"644.15\" xlink:href=\"#m86550c65fa\" y=\"289.94857\"/>\r\n      </g>\r\n     </g>\r\n     <g id=\"text_66\">\r\n      <!-- 1000 -->\r\n      <g transform=\"translate(611.7 293.747789)scale(0.1 -0.1)\">\r\n       <use xlink:href=\"#DejaVuSans-31\"/>\r\n       <use x=\"63.623047\" xlink:href=\"#DejaVuSans-30\"/>\r\n       <use x=\"127.246094\" xlink:href=\"#DejaVuSans-30\"/>\r\n       <use x=\"190.869141\" xlink:href=\"#DejaVuSans-30\"/>\r\n      </g>\r\n     </g>\r\n    </g>\r\n    <g id=\"ytick_27\">\r\n     <g id=\"line2d_123\">\r\n      <path clip-path=\"url(#p3e07cd01d5)\" d=\"M 644.15 251.387995 \r\nL 876.65 251.387995 \r\n\" style=\"fill:none;stroke:#b0b0b0;stroke-linecap:square;stroke-width:0.8;\"/>\r\n     </g>\r\n     <g id=\"line2d_124\">\r\n      <g>\r\n       <use style=\"stroke:#000000;stroke-width:0.8;\" x=\"644.15\" xlink:href=\"#m86550c65fa\" y=\"251.387995\"/>\r\n      </g>\r\n     </g>\r\n     <g id=\"text_67\">\r\n      <!-- 2000 -->\r\n      <g transform=\"translate(611.7 255.187213)scale(0.1 -0.1)\">\r\n       <use xlink:href=\"#DejaVuSans-32\"/>\r\n       <use x=\"63.623047\" xlink:href=\"#DejaVuSans-30\"/>\r\n       <use x=\"127.246094\" xlink:href=\"#DejaVuSans-30\"/>\r\n       <use x=\"190.869141\" xlink:href=\"#DejaVuSans-30\"/>\r\n      </g>\r\n     </g>\r\n    </g>\r\n    <g id=\"ytick_28\">\r\n     <g id=\"line2d_125\">\r\n      <path clip-path=\"url(#p3e07cd01d5)\" d=\"M 644.15 212.827419 \r\nL 876.65 212.827419 \r\n\" style=\"fill:none;stroke:#b0b0b0;stroke-linecap:square;stroke-width:0.8;\"/>\r\n     </g>\r\n     <g id=\"line2d_126\">\r\n      <g>\r\n       <use style=\"stroke:#000000;stroke-width:0.8;\" x=\"644.15\" xlink:href=\"#m86550c65fa\" y=\"212.827419\"/>\r\n      </g>\r\n     </g>\r\n     <g id=\"text_68\">\r\n      <!-- 3000 -->\r\n      <g transform=\"translate(611.7 216.626638)scale(0.1 -0.1)\">\r\n       <use xlink:href=\"#DejaVuSans-33\"/>\r\n       <use x=\"63.623047\" xlink:href=\"#DejaVuSans-30\"/>\r\n       <use x=\"127.246094\" xlink:href=\"#DejaVuSans-30\"/>\r\n       <use x=\"190.869141\" xlink:href=\"#DejaVuSans-30\"/>\r\n      </g>\r\n     </g>\r\n    </g>\r\n   </g>\r\n   <g id=\"patch_88\">\r\n    <path d=\"M 644.15 328.509145 \r\nL 644.15 195.382615 \r\n\" style=\"fill:none;stroke:#000000;stroke-linecap:square;stroke-linejoin:miter;stroke-width:0.8;\"/>\r\n   </g>\r\n   <g id=\"patch_89\">\r\n    <path d=\"M 876.65 328.509145 \r\nL 876.65 195.382615 \r\n\" style=\"fill:none;stroke:#000000;stroke-linecap:square;stroke-linejoin:miter;stroke-width:0.8;\"/>\r\n   </g>\r\n   <g id=\"patch_90\">\r\n    <path d=\"M 644.15 328.509145 \r\nL 876.65 328.509145 \r\n\" style=\"fill:none;stroke:#000000;stroke-linecap:square;stroke-linejoin:miter;stroke-width:0.8;\"/>\r\n   </g>\r\n   <g id=\"patch_91\">\r\n    <path d=\"M 644.15 195.382615 \r\nL 876.65 195.382615 \r\n\" style=\"fill:none;stroke:#000000;stroke-linecap:square;stroke-linejoin:miter;stroke-width:0.8;\"/>\r\n   </g>\r\n   <g id=\"text_69\">\r\n    <!-- C -->\r\n    <g transform=\"translate(756.210312 189.382615)scale(0.12 -0.12)\">\r\n     <defs>\r\n      <path d=\"M 4122 4306 \r\nL 4122 3641 \r\nQ 3803 3938 3442 4084 \r\nQ 3081 4231 2675 4231 \r\nQ 1875 4231 1450 3742 \r\nQ 1025 3253 1025 2328 \r\nQ 1025 1406 1450 917 \r\nQ 1875 428 2675 428 \r\nQ 3081 428 3442 575 \r\nQ 3803 722 4122 1019 \r\nL 4122 359 \r\nQ 3791 134 3420 21 \r\nQ 3050 -91 2638 -91 \r\nQ 1578 -91 968 557 \r\nQ 359 1206 359 2328 \r\nQ 359 3453 968 4101 \r\nQ 1578 4750 2638 4750 \r\nQ 3056 4750 3426 4639 \r\nQ 3797 4528 4122 4306 \r\nz\r\n\" id=\"DejaVuSans-43\" transform=\"scale(0.015625)\"/>\r\n     </defs>\r\n     <use xlink:href=\"#DejaVuSans-43\"/>\r\n    </g>\r\n   </g>\r\n  </g>\r\n  <g id=\"axes_7\">\r\n   <g id=\"patch_92\">\r\n    <path d=\"M 39.65 501.573635 \r\nL 272.15 501.573635 \r\nL 272.15 368.447105 \r\nL 39.65 368.447105 \r\nz\r\n\" style=\"fill:#ffffff;\"/>\r\n   </g>\r\n   <g id=\"patch_93\">\r\n    <path clip-path=\"url(#p66470c8d41)\" d=\"M 50.218182 501.573635 \r\nL 71.354545 501.573635 \r\nL 71.354545 374.786463 \r\nL 50.218182 374.786463 \r\nz\r\n\" style=\"fill:#1f77b4;\"/>\r\n   </g>\r\n   <g id=\"patch_94\">\r\n    <path clip-path=\"url(#p66470c8d41)\" d=\"M 71.354545 501.573635 \r\nL 92.490909 501.573635 \r\nL 92.490909 501.573635 \r\nL 71.354545 501.573635 \r\nz\r\n\" style=\"fill:#1f77b4;\"/>\r\n   </g>\r\n   <g id=\"patch_95\">\r\n    <path clip-path=\"url(#p66470c8d41)\" d=\"M 92.490909 501.573635 \r\nL 113.627273 501.573635 \r\nL 113.627273 501.573635 \r\nL 92.490909 501.573635 \r\nz\r\n\" style=\"fill:#1f77b4;\"/>\r\n   </g>\r\n   <g id=\"patch_96\">\r\n    <path clip-path=\"url(#p66470c8d41)\" d=\"M 113.627273 501.573635 \r\nL 134.763636 501.573635 \r\nL 134.763636 501.573635 \r\nL 113.627273 501.573635 \r\nz\r\n\" style=\"fill:#1f77b4;\"/>\r\n   </g>\r\n   <g id=\"patch_97\">\r\n    <path clip-path=\"url(#p66470c8d41)\" d=\"M 134.763636 501.573635 \r\nL 155.9 501.573635 \r\nL 155.9 501.573635 \r\nL 134.763636 501.573635 \r\nz\r\n\" style=\"fill:#1f77b4;\"/>\r\n   </g>\r\n   <g id=\"patch_98\">\r\n    <path clip-path=\"url(#p66470c8d41)\" d=\"M 155.9 501.573635 \r\nL 177.036364 501.573635 \r\nL 177.036364 501.573635 \r\nL 155.9 501.573635 \r\nz\r\n\" style=\"fill:#1f77b4;\"/>\r\n   </g>\r\n   <g id=\"patch_99\">\r\n    <path clip-path=\"url(#p66470c8d41)\" d=\"M 177.036364 501.573635 \r\nL 198.172727 501.573635 \r\nL 198.172727 501.573635 \r\nL 177.036364 501.573635 \r\nz\r\n\" style=\"fill:#1f77b4;\"/>\r\n   </g>\r\n   <g id=\"patch_100\">\r\n    <path clip-path=\"url(#p66470c8d41)\" d=\"M 198.172727 501.573635 \r\nL 219.309091 501.573635 \r\nL 219.309091 501.573635 \r\nL 198.172727 501.573635 \r\nz\r\n\" style=\"fill:#1f77b4;\"/>\r\n   </g>\r\n   <g id=\"patch_101\">\r\n    <path clip-path=\"url(#p66470c8d41)\" d=\"M 219.309091 501.573635 \r\nL 240.445455 501.573635 \r\nL 240.445455 501.573635 \r\nL 219.309091 501.573635 \r\nz\r\n\" style=\"fill:#1f77b4;\"/>\r\n   </g>\r\n   <g id=\"patch_102\">\r\n    <path clip-path=\"url(#p66470c8d41)\" d=\"M 240.445455 501.573635 \r\nL 261.581818 501.573635 \r\nL 261.581818 495.340693 \r\nL 240.445455 495.340693 \r\nz\r\n\" style=\"fill:#1f77b4;\"/>\r\n   </g>\r\n   <g id=\"matplotlib.axis_13\">\r\n    <g id=\"xtick_36\">\r\n     <g id=\"line2d_127\">\r\n      <path clip-path=\"url(#p66470c8d41)\" d=\"M 50.218182 501.573635 \r\nL 50.218182 368.447105 \r\n\" style=\"fill:none;stroke:#b0b0b0;stroke-linecap:square;stroke-width:0.8;\"/>\r\n     </g>\r\n     <g id=\"line2d_128\">\r\n      <g>\r\n       <use style=\"stroke:#000000;stroke-width:0.8;\" x=\"50.218182\" xlink:href=\"#m2f43a095d0\" y=\"501.573635\"/>\r\n      </g>\r\n     </g>\r\n     <g id=\"text_70\">\r\n      <!-- 0.0 -->\r\n      <g transform=\"translate(42.266619 516.172073)scale(0.1 -0.1)\">\r\n       <use xlink:href=\"#DejaVuSans-30\"/>\r\n       <use x=\"63.623047\" xlink:href=\"#DejaVuSans-2e\"/>\r\n       <use x=\"95.410156\" xlink:href=\"#DejaVuSans-30\"/>\r\n      </g>\r\n     </g>\r\n    </g>\r\n    <g id=\"xtick_37\">\r\n     <g id=\"line2d_129\">\r\n      <path clip-path=\"url(#p66470c8d41)\" d=\"M 92.490909 501.573635 \r\nL 92.490909 368.447105 \r\n\" style=\"fill:none;stroke:#b0b0b0;stroke-linecap:square;stroke-width:0.8;\"/>\r\n     </g>\r\n     <g id=\"line2d_130\">\r\n      <g>\r\n       <use style=\"stroke:#000000;stroke-width:0.8;\" x=\"92.490909\" xlink:href=\"#m2f43a095d0\" y=\"501.573635\"/>\r\n      </g>\r\n     </g>\r\n     <g id=\"text_71\">\r\n      <!-- 0.2 -->\r\n      <g transform=\"translate(84.539347 516.172073)scale(0.1 -0.1)\">\r\n       <use xlink:href=\"#DejaVuSans-30\"/>\r\n       <use x=\"63.623047\" xlink:href=\"#DejaVuSans-2e\"/>\r\n       <use x=\"95.410156\" xlink:href=\"#DejaVuSans-32\"/>\r\n      </g>\r\n     </g>\r\n    </g>\r\n    <g id=\"xtick_38\">\r\n     <g id=\"line2d_131\">\r\n      <path clip-path=\"url(#p66470c8d41)\" d=\"M 134.763636 501.573635 \r\nL 134.763636 368.447105 \r\n\" style=\"fill:none;stroke:#b0b0b0;stroke-linecap:square;stroke-width:0.8;\"/>\r\n     </g>\r\n     <g id=\"line2d_132\">\r\n      <g>\r\n       <use style=\"stroke:#000000;stroke-width:0.8;\" x=\"134.763636\" xlink:href=\"#m2f43a095d0\" y=\"501.573635\"/>\r\n      </g>\r\n     </g>\r\n     <g id=\"text_72\">\r\n      <!-- 0.4 -->\r\n      <g transform=\"translate(126.812074 516.172073)scale(0.1 -0.1)\">\r\n       <use xlink:href=\"#DejaVuSans-30\"/>\r\n       <use x=\"63.623047\" xlink:href=\"#DejaVuSans-2e\"/>\r\n       <use x=\"95.410156\" xlink:href=\"#DejaVuSans-34\"/>\r\n      </g>\r\n     </g>\r\n    </g>\r\n    <g id=\"xtick_39\">\r\n     <g id=\"line2d_133\">\r\n      <path clip-path=\"url(#p66470c8d41)\" d=\"M 177.036364 501.573635 \r\nL 177.036364 368.447105 \r\n\" style=\"fill:none;stroke:#b0b0b0;stroke-linecap:square;stroke-width:0.8;\"/>\r\n     </g>\r\n     <g id=\"line2d_134\">\r\n      <g>\r\n       <use style=\"stroke:#000000;stroke-width:0.8;\" x=\"177.036364\" xlink:href=\"#m2f43a095d0\" y=\"501.573635\"/>\r\n      </g>\r\n     </g>\r\n     <g id=\"text_73\">\r\n      <!-- 0.6 -->\r\n      <g transform=\"translate(169.084801 516.172073)scale(0.1 -0.1)\">\r\n       <use xlink:href=\"#DejaVuSans-30\"/>\r\n       <use x=\"63.623047\" xlink:href=\"#DejaVuSans-2e\"/>\r\n       <use x=\"95.410156\" xlink:href=\"#DejaVuSans-36\"/>\r\n      </g>\r\n     </g>\r\n    </g>\r\n    <g id=\"xtick_40\">\r\n     <g id=\"line2d_135\">\r\n      <path clip-path=\"url(#p66470c8d41)\" d=\"M 219.309091 501.573635 \r\nL 219.309091 368.447105 \r\n\" style=\"fill:none;stroke:#b0b0b0;stroke-linecap:square;stroke-width:0.8;\"/>\r\n     </g>\r\n     <g id=\"line2d_136\">\r\n      <g>\r\n       <use style=\"stroke:#000000;stroke-width:0.8;\" x=\"219.309091\" xlink:href=\"#m2f43a095d0\" y=\"501.573635\"/>\r\n      </g>\r\n     </g>\r\n     <g id=\"text_74\">\r\n      <!-- 0.8 -->\r\n      <g transform=\"translate(211.357528 516.172073)scale(0.1 -0.1)\">\r\n       <use xlink:href=\"#DejaVuSans-30\"/>\r\n       <use x=\"63.623047\" xlink:href=\"#DejaVuSans-2e\"/>\r\n       <use x=\"95.410156\" xlink:href=\"#DejaVuSans-38\"/>\r\n      </g>\r\n     </g>\r\n    </g>\r\n    <g id=\"xtick_41\">\r\n     <g id=\"line2d_137\">\r\n      <path clip-path=\"url(#p66470c8d41)\" d=\"M 261.581818 501.573635 \r\nL 261.581818 368.447105 \r\n\" style=\"fill:none;stroke:#b0b0b0;stroke-linecap:square;stroke-width:0.8;\"/>\r\n     </g>\r\n     <g id=\"line2d_138\">\r\n      <g>\r\n       <use style=\"stroke:#000000;stroke-width:0.8;\" x=\"261.581818\" xlink:href=\"#m2f43a095d0\" y=\"501.573635\"/>\r\n      </g>\r\n     </g>\r\n     <g id=\"text_75\">\r\n      <!-- 1.0 -->\r\n      <g transform=\"translate(253.630256 516.172073)scale(0.1 -0.1)\">\r\n       <use xlink:href=\"#DejaVuSans-31\"/>\r\n       <use x=\"63.623047\" xlink:href=\"#DejaVuSans-2e\"/>\r\n       <use x=\"95.410156\" xlink:href=\"#DejaVuSans-30\"/>\r\n      </g>\r\n     </g>\r\n    </g>\r\n   </g>\r\n   <g id=\"matplotlib.axis_14\">\r\n    <g id=\"ytick_29\">\r\n     <g id=\"line2d_139\">\r\n      <path clip-path=\"url(#p66470c8d41)\" d=\"M 39.65 501.573635 \r\nL 272.15 501.573635 \r\n\" style=\"fill:none;stroke:#b0b0b0;stroke-linecap:square;stroke-width:0.8;\"/>\r\n     </g>\r\n     <g id=\"line2d_140\">\r\n      <g>\r\n       <use style=\"stroke:#000000;stroke-width:0.8;\" x=\"39.65\" xlink:href=\"#m86550c65fa\" y=\"501.573635\"/>\r\n      </g>\r\n     </g>\r\n     <g id=\"text_76\">\r\n      <!-- 0 -->\r\n      <g transform=\"translate(26.2875 505.372854)scale(0.1 -0.1)\">\r\n       <use xlink:href=\"#DejaVuSans-30\"/>\r\n      </g>\r\n     </g>\r\n    </g>\r\n    <g id=\"ytick_30\">\r\n     <g id=\"line2d_141\">\r\n      <path clip-path=\"url(#p66470c8d41)\" d=\"M 39.65 463.567888 \r\nL 272.15 463.567888 \r\n\" style=\"fill:none;stroke:#b0b0b0;stroke-linecap:square;stroke-width:0.8;\"/>\r\n     </g>\r\n     <g id=\"line2d_142\">\r\n      <g>\r\n       <use style=\"stroke:#000000;stroke-width:0.8;\" x=\"39.65\" xlink:href=\"#m86550c65fa\" y=\"463.567888\"/>\r\n      </g>\r\n     </g>\r\n     <g id=\"text_77\">\r\n      <!-- 1000 -->\r\n      <g transform=\"translate(7.2 467.367107)scale(0.1 -0.1)\">\r\n       <use xlink:href=\"#DejaVuSans-31\"/>\r\n       <use x=\"63.623047\" xlink:href=\"#DejaVuSans-30\"/>\r\n       <use x=\"127.246094\" xlink:href=\"#DejaVuSans-30\"/>\r\n       <use x=\"190.869141\" xlink:href=\"#DejaVuSans-30\"/>\r\n      </g>\r\n     </g>\r\n    </g>\r\n    <g id=\"ytick_31\">\r\n     <g id=\"line2d_143\">\r\n      <path clip-path=\"url(#p66470c8d41)\" d=\"M 39.65 425.562141 \r\nL 272.15 425.562141 \r\n\" style=\"fill:none;stroke:#b0b0b0;stroke-linecap:square;stroke-width:0.8;\"/>\r\n     </g>\r\n     <g id=\"line2d_144\">\r\n      <g>\r\n       <use style=\"stroke:#000000;stroke-width:0.8;\" x=\"39.65\" xlink:href=\"#m86550c65fa\" y=\"425.562141\"/>\r\n      </g>\r\n     </g>\r\n     <g id=\"text_78\">\r\n      <!-- 2000 -->\r\n      <g transform=\"translate(7.2 429.36136)scale(0.1 -0.1)\">\r\n       <use xlink:href=\"#DejaVuSans-32\"/>\r\n       <use x=\"63.623047\" xlink:href=\"#DejaVuSans-30\"/>\r\n       <use x=\"127.246094\" xlink:href=\"#DejaVuSans-30\"/>\r\n       <use x=\"190.869141\" xlink:href=\"#DejaVuSans-30\"/>\r\n      </g>\r\n     </g>\r\n    </g>\r\n    <g id=\"ytick_32\">\r\n     <g id=\"line2d_145\">\r\n      <path clip-path=\"url(#p66470c8d41)\" d=\"M 39.65 387.556394 \r\nL 272.15 387.556394 \r\n\" style=\"fill:none;stroke:#b0b0b0;stroke-linecap:square;stroke-width:0.8;\"/>\r\n     </g>\r\n     <g id=\"line2d_146\">\r\n      <g>\r\n       <use style=\"stroke:#000000;stroke-width:0.8;\" x=\"39.65\" xlink:href=\"#m86550c65fa\" y=\"387.556394\"/>\r\n      </g>\r\n     </g>\r\n     <g id=\"text_79\">\r\n      <!-- 3000 -->\r\n      <g transform=\"translate(7.2 391.355613)scale(0.1 -0.1)\">\r\n       <use xlink:href=\"#DejaVuSans-33\"/>\r\n       <use x=\"63.623047\" xlink:href=\"#DejaVuSans-30\"/>\r\n       <use x=\"127.246094\" xlink:href=\"#DejaVuSans-30\"/>\r\n       <use x=\"190.869141\" xlink:href=\"#DejaVuSans-30\"/>\r\n      </g>\r\n     </g>\r\n    </g>\r\n   </g>\r\n   <g id=\"patch_103\">\r\n    <path d=\"M 39.65 501.573635 \r\nL 39.65 368.447105 \r\n\" style=\"fill:none;stroke:#000000;stroke-linecap:square;stroke-linejoin:miter;stroke-width:0.8;\"/>\r\n   </g>\r\n   <g id=\"patch_104\">\r\n    <path d=\"M 272.15 501.573635 \r\nL 272.15 368.447105 \r\n\" style=\"fill:none;stroke:#000000;stroke-linecap:square;stroke-linejoin:miter;stroke-width:0.8;\"/>\r\n   </g>\r\n   <g id=\"patch_105\">\r\n    <path d=\"M 39.65 501.573635 \r\nL 272.15 501.573635 \r\n\" style=\"fill:none;stroke:#000000;stroke-linecap:square;stroke-linejoin:miter;stroke-width:0.8;\"/>\r\n   </g>\r\n   <g id=\"patch_106\">\r\n    <path d=\"M 39.65 368.447105 \r\nL 272.15 368.447105 \r\n\" style=\"fill:none;stroke:#000000;stroke-linecap:square;stroke-linejoin:miter;stroke-width:0.8;\"/>\r\n   </g>\r\n   <g id=\"text_80\">\r\n    <!-- A -->\r\n    <g transform=\"translate(151.795625 362.447105)scale(0.12 -0.12)\">\r\n     <use xlink:href=\"#DejaVuSans-41\"/>\r\n    </g>\r\n   </g>\r\n  </g>\r\n  <g id=\"axes_8\">\r\n   <g id=\"patch_107\">\r\n    <path d=\"M 341.9 501.573635 \r\nL 574.4 501.573635 \r\nL 574.4 368.447105 \r\nL 341.9 368.447105 \r\nz\r\n\" style=\"fill:#ffffff;\"/>\r\n   </g>\r\n   <g id=\"patch_108\">\r\n    <path clip-path=\"url(#p479738e30b)\" d=\"M 352.468182 501.573635 \r\nL 373.604545 501.573635 \r\nL 373.604545 374.786463 \r\nL 352.468182 374.786463 \r\nz\r\n\" style=\"fill:#1f77b4;\"/>\r\n   </g>\r\n   <g id=\"patch_109\">\r\n    <path clip-path=\"url(#p479738e30b)\" d=\"M 373.604545 501.573635 \r\nL 394.740909 501.573635 \r\nL 394.740909 501.573635 \r\nL 373.604545 501.573635 \r\nz\r\n\" style=\"fill:#1f77b4;\"/>\r\n   </g>\r\n   <g id=\"patch_110\">\r\n    <path clip-path=\"url(#p479738e30b)\" d=\"M 394.740909 501.573635 \r\nL 415.877273 501.573635 \r\nL 415.877273 501.573635 \r\nL 394.740909 501.573635 \r\nz\r\n\" style=\"fill:#1f77b4;\"/>\r\n   </g>\r\n   <g id=\"patch_111\">\r\n    <path clip-path=\"url(#p479738e30b)\" d=\"M 415.877273 501.573635 \r\nL 437.013636 501.573635 \r\nL 437.013636 501.573635 \r\nL 415.877273 501.573635 \r\nz\r\n\" style=\"fill:#1f77b4;\"/>\r\n   </g>\r\n   <g id=\"patch_112\">\r\n    <path clip-path=\"url(#p479738e30b)\" d=\"M 437.013636 501.573635 \r\nL 458.15 501.573635 \r\nL 458.15 501.573635 \r\nL 437.013636 501.573635 \r\nz\r\n\" style=\"fill:#1f77b4;\"/>\r\n   </g>\r\n   <g id=\"patch_113\">\r\n    <path clip-path=\"url(#p479738e30b)\" d=\"M 458.15 501.573635 \r\nL 479.286364 501.573635 \r\nL 479.286364 501.573635 \r\nL 458.15 501.573635 \r\nz\r\n\" style=\"fill:#1f77b4;\"/>\r\n   </g>\r\n   <g id=\"patch_114\">\r\n    <path clip-path=\"url(#p479738e30b)\" d=\"M 479.286364 501.573635 \r\nL 500.422727 501.573635 \r\nL 500.422727 501.573635 \r\nL 479.286364 501.573635 \r\nz\r\n\" style=\"fill:#1f77b4;\"/>\r\n   </g>\r\n   <g id=\"patch_115\">\r\n    <path clip-path=\"url(#p479738e30b)\" d=\"M 500.422727 501.573635 \r\nL 521.559091 501.573635 \r\nL 521.559091 501.573635 \r\nL 500.422727 501.573635 \r\nz\r\n\" style=\"fill:#1f77b4;\"/>\r\n   </g>\r\n   <g id=\"patch_116\">\r\n    <path clip-path=\"url(#p479738e30b)\" d=\"M 521.559091 501.573635 \r\nL 542.695455 501.573635 \r\nL 542.695455 501.573635 \r\nL 521.559091 501.573635 \r\nz\r\n\" style=\"fill:#1f77b4;\"/>\r\n   </g>\r\n   <g id=\"patch_117\">\r\n    <path clip-path=\"url(#p479738e30b)\" d=\"M 542.695455 501.573635 \r\nL 563.831818 501.573635 \r\nL 563.831818 497.729338 \r\nL 542.695455 497.729338 \r\nz\r\n\" style=\"fill:#1f77b4;\"/>\r\n   </g>\r\n   <g id=\"matplotlib.axis_15\">\r\n    <g id=\"xtick_42\">\r\n     <g id=\"line2d_147\">\r\n      <path clip-path=\"url(#p479738e30b)\" d=\"M 352.468182 501.573635 \r\nL 352.468182 368.447105 \r\n\" style=\"fill:none;stroke:#b0b0b0;stroke-linecap:square;stroke-width:0.8;\"/>\r\n     </g>\r\n     <g id=\"line2d_148\">\r\n      <g>\r\n       <use style=\"stroke:#000000;stroke-width:0.8;\" x=\"352.468182\" xlink:href=\"#m2f43a095d0\" y=\"501.573635\"/>\r\n      </g>\r\n     </g>\r\n     <g id=\"text_81\">\r\n      <!-- 0.0 -->\r\n      <g transform=\"translate(344.516619 516.172073)scale(0.1 -0.1)\">\r\n       <use xlink:href=\"#DejaVuSans-30\"/>\r\n       <use x=\"63.623047\" xlink:href=\"#DejaVuSans-2e\"/>\r\n       <use x=\"95.410156\" xlink:href=\"#DejaVuSans-30\"/>\r\n      </g>\r\n     </g>\r\n    </g>\r\n    <g id=\"xtick_43\">\r\n     <g id=\"line2d_149\">\r\n      <path clip-path=\"url(#p479738e30b)\" d=\"M 394.740909 501.573635 \r\nL 394.740909 368.447105 \r\n\" style=\"fill:none;stroke:#b0b0b0;stroke-linecap:square;stroke-width:0.8;\"/>\r\n     </g>\r\n     <g id=\"line2d_150\">\r\n      <g>\r\n       <use style=\"stroke:#000000;stroke-width:0.8;\" x=\"394.740909\" xlink:href=\"#m2f43a095d0\" y=\"501.573635\"/>\r\n      </g>\r\n     </g>\r\n     <g id=\"text_82\">\r\n      <!-- 0.2 -->\r\n      <g transform=\"translate(386.789347 516.172073)scale(0.1 -0.1)\">\r\n       <use xlink:href=\"#DejaVuSans-30\"/>\r\n       <use x=\"63.623047\" xlink:href=\"#DejaVuSans-2e\"/>\r\n       <use x=\"95.410156\" xlink:href=\"#DejaVuSans-32\"/>\r\n      </g>\r\n     </g>\r\n    </g>\r\n    <g id=\"xtick_44\">\r\n     <g id=\"line2d_151\">\r\n      <path clip-path=\"url(#p479738e30b)\" d=\"M 437.013636 501.573635 \r\nL 437.013636 368.447105 \r\n\" style=\"fill:none;stroke:#b0b0b0;stroke-linecap:square;stroke-width:0.8;\"/>\r\n     </g>\r\n     <g id=\"line2d_152\">\r\n      <g>\r\n       <use style=\"stroke:#000000;stroke-width:0.8;\" x=\"437.013636\" xlink:href=\"#m2f43a095d0\" y=\"501.573635\"/>\r\n      </g>\r\n     </g>\r\n     <g id=\"text_83\">\r\n      <!-- 0.4 -->\r\n      <g transform=\"translate(429.062074 516.172073)scale(0.1 -0.1)\">\r\n       <use xlink:href=\"#DejaVuSans-30\"/>\r\n       <use x=\"63.623047\" xlink:href=\"#DejaVuSans-2e\"/>\r\n       <use x=\"95.410156\" xlink:href=\"#DejaVuSans-34\"/>\r\n      </g>\r\n     </g>\r\n    </g>\r\n    <g id=\"xtick_45\">\r\n     <g id=\"line2d_153\">\r\n      <path clip-path=\"url(#p479738e30b)\" d=\"M 479.286364 501.573635 \r\nL 479.286364 368.447105 \r\n\" style=\"fill:none;stroke:#b0b0b0;stroke-linecap:square;stroke-width:0.8;\"/>\r\n     </g>\r\n     <g id=\"line2d_154\">\r\n      <g>\r\n       <use style=\"stroke:#000000;stroke-width:0.8;\" x=\"479.286364\" xlink:href=\"#m2f43a095d0\" y=\"501.573635\"/>\r\n      </g>\r\n     </g>\r\n     <g id=\"text_84\">\r\n      <!-- 0.6 -->\r\n      <g transform=\"translate(471.334801 516.172073)scale(0.1 -0.1)\">\r\n       <use xlink:href=\"#DejaVuSans-30\"/>\r\n       <use x=\"63.623047\" xlink:href=\"#DejaVuSans-2e\"/>\r\n       <use x=\"95.410156\" xlink:href=\"#DejaVuSans-36\"/>\r\n      </g>\r\n     </g>\r\n    </g>\r\n    <g id=\"xtick_46\">\r\n     <g id=\"line2d_155\">\r\n      <path clip-path=\"url(#p479738e30b)\" d=\"M 521.559091 501.573635 \r\nL 521.559091 368.447105 \r\n\" style=\"fill:none;stroke:#b0b0b0;stroke-linecap:square;stroke-width:0.8;\"/>\r\n     </g>\r\n     <g id=\"line2d_156\">\r\n      <g>\r\n       <use style=\"stroke:#000000;stroke-width:0.8;\" x=\"521.559091\" xlink:href=\"#m2f43a095d0\" y=\"501.573635\"/>\r\n      </g>\r\n     </g>\r\n     <g id=\"text_85\">\r\n      <!-- 0.8 -->\r\n      <g transform=\"translate(513.607528 516.172073)scale(0.1 -0.1)\">\r\n       <use xlink:href=\"#DejaVuSans-30\"/>\r\n       <use x=\"63.623047\" xlink:href=\"#DejaVuSans-2e\"/>\r\n       <use x=\"95.410156\" xlink:href=\"#DejaVuSans-38\"/>\r\n      </g>\r\n     </g>\r\n    </g>\r\n    <g id=\"xtick_47\">\r\n     <g id=\"line2d_157\">\r\n      <path clip-path=\"url(#p479738e30b)\" d=\"M 563.831818 501.573635 \r\nL 563.831818 368.447105 \r\n\" style=\"fill:none;stroke:#b0b0b0;stroke-linecap:square;stroke-width:0.8;\"/>\r\n     </g>\r\n     <g id=\"line2d_158\">\r\n      <g>\r\n       <use style=\"stroke:#000000;stroke-width:0.8;\" x=\"563.831818\" xlink:href=\"#m2f43a095d0\" y=\"501.573635\"/>\r\n      </g>\r\n     </g>\r\n     <g id=\"text_86\">\r\n      <!-- 1.0 -->\r\n      <g transform=\"translate(555.880256 516.172073)scale(0.1 -0.1)\">\r\n       <use xlink:href=\"#DejaVuSans-31\"/>\r\n       <use x=\"63.623047\" xlink:href=\"#DejaVuSans-2e\"/>\r\n       <use x=\"95.410156\" xlink:href=\"#DejaVuSans-30\"/>\r\n      </g>\r\n     </g>\r\n    </g>\r\n   </g>\r\n   <g id=\"matplotlib.axis_16\">\r\n    <g id=\"ytick_33\">\r\n     <g id=\"line2d_159\">\r\n      <path clip-path=\"url(#p479738e30b)\" d=\"M 341.9 501.573635 \r\nL 574.4 501.573635 \r\n\" style=\"fill:none;stroke:#b0b0b0;stroke-linecap:square;stroke-width:0.8;\"/>\r\n     </g>\r\n     <g id=\"line2d_160\">\r\n      <g>\r\n       <use style=\"stroke:#000000;stroke-width:0.8;\" x=\"341.9\" xlink:href=\"#m86550c65fa\" y=\"501.573635\"/>\r\n      </g>\r\n     </g>\r\n     <g id=\"text_87\">\r\n      <!-- 0 -->\r\n      <g transform=\"translate(328.5375 505.372854)scale(0.1 -0.1)\">\r\n       <use xlink:href=\"#DejaVuSans-30\"/>\r\n      </g>\r\n     </g>\r\n    </g>\r\n    <g id=\"ytick_34\">\r\n     <g id=\"line2d_161\">\r\n      <path clip-path=\"url(#p479738e30b)\" d=\"M 341.9 464.250358 \r\nL 574.4 464.250358 \r\n\" style=\"fill:none;stroke:#b0b0b0;stroke-linecap:square;stroke-width:0.8;\"/>\r\n     </g>\r\n     <g id=\"line2d_162\">\r\n      <g>\r\n       <use style=\"stroke:#000000;stroke-width:0.8;\" x=\"341.9\" xlink:href=\"#m86550c65fa\" y=\"464.250358\"/>\r\n      </g>\r\n     </g>\r\n     <g id=\"text_88\">\r\n      <!-- 1000 -->\r\n      <g transform=\"translate(309.45 468.049577)scale(0.1 -0.1)\">\r\n       <use xlink:href=\"#DejaVuSans-31\"/>\r\n       <use x=\"63.623047\" xlink:href=\"#DejaVuSans-30\"/>\r\n       <use x=\"127.246094\" xlink:href=\"#DejaVuSans-30\"/>\r\n       <use x=\"190.869141\" xlink:href=\"#DejaVuSans-30\"/>\r\n      </g>\r\n     </g>\r\n    </g>\r\n    <g id=\"ytick_35\">\r\n     <g id=\"line2d_163\">\r\n      <path clip-path=\"url(#p479738e30b)\" d=\"M 341.9 426.927081 \r\nL 574.4 426.927081 \r\n\" style=\"fill:none;stroke:#b0b0b0;stroke-linecap:square;stroke-width:0.8;\"/>\r\n     </g>\r\n     <g id=\"line2d_164\">\r\n      <g>\r\n       <use style=\"stroke:#000000;stroke-width:0.8;\" x=\"341.9\" xlink:href=\"#m86550c65fa\" y=\"426.927081\"/>\r\n      </g>\r\n     </g>\r\n     <g id=\"text_89\">\r\n      <!-- 2000 -->\r\n      <g transform=\"translate(309.45 430.7263)scale(0.1 -0.1)\">\r\n       <use xlink:href=\"#DejaVuSans-32\"/>\r\n       <use x=\"63.623047\" xlink:href=\"#DejaVuSans-30\"/>\r\n       <use x=\"127.246094\" xlink:href=\"#DejaVuSans-30\"/>\r\n       <use x=\"190.869141\" xlink:href=\"#DejaVuSans-30\"/>\r\n      </g>\r\n     </g>\r\n    </g>\r\n    <g id=\"ytick_36\">\r\n     <g id=\"line2d_165\">\r\n      <path clip-path=\"url(#p479738e30b)\" d=\"M 341.9 389.603804 \r\nL 574.4 389.603804 \r\n\" style=\"fill:none;stroke:#b0b0b0;stroke-linecap:square;stroke-width:0.8;\"/>\r\n     </g>\r\n     <g id=\"line2d_166\">\r\n      <g>\r\n       <use style=\"stroke:#000000;stroke-width:0.8;\" x=\"341.9\" xlink:href=\"#m86550c65fa\" y=\"389.603804\"/>\r\n      </g>\r\n     </g>\r\n     <g id=\"text_90\">\r\n      <!-- 3000 -->\r\n      <g transform=\"translate(309.45 393.403023)scale(0.1 -0.1)\">\r\n       <use xlink:href=\"#DejaVuSans-33\"/>\r\n       <use x=\"63.623047\" xlink:href=\"#DejaVuSans-30\"/>\r\n       <use x=\"127.246094\" xlink:href=\"#DejaVuSans-30\"/>\r\n       <use x=\"190.869141\" xlink:href=\"#DejaVuSans-30\"/>\r\n      </g>\r\n     </g>\r\n    </g>\r\n   </g>\r\n   <g id=\"patch_118\">\r\n    <path d=\"M 341.9 501.573635 \r\nL 341.9 368.447105 \r\n\" style=\"fill:none;stroke:#000000;stroke-linecap:square;stroke-linejoin:miter;stroke-width:0.8;\"/>\r\n   </g>\r\n   <g id=\"patch_119\">\r\n    <path d=\"M 574.4 501.573635 \r\nL 574.4 368.447105 \r\n\" style=\"fill:none;stroke:#000000;stroke-linecap:square;stroke-linejoin:miter;stroke-width:0.8;\"/>\r\n   </g>\r\n   <g id=\"patch_120\">\r\n    <path d=\"M 341.9 501.573635 \r\nL 574.4 501.573635 \r\n\" style=\"fill:none;stroke:#000000;stroke-linecap:square;stroke-linejoin:miter;stroke-width:0.8;\"/>\r\n   </g>\r\n   <g id=\"patch_121\">\r\n    <path d=\"M 341.9 368.447105 \r\nL 574.4 368.447105 \r\n\" style=\"fill:none;stroke:#000000;stroke-linecap:square;stroke-linejoin:miter;stroke-width:0.8;\"/>\r\n   </g>\r\n   <g id=\"text_91\">\r\n    <!-- H -->\r\n    <g transform=\"translate(453.637812 362.447105)scale(0.12 -0.12)\">\r\n     <defs>\r\n      <path d=\"M 628 4666 \r\nL 1259 4666 \r\nL 1259 2753 \r\nL 3553 2753 \r\nL 3553 4666 \r\nL 4184 4666 \r\nL 4184 0 \r\nL 3553 0 \r\nL 3553 2222 \r\nL 1259 2222 \r\nL 1259 0 \r\nL 628 0 \r\nL 628 4666 \r\nz\r\n\" id=\"DejaVuSans-48\" transform=\"scale(0.015625)\"/>\r\n     </defs>\r\n     <use xlink:href=\"#DejaVuSans-48\"/>\r\n    </g>\r\n   </g>\r\n  </g>\r\n  <g id=\"axes_9\">\r\n   <g id=\"patch_122\">\r\n    <path d=\"M 644.15 501.573635 \r\nL 876.65 501.573635 \r\nL 876.65 368.447105 \r\nL 644.15 368.447105 \r\nz\r\n\" style=\"fill:#ffffff;\"/>\r\n   </g>\r\n   <g id=\"patch_123\">\r\n    <path clip-path=\"url(#p818ff89ae3)\" d=\"M 654.718182 501.573635 \r\nL 675.854545 501.573635 \r\nL 675.854545 374.786463 \r\nL 654.718182 374.786463 \r\nz\r\n\" style=\"fill:#1f77b4;\"/>\r\n   </g>\r\n   <g id=\"patch_124\">\r\n    <path clip-path=\"url(#p818ff89ae3)\" d=\"M 675.854545 501.573635 \r\nL 696.990909 501.573635 \r\nL 696.990909 501.573635 \r\nL 675.854545 501.573635 \r\nz\r\n\" style=\"fill:#1f77b4;\"/>\r\n   </g>\r\n   <g id=\"patch_125\">\r\n    <path clip-path=\"url(#p818ff89ae3)\" d=\"M 696.990909 501.573635 \r\nL 718.127273 501.573635 \r\nL 718.127273 501.573635 \r\nL 696.990909 501.573635 \r\nz\r\n\" style=\"fill:#1f77b4;\"/>\r\n   </g>\r\n   <g id=\"patch_126\">\r\n    <path clip-path=\"url(#p818ff89ae3)\" d=\"M 718.127273 501.573635 \r\nL 739.263636 501.573635 \r\nL 739.263636 501.573635 \r\nL 718.127273 501.573635 \r\nz\r\n\" style=\"fill:#1f77b4;\"/>\r\n   </g>\r\n   <g id=\"patch_127\">\r\n    <path clip-path=\"url(#p818ff89ae3)\" d=\"M 739.263636 501.573635 \r\nL 760.4 501.573635 \r\nL 760.4 501.573635 \r\nL 739.263636 501.573635 \r\nz\r\n\" style=\"fill:#1f77b4;\"/>\r\n   </g>\r\n   <g id=\"patch_128\">\r\n    <path clip-path=\"url(#p818ff89ae3)\" d=\"M 760.4 501.573635 \r\nL 781.536364 501.573635 \r\nL 781.536364 501.573635 \r\nL 760.4 501.573635 \r\nz\r\n\" style=\"fill:#1f77b4;\"/>\r\n   </g>\r\n   <g id=\"patch_129\">\r\n    <path clip-path=\"url(#p818ff89ae3)\" d=\"M 781.536364 501.573635 \r\nL 802.672727 501.573635 \r\nL 802.672727 501.573635 \r\nL 781.536364 501.573635 \r\nz\r\n\" style=\"fill:#1f77b4;\"/>\r\n   </g>\r\n   <g id=\"patch_130\">\r\n    <path clip-path=\"url(#p818ff89ae3)\" d=\"M 802.672727 501.573635 \r\nL 823.809091 501.573635 \r\nL 823.809091 501.573635 \r\nL 802.672727 501.573635 \r\nz\r\n\" style=\"fill:#1f77b4;\"/>\r\n   </g>\r\n   <g id=\"patch_131\">\r\n    <path clip-path=\"url(#p818ff89ae3)\" d=\"M 823.809091 501.573635 \r\nL 844.945455 501.573635 \r\nL 844.945455 501.573635 \r\nL 823.809091 501.573635 \r\nz\r\n\" style=\"fill:#1f77b4;\"/>\r\n   </g>\r\n   <g id=\"patch_132\">\r\n    <path clip-path=\"url(#p818ff89ae3)\" d=\"M 844.945455 501.573635 \r\nL 866.081818 501.573635 \r\nL 866.081818 494.940752 \r\nL 844.945455 494.940752 \r\nz\r\n\" style=\"fill:#1f77b4;\"/>\r\n   </g>\r\n   <g id=\"matplotlib.axis_17\">\r\n    <g id=\"xtick_48\">\r\n     <g id=\"line2d_167\">\r\n      <path clip-path=\"url(#p818ff89ae3)\" d=\"M 654.718182 501.573635 \r\nL 654.718182 368.447105 \r\n\" style=\"fill:none;stroke:#b0b0b0;stroke-linecap:square;stroke-width:0.8;\"/>\r\n     </g>\r\n     <g id=\"line2d_168\">\r\n      <g>\r\n       <use style=\"stroke:#000000;stroke-width:0.8;\" x=\"654.718182\" xlink:href=\"#m2f43a095d0\" y=\"501.573635\"/>\r\n      </g>\r\n     </g>\r\n     <g id=\"text_92\">\r\n      <!-- 0.0 -->\r\n      <g transform=\"translate(646.766619 516.172073)scale(0.1 -0.1)\">\r\n       <use xlink:href=\"#DejaVuSans-30\"/>\r\n       <use x=\"63.623047\" xlink:href=\"#DejaVuSans-2e\"/>\r\n       <use x=\"95.410156\" xlink:href=\"#DejaVuSans-30\"/>\r\n      </g>\r\n     </g>\r\n    </g>\r\n    <g id=\"xtick_49\">\r\n     <g id=\"line2d_169\">\r\n      <path clip-path=\"url(#p818ff89ae3)\" d=\"M 696.990909 501.573635 \r\nL 696.990909 368.447105 \r\n\" style=\"fill:none;stroke:#b0b0b0;stroke-linecap:square;stroke-width:0.8;\"/>\r\n     </g>\r\n     <g id=\"line2d_170\">\r\n      <g>\r\n       <use style=\"stroke:#000000;stroke-width:0.8;\" x=\"696.990909\" xlink:href=\"#m2f43a095d0\" y=\"501.573635\"/>\r\n      </g>\r\n     </g>\r\n     <g id=\"text_93\">\r\n      <!-- 0.2 -->\r\n      <g transform=\"translate(689.039347 516.172073)scale(0.1 -0.1)\">\r\n       <use xlink:href=\"#DejaVuSans-30\"/>\r\n       <use x=\"63.623047\" xlink:href=\"#DejaVuSans-2e\"/>\r\n       <use x=\"95.410156\" xlink:href=\"#DejaVuSans-32\"/>\r\n      </g>\r\n     </g>\r\n    </g>\r\n    <g id=\"xtick_50\">\r\n     <g id=\"line2d_171\">\r\n      <path clip-path=\"url(#p818ff89ae3)\" d=\"M 739.263636 501.573635 \r\nL 739.263636 368.447105 \r\n\" style=\"fill:none;stroke:#b0b0b0;stroke-linecap:square;stroke-width:0.8;\"/>\r\n     </g>\r\n     <g id=\"line2d_172\">\r\n      <g>\r\n       <use style=\"stroke:#000000;stroke-width:0.8;\" x=\"739.263636\" xlink:href=\"#m2f43a095d0\" y=\"501.573635\"/>\r\n      </g>\r\n     </g>\r\n     <g id=\"text_94\">\r\n      <!-- 0.4 -->\r\n      <g transform=\"translate(731.312074 516.172073)scale(0.1 -0.1)\">\r\n       <use xlink:href=\"#DejaVuSans-30\"/>\r\n       <use x=\"63.623047\" xlink:href=\"#DejaVuSans-2e\"/>\r\n       <use x=\"95.410156\" xlink:href=\"#DejaVuSans-34\"/>\r\n      </g>\r\n     </g>\r\n    </g>\r\n    <g id=\"xtick_51\">\r\n     <g id=\"line2d_173\">\r\n      <path clip-path=\"url(#p818ff89ae3)\" d=\"M 781.536364 501.573635 \r\nL 781.536364 368.447105 \r\n\" style=\"fill:none;stroke:#b0b0b0;stroke-linecap:square;stroke-width:0.8;\"/>\r\n     </g>\r\n     <g id=\"line2d_174\">\r\n      <g>\r\n       <use style=\"stroke:#000000;stroke-width:0.8;\" x=\"781.536364\" xlink:href=\"#m2f43a095d0\" y=\"501.573635\"/>\r\n      </g>\r\n     </g>\r\n     <g id=\"text_95\">\r\n      <!-- 0.6 -->\r\n      <g transform=\"translate(773.584801 516.172073)scale(0.1 -0.1)\">\r\n       <use xlink:href=\"#DejaVuSans-30\"/>\r\n       <use x=\"63.623047\" xlink:href=\"#DejaVuSans-2e\"/>\r\n       <use x=\"95.410156\" xlink:href=\"#DejaVuSans-36\"/>\r\n      </g>\r\n     </g>\r\n    </g>\r\n    <g id=\"xtick_52\">\r\n     <g id=\"line2d_175\">\r\n      <path clip-path=\"url(#p818ff89ae3)\" d=\"M 823.809091 501.573635 \r\nL 823.809091 368.447105 \r\n\" style=\"fill:none;stroke:#b0b0b0;stroke-linecap:square;stroke-width:0.8;\"/>\r\n     </g>\r\n     <g id=\"line2d_176\">\r\n      <g>\r\n       <use style=\"stroke:#000000;stroke-width:0.8;\" x=\"823.809091\" xlink:href=\"#m2f43a095d0\" y=\"501.573635\"/>\r\n      </g>\r\n     </g>\r\n     <g id=\"text_96\">\r\n      <!-- 0.8 -->\r\n      <g transform=\"translate(815.857528 516.172073)scale(0.1 -0.1)\">\r\n       <use xlink:href=\"#DejaVuSans-30\"/>\r\n       <use x=\"63.623047\" xlink:href=\"#DejaVuSans-2e\"/>\r\n       <use x=\"95.410156\" xlink:href=\"#DejaVuSans-38\"/>\r\n      </g>\r\n     </g>\r\n    </g>\r\n    <g id=\"xtick_53\">\r\n     <g id=\"line2d_177\">\r\n      <path clip-path=\"url(#p818ff89ae3)\" d=\"M 866.081818 501.573635 \r\nL 866.081818 368.447105 \r\n\" style=\"fill:none;stroke:#b0b0b0;stroke-linecap:square;stroke-width:0.8;\"/>\r\n     </g>\r\n     <g id=\"line2d_178\">\r\n      <g>\r\n       <use style=\"stroke:#000000;stroke-width:0.8;\" x=\"866.081818\" xlink:href=\"#m2f43a095d0\" y=\"501.573635\"/>\r\n      </g>\r\n     </g>\r\n     <g id=\"text_97\">\r\n      <!-- 1.0 -->\r\n      <g transform=\"translate(858.130256 516.172073)scale(0.1 -0.1)\">\r\n       <use xlink:href=\"#DejaVuSans-31\"/>\r\n       <use x=\"63.623047\" xlink:href=\"#DejaVuSans-2e\"/>\r\n       <use x=\"95.410156\" xlink:href=\"#DejaVuSans-30\"/>\r\n      </g>\r\n     </g>\r\n    </g>\r\n   </g>\r\n   <g id=\"matplotlib.axis_18\">\r\n    <g id=\"ytick_37\">\r\n     <g id=\"line2d_179\">\r\n      <path clip-path=\"url(#p818ff89ae3)\" d=\"M 644.15 501.573635 \r\nL 876.65 501.573635 \r\n\" style=\"fill:none;stroke:#b0b0b0;stroke-linecap:square;stroke-width:0.8;\"/>\r\n     </g>\r\n     <g id=\"line2d_180\">\r\n      <g>\r\n       <use style=\"stroke:#000000;stroke-width:0.8;\" x=\"644.15\" xlink:href=\"#m86550c65fa\" y=\"501.573635\"/>\r\n      </g>\r\n     </g>\r\n     <g id=\"text_98\">\r\n      <!-- 0 -->\r\n      <g transform=\"translate(630.7875 505.372854)scale(0.1 -0.1)\">\r\n       <use xlink:href=\"#DejaVuSans-30\"/>\r\n      </g>\r\n     </g>\r\n    </g>\r\n    <g id=\"ytick_38\">\r\n     <g id=\"line2d_181\">\r\n      <path clip-path=\"url(#p818ff89ae3)\" d=\"M 644.15 463.45362 \r\nL 876.65 463.45362 \r\n\" style=\"fill:none;stroke:#b0b0b0;stroke-linecap:square;stroke-width:0.8;\"/>\r\n     </g>\r\n     <g id=\"line2d_182\">\r\n      <g>\r\n       <use style=\"stroke:#000000;stroke-width:0.8;\" x=\"644.15\" xlink:href=\"#m86550c65fa\" y=\"463.45362\"/>\r\n      </g>\r\n     </g>\r\n     <g id=\"text_99\">\r\n      <!-- 1000 -->\r\n      <g transform=\"translate(611.7 467.252838)scale(0.1 -0.1)\">\r\n       <use xlink:href=\"#DejaVuSans-31\"/>\r\n       <use x=\"63.623047\" xlink:href=\"#DejaVuSans-30\"/>\r\n       <use x=\"127.246094\" xlink:href=\"#DejaVuSans-30\"/>\r\n       <use x=\"190.869141\" xlink:href=\"#DejaVuSans-30\"/>\r\n      </g>\r\n     </g>\r\n    </g>\r\n    <g id=\"ytick_39\">\r\n     <g id=\"line2d_183\">\r\n      <path clip-path=\"url(#p818ff89ae3)\" d=\"M 644.15 425.333604 \r\nL 876.65 425.333604 \r\n\" style=\"fill:none;stroke:#b0b0b0;stroke-linecap:square;stroke-width:0.8;\"/>\r\n     </g>\r\n     <g id=\"line2d_184\">\r\n      <g>\r\n       <use style=\"stroke:#000000;stroke-width:0.8;\" x=\"644.15\" xlink:href=\"#m86550c65fa\" y=\"425.333604\"/>\r\n      </g>\r\n     </g>\r\n     <g id=\"text_100\">\r\n      <!-- 2000 -->\r\n      <g transform=\"translate(611.7 429.132823)scale(0.1 -0.1)\">\r\n       <use xlink:href=\"#DejaVuSans-32\"/>\r\n       <use x=\"63.623047\" xlink:href=\"#DejaVuSans-30\"/>\r\n       <use x=\"127.246094\" xlink:href=\"#DejaVuSans-30\"/>\r\n       <use x=\"190.869141\" xlink:href=\"#DejaVuSans-30\"/>\r\n      </g>\r\n     </g>\r\n    </g>\r\n    <g id=\"ytick_40\">\r\n     <g id=\"line2d_185\">\r\n      <path clip-path=\"url(#p818ff89ae3)\" d=\"M 644.15 387.213588 \r\nL 876.65 387.213588 \r\n\" style=\"fill:none;stroke:#b0b0b0;stroke-linecap:square;stroke-width:0.8;\"/>\r\n     </g>\r\n     <g id=\"line2d_186\">\r\n      <g>\r\n       <use style=\"stroke:#000000;stroke-width:0.8;\" x=\"644.15\" xlink:href=\"#m86550c65fa\" y=\"387.213588\"/>\r\n      </g>\r\n     </g>\r\n     <g id=\"text_101\">\r\n      <!-- 3000 -->\r\n      <g transform=\"translate(611.7 391.012807)scale(0.1 -0.1)\">\r\n       <use xlink:href=\"#DejaVuSans-33\"/>\r\n       <use x=\"63.623047\" xlink:href=\"#DejaVuSans-30\"/>\r\n       <use x=\"127.246094\" xlink:href=\"#DejaVuSans-30\"/>\r\n       <use x=\"190.869141\" xlink:href=\"#DejaVuSans-30\"/>\r\n      </g>\r\n     </g>\r\n    </g>\r\n   </g>\r\n   <g id=\"patch_133\">\r\n    <path d=\"M 644.15 501.573635 \r\nL 644.15 368.447105 \r\n\" style=\"fill:none;stroke:#000000;stroke-linecap:square;stroke-linejoin:miter;stroke-width:0.8;\"/>\r\n   </g>\r\n   <g id=\"patch_134\">\r\n    <path d=\"M 876.65 501.573635 \r\nL 876.65 368.447105 \r\n\" style=\"fill:none;stroke:#000000;stroke-linecap:square;stroke-linejoin:miter;stroke-width:0.8;\"/>\r\n   </g>\r\n   <g id=\"patch_135\">\r\n    <path d=\"M 644.15 501.573635 \r\nL 876.65 501.573635 \r\n\" style=\"fill:none;stroke:#000000;stroke-linecap:square;stroke-linejoin:miter;stroke-width:0.8;\"/>\r\n   </g>\r\n   <g id=\"patch_136\">\r\n    <path d=\"M 644.15 368.447105 \r\nL 876.65 368.447105 \r\n\" style=\"fill:none;stroke:#000000;stroke-linecap:square;stroke-linejoin:miter;stroke-width:0.8;\"/>\r\n   </g>\r\n   <g id=\"text_102\">\r\n    <!-- M -->\r\n    <g transform=\"translate(755.223125 362.447105)scale(0.12 -0.12)\">\r\n     <defs>\r\n      <path d=\"M 628 4666 \r\nL 1569 4666 \r\nL 2759 1491 \r\nL 3956 4666 \r\nL 4897 4666 \r\nL 4897 0 \r\nL 4281 0 \r\nL 4281 4097 \r\nL 3078 897 \r\nL 2444 897 \r\nL 1241 4097 \r\nL 1241 0 \r\nL 628 0 \r\nL 628 4666 \r\nz\r\n\" id=\"DejaVuSans-4d\" transform=\"scale(0.015625)\"/>\r\n     </defs>\r\n     <use xlink:href=\"#DejaVuSans-4d\"/>\r\n    </g>\r\n   </g>\r\n  </g>\r\n  <g id=\"axes_10\">\r\n   <g id=\"patch_137\">\r\n    <path d=\"M 39.65 674.638125 \r\nL 272.15 674.638125 \r\nL 272.15 541.511594 \r\nL 39.65 541.511594 \r\nz\r\n\" style=\"fill:#ffffff;\"/>\r\n   </g>\r\n   <g id=\"patch_138\">\r\n    <path clip-path=\"url(#paa86b744bb)\" d=\"M 50.218182 674.638125 \r\nL 71.354545 674.638125 \r\nL 71.354545 547.850953 \r\nL 50.218182 547.850953 \r\nz\r\n\" style=\"fill:#1f77b4;\"/>\r\n   </g>\r\n   <g id=\"patch_139\">\r\n    <path clip-path=\"url(#paa86b744bb)\" d=\"M 71.354545 674.638125 \r\nL 92.490909 674.638125 \r\nL 92.490909 674.638125 \r\nL 71.354545 674.638125 \r\nz\r\n\" style=\"fill:#1f77b4;\"/>\r\n   </g>\r\n   <g id=\"patch_140\">\r\n    <path clip-path=\"url(#paa86b744bb)\" d=\"M 92.490909 674.638125 \r\nL 113.627273 674.638125 \r\nL 113.627273 674.638125 \r\nL 92.490909 674.638125 \r\nz\r\n\" style=\"fill:#1f77b4;\"/>\r\n   </g>\r\n   <g id=\"patch_141\">\r\n    <path clip-path=\"url(#paa86b744bb)\" d=\"M 113.627273 674.638125 \r\nL 134.763636 674.638125 \r\nL 134.763636 674.638125 \r\nL 113.627273 674.638125 \r\nz\r\n\" style=\"fill:#1f77b4;\"/>\r\n   </g>\r\n   <g id=\"patch_142\">\r\n    <path clip-path=\"url(#paa86b744bb)\" d=\"M 134.763636 674.638125 \r\nL 155.9 674.638125 \r\nL 155.9 674.638125 \r\nL 134.763636 674.638125 \r\nz\r\n\" style=\"fill:#1f77b4;\"/>\r\n   </g>\r\n   <g id=\"patch_143\">\r\n    <path clip-path=\"url(#paa86b744bb)\" d=\"M 155.9 674.638125 \r\nL 177.036364 674.638125 \r\nL 177.036364 674.638125 \r\nL 155.9 674.638125 \r\nz\r\n\" style=\"fill:#1f77b4;\"/>\r\n   </g>\r\n   <g id=\"patch_144\">\r\n    <path clip-path=\"url(#paa86b744bb)\" d=\"M 177.036364 674.638125 \r\nL 198.172727 674.638125 \r\nL 198.172727 674.638125 \r\nL 177.036364 674.638125 \r\nz\r\n\" style=\"fill:#1f77b4;\"/>\r\n   </g>\r\n   <g id=\"patch_145\">\r\n    <path clip-path=\"url(#paa86b744bb)\" d=\"M 198.172727 674.638125 \r\nL 219.309091 674.638125 \r\nL 219.309091 674.638125 \r\nL 198.172727 674.638125 \r\nz\r\n\" style=\"fill:#1f77b4;\"/>\r\n   </g>\r\n   <g id=\"patch_146\">\r\n    <path clip-path=\"url(#paa86b744bb)\" d=\"M 219.309091 674.638125 \r\nL 240.445455 674.638125 \r\nL 240.445455 674.638125 \r\nL 219.309091 674.638125 \r\nz\r\n\" style=\"fill:#1f77b4;\"/>\r\n   </g>\r\n   <g id=\"patch_147\">\r\n    <path clip-path=\"url(#paa86b744bb)\" d=\"M 240.445455 674.638125 \r\nL 261.581818 674.638125 \r\nL 261.581818 625.401853 \r\nL 240.445455 625.401853 \r\nz\r\n\" style=\"fill:#1f77b4;\"/>\r\n   </g>\r\n   <g id=\"matplotlib.axis_19\">\r\n    <g id=\"xtick_54\">\r\n     <g id=\"line2d_187\">\r\n      <path clip-path=\"url(#paa86b744bb)\" d=\"M 50.218182 674.638125 \r\nL 50.218182 541.511594 \r\n\" style=\"fill:none;stroke:#b0b0b0;stroke-linecap:square;stroke-width:0.8;\"/>\r\n     </g>\r\n     <g id=\"line2d_188\">\r\n      <g>\r\n       <use style=\"stroke:#000000;stroke-width:0.8;\" x=\"50.218182\" xlink:href=\"#m2f43a095d0\" y=\"674.638125\"/>\r\n      </g>\r\n     </g>\r\n     <g id=\"text_103\">\r\n      <!-- 0.0 -->\r\n      <g transform=\"translate(42.266619 689.236562)scale(0.1 -0.1)\">\r\n       <use xlink:href=\"#DejaVuSans-30\"/>\r\n       <use x=\"63.623047\" xlink:href=\"#DejaVuSans-2e\"/>\r\n       <use x=\"95.410156\" xlink:href=\"#DejaVuSans-30\"/>\r\n      </g>\r\n     </g>\r\n    </g>\r\n    <g id=\"xtick_55\">\r\n     <g id=\"line2d_189\">\r\n      <path clip-path=\"url(#paa86b744bb)\" d=\"M 92.490909 674.638125 \r\nL 92.490909 541.511594 \r\n\" style=\"fill:none;stroke:#b0b0b0;stroke-linecap:square;stroke-width:0.8;\"/>\r\n     </g>\r\n     <g id=\"line2d_190\">\r\n      <g>\r\n       <use style=\"stroke:#000000;stroke-width:0.8;\" x=\"92.490909\" xlink:href=\"#m2f43a095d0\" y=\"674.638125\"/>\r\n      </g>\r\n     </g>\r\n     <g id=\"text_104\">\r\n      <!-- 0.2 -->\r\n      <g transform=\"translate(84.539347 689.236562)scale(0.1 -0.1)\">\r\n       <use xlink:href=\"#DejaVuSans-30\"/>\r\n       <use x=\"63.623047\" xlink:href=\"#DejaVuSans-2e\"/>\r\n       <use x=\"95.410156\" xlink:href=\"#DejaVuSans-32\"/>\r\n      </g>\r\n     </g>\r\n    </g>\r\n    <g id=\"xtick_56\">\r\n     <g id=\"line2d_191\">\r\n      <path clip-path=\"url(#paa86b744bb)\" d=\"M 134.763636 674.638125 \r\nL 134.763636 541.511594 \r\n\" style=\"fill:none;stroke:#b0b0b0;stroke-linecap:square;stroke-width:0.8;\"/>\r\n     </g>\r\n     <g id=\"line2d_192\">\r\n      <g>\r\n       <use style=\"stroke:#000000;stroke-width:0.8;\" x=\"134.763636\" xlink:href=\"#m2f43a095d0\" y=\"674.638125\"/>\r\n      </g>\r\n     </g>\r\n     <g id=\"text_105\">\r\n      <!-- 0.4 -->\r\n      <g transform=\"translate(126.812074 689.236562)scale(0.1 -0.1)\">\r\n       <use xlink:href=\"#DejaVuSans-30\"/>\r\n       <use x=\"63.623047\" xlink:href=\"#DejaVuSans-2e\"/>\r\n       <use x=\"95.410156\" xlink:href=\"#DejaVuSans-34\"/>\r\n      </g>\r\n     </g>\r\n    </g>\r\n    <g id=\"xtick_57\">\r\n     <g id=\"line2d_193\">\r\n      <path clip-path=\"url(#paa86b744bb)\" d=\"M 177.036364 674.638125 \r\nL 177.036364 541.511594 \r\n\" style=\"fill:none;stroke:#b0b0b0;stroke-linecap:square;stroke-width:0.8;\"/>\r\n     </g>\r\n     <g id=\"line2d_194\">\r\n      <g>\r\n       <use style=\"stroke:#000000;stroke-width:0.8;\" x=\"177.036364\" xlink:href=\"#m2f43a095d0\" y=\"674.638125\"/>\r\n      </g>\r\n     </g>\r\n     <g id=\"text_106\">\r\n      <!-- 0.6 -->\r\n      <g transform=\"translate(169.084801 689.236562)scale(0.1 -0.1)\">\r\n       <use xlink:href=\"#DejaVuSans-30\"/>\r\n       <use x=\"63.623047\" xlink:href=\"#DejaVuSans-2e\"/>\r\n       <use x=\"95.410156\" xlink:href=\"#DejaVuSans-36\"/>\r\n      </g>\r\n     </g>\r\n    </g>\r\n    <g id=\"xtick_58\">\r\n     <g id=\"line2d_195\">\r\n      <path clip-path=\"url(#paa86b744bb)\" d=\"M 219.309091 674.638125 \r\nL 219.309091 541.511594 \r\n\" style=\"fill:none;stroke:#b0b0b0;stroke-linecap:square;stroke-width:0.8;\"/>\r\n     </g>\r\n     <g id=\"line2d_196\">\r\n      <g>\r\n       <use style=\"stroke:#000000;stroke-width:0.8;\" x=\"219.309091\" xlink:href=\"#m2f43a095d0\" y=\"674.638125\"/>\r\n      </g>\r\n     </g>\r\n     <g id=\"text_107\">\r\n      <!-- 0.8 -->\r\n      <g transform=\"translate(211.357528 689.236562)scale(0.1 -0.1)\">\r\n       <use xlink:href=\"#DejaVuSans-30\"/>\r\n       <use x=\"63.623047\" xlink:href=\"#DejaVuSans-2e\"/>\r\n       <use x=\"95.410156\" xlink:href=\"#DejaVuSans-38\"/>\r\n      </g>\r\n     </g>\r\n    </g>\r\n    <g id=\"xtick_59\">\r\n     <g id=\"line2d_197\">\r\n      <path clip-path=\"url(#paa86b744bb)\" d=\"M 261.581818 674.638125 \r\nL 261.581818 541.511594 \r\n\" style=\"fill:none;stroke:#b0b0b0;stroke-linecap:square;stroke-width:0.8;\"/>\r\n     </g>\r\n     <g id=\"line2d_198\">\r\n      <g>\r\n       <use style=\"stroke:#000000;stroke-width:0.8;\" x=\"261.581818\" xlink:href=\"#m2f43a095d0\" y=\"674.638125\"/>\r\n      </g>\r\n     </g>\r\n     <g id=\"text_108\">\r\n      <!-- 1.0 -->\r\n      <g transform=\"translate(253.630256 689.236562)scale(0.1 -0.1)\">\r\n       <use xlink:href=\"#DejaVuSans-31\"/>\r\n       <use x=\"63.623047\" xlink:href=\"#DejaVuSans-2e\"/>\r\n       <use x=\"95.410156\" xlink:href=\"#DejaVuSans-30\"/>\r\n      </g>\r\n     </g>\r\n    </g>\r\n   </g>\r\n   <g id=\"matplotlib.axis_20\">\r\n    <g id=\"ytick_41\">\r\n     <g id=\"line2d_199\">\r\n      <path clip-path=\"url(#paa86b744bb)\" d=\"M 39.65 674.638125 \r\nL 272.15 674.638125 \r\n\" style=\"fill:none;stroke:#b0b0b0;stroke-linecap:square;stroke-width:0.8;\"/>\r\n     </g>\r\n     <g id=\"line2d_200\">\r\n      <g>\r\n       <use style=\"stroke:#000000;stroke-width:0.8;\" x=\"39.65\" xlink:href=\"#m86550c65fa\" y=\"674.638125\"/>\r\n      </g>\r\n     </g>\r\n     <g id=\"text_109\">\r\n      <!-- 0 -->\r\n      <g transform=\"translate(26.2875 678.437344)scale(0.1 -0.1)\">\r\n       <use xlink:href=\"#DejaVuSans-30\"/>\r\n      </g>\r\n     </g>\r\n    </g>\r\n    <g id=\"ytick_42\">\r\n     <g id=\"line2d_201\">\r\n      <path clip-path=\"url(#paa86b744bb)\" d=\"M 39.65 649.491919 \r\nL 272.15 649.491919 \r\n\" style=\"fill:none;stroke:#b0b0b0;stroke-linecap:square;stroke-width:0.8;\"/>\r\n     </g>\r\n     <g id=\"line2d_202\">\r\n      <g>\r\n       <use style=\"stroke:#000000;stroke-width:0.8;\" x=\"39.65\" xlink:href=\"#m86550c65fa\" y=\"649.491919\"/>\r\n      </g>\r\n     </g>\r\n     <g id=\"text_110\">\r\n      <!-- 500 -->\r\n      <g transform=\"translate(13.5625 653.291137)scale(0.1 -0.1)\">\r\n       <use xlink:href=\"#DejaVuSans-35\"/>\r\n       <use x=\"63.623047\" xlink:href=\"#DejaVuSans-30\"/>\r\n       <use x=\"127.246094\" xlink:href=\"#DejaVuSans-30\"/>\r\n      </g>\r\n     </g>\r\n    </g>\r\n    <g id=\"ytick_43\">\r\n     <g id=\"line2d_203\">\r\n      <path clip-path=\"url(#paa86b744bb)\" d=\"M 39.65 624.345712 \r\nL 272.15 624.345712 \r\n\" style=\"fill:none;stroke:#b0b0b0;stroke-linecap:square;stroke-width:0.8;\"/>\r\n     </g>\r\n     <g id=\"line2d_204\">\r\n      <g>\r\n       <use style=\"stroke:#000000;stroke-width:0.8;\" x=\"39.65\" xlink:href=\"#m86550c65fa\" y=\"624.345712\"/>\r\n      </g>\r\n     </g>\r\n     <g id=\"text_111\">\r\n      <!-- 1000 -->\r\n      <g transform=\"translate(7.2 628.144931)scale(0.1 -0.1)\">\r\n       <use xlink:href=\"#DejaVuSans-31\"/>\r\n       <use x=\"63.623047\" xlink:href=\"#DejaVuSans-30\"/>\r\n       <use x=\"127.246094\" xlink:href=\"#DejaVuSans-30\"/>\r\n       <use x=\"190.869141\" xlink:href=\"#DejaVuSans-30\"/>\r\n      </g>\r\n     </g>\r\n    </g>\r\n    <g id=\"ytick_44\">\r\n     <g id=\"line2d_205\">\r\n      <path clip-path=\"url(#paa86b744bb)\" d=\"M 39.65 599.199506 \r\nL 272.15 599.199506 \r\n\" style=\"fill:none;stroke:#b0b0b0;stroke-linecap:square;stroke-width:0.8;\"/>\r\n     </g>\r\n     <g id=\"line2d_206\">\r\n      <g>\r\n       <use style=\"stroke:#000000;stroke-width:0.8;\" x=\"39.65\" xlink:href=\"#m86550c65fa\" y=\"599.199506\"/>\r\n      </g>\r\n     </g>\r\n     <g id=\"text_112\">\r\n      <!-- 1500 -->\r\n      <g transform=\"translate(7.2 602.998725)scale(0.1 -0.1)\">\r\n       <use xlink:href=\"#DejaVuSans-31\"/>\r\n       <use x=\"63.623047\" xlink:href=\"#DejaVuSans-35\"/>\r\n       <use x=\"127.246094\" xlink:href=\"#DejaVuSans-30\"/>\r\n       <use x=\"190.869141\" xlink:href=\"#DejaVuSans-30\"/>\r\n      </g>\r\n     </g>\r\n    </g>\r\n    <g id=\"ytick_45\">\r\n     <g id=\"line2d_207\">\r\n      <path clip-path=\"url(#paa86b744bb)\" d=\"M 39.65 574.0533 \r\nL 272.15 574.0533 \r\n\" style=\"fill:none;stroke:#b0b0b0;stroke-linecap:square;stroke-width:0.8;\"/>\r\n     </g>\r\n     <g id=\"line2d_208\">\r\n      <g>\r\n       <use style=\"stroke:#000000;stroke-width:0.8;\" x=\"39.65\" xlink:href=\"#m86550c65fa\" y=\"574.0533\"/>\r\n      </g>\r\n     </g>\r\n     <g id=\"text_113\">\r\n      <!-- 2000 -->\r\n      <g transform=\"translate(7.2 577.852519)scale(0.1 -0.1)\">\r\n       <use xlink:href=\"#DejaVuSans-32\"/>\r\n       <use x=\"63.623047\" xlink:href=\"#DejaVuSans-30\"/>\r\n       <use x=\"127.246094\" xlink:href=\"#DejaVuSans-30\"/>\r\n       <use x=\"190.869141\" xlink:href=\"#DejaVuSans-30\"/>\r\n      </g>\r\n     </g>\r\n    </g>\r\n    <g id=\"ytick_46\">\r\n     <g id=\"line2d_209\">\r\n      <path clip-path=\"url(#paa86b744bb)\" d=\"M 39.65 548.907094 \r\nL 272.15 548.907094 \r\n\" style=\"fill:none;stroke:#b0b0b0;stroke-linecap:square;stroke-width:0.8;\"/>\r\n     </g>\r\n     <g id=\"line2d_210\">\r\n      <g>\r\n       <use style=\"stroke:#000000;stroke-width:0.8;\" x=\"39.65\" xlink:href=\"#m86550c65fa\" y=\"548.907094\"/>\r\n      </g>\r\n     </g>\r\n     <g id=\"text_114\">\r\n      <!-- 2500 -->\r\n      <g transform=\"translate(7.2 552.706312)scale(0.1 -0.1)\">\r\n       <use xlink:href=\"#DejaVuSans-32\"/>\r\n       <use x=\"63.623047\" xlink:href=\"#DejaVuSans-35\"/>\r\n       <use x=\"127.246094\" xlink:href=\"#DejaVuSans-30\"/>\r\n       <use x=\"190.869141\" xlink:href=\"#DejaVuSans-30\"/>\r\n      </g>\r\n     </g>\r\n    </g>\r\n   </g>\r\n   <g id=\"patch_148\">\r\n    <path d=\"M 39.65 674.638125 \r\nL 39.65 541.511594 \r\n\" style=\"fill:none;stroke:#000000;stroke-linecap:square;stroke-linejoin:miter;stroke-width:0.8;\"/>\r\n   </g>\r\n   <g id=\"patch_149\">\r\n    <path d=\"M 272.15 674.638125 \r\nL 272.15 541.511594 \r\n\" style=\"fill:none;stroke:#000000;stroke-linecap:square;stroke-linejoin:miter;stroke-width:0.8;\"/>\r\n   </g>\r\n   <g id=\"patch_150\">\r\n    <path d=\"M 39.65 674.638125 \r\nL 272.15 674.638125 \r\n\" style=\"fill:none;stroke:#000000;stroke-linecap:square;stroke-linejoin:miter;stroke-width:0.8;\"/>\r\n   </g>\r\n   <g id=\"patch_151\">\r\n    <path d=\"M 39.65 541.511594 \r\nL 272.15 541.511594 \r\n\" style=\"fill:none;stroke:#000000;stroke-linecap:square;stroke-linejoin:miter;stroke-width:0.8;\"/>\r\n   </g>\r\n   <g id=\"text_115\">\r\n    <!-- O -->\r\n    <g transform=\"translate(151.176875 535.511594)scale(0.12 -0.12)\">\r\n     <defs>\r\n      <path d=\"M 2522 4238 \r\nQ 1834 4238 1429 3725 \r\nQ 1025 3213 1025 2328 \r\nQ 1025 1447 1429 934 \r\nQ 1834 422 2522 422 \r\nQ 3209 422 3611 934 \r\nQ 4013 1447 4013 2328 \r\nQ 4013 3213 3611 3725 \r\nQ 3209 4238 2522 4238 \r\nz\r\nM 2522 4750 \r\nQ 3503 4750 4090 4092 \r\nQ 4678 3434 4678 2328 \r\nQ 4678 1225 4090 567 \r\nQ 3503 -91 2522 -91 \r\nQ 1538 -91 948 565 \r\nQ 359 1222 359 2328 \r\nQ 359 3434 948 4092 \r\nQ 1538 4750 2522 4750 \r\nz\r\n\" id=\"DejaVuSans-4f\" transform=\"scale(0.015625)\"/>\r\n     </defs>\r\n     <use xlink:href=\"#DejaVuSans-4f\"/>\r\n    </g>\r\n   </g>\r\n  </g>\r\n </g>\r\n <defs>\r\n  <clipPath id=\"pba6ab42b4b\">\r\n   <rect height=\"133.126531\" width=\"232.5\" x=\"39.65\" y=\"22.318125\"/>\r\n  </clipPath>\r\n  <clipPath id=\"pdb3a17a68e\">\r\n   <rect height=\"133.126531\" width=\"232.5\" x=\"341.9\" y=\"22.318125\"/>\r\n  </clipPath>\r\n  <clipPath id=\"p26ccdc059f\">\r\n   <rect height=\"133.126531\" width=\"232.5\" x=\"644.15\" y=\"22.318125\"/>\r\n  </clipPath>\r\n  <clipPath id=\"pceb5cb4bbd\">\r\n   <rect height=\"133.126531\" width=\"232.5\" x=\"39.65\" y=\"195.382615\"/>\r\n  </clipPath>\r\n  <clipPath id=\"p5077ac57e4\">\r\n   <rect height=\"133.126531\" width=\"232.5\" x=\"341.9\" y=\"195.382615\"/>\r\n  </clipPath>\r\n  <clipPath id=\"p3e07cd01d5\">\r\n   <rect height=\"133.126531\" width=\"232.5\" x=\"644.15\" y=\"195.382615\"/>\r\n  </clipPath>\r\n  <clipPath id=\"p66470c8d41\">\r\n   <rect height=\"133.126531\" width=\"232.5\" x=\"39.65\" y=\"368.447105\"/>\r\n  </clipPath>\r\n  <clipPath id=\"p479738e30b\">\r\n   <rect height=\"133.126531\" width=\"232.5\" x=\"341.9\" y=\"368.447105\"/>\r\n  </clipPath>\r\n  <clipPath id=\"p818ff89ae3\">\r\n   <rect height=\"133.126531\" width=\"232.5\" x=\"644.15\" y=\"368.447105\"/>\r\n  </clipPath>\r\n  <clipPath id=\"paa86b744bb\">\r\n   <rect height=\"133.126531\" width=\"232.5\" x=\"39.65\" y=\"541.511594\"/>\r\n  </clipPath>\r\n </defs>\r\n</svg>\r\n",
      "image/png": "[encoded data removed]"
     },
     "metadata": {
      "needs_background": "light"
     }
    }
   ],
   "source": [
    "data_num = data.copy()[['Patient Age', 'Patient Sex', 'N', 'D','G','C','A','H','M','O']]\n",
    "data_num['Patient Sex'] = data_num['Patient Sex'].apply(lambda x:0  if x=='Female' else 1) # we encode sex: Female => 0; Male => 1\n",
    "\n",
    "data_num.hist(figsize=(15,12))\n",
    "\n",
    "plt.show()"
   ]
  },
  {
   "cell_type": "markdown",
   "metadata": {
    "papermill": {
     "duration": 0.021548,
     "end_time": "2020-08-31T10:45:41.817581",
     "exception": false,
     "start_time": "2020-08-31T10:45:41.796033",
     "status": "completed"
    },
    "tags": []
   },
   "source": [
    "We can see a few interesting things here:\n",
    "\n",
    "1) The most prominent age group are people in about their 60s.\n",
    "\n",
    "2) There is slightly more males than females.\n",
    "\n",
    "3) Most patients are not healthy, but healthy patients are the most prevalent of all groups.\n",
    "\n",
    "4) The most prevalent non-healthy group are patients with diabetes, with \"other\" coming right after them.\n",
    "\n",
    "* Since this \"other\" category likely lumps many non-related and quite heterogenous conditions, it's going to be more efficient to focus on diabetic patients.\n",
    "\n",
    "* For now, we will build a model which will discriminate healthy retinas from those displaying signs of diabetes. Later we will test its performance how it performs on the images of retinas with signs of other diseases and see whether we can gain some insight from it.\n",
    "\n",
    "One more thing: let's take a peek at correlations"
   ]
  },
  {
   "cell_type": "code",
   "execution_count": 7,
   "metadata": {
    "execution": {
     "iopub.execute_input": "2020-08-31T10:45:41.868762Z",
     "iopub.status.busy": "2020-08-31T10:45:41.867927Z",
     "iopub.status.idle": "2020-08-31T10:45:41.894429Z",
     "shell.execute_reply": "2020-08-31T10:45:41.893631Z"
    },
    "papermill": {
     "duration": 0.05484,
     "end_time": "2020-08-31T10:45:41.894570",
     "exception": false,
     "start_time": "2020-08-31T10:45:41.839730",
     "status": "completed"
    },
    "tags": []
   },
   "outputs": [
    {
     "output_type": "execute_result",
     "data": {
      "text/plain": [
       "             Patient Age  Patient Sex         N         D         G         C  \\\n",
       "Patient Age     1.000000    -0.087703 -0.073049 -0.080539  0.097791  0.186160   \n",
       "Patient Sex    -0.087703     1.000000  0.035501  0.027582  0.021977 -0.060492   \n",
       "N              -0.073049     0.035501  1.000000 -0.479285 -0.177807 -0.176481   \n",
       "D              -0.080539     0.027582 -0.479285  1.000000 -0.094946 -0.075154   \n",
       "G               0.097791     0.021977 -0.177807 -0.094946  1.000000 -0.049996   \n",
       "C               0.186160    -0.060492 -0.176481 -0.075154 -0.049996  1.000000   \n",
       "A               0.058005    -0.000883 -0.154101 -0.106614  0.005212 -0.056300   \n",
       "H              -0.024944     0.032309 -0.121023  0.042701  0.011778 -0.030041   \n",
       "M              -0.013635    -0.078345 -0.158968 -0.104288 -0.020193 -0.058079   \n",
       "O               0.067764    -0.036086 -0.433113 -0.017049 -0.029528 -0.075515   \n",
       "\n",
       "                    A         H         M         O  \n",
       "Patient Age  0.058005 -0.024944 -0.013635  0.067764  \n",
       "Patient Sex -0.000883  0.032309 -0.078345 -0.036086  \n",
       "N           -0.154101 -0.121023 -0.158968 -0.433113  \n",
       "D           -0.106614  0.042701 -0.104288 -0.017049  \n",
       "G            0.005212  0.011778 -0.020193 -0.029528  \n",
       "C           -0.056300 -0.030041 -0.058079 -0.075515  \n",
       "A            1.000000 -0.006610 -0.032053 -0.089978  \n",
       "H           -0.006610  1.000000 -0.039828 -0.063315  \n",
       "M           -0.032053 -0.039828  1.000000 -0.013677  \n",
       "O           -0.089978 -0.063315 -0.013677  1.000000  "
      ],
      "text/html": "<div>\n<style scoped>\n    .dataframe tbody tr th:only-of-type {\n        vertical-align: middle;\n    }\n\n    .dataframe tbody tr th {\n        vertical-align: top;\n    }\n\n    .dataframe thead th {\n        text-align: right;\n    }\n</style>\n<table border=\"1\" class=\"dataframe\">\n  <thead>\n    <tr style=\"text-align: right;\">\n      <th></th>\n      <th>Patient Age</th>\n      <th>Patient Sex</th>\n      <th>N</th>\n      <th>D</th>\n      <th>G</th>\n      <th>C</th>\n      <th>A</th>\n      <th>H</th>\n      <th>M</th>\n      <th>O</th>\n    </tr>\n  </thead>\n  <tbody>\n    <tr>\n      <th>Patient Age</th>\n      <td>1.000000</td>\n      <td>-0.087703</td>\n      <td>-0.073049</td>\n      <td>-0.080539</td>\n      <td>0.097791</td>\n      <td>0.186160</td>\n      <td>0.058005</td>\n      <td>-0.024944</td>\n      <td>-0.013635</td>\n      <td>0.067764</td>\n    </tr>\n    <tr>\n      <th>Patient Sex</th>\n      <td>-0.087703</td>\n      <td>1.000000</td>\n      <td>0.035501</td>\n      <td>0.027582</td>\n      <td>0.021977</td>\n      <td>-0.060492</td>\n      <td>-0.000883</td>\n      <td>0.032309</td>\n      <td>-0.078345</td>\n      <td>-0.036086</td>\n    </tr>\n    <tr>\n      <th>N</th>\n      <td>-0.073049</td>\n      <td>0.035501</td>\n      <td>1.000000</td>\n      <td>-0.479285</td>\n      <td>-0.177807</td>\n      <td>-0.176481</td>\n      <td>-0.154101</td>\n      <td>-0.121023</td>\n      <td>-0.158968</td>\n      <td>-0.433113</td>\n    </tr>\n    <tr>\n      <th>D</th>\n      <td>-0.080539</td>\n      <td>0.027582</td>\n      <td>-0.479285</td>\n      <td>1.000000</td>\n      <td>-0.094946</td>\n      <td>-0.075154</td>\n      <td>-0.106614</td>\n      <td>0.042701</td>\n      <td>-0.104288</td>\n      <td>-0.017049</td>\n    </tr>\n    <tr>\n      <th>G</th>\n      <td>0.097791</td>\n      <td>0.021977</td>\n      <td>-0.177807</td>\n      <td>-0.094946</td>\n      <td>1.000000</td>\n      <td>-0.049996</td>\n      <td>0.005212</td>\n      <td>0.011778</td>\n      <td>-0.020193</td>\n      <td>-0.029528</td>\n    </tr>\n    <tr>\n      <th>C</th>\n      <td>0.186160</td>\n      <td>-0.060492</td>\n      <td>-0.176481</td>\n      <td>-0.075154</td>\n      <td>-0.049996</td>\n      <td>1.000000</td>\n      <td>-0.056300</td>\n      <td>-0.030041</td>\n      <td>-0.058079</td>\n      <td>-0.075515</td>\n    </tr>\n    <tr>\n      <th>A</th>\n      <td>0.058005</td>\n      <td>-0.000883</td>\n      <td>-0.154101</td>\n      <td>-0.106614</td>\n      <td>0.005212</td>\n      <td>-0.056300</td>\n      <td>1.000000</td>\n      <td>-0.006610</td>\n      <td>-0.032053</td>\n      <td>-0.089978</td>\n    </tr>\n    <tr>\n      <th>H</th>\n      <td>-0.024944</td>\n      <td>0.032309</td>\n      <td>-0.121023</td>\n      <td>0.042701</td>\n      <td>0.011778</td>\n      <td>-0.030041</td>\n      <td>-0.006610</td>\n      <td>1.000000</td>\n      <td>-0.039828</td>\n      <td>-0.063315</td>\n    </tr>\n    <tr>\n      <th>M</th>\n      <td>-0.013635</td>\n      <td>-0.078345</td>\n      <td>-0.158968</td>\n      <td>-0.104288</td>\n      <td>-0.020193</td>\n      <td>-0.058079</td>\n      <td>-0.032053</td>\n      <td>-0.039828</td>\n      <td>1.000000</td>\n      <td>-0.013677</td>\n    </tr>\n    <tr>\n      <th>O</th>\n      <td>0.067764</td>\n      <td>-0.036086</td>\n      <td>-0.433113</td>\n      <td>-0.017049</td>\n      <td>-0.029528</td>\n      <td>-0.075515</td>\n      <td>-0.089978</td>\n      <td>-0.063315</td>\n      <td>-0.013677</td>\n      <td>1.000000</td>\n    </tr>\n  </tbody>\n</table>\n</div>"
     },
     "metadata": {},
     "execution_count": 7
    }
   ],
   "source": [
    "data_num_corr = data_num.corr()\n",
    "data_num_corr"
   ]
  },
  {
   "cell_type": "markdown",
   "metadata": {
    "papermill": {
     "duration": 0.02171,
     "end_time": "2020-08-31T10:45:41.939946",
     "exception": false,
     "start_time": "2020-08-31T10:45:41.918236",
     "status": "completed"
    },
    "tags": []
   },
   "source": [
    "1) There is a small negative correlation between age and sex. Arbitrarily, we encoded males as 1s and females as 0s. If we did the opposite, the correlation would be of the same magnitude, but positive. This means that males in our data are little younger than females.\n",
    "\n",
    "2) Older people seem to be more likely to develop in their retinas signs of glaucoma and cataract, but less likely to develop signs of diabetes. There does not seem to be any significant difference between sexes in susceptibility to any disease (or lack thereof).\n",
    "\n",
    "3) Being 'Normal' correlates negatively with any other condition. That's what we would expect, since a patient can only be classified as 'Normal' if they weren't diagnosed as having any other condition.\n",
    "\n",
    "4) What about between-disease correlation? Let's prune our correlation matrix, to make it easier to read. We will (again, a little arbitrarily), set the cutoff point for a meaningful correlation at the absolute value of 0.08."
   ]
  },
  {
   "cell_type": "code",
   "execution_count": 8,
   "metadata": {
    "execution": {
     "iopub.execute_input": "2020-08-31T10:45:41.993627Z",
     "iopub.status.busy": "2020-08-31T10:45:41.992668Z",
     "iopub.status.idle": "2020-08-31T10:45:42.277614Z",
     "shell.execute_reply": "2020-08-31T10:45:42.278655Z"
    },
    "papermill": {
     "duration": 0.316645,
     "end_time": "2020-08-31T10:45:42.278957",
     "exception": false,
     "start_time": "2020-08-31T10:45:41.962312",
     "status": "completed"
    },
    "tags": []
   },
   "outputs": [
    {
     "output_type": "execute_result",
     "data": {
      "text/plain": [
       "      D     G   C     A   H    M     O\n",
       "D   NaN -0.09 NaN -0.11 NaN -0.1   NaN\n",
       "G -0.09   NaN NaN   NaN NaN  NaN   NaN\n",
       "C   NaN   NaN NaN   NaN NaN  NaN   NaN\n",
       "A -0.11   NaN NaN   NaN NaN  NaN -0.09\n",
       "H   NaN   NaN NaN   NaN NaN  NaN   NaN\n",
       "M -0.10   NaN NaN   NaN NaN  NaN   NaN\n",
       "O   NaN   NaN NaN -0.09 NaN  NaN   NaN"
      ],
      "text/html": "<div>\n<style scoped>\n    .dataframe tbody tr th:only-of-type {\n        vertical-align: middle;\n    }\n\n    .dataframe tbody tr th {\n        vertical-align: top;\n    }\n\n    .dataframe thead th {\n        text-align: right;\n    }\n</style>\n<table border=\"1\" class=\"dataframe\">\n  <thead>\n    <tr style=\"text-align: right;\">\n      <th></th>\n      <th>D</th>\n      <th>G</th>\n      <th>C</th>\n      <th>A</th>\n      <th>H</th>\n      <th>M</th>\n      <th>O</th>\n    </tr>\n  </thead>\n  <tbody>\n    <tr>\n      <th>D</th>\n      <td>NaN</td>\n      <td>-0.09</td>\n      <td>NaN</td>\n      <td>-0.11</td>\n      <td>NaN</td>\n      <td>-0.1</td>\n      <td>NaN</td>\n    </tr>\n    <tr>\n      <th>G</th>\n      <td>-0.09</td>\n      <td>NaN</td>\n      <td>NaN</td>\n      <td>NaN</td>\n      <td>NaN</td>\n      <td>NaN</td>\n      <td>NaN</td>\n    </tr>\n    <tr>\n      <th>C</th>\n      <td>NaN</td>\n      <td>NaN</td>\n      <td>NaN</td>\n      <td>NaN</td>\n      <td>NaN</td>\n      <td>NaN</td>\n      <td>NaN</td>\n    </tr>\n    <tr>\n      <th>A</th>\n      <td>-0.11</td>\n      <td>NaN</td>\n      <td>NaN</td>\n      <td>NaN</td>\n      <td>NaN</td>\n      <td>NaN</td>\n      <td>-0.09</td>\n    </tr>\n    <tr>\n      <th>H</th>\n      <td>NaN</td>\n      <td>NaN</td>\n      <td>NaN</td>\n      <td>NaN</td>\n      <td>NaN</td>\n      <td>NaN</td>\n      <td>NaN</td>\n    </tr>\n    <tr>\n      <th>M</th>\n      <td>-0.10</td>\n      <td>NaN</td>\n      <td>NaN</td>\n      <td>NaN</td>\n      <td>NaN</td>\n      <td>NaN</td>\n      <td>NaN</td>\n    </tr>\n    <tr>\n      <th>O</th>\n      <td>NaN</td>\n      <td>NaN</td>\n      <td>NaN</td>\n      <td>-0.09</td>\n      <td>NaN</td>\n      <td>NaN</td>\n      <td>NaN</td>\n    </tr>\n  </tbody>\n</table>\n</div>"
     },
     "metadata": {},
     "execution_count": 8
    }
   ],
   "source": [
    "cutoff = .08\n",
    "data_disease_corr = data_num_corr.iloc[3:,3:].copy() # we cut off everything, except the information about correlation between specific conditions\n",
    "data_disease_corr = data_disease_corr.applymap(lambda x:np.NaN if abs(x)<cutoff or x==1 else x ).round(2) # we set a cutoff point at .08 and round data to the second decimal point\n",
    "data_disease_corr"
   ]
  },
  {
   "cell_type": "markdown",
   "metadata": {
    "papermill": {
     "duration": 0.028023,
     "end_time": "2020-08-31T10:45:42.335569",
     "exception": false,
     "start_time": "2020-08-31T10:45:42.307546",
     "status": "completed"
    },
    "tags": []
   },
   "source": [
    "1) Diabetes correlates negatively with glaucoma, AMD and myopia\n",
    "\n",
    "2) AMD correlates negatively with 'other diseases'\n",
    "\n",
    "These are all, however, very small correlations, so they don't necesserily have to point to anything interesting. If there is some 'protective effect', it's probably due to patients with already existing condition taking more care of their eyes.\n",
    "\n",
    "> Let's now see how many of our patients have more than one disease diagnosed"
   ]
  },
  {
   "cell_type": "code",
   "execution_count": 9,
   "metadata": {
    "execution": {
     "iopub.execute_input": "2020-08-31T10:45:42.420100Z",
     "iopub.status.busy": "2020-08-31T10:45:42.409620Z",
     "iopub.status.idle": "2020-08-31T10:45:42.982530Z",
     "shell.execute_reply": "2020-08-31T10:45:42.983081Z"
    },
    "papermill": {
     "duration": 0.621981,
     "end_time": "2020-08-31T10:45:42.983286",
     "exception": false,
     "start_time": "2020-08-31T10:45:42.361305",
     "status": "completed"
    },
    "tags": []
   },
   "outputs": [
    {
     "output_type": "execute_result",
     "data": {
      "text/plain": [
       "Counter({1: 1774, 0: 1140, 2: 557, 3: 29})"
      ]
     },
     "metadata": {},
     "execution_count": 9
    }
   ],
   "source": [
    "data_diseases = data.iloc[:,-7:].copy() # a slice of data containing only information about diseases occuring in each patient\n",
    "disease_counter = Counter()\n",
    "for i, row in data_diseases.iterrows():\n",
    "    disease_counter[row.sum()]+=1\n",
    "disease_counter"
   ]
  },
  {
   "cell_type": "markdown",
   "metadata": {
    "papermill": {
     "duration": 0.022753,
     "end_time": "2020-08-31T10:45:43.029857",
     "exception": false,
     "start_time": "2020-08-31T10:45:43.007104",
     "status": "completed"
    },
    "tags": []
   },
   "source": [
    "# Linguistic Exploratory Data Analysis: Keyphrases"
   ]
  },
  {
   "cell_type": "markdown",
   "metadata": {
    "papermill": {
     "duration": 0.022131,
     "end_time": "2020-08-31T10:45:43.075848",
     "exception": false,
     "start_time": "2020-08-31T10:45:43.053717",
     "status": "completed"
    },
    "tags": []
   },
   "source": [
    "Over half of alls our patients (1774 out of 3500) have exactly one disease diagnosed in at least one of their eyes. 1140 are healthy in both eyes. Note that if we included the 'N' column in data_diseases DataFrame, there would be no '0-cases' because the corresponding rows would have 1 in their 'N' columns, so we would have '1: 2914' instead of '1: 1774, 0: 1140'.\n",
    "\n",
    "557 patients have exactly two conditions diagnosed and 29 have three.\n",
    "\n",
    "This points to an important problem. If a patient was diagnosed not only with diabetes, but also with some other condition, how can we know the following:\n",
    "\n",
    "1) Which one of their eyes displays symptoms of diabetes and which one displays symptoms of the other disease.\n",
    "\n",
    "2) Or, maybe, one of their eyes is affected with both conditions, but the other one displays symptoms of only one or even seems completely healthy.\n",
    "\n",
    "3) Even without more than one condition coexisting in a patient, we need to know, if only one eye of our diabetic patient shows symptoms of diabetes, or maybe it's both of them.\n",
    "\n",
    "Unfortunately, such information is not contained explicitly in the last eight columns alone. We need to extract it from the keywords column.\n",
    "\n",
    "Actually, it seems that columns 'Left-Diagnosis Keywords' and 'Right-Diagnosis Keywords' contain diagnostic keyphrases (ordered sequences of words) rather than individual meaningful keywords. These keyphrases are separated with commas, so it will probably be more efficient to treat them (and not the individual words) as individual tokens conveying information about diagnosis."
   ]
  },
  {
   "cell_type": "code",
   "execution_count": 10,
   "metadata": {
    "execution": {
     "iopub.execute_input": "2020-08-31T10:45:43.137081Z",
     "iopub.status.busy": "2020-08-31T10:45:43.130929Z",
     "iopub.status.idle": "2020-08-31T10:45:43.765703Z",
     "shell.execute_reply": "2020-08-31T10:45:43.764898Z"
    },
    "papermill": {
     "duration": 0.667458,
     "end_time": "2020-08-31T10:45:43.765848",
     "exception": false,
     "start_time": "2020-08-31T10:45:43.098390",
     "status": "completed"
    },
    "tags": []
   },
   "outputs": [
    {
     "output_type": "execute_result",
     "data": {
      "text/plain": [
       "{'N': {'normal fundus': 1139, 'lens dust': 136, 'low image quality': 2},\n",
       " 'D': {'moderate non proliferative retinopathy': 662,\n",
       "  'mild nonproliferative retinopathy': 456,\n",
       "  'normal fundus': 257,\n",
       "  'severe nonproliferative retinopathy': 101,\n",
       "  'macular epiretinal membrane': 61,\n",
       "  'epiretinal membrane': 59,\n",
       "  'laser spot': 54,\n",
       "  'hypertensive retinopathy': 45,\n",
       "  'cataract': 39,\n",
       "  'lens dust': 35,\n",
       "  'diabetic retinopathy': 33,\n",
       "  'myelinated nerve fibers': 29,\n",
       "  'drusen': 26,\n",
       "  'proliferative diabetic retinopathy': 20,\n",
       "  'glaucoma': 20,\n",
       "  'vitreous degeneration': 19,\n",
       "  'pathological myopia': 18,\n",
       "  'low image quality': 16,\n",
       "  'white vessel': 13,\n",
       "  'suspected glaucoma': 12,\n",
       "  'severe proliferative diabetic retinopathy': 10,\n",
       "  'post retinal laser surgery': 9,\n",
       "  'dry age-related macular degeneration': 9,\n",
       "  'branch retinal vein occlusion': 8,\n",
       "  'wet age-related macular degeneration': 6,\n",
       "  'spotted membranous change': 6,\n",
       "  'refractive media opacity': 5,\n",
       "  'epiretinal membrane over the macula': 5,\n",
       "  'post laser photocoagulation': 4,\n",
       "  'retinal pigmentation': 3,\n",
       "  'chorioretinal atrophy': 3,\n",
       "  'retinitis pigmentosa': 2,\n",
       "  'retinal pigment epithelial hypertrophy': 2,\n",
       "  'pigment epithelium proliferation': 2,\n",
       "  'optic disk photographically invisible': 2,\n",
       "  'optic disc edema': 2,\n",
       "  'old branch retinal vein occlusion': 2,\n",
       "  'maculopathy': 2,\n",
       "  'intraretinal microvascular abnormality': 2,\n",
       "  'central retinal vein occlusion': 2,\n",
       "  'atrophic change': 2,\n",
       "  'abnormal pigment ': 2,\n",
       "  'vessel tortuosity': 1,\n",
       "  'vascular loops': 1,\n",
       "  'tessellated fundus': 1,\n",
       "  'suspicious diabetic retinopathy': 1,\n",
       "  'suspected moderate non proliferative retinopathy': 1,\n",
       "  'suspected microvascular anomalies': 1,\n",
       "  'suspected diabetic retinopathy': 1,\n",
       "  'retinal pigment epithelium atrophy': 1,\n",
       "  'retina fold': 1,\n",
       "  'pigmentation disorder': 1,\n",
       "  'optic disk epiretinal membrane': 1,\n",
       "  'old choroiditis': 1,\n",
       "  'no fundus image': 1,\n",
       "  'myopia retinopathy': 1,\n",
       "  'macular pigmentation disorder': 1,\n",
       "  'glial remnants anterior to the optic disc': 1,\n",
       "  'chorioretinal atrophy with pigmentation proliferation': 1,\n",
       "  'central retinal artery occlusion': 1,\n",
       "  'anterior segment image': 1,\n",
       "  'age-related macular degeneration': 1},\n",
       " 'G': {'glaucoma': 177,\n",
       "  'normal fundus': 45,\n",
       "  'suspected glaucoma': 38,\n",
       "  'moderate non proliferative retinopathy': 19,\n",
       "  'lens dust': 13,\n",
       "  'dry age-related macular degeneration': 10,\n",
       "  'refractive media opacity': 8,\n",
       "  'hypertensive retinopathy': 8,\n",
       "  'diabetic retinopathy': 8,\n",
       "  'macular epiretinal membrane': 7,\n",
       "  'myelinated nerve fibers': 6,\n",
       "  'myopia retinopathy': 5,\n",
       "  'mild nonproliferative retinopathy': 5,\n",
       "  'epiretinal membrane': 5,\n",
       "  'drusen': 5,\n",
       "  'optic disk photographically invisible': 4,\n",
       "  'laser spot': 4,\n",
       "  'wet age-related macular degeneration': 3,\n",
       "  'old central retinal vein occlusion': 3,\n",
       "  'cataract': 3,\n",
       "  'vitreous degeneration': 2,\n",
       "  'tessellated fundus': 2,\n",
       "  'maculopathy': 2,\n",
       "  'intraretinal hemorrhage': 2,\n",
       "  'chorioretinal atrophy': 2,\n",
       "  'white vessel': 1,\n",
       "  'suspicious diabetic retinopathy': 1,\n",
       "  'suspected cataract': 1,\n",
       "  'post laser photocoagulation': 1,\n",
       "  'pigmentation disorder': 1,\n",
       "  'pathological myopia': 1,\n",
       "  'optic nerve atrophy': 1,\n",
       "  'myopic maculopathy': 1,\n",
       "  'macular pigmentation disorder': 1,\n",
       "  'image offset': 1,\n",
       "  'fundus laser photocoagulation spots': 1,\n",
       "  'diffuse retinal atrophy': 1,\n",
       "  'central retinal vein occlusion': 1,\n",
       "  'branch retinal vein occlusion': 1},\n",
       " 'C': {'cataract': 212,\n",
       "  'normal fundus': 57,\n",
       "  'moderate non proliferative retinopathy': 26,\n",
       "  'lens dust': 25,\n",
       "  'mild nonproliferative retinopathy': 12,\n",
       "  'refractive media opacity': 8,\n",
       "  'laser spot': 5,\n",
       "  'drusen': 5,\n",
       "  'epiretinal membrane': 4,\n",
       "  'severe proliferative diabetic retinopathy': 3,\n",
       "  'myelinated nerve fibers': 3,\n",
       "  'macular epiretinal membrane': 3,\n",
       "  'suspected glaucoma': 2,\n",
       "  'hypertensive retinopathy': 2,\n",
       "  'vitreous degeneration': 1,\n",
       "  'suspected cataract': 1,\n",
       "  'proliferative diabetic retinopathy': 1,\n",
       "  'post retinal laser surgery': 1,\n",
       "  'glaucoma': 1,\n",
       "  'branch retinal vein occlusion': 1},\n",
       " 'A': {'dry age-related macular degeneration': 136,\n",
       "  'wet age-related macular degeneration': 46,\n",
       "  'normal fundus': 22,\n",
       "  'diabetic retinopathy': 13,\n",
       "  'glaucoma': 11,\n",
       "  'refractive media opacity': 4,\n",
       "  'hypertensive retinopathy': 4,\n",
       "  'tessellated fundus': 3,\n",
       "  'myopia retinopathy': 3,\n",
       "  'myelinated nerve fibers': 2,\n",
       "  'mild nonproliferative retinopathy': 2,\n",
       "  'macular epiretinal membrane': 2,\n",
       "  'age-related macular degeneration': 2,\n",
       "  'post laser photocoagulation': 1,\n",
       "  'optic nerve atrophy': 1,\n",
       "  'old branch retinal vein occlusion': 1,\n",
       "  'moderate non proliferative retinopathy': 1,\n",
       "  'image offset': 1,\n",
       "  'drusen': 1,\n",
       "  'diffuse chorioretinal atrophy': 1,\n",
       "  'choroidal nevus': 1,\n",
       "  'central serous chorioretinopathy': 1},\n",
       " 'H': {'hypertensive retinopathy': 103,\n",
       "  'moderate non proliferative retinopathy': 19,\n",
       "  'mild nonproliferative retinopathy': 17,\n",
       "  'glaucoma': 6,\n",
       "  'severe nonproliferative retinopathy': 5,\n",
       "  'proliferative diabetic retinopathy': 4,\n",
       "  'suspected glaucoma': 2,\n",
       "  'old central retinal vein occlusion': 2,\n",
       "  'macular epiretinal membrane': 2,\n",
       "  'dry age-related macular degeneration': 2,\n",
       "  'diabetic retinopathy': 2,\n",
       "  'cataract': 2,\n",
       "  'branch retinal vein occlusion': 2,\n",
       "  'wet age-related macular degeneration': 1,\n",
       "  'vitreous opacity': 1,\n",
       "  'suspected diabetic retinopathy': 1,\n",
       "  'optic nerve atrophy': 1,\n",
       "  'old chorioretinopathy': 1,\n",
       "  'old branch retinal vein occlusion': 1,\n",
       "  'maculopathy': 1,\n",
       "  'drusen': 1,\n",
       "  'central retinal vein occlusion': 1,\n",
       "  'age-related macular degeneration': 1},\n",
       " 'M': {'pathological myopia': 161,\n",
       "  'normal fundus': 27,\n",
       "  'tessellated fundus': 21,\n",
       "  'peripapillary atrophy': 16,\n",
       "  'moderate non proliferative retinopathy': 12,\n",
       "  'refractive media opacity': 9,\n",
       "  'myopia retinopathy': 9,\n",
       "  'lens dust': 6,\n",
       "  'glaucoma': 6,\n",
       "  'mild nonproliferative retinopathy': 5,\n",
       "  'chorioretinal atrophy': 5,\n",
       "  'myopic retinopathy': 2,\n",
       "  'myopic maculopathy': 2,\n",
       "  'dry age-related macular degeneration': 2,\n",
       "  'drusen': 2,\n",
       "  'anterior segment image': 2,\n",
       "  'wet age-related macular degeneration': 1,\n",
       "  'suspected moderate non proliferative retinopathy': 1,\n",
       "  'suspected macular epimacular membrane': 1,\n",
       "  'suspected glaucoma': 1,\n",
       "  'retinal detachment': 1,\n",
       "  'punctate inner choroidopathy': 1,\n",
       "  'old chorioretinopathy': 1,\n",
       "  'laser spot': 1,\n",
       "  'intraretinal hemorrhage': 1,\n",
       "  'epiretinal membrane': 1,\n",
       "  'diabetic retinopathy': 1},\n",
       " 'O': {'normal fundus': 467,\n",
       "  'moderate non proliferative retinopathy': 202,\n",
       "  'macular epiretinal membrane': 186,\n",
       "  'epiretinal membrane': 165,\n",
       "  'drusen': 127,\n",
       "  'mild nonproliferative retinopathy': 111,\n",
       "  'lens dust': 95,\n",
       "  'myelinated nerve fibers': 91,\n",
       "  'vitreous degeneration': 68,\n",
       "  'laser spot': 63,\n",
       "  'refractive media opacity': 53,\n",
       "  'pathological myopia': 42,\n",
       "  'glaucoma': 38,\n",
       "  'cataract': 31,\n",
       "  'tessellated fundus': 27,\n",
       "  'spotted membranous change': 27,\n",
       "  'branch retinal vein occlusion': 26,\n",
       "  'maculopathy': 24,\n",
       "  'chorioretinal atrophy': 24,\n",
       "  'white vessel': 18,\n",
       "  'retinal pigmentation': 18,\n",
       "  'peripapillary atrophy': 16,\n",
       "  'epiretinal membrane over the macula': 13,\n",
       "  'hypertensive retinopathy': 12,\n",
       "  'suspected glaucoma': 11,\n",
       "  'post retinal laser surgery': 11,\n",
       "  'dry age-related macular degeneration': 11,\n",
       "  'diabetic retinopathy': 10,\n",
       "  'severe nonproliferative retinopathy': 9,\n",
       "  'retinitis pigmentosa': 9,\n",
       "  'post laser photocoagulation': 7,\n",
       "  'optic disc edema': 7,\n",
       "  'central retinal vein occlusion': 7,\n",
       "  'atrophic change': 7,\n",
       "  'wet age-related macular degeneration': 6,\n",
       "  'retinochoroidal coloboma': 6,\n",
       "  'old branch retinal vein occlusion': 6,\n",
       "  'severe proliferative diabetic retinopathy': 5,\n",
       "  'proliferative diabetic retinopathy': 4,\n",
       "  'pigment epithelium proliferation': 4,\n",
       "  'optic nerve atrophy': 4,\n",
       "  'old chorioretinopathy': 4,\n",
       "  'depigmentation of the retinal pigment epithelium': 4,\n",
       "  'chorioretinal atrophy with pigmentation proliferation': 4,\n",
       "  'central retinal artery occlusion': 4,\n",
       "  'retina fold': 3,\n",
       "  'old central retinal vein occlusion': 3,\n",
       "  'idiopathic choroidal neovascularization': 3,\n",
       "  'branch retinal artery occlusion': 3,\n",
       "  'abnormal pigment ': 3,\n",
       "  'vessel tortuosity': 2,\n",
       "  'rhegmatogenous retinal detachment': 2,\n",
       "  'retinal pigment epithelial hypertrophy': 2,\n",
       "  'pigmentation disorder': 2,\n",
       "  'myopia retinopathy': 2,\n",
       "  'morning glory syndrome': 2,\n",
       "  'macular hole': 2,\n",
       "  'intraretinal microvascular abnormality': 2,\n",
       "  'intraretinal hemorrhage': 2,\n",
       "  'atrophy': 2,\n",
       "  'wedge-shaped change': 1,\n",
       "  'wedge white line change': 1,\n",
       "  'vitreous opacity': 1,\n",
       "  'vascular loops': 1,\n",
       "  'suspected retinitis pigmentosa': 1,\n",
       "  'suspected retinal vascular sheathing': 1,\n",
       "  'suspected microvascular anomalies': 1,\n",
       "  'suspected macular epimacular membrane': 1,\n",
       "  'suspected abnormal color of  optic disc': 1,\n",
       "  'silicone oil eye': 1,\n",
       "  'retinal vascular sheathing': 1,\n",
       "  'retinal pigment epithelium atrophy': 1,\n",
       "  'retinal detachment': 1,\n",
       "  'retinal artery macroaneurysm': 1,\n",
       "  'punctate inner choroidopathy': 1,\n",
       "  'oval yellow-white atrophy': 1,\n",
       "  'optic disk epiretinal membrane': 1,\n",
       "  'optic discitis': 1,\n",
       "  'old choroiditis': 1,\n",
       "  'macular pigmentation disorder': 1,\n",
       "  'macular coloboma': 1,\n",
       "  'low image quality': 1,\n",
       "  'glial remnants anterior to the optic disc': 1,\n",
       "  'fundus laser photocoagulation spots': 1,\n",
       "  'diffuse retinal atrophy': 1,\n",
       "  'diffuse chorioretinal atrophy': 1,\n",
       "  'congenital choroidal coloboma': 1,\n",
       "  'choroidal nevus': 1,\n",
       "  'central serous chorioretinopathy': 1,\n",
       "  'asteroid hyalosis': 1,\n",
       "  'arteriosclerosis': 1}}"
      ]
     },
     "metadata": {},
     "execution_count": 10
    }
   ],
   "source": [
    "# Let's create a dictionary to store information about keyphrases used in the diagnosis for each disease and the frequency of their usage\n",
    "conditions = list(data.columns[-8:])\n",
    "conditions_keyphrases = {condition: Counter() for condition in conditions}\n",
    "\n",
    "for i, row in data.iterrows():\n",
    "    # Keyphrases used in the diagnosis for each eye:\n",
    "    keyphrases = list(set(row['Left-Diagnostic Keywords'].replace('，',',').split(',') + row['Right-Diagnostic Keywords'].replace('，',',').split(',')))\n",
    "        # Keyphrases are both split with an ordinary comma (',') and a 'weird' comma ('，'), so we replace all the cases in which the latter occurs with the first one\n",
    "        #  and only then split the string of keywords into keyphrases. We turn it into a set to eliminate any doubles and then into a list again because we may want to\n",
    "        #  use some list-specific methods, unavailable for sets. \n",
    "    \n",
    "    # For every condition diagnosed\n",
    "    for condition in conditions:\n",
    "        if row[condition]==1:\n",
    "            # Add 1 to the counter for the keyphrases present\n",
    "            for keyphrase in keyphrases:\n",
    "                conditions_keyphrases[condition][keyphrase] += 1\n",
    "\n",
    "# Sort the dictionary for each condition in the descending order:\n",
    "def dicsort(d):\n",
    "    d_items_rev = [ (value, key) for (key, value) in d.items() ]\n",
    "    d_items_sorted = [ (key, value) for (value, key) in sorted(d_items_rev, reverse=True) ]\n",
    "    d_sorted = {key: value for (key, value) in d_items_sorted}\n",
    "    return d_sorted\n",
    "\n",
    "conditions_keyphrases = {condition: dicsort(conditions_keyphrases[condition]) for condition in conditions_keyphrases.keys()}\n",
    "\n",
    "conditions_keyphrases"
   ]
  },
  {
   "cell_type": "markdown",
   "metadata": {
    "papermill": {
     "duration": 0.022765,
     "end_time": "2020-08-31T10:45:43.811910",
     "exception": false,
     "start_time": "2020-08-31T10:45:43.789145",
     "status": "completed"
    },
    "tags": []
   },
   "source": [
    "Clearly, there are some keyphrases highly indicative of each condition:\n",
    "\n",
    "Normal: normal fundus\n",
    "\n",
    "Diabetes: moderate, mild or severe nonproliferative retinopathy\n",
    "    \n",
    "Glaucoma: glaucoma\n",
    "\n",
    "Cataract: cataract\n",
    "\n",
    "AMD: dry/wet age-related macular degeneration\n",
    "\n",
    "Hypertension: hypertensive retinopathy\n",
    "\n",
    "Myopia: pathological myopia\n",
    "\n",
    "Other: well..., that's a mess, but that should be expected"
   ]
  },
  {
   "cell_type": "markdown",
   "metadata": {
    "papermill": {
     "duration": 0.022721,
     "end_time": "2020-08-31T10:45:43.857932",
     "exception": false,
     "start_time": "2020-08-31T10:45:43.835211",
     "status": "completed"
    },
    "tags": []
   },
   "source": [
    "However, the above code allows for quite a substantial amount of keyphrase cross-pollination. If a patient is diagnosed with more than one condition, then each of these conditions will be ascribed keyphrase(s) characteristic of the other.\n",
    "\n",
    "Also, the above code mixes the diagnoses for both eyes, treating them as one unit, which is definitely not preferable. Since, there are separate columns for keywords from diagnoses of left and right eye, we would expect that states of the left and the right eye may be quite different.\n",
    "\n",
    "To handle both of these problems that, we run a modified code, which extracts keyphrases in the exact same way, but exclusively from patients with only one condition diagnosed.\n",
    "\n",
    "Also, to see, whether we significantly skimmed out dictionary, we will save the size of each of its entries (i.e. number of keyphrases for each condition) and number of occurences of all keyphrases for each condition:"
   ]
  },
  {
   "cell_type": "code",
   "execution_count": 11,
   "metadata": {
    "execution": {
     "iopub.execute_input": "2020-08-31T10:45:43.916765Z",
     "iopub.status.busy": "2020-08-31T10:45:43.915627Z",
     "iopub.status.idle": "2020-08-31T10:45:43.921140Z",
     "shell.execute_reply": "2020-08-31T10:45:43.920446Z"
    },
    "papermill": {
     "duration": 0.039425,
     "end_time": "2020-08-31T10:45:43.921307",
     "exception": false,
     "start_time": "2020-08-31T10:45:43.881882",
     "status": "completed"
    },
    "tags": []
   },
   "outputs": [
    {
     "output_type": "execute_result",
     "data": {
      "text/plain": [
       "{'n_keyphrases': {'N': 3,\n",
       "  'D': 62,\n",
       "  'G': 39,\n",
       "  'C': 20,\n",
       "  'A': 22,\n",
       "  'H': 23,\n",
       "  'M': 27,\n",
       "  'O': 91},\n",
       " 'n_occurences': {'N': 1277,\n",
       "  'D': 2085,\n",
       "  'G': 400,\n",
       "  'C': 373,\n",
       "  'A': 259,\n",
       "  'H': 178,\n",
       "  'M': 298,\n",
       "  'O': 2150}}"
      ]
     },
     "metadata": {},
     "execution_count": 11
    }
   ],
   "source": [
    "conditions_keyphrases_metadata_1 = {\n",
    "    'n_keyphrases': {condition: len(conditions_keyphrases[condition]) for condition in conditions_keyphrases.keys()},\n",
    "    'n_occurences': {condition: np.sum(list(conditions_keyphrases[condition].values())) for condition in conditions_keyphrases.keys()}\n",
    "}\n",
    "\n",
    "conditions_keyphrases_metadata_1"
   ]
  },
  {
   "cell_type": "code",
   "execution_count": 12,
   "metadata": {
    "execution": {
     "iopub.execute_input": "2020-08-31T10:45:43.980054Z",
     "iopub.status.busy": "2020-08-31T10:45:43.978843Z",
     "iopub.status.idle": "2020-08-31T10:45:45.779451Z",
     "shell.execute_reply": "2020-08-31T10:45:45.778719Z"
    },
    "papermill": {
     "duration": 1.834641,
     "end_time": "2020-08-31T10:45:45.779610",
     "exception": false,
     "start_time": "2020-08-31T10:45:43.944969",
     "status": "completed"
    },
    "tags": []
   },
   "outputs": [],
   "source": [
    "conditions_keyphrases = {condition: Counter() for condition in conditions}\n",
    "\n",
    "for i, row in data.iterrows():\n",
    "    # If there was only one condition diagnosed, ('N' included) which one is it?\n",
    "    if row.iloc[-8:].sum()==1:\n",
    "        condition = row.index[len(row.index)-8 + row.iloc[-8:].astype(np.int32).argmax()]\n",
    "        # Keyphrases used in the diagnosis for each eye\n",
    "        keyphrases_L = row['Left-Diagnostic Keywords'].replace('，',',').split(',')\n",
    "        keyphrases_R = row['Right-Diagnostic Keywords'].replace('，',',').split(',')\n",
    "        keyphrases = []    \n",
    "        # If this patient was not diagnosed as healthy\n",
    "        if condition!='N':\n",
    "            # If this eye was not diagnosed as healthy, add its diagnostic keyphrases to the list of keyphrases\n",
    "            if 'normal fundus' not in keyphrases_L:\n",
    "                keyphrases += keyphrases_L\n",
    "            if 'normal fundus' not in keyphrases_R:\n",
    "                keyphrases += keyphrases_R\n",
    "        # If this patient was diagnosed as healthy, then both of his eyes should be ascribed to category 'N'\n",
    "        else:\n",
    "            keyphrases += keyphrases_L + keyphrases_R\n",
    "\n",
    "        # Add the keyphrases to the conditions_keyphrases dictionary:\n",
    "        for keyphrase in keyphrases:\n",
    "            conditions_keyphrases[condition][keyphrase] += 1\n",
    "\n",
    "\n",
    "conditions_keyphrases = {condition: dicsort(conditions_keyphrases[condition]) for condition in conditions_keyphrases.keys()}\n",
    "\n",
    "conditions_keyphrases_metadata_2 = {\n",
    "    'n_keyphrases': {condition: len(conditions_keyphrases[condition]) for condition in conditions_keyphrases.keys()},\n",
    "    'n_occurences': {condition: np.sum(list(conditions_keyphrases[condition].values())) for condition in conditions_keyphrases.keys()}\n",
    "}"
   ]
  },
  {
   "cell_type": "markdown",
   "metadata": {
    "papermill": {
     "duration": 0.022875,
     "end_time": "2020-08-31T10:45:45.825999",
     "exception": false,
     "start_time": "2020-08-31T10:45:45.803124",
     "status": "completed"
    },
    "tags": []
   },
   "source": [
    "Let's now compare the outcomes of the two methods:"
   ]
  },
  {
   "cell_type": "code",
   "execution_count": 13,
   "metadata": {
    "execution": {
     "iopub.execute_input": "2020-08-31T10:45:45.883773Z",
     "iopub.status.busy": "2020-08-31T10:45:45.882818Z",
     "iopub.status.idle": "2020-08-31T10:45:45.888194Z",
     "shell.execute_reply": "2020-08-31T10:45:45.888868Z"
    },
    "papermill": {
     "duration": 0.038084,
     "end_time": "2020-08-31T10:45:45.889064",
     "exception": false,
     "start_time": "2020-08-31T10:45:45.850980",
     "status": "completed"
    },
    "tags": []
   },
   "outputs": [
    {
     "output_type": "stream",
     "name": "stdout",
     "text": [
      "\tInclusive, cross-pollination-prone method:\nn_keyphrases:\n{'N': 3, 'D': 62, 'G': 39, 'C': 20, 'A': 22, 'H': 23, 'M': 27, 'O': 91}\nn_occurences:\n{'N': 1277, 'D': 2085, 'G': 400, 'C': 373, 'A': 259, 'H': 178, 'M': 298, 'O': 2150}\n\n\n\tExclusive, cross-pollination-resistant method:\nn_keyphrases:\n{'N': 3, 'D': 9, 'G': 4, 'C': 2, 'A': 2, 'H': 1, 'M': 5, 'O': 55}\nn_occurences:\n{'N': 2502, 'D': 1189, 'G': 204, 'C': 256, 'A': 216, 'H': 72, 'M': 193, 'O': 756}\n"
     ]
    }
   ],
   "source": [
    "print('\\tInclusive, cross-pollination-prone method:')\n",
    "print('n_keyphrases:')\n",
    "print(conditions_keyphrases_metadata_1['n_keyphrases'])\n",
    "print('n_occurences:')\n",
    "print(conditions_keyphrases_metadata_1['n_occurences'])\n",
    "\n",
    "print('\\n')\n",
    "\n",
    "print('\\tExclusive, cross-pollination-resistant method:')\n",
    "print('n_keyphrases:')\n",
    "print(conditions_keyphrases_metadata_2['n_keyphrases'])\n",
    "print('n_occurences:')\n",
    "print(conditions_keyphrases_metadata_2['n_occurences'])"
   ]
  },
  {
   "cell_type": "markdown",
   "metadata": {
    "papermill": {
     "duration": 0.023173,
     "end_time": "2020-08-31T10:45:45.937756",
     "exception": false,
     "start_time": "2020-08-31T10:45:45.914583",
     "status": "completed"
    },
    "tags": []
   },
   "source": [
    "The second one is clearly much more preferable. For each condition, we found a smaller, probably much more condition-specific set of diagnostic keyphrases. Let's take a look at it:"
   ]
  },
  {
   "cell_type": "code",
   "execution_count": 14,
   "metadata": {
    "execution": {
     "iopub.execute_input": "2020-08-31T10:45:45.996962Z",
     "iopub.status.busy": "2020-08-31T10:45:45.995724Z",
     "iopub.status.idle": "2020-08-31T10:45:46.002153Z",
     "shell.execute_reply": "2020-08-31T10:45:46.002802Z"
    },
    "papermill": {
     "duration": 0.041513,
     "end_time": "2020-08-31T10:45:46.002984",
     "exception": false,
     "start_time": "2020-08-31T10:45:45.961471",
     "status": "completed"
    },
    "tags": []
   },
   "outputs": [
    {
     "output_type": "execute_result",
     "data": {
      "text/plain": [
       "{'N': {'normal fundus': 2277, 'lens dust': 222, 'low image quality': 3},\n",
       " 'D': {'moderate non proliferative retinopathy': 624,\n",
       "  'mild nonproliferative retinopathy': 383,\n",
       "  'severe nonproliferative retinopathy': 142,\n",
       "  'low image quality': 16,\n",
       "  'proliferative diabetic retinopathy': 14,\n",
       "  'severe proliferative diabetic retinopathy': 4,\n",
       "  'diabetic retinopathy': 4,\n",
       "  'optic disk photographically invisible': 1,\n",
       "  'no fundus image': 1},\n",
       " 'G': {'glaucoma': 184,\n",
       "  'suspected glaucoma': 14,\n",
       "  'optic disk photographically invisible': 3,\n",
       "  'lens dust': 3},\n",
       " 'C': {'cataract': 235, 'lens dust': 21},\n",
       " 'A': {'dry age-related macular degeneration': 182,\n",
       "  'wet age-related macular degeneration': 34},\n",
       " 'H': {'hypertensive retinopathy': 72},\n",
       " 'M': {'pathological myopia': 182,\n",
       "  'myopic retinopathy': 4,\n",
       "  'lens dust': 4,\n",
       "  'myopic maculopathy': 2,\n",
       "  'anterior segment image': 1},\n",
       " 'O': {'drusen': 130,\n",
       "  'macular epiretinal membrane': 120,\n",
       "  'epiretinal membrane': 110,\n",
       "  'myelinated nerve fibers': 58,\n",
       "  'vitreous degeneration': 52,\n",
       "  'lens dust': 41,\n",
       "  'refractive media opacity': 29,\n",
       "  'spotted membranous change': 24,\n",
       "  'maculopathy': 22,\n",
       "  'retinal pigmentation': 18,\n",
       "  'chorioretinal atrophy': 16,\n",
       "  'branch retinal vein occlusion': 15,\n",
       "  'retinitis pigmentosa': 10,\n",
       "  'retinochoroidal coloboma': 9,\n",
       "  'laser spot': 9,\n",
       "  'epiretinal membrane over the macula': 9,\n",
       "  'optic disc edema': 8,\n",
       "  'central retinal vein occlusion': 7,\n",
       "  'depigmentation of the retinal pigment epithelium': 5,\n",
       "  'atrophic change': 5,\n",
       "  'white vessel': 4,\n",
       "  'tessellated fundus': 3,\n",
       "  'idiopathic choroidal neovascularization': 3,\n",
       "  'chorioretinal atrophy with pigmentation proliferation': 3,\n",
       "  'central retinal artery occlusion': 3,\n",
       "  'branch retinal artery occlusion': 3,\n",
       "  'rhegmatogenous retinal detachment': 2,\n",
       "  'retina fold': 2,\n",
       "  'post retinal laser surgery': 2,\n",
       "  'pigment epithelium proliferation': 2,\n",
       "  'optic nerve atrophy': 2,\n",
       "  'old chorioretinopathy': 2,\n",
       "  'old branch retinal vein occlusion': 2,\n",
       "  'morning glory syndrome': 2,\n",
       "  'macular hole': 2,\n",
       "  'low image quality': 2,\n",
       "  'atrophy': 2,\n",
       "  'wedge-shaped change': 1,\n",
       "  'wedge white line change': 1,\n",
       "  'vessel tortuosity': 1,\n",
       "  'suspected retinitis pigmentosa': 1,\n",
       "  'suspected retinal vascular sheathing': 1,\n",
       "  'suspected abnormal color of  optic disc': 1,\n",
       "  'silicone oil eye': 1,\n",
       "  'retinal vascular sheathing': 1,\n",
       "  'retinal artery macroaneurysm': 1,\n",
       "  'post laser photocoagulation': 1,\n",
       "  'pigmentation disorder': 1,\n",
       "  'oval yellow-white atrophy': 1,\n",
       "  'optic discitis': 1,\n",
       "  'macular coloboma': 1,\n",
       "  'congenital choroidal coloboma': 1,\n",
       "  'asteroid hyalosis': 1,\n",
       "  'arteriosclerosis': 1,\n",
       "  'abnormal pigment ': 1}}"
      ]
     },
     "metadata": {},
     "execution_count": 14
    }
   ],
   "source": [
    "conditions_keyphrases"
   ]
  },
  {
   "cell_type": "markdown",
   "metadata": {
    "papermill": {
     "duration": 0.029242,
     "end_time": "2020-08-31T10:45:46.061334",
     "exception": false,
     "start_time": "2020-08-31T10:45:46.032092",
     "status": "completed"
    },
    "tags": []
   },
   "source": [
    "Having obtained proper diagnostic keyphrases for each class, we can now calculate:\n",
    "\n",
    "1) The frequency of each keyphrase occurring in each category (including cases of patients with more than one condition).\n",
    "\n",
    "2) Condition-specifity of each keyphrase."
   ]
  },
  {
   "cell_type": "code",
   "execution_count": 15,
   "metadata": {
    "execution": {
     "iopub.execute_input": "2020-08-31T10:45:46.128640Z",
     "iopub.status.busy": "2020-08-31T10:45:46.127753Z",
     "iopub.status.idle": "2020-08-31T10:45:46.760367Z",
     "shell.execute_reply": "2020-08-31T10:45:46.759554Z"
    },
    "papermill": {
     "duration": 0.674876,
     "end_time": "2020-08-31T10:45:46.760506",
     "exception": false,
     "start_time": "2020-08-31T10:45:46.085630",
     "status": "completed"
    },
    "tags": []
   },
   "outputs": [
    {
     "output_type": "execute_result",
     "data": {
      "text/plain": [
       "{'N': {'normal fundus': 0.999, 'lens dust': 0.097, 'low image quality': 0.001},\n",
       " 'D': {'moderate non proliferative retinopathy': 0.55,\n",
       "  'mild nonproliferative retinopathy': 0.304,\n",
       "  'severe nonproliferative retinopathy': 0.089,\n",
       "  'diabetic retinopathy': 0.031,\n",
       "  'proliferative diabetic retinopathy': 0.014,\n",
       "  'low image quality': 0.009,\n",
       "  'severe proliferative diabetic retinopathy': 0.006,\n",
       "  'optic disk photographically invisible': 0.001,\n",
       "  'no fundus image': 0.001},\n",
       " 'G': {'glaucoma': 0.832,\n",
       "  'suspected glaucoma': 0.13,\n",
       "  'lens dust': 0.065,\n",
       "  'optic disk photographically invisible': 0.012},\n",
       " 'C': {'cataract': 0.966, 'lens dust': 0.111},\n",
       " 'A': {'dry age-related macular degeneration': 0.823,\n",
       "  'wet age-related macular degeneration': 0.177},\n",
       " 'H': {'hypertensive retinopathy': 1.0},\n",
       " 'M': {'pathological myopia': 0.961,\n",
       "  'lens dust': 0.027,\n",
       "  'myopic retinopathy': 0.016,\n",
       "  'myopic maculopathy': 0.012,\n",
       "  'anterior segment image': 0.008},\n",
       " 'O': {'macular epiretinal membrane': 0.162,\n",
       "  'epiretinal membrane': 0.151,\n",
       "  'drusen': 0.145,\n",
       "  'lens dust': 0.111,\n",
       "  'myelinated nerve fibers': 0.08,\n",
       "  'laser spot': 0.077,\n",
       "  'vitreous degeneration': 0.058,\n",
       "  'refractive media opacity': 0.051,\n",
       "  'spotted membranous change': 0.024,\n",
       "  'tessellated fundus': 0.023,\n",
       "  'maculopathy': 0.023,\n",
       "  'chorioretinal atrophy': 0.021,\n",
       "  'branch retinal vein occlusion': 0.021,\n",
       "  'retinal pigmentation': 0.017,\n",
       "  'white vessel': 0.015,\n",
       "  'post retinal laser surgery': 0.015,\n",
       "  'epiretinal membrane over the macula': 0.011,\n",
       "  'retinitis pigmentosa': 0.01,\n",
       "  'post laser photocoagulation': 0.008,\n",
       "  'optic disc edema': 0.008,\n",
       "  'central retinal vein occlusion': 0.008,\n",
       "  'retinochoroidal coloboma': 0.007,\n",
       "  'optic nerve atrophy': 0.006,\n",
       "  'atrophic change': 0.006,\n",
       "  'old branch retinal vein occlusion': 0.005,\n",
       "  'depigmentation of the retinal pigment epithelium': 0.004,\n",
       "  'pigment epithelium proliferation': 0.003,\n",
       "  'old chorioretinopathy': 0.003,\n",
       "  'chorioretinal atrophy with pigmentation proliferation': 0.003,\n",
       "  'central retinal artery occlusion': 0.003,\n",
       "  'vessel tortuosity': 0.002,\n",
       "  'rhegmatogenous retinal detachment': 0.002,\n",
       "  'retina fold': 0.002,\n",
       "  'pigmentation disorder': 0.002,\n",
       "  'morning glory syndrome': 0.002,\n",
       "  'macular hole': 0.002,\n",
       "  'low image quality': 0.002,\n",
       "  'idiopathic choroidal neovascularization': 0.002,\n",
       "  'branch retinal artery occlusion': 0.002,\n",
       "  'atrophy': 0.002,\n",
       "  'abnormal pigment ': 0.002,\n",
       "  'wedge-shaped change': 0.001,\n",
       "  'wedge white line change': 0.001,\n",
       "  'suspected retinitis pigmentosa': 0.001,\n",
       "  'suspected retinal vascular sheathing': 0.001,\n",
       "  'suspected abnormal color of  optic disc': 0.001,\n",
       "  'silicone oil eye': 0.001,\n",
       "  'retinal vascular sheathing': 0.001,\n",
       "  'retinal artery macroaneurysm': 0.001,\n",
       "  'oval yellow-white atrophy': 0.001,\n",
       "  'optic discitis': 0.001,\n",
       "  'macular coloboma': 0.001,\n",
       "  'congenital choroidal coloboma': 0.001,\n",
       "  'asteroid hyalosis': 0.001,\n",
       "  'arteriosclerosis': 0.001}}"
      ]
     },
     "metadata": {},
     "execution_count": 15
    }
   ],
   "source": [
    "# A dictionary which will contain a frequency of keyphrases occuring within each condition (i.e. what fraction of cases within each condition had a given keyphrase)\n",
    "conditions_keyphrases_freq = conditions_keyphrases.copy()\n",
    "for condition in conditions_keyphrases_freq:\n",
    "    for keyphrase in conditions_keyphrases_freq[condition]:\n",
    "        conditions_keyphrases_freq[condition][keyphrase] = 0\n",
    "        \n",
    "conditions_counter = Counter() # Counter for number of individual images displaying signs of each condition\n",
    "\n",
    "for i, row in data.iterrows():\n",
    "    keyphrases_L = row['Left-Diagnostic Keywords'].replace('，',',').split(',')\n",
    "    keyphrases_R = row['Right-Diagnostic Keywords'].replace('，',',').split(',')\n",
    "    for condition in conditions:\n",
    "        # If at least one eye of this patient has the following condition\n",
    "        if row[condition]==1:\n",
    "            # If any keyphrase characteristic of this condition was found in the diagnostic keyphrases for the left eye...\n",
    "            if any (keyphrase in keyphrases_L for keyphrase in conditions_keyphrases_freq[condition]):\n",
    "                # ...then we can assume that this eye displays symptoms of this condition. We add 1 to the counter for cases of this condition.\n",
    "                conditions_counter[condition] += 1\n",
    "                # For any keyphrase used to describe it...\n",
    "                for keyphrase in keyphrases_L:\n",
    "                    # ...we check if it is associated with this condition. If it is, we add 1 to the counter for occurences of keyphrases for this condition.\n",
    "                    if keyphrase in conditions_keyphrases_freq[condition]:\n",
    "                        conditions_keyphrases_freq[condition][keyphrase] += 1 \n",
    "            # We repeat the same for the right eye:\n",
    "            if any (keyphrase in keyphrases_R for keyphrase in conditions_keyphrases_freq[condition]):\n",
    "                conditions_counter[condition] += 1\n",
    "                for keyphrase in keyphrases_R:\n",
    "                    if keyphrase in conditions_keyphrases_freq[condition]:\n",
    "                        conditions_keyphrases_freq[condition][keyphrase] += 1\n",
    "    \n",
    "# To obtain percentages, we divide each keyphrase count by the number of cases of the condition (i.e. individual eyes displaying characteristic symptoms)\n",
    "for condition in conditions_keyphrases_freq:\n",
    "    for keyphrase in conditions_keyphrases_freq[condition]:\n",
    "        conditions_keyphrases_freq[condition][keyphrase] = np.round(conditions_keyphrases_freq[condition][keyphrase]/conditions_counter[condition], 3)\n",
    "\n",
    "# Sorting:\n",
    "conditions_keyphrases_freq = {condition: dicsort(conditions_keyphrases_freq[condition]) for condition in conditions_keyphrases_freq}\n",
    "\n",
    "conditions_keyphrases_freq"
   ]
  },
  {
   "cell_type": "markdown",
   "metadata": {
    "papermill": {
     "duration": 0.02385,
     "end_time": "2020-08-31T10:45:46.808847",
     "exception": false,
     "start_time": "2020-08-31T10:45:46.784997",
     "status": "completed"
    },
    "tags": []
   },
   "source": [
    "# Keyphrases for image sorting"
   ]
  },
  {
   "cell_type": "markdown",
   "metadata": {
    "papermill": {
     "duration": 0.023488,
     "end_time": "2020-08-31T10:45:46.856692",
     "exception": false,
     "start_time": "2020-08-31T10:45:46.833204",
     "status": "completed"
    },
    "tags": []
   },
   "source": [
    "Let's now consider each condition separately:\n",
    "\n",
    "Normal:\n",
    "    \n",
    "99.9% of N cases were described with the keyphrase 'normal fundus'. We can rather safely assume that the remaining 0.1% displayed some anomalies, which were not however, indicative of any disease (maybe 'lens dust'). Therefore, we can take 'normal fundus' keyphrase as characteristic of this class, as well as use it to find out, which one is not affected with a disease diagnosed in a patient, which was not diagnosed as healthy.\n",
    "\n",
    "Diabetes:\n",
    "\n",
    "If we add up all the counts of every kind of retinopathy associated with diabetes (nonproliferative/proliferative, mild/moderate/severe), we will obtain a score very close to 100%. Assuming that these keyphrases do not co-occur, we can treat them as characteristic of this class.\n",
    "\n",
    "Glaucoma:\n",
    "\n",
    "Even adding up all the numbers, we do not get 100%, so cases of glaucoma were probably also described with some keyphrases non-characteristic of this class. Nevertheless, 'glaucoma' keyphrase can be taken as characteristic of this class.\n",
    "\n",
    "Cataract:\n",
    "\n",
    "An overwhelming majority of cataract cases (although not all of them) were described with 'cataract' keyphrase, so we treat as characteristic of this class.\n",
    "\n",
    "Age-related Macular Degeneration:\n",
    "\n",
    "Counts of keyphrases 'dry age-related macular degeneration' and 'wet age-related macular degeneration' add up to exactly 100%, so we can treat them (or, more efficiently, a substring 'age-related macular degeneration') as characteristic of this class.\n",
    "\n",
    "Hypertension:\n",
    "\n",
    "'Hypertensive retinopathy' keyphrase occurred in 100% cases, so it can be treated as characteristic of this class.\n",
    "\n",
    "Myopia:\n",
    "\n",
    "Counts of keyphrases containing substring 'myopi' add up to about 99%, so we can treat this substring as characteristic of this class.\n",
    "\n",
    "Other:\n",
    "\n",
    "None of the keyphrases associated with this class achieved a significant majority, but in the next few cells we will see whether any of them can be treated as characteristic of this class."
   ]
  },
  {
   "cell_type": "markdown",
   "metadata": {
    "papermill": {
     "duration": 0.029439,
     "end_time": "2020-08-31T10:45:46.911249",
     "exception": false,
     "start_time": "2020-08-31T10:45:46.881810",
     "status": "completed"
    },
    "tags": []
   },
   "source": [
    "However, note that the above code omits all healthy eyes with patients having been diagnosed with any disease. If one eye of a patient displayed symptoms of, say, diabetes, but the other looked perfectly healthy, the latter would not be counted as 'Normal'. We will need to take that into account, when we will perform image sorting."
   ]
  },
  {
   "cell_type": "markdown",
   "metadata": {
    "papermill": {
     "duration": 0.023646,
     "end_time": "2020-08-31T10:45:46.960058",
     "exception": false,
     "start_time": "2020-08-31T10:45:46.936412",
     "status": "completed"
    },
    "tags": []
   },
   "source": [
    "Before we start sorting images, let's see how often each keyphrase occurs in diagnoses for every condition.\n",
    "\n",
    "Because some images display symptoms of more than one disease, we cannot completely avoid cross-pollination without excluding all patients with more than one condition diagnosed.\n",
    "\n",
    "Therefore, we will perform two separate analyses: \n",
    "\n",
    "    1) Excluding patients with more than one condition\n",
    "    \n",
    "    2) Including patients with more than one condition"
   ]
  },
  {
   "cell_type": "markdown",
   "metadata": {
    "papermill": {
     "duration": 0.025462,
     "end_time": "2020-08-31T10:45:47.009954",
     "exception": false,
     "start_time": "2020-08-31T10:45:46.984492",
     "status": "completed"
    },
    "tags": []
   },
   "source": [
    "We need to make a list of all keyphrases used to describe patients with only one condition.\n",
    "\n",
    "By the way, let's see if there are any keyphrases used only to describe patients with more than one condition. These we need to extract directly from the relevant columns of the dataframe. "
   ]
  },
  {
   "cell_type": "code",
   "execution_count": 16,
   "metadata": {
    "execution": {
     "iopub.execute_input": "2020-08-31T10:45:47.080674Z",
     "iopub.status.busy": "2020-08-31T10:45:47.079068Z",
     "iopub.status.idle": "2020-08-31T10:45:47.086946Z",
     "shell.execute_reply": "2020-08-31T10:45:47.086259Z"
    },
    "papermill": {
     "duration": 0.052511,
     "end_time": "2020-08-31T10:45:47.087095",
     "exception": false,
     "start_time": "2020-08-31T10:45:47.034584",
     "status": "completed"
    },
    "tags": []
   },
   "outputs": [
    {
     "output_type": "execute_result",
     "data": {
      "text/plain": [
       "(74, 102)"
      ]
     },
     "metadata": {},
     "execution_count": 16
    }
   ],
   "source": [
    "all_keyphrases = []\n",
    "for condition in conditions:\n",
    "    all_keyphrases += [keyphrase for keyphrase in conditions_keyphrases_freq[condition] if keyphrase not in all_keyphrases]\n",
    "\n",
    "keyphrases_from_columns = []\n",
    "for keyphrases_L, keyphrases_R in zip(data['Left-Diagnostic Keywords'].values, data['Right-Diagnostic Keywords'].values):\n",
    "    keyphrases_from_columns += [keyphrase for keyphrase in keyphrases_L.replace('，',',').split(',') if keyphrase not in keyphrases_from_columns]\n",
    "    keyphrases_from_columns += [keyphrase for keyphrase in keyphrases_R.replace('，',',').split(',') if keyphrase not in keyphrases_from_columns]\n",
    "\n",
    "len(all_keyphrases), len(keyphrases_from_columns)"
   ]
  },
  {
   "cell_type": "markdown",
   "metadata": {
    "papermill": {
     "duration": 0.024285,
     "end_time": "2020-08-31T10:45:47.136019",
     "exception": false,
     "start_time": "2020-08-31T10:45:47.111734",
     "status": "completed"
    },
    "tags": []
   },
   "source": [
    "We missed 28 keyphrases, but that's ok, since they're probably not very informative."
   ]
  },
  {
   "cell_type": "markdown",
   "metadata": {
    "papermill": {
     "duration": 0.024293,
     "end_time": "2020-08-31T10:45:47.185710",
     "exception": false,
     "start_time": "2020-08-31T10:45:47.161417",
     "status": "completed"
    },
    "tags": []
   },
   "source": [
    "Let's make separate dataframes for both analyses"
   ]
  },
  {
   "cell_type": "code",
   "execution_count": 17,
   "metadata": {
    "execution": {
     "iopub.execute_input": "2020-08-31T10:45:47.249247Z",
     "iopub.status.busy": "2020-08-31T10:45:47.243903Z",
     "iopub.status.idle": "2020-08-31T10:45:47.290857Z",
     "shell.execute_reply": "2020-08-31T10:45:47.290038Z"
    },
    "papermill": {
     "duration": 0.080753,
     "end_time": "2020-08-31T10:45:47.290998",
     "exception": false,
     "start_time": "2020-08-31T10:45:47.210245",
     "status": "completed"
    },
    "tags": []
   },
   "outputs": [
    {
     "output_type": "execute_result",
     "data": {
      "text/plain": [
       "                                        N  D  G  C  A  H  M  O  \\\n",
       "cataract                                0  0  0  0  0  0  0  0   \n",
       "normal fundus                           0  0  0  0  0  0  0  0   \n",
       "laser spot                              0  0  0  0  0  0  0  0   \n",
       "moderate non proliferative retinopathy  0  0  0  0  0  0  0  0   \n",
       "branch retinal artery occlusion         0  0  0  0  0  0  0  0   \n",
       "...                                    .. .. .. .. .. .. .. ..   \n",
       "suspected cataract                      0  0  0  0  0  0  0  0   \n",
       "post retinal laser surgery              0  0  0  0  0  0  0  0   \n",
       "age-related macular degeneration        0  0  0  0  0  0  0  0   \n",
       "intraretinal microvascular abnormality  0  0  0  0  0  0  0  0   \n",
       "no fundus image                         0  0  0  0  0  0  0  0   \n",
       "\n",
       "                                        Predictive power  \n",
       "cataract                                               0  \n",
       "normal fundus                                          0  \n",
       "laser spot                                             0  \n",
       "moderate non proliferative retinopathy                 0  \n",
       "branch retinal artery occlusion                        0  \n",
       "...                                                  ...  \n",
       "suspected cataract                                     0  \n",
       "post retinal laser surgery                             0  \n",
       "age-related macular degeneration                       0  \n",
       "intraretinal microvascular abnormality                 0  \n",
       "no fundus image                                        0  \n",
       "\n",
       "[102 rows x 9 columns]"
      ],
      "text/html": "<div>\n<style scoped>\n    .dataframe tbody tr th:only-of-type {\n        vertical-align: middle;\n    }\n\n    .dataframe tbody tr th {\n        vertical-align: top;\n    }\n\n    .dataframe thead th {\n        text-align: right;\n    }\n</style>\n<table border=\"1\" class=\"dataframe\">\n  <thead>\n    <tr style=\"text-align: right;\">\n      <th></th>\n      <th>N</th>\n      <th>D</th>\n      <th>G</th>\n      <th>C</th>\n      <th>A</th>\n      <th>H</th>\n      <th>M</th>\n      <th>O</th>\n      <th>Predictive power</th>\n    </tr>\n  </thead>\n  <tbody>\n    <tr>\n      <th>cataract</th>\n      <td>0</td>\n      <td>0</td>\n      <td>0</td>\n      <td>0</td>\n      <td>0</td>\n      <td>0</td>\n      <td>0</td>\n      <td>0</td>\n      <td>0</td>\n    </tr>\n    <tr>\n      <th>normal fundus</th>\n      <td>0</td>\n      <td>0</td>\n      <td>0</td>\n      <td>0</td>\n      <td>0</td>\n      <td>0</td>\n      <td>0</td>\n      <td>0</td>\n      <td>0</td>\n    </tr>\n    <tr>\n      <th>laser spot</th>\n      <td>0</td>\n      <td>0</td>\n      <td>0</td>\n      <td>0</td>\n      <td>0</td>\n      <td>0</td>\n      <td>0</td>\n      <td>0</td>\n      <td>0</td>\n    </tr>\n    <tr>\n      <th>moderate non proliferative retinopathy</th>\n      <td>0</td>\n      <td>0</td>\n      <td>0</td>\n      <td>0</td>\n      <td>0</td>\n      <td>0</td>\n      <td>0</td>\n      <td>0</td>\n      <td>0</td>\n    </tr>\n    <tr>\n      <th>branch retinal artery occlusion</th>\n      <td>0</td>\n      <td>0</td>\n      <td>0</td>\n      <td>0</td>\n      <td>0</td>\n      <td>0</td>\n      <td>0</td>\n      <td>0</td>\n      <td>0</td>\n    </tr>\n    <tr>\n      <th>...</th>\n      <td>...</td>\n      <td>...</td>\n      <td>...</td>\n      <td>...</td>\n      <td>...</td>\n      <td>...</td>\n      <td>...</td>\n      <td>...</td>\n      <td>...</td>\n    </tr>\n    <tr>\n      <th>suspected cataract</th>\n      <td>0</td>\n      <td>0</td>\n      <td>0</td>\n      <td>0</td>\n      <td>0</td>\n      <td>0</td>\n      <td>0</td>\n      <td>0</td>\n      <td>0</td>\n    </tr>\n    <tr>\n      <th>post retinal laser surgery</th>\n      <td>0</td>\n      <td>0</td>\n      <td>0</td>\n      <td>0</td>\n      <td>0</td>\n      <td>0</td>\n      <td>0</td>\n      <td>0</td>\n      <td>0</td>\n    </tr>\n    <tr>\n      <th>age-related macular degeneration</th>\n      <td>0</td>\n      <td>0</td>\n      <td>0</td>\n      <td>0</td>\n      <td>0</td>\n      <td>0</td>\n      <td>0</td>\n      <td>0</td>\n      <td>0</td>\n    </tr>\n    <tr>\n      <th>intraretinal microvascular abnormality</th>\n      <td>0</td>\n      <td>0</td>\n      <td>0</td>\n      <td>0</td>\n      <td>0</td>\n      <td>0</td>\n      <td>0</td>\n      <td>0</td>\n      <td>0</td>\n    </tr>\n    <tr>\n      <th>no fundus image</th>\n      <td>0</td>\n      <td>0</td>\n      <td>0</td>\n      <td>0</td>\n      <td>0</td>\n      <td>0</td>\n      <td>0</td>\n      <td>0</td>\n      <td>0</td>\n    </tr>\n  </tbody>\n</table>\n<p>102 rows × 9 columns</p>\n</div>"
     },
     "metadata": {},
     "execution_count": 17
    }
   ],
   "source": [
    "def make_keyphrases_df():\n",
    "    keyphrases_df = pd.DataFrame( {keyphrase: {condition: 0 for condition in conditions} for keyphrase in keyphrases_from_columns} ).T\n",
    "    keyphrases_df['Predictive power'] = 0 # Predictive power - how many occurrences of this keyphrase were associated with the most frequent class\n",
    "    return keyphrases_df\n",
    "\n",
    "keyphrases_excl = make_keyphrases_df()\n",
    "keyphrases_incl = make_keyphrases_df()\n",
    "keyphrases_incl"
   ]
  },
  {
   "cell_type": "markdown",
   "metadata": {
    "papermill": {
     "duration": 0.025536,
     "end_time": "2020-08-31T10:45:47.412607",
     "exception": false,
     "start_time": "2020-08-31T10:45:47.387071",
     "status": "completed"
    },
    "tags": []
   },
   "source": [
    "Now, let's fill these dataframes.\n",
    "\n",
    "We will iterate over the rows of the original data and do the following:\n",
    "\n",
    "1. Check whether this patient was diagnosed with only one condition. We will store it as a boolean valua (True or False) in only_one_condition variable.\n",
    "\n",
    "2. Extract the keyphrases for both eyes, separately, the same way we did before.\n",
    "\n",
    "3. For every condition this patient was diagnosed with, we check whether each of the eyes displays any symptoms characteristic of this condition.\n",
    "    \n",
    "    3.1. If it does, we add 1 to the proper cell in the dataframe for the inclusive condition.\n",
    "    \n",
    "    3.2. If this patient had only diagnosis, we add 1 to the proper cell in the dataframe for the exclusive condition as well.\n",
    "    \n",
    "    \n",
    "Then, to calculate the predictive power of each keyphrase, we take the number of times it occurred in diagnoses for conditions it occurred in the most often and divide it by the total number of times it appeared in the dataset.\n",
    "\n",
    "Since some keyphrases were not present in conditions_keyphrases dictionary (because they were not used to describe cases of patients with only one condition diagnosed) their predictive power gets set to NaN (because we tried to divide 0/0). To avoid this we may replace this NaNs with zeros or simply use the .apply() method."
   ]
  },
  {
   "cell_type": "code",
   "execution_count": 18,
   "metadata": {
    "execution": {
     "iopub.execute_input": "2020-08-31T10:45:47.494273Z",
     "iopub.status.busy": "2020-08-31T10:45:47.484420Z",
     "iopub.status.idle": "2020-08-31T10:45:52.288748Z",
     "shell.execute_reply": "2020-08-31T10:45:52.287869Z"
    },
    "papermill": {
     "duration": 4.84978,
     "end_time": "2020-08-31T10:45:52.288892",
     "exception": false,
     "start_time": "2020-08-31T10:45:47.439112",
     "status": "completed"
    },
    "tags": []
   },
   "outputs": [],
   "source": [
    "# We reinitialize both DataFrames to avoid errors\n",
    "keyphrases_excl = make_keyphrases_df()\n",
    "keyphrases_incl = make_keyphrases_df()\n",
    "\n",
    "for i, row in data.iterrows():\n",
    "    # 1.\n",
    "    only_one_condition = bool(row[-8:].sum()==1)\n",
    "    # 2.\n",
    "    keyphrases_L = row['Left-Diagnostic Keywords'].replace('，',',').split(',')\n",
    "    keyphrases_R = row['Right-Diagnostic Keywords'].replace('，',',').split(',')\n",
    "    for condition in conditions:\n",
    "        # 3.\n",
    "        if row[condition]==1:\n",
    "            # Left eye\n",
    "            if any(keyphrase in keyphrases_L for keyphrase in conditions_keyphrases[condition]):\n",
    "                for keyphrase in keyphrases_L:\n",
    "                    # 3.1.\n",
    "                    keyphrases_incl.loc[keyphrase, condition] += 1\n",
    "                    # 3.2.\n",
    "                    if only_one_condition:\n",
    "                        keyphrases_excl.loc[keyphrase, condition] += 1\n",
    "            # Right eye:\n",
    "            if any(keyphrase in keyphrases_R for keyphrase in conditions_keyphrases[condition]):\n",
    "                for keyphrase in keyphrases_R:\n",
    "                    # 3.1.\n",
    "                    keyphrases_incl.loc[keyphrase, condition] += 1\n",
    "                    # 3.2.\n",
    "                    if only_one_condition:\n",
    "                        keyphrases_excl.loc[keyphrase, condition] += 1\n",
    "            \n",
    "\n",
    "keyphrases_excl['Predictive power'] = (keyphrases_excl.max(axis=1) / keyphrases_excl.sum(axis=1)).replace(np.NaN, 0)\n",
    "keyphrases_incl['Predictive power'] = (keyphrases_incl.max(axis=1) / keyphrases_incl.sum(axis=1)).replace(np.NaN, 0)"
   ]
  },
  {
   "cell_type": "code",
   "execution_count": 19,
   "metadata": {
    "execution": {
     "iopub.execute_input": "2020-08-31T10:45:52.360031Z",
     "iopub.status.busy": "2020-08-31T10:45:52.359143Z",
     "iopub.status.idle": "2020-08-31T10:45:52.365724Z",
     "shell.execute_reply": "2020-08-31T10:45:52.364756Z"
    },
    "papermill": {
     "duration": 0.051846,
     "end_time": "2020-08-31T10:45:52.365891",
     "exception": false,
     "start_time": "2020-08-31T10:45:52.314045",
     "status": "completed"
    },
    "tags": []
   },
   "outputs": [
    {
     "output_type": "execute_result",
     "data": {
      "text/plain": [
       "                                           N    D  G    C  A  H  M   O  \\\n",
       "cataract                                   0    0  0  235  0  0  0   0   \n",
       "normal fundus                           2277    0  3    9  0  0  1  43   \n",
       "laser spot                                 0    0  0    0  0  0  0   9   \n",
       "moderate non proliferative retinopathy     0  624  0    0  0  0  0   0   \n",
       "branch retinal artery occlusion            0    0  0    0  0  0  0   3   \n",
       "...                                      ...  ... ..  ... .. .. ..  ..   \n",
       "suspected cataract                         0    0  0    0  0  0  0   0   \n",
       "post retinal laser surgery                 0    0  0    0  0  0  0   2   \n",
       "age-related macular degeneration           0    0  0    0  0  0  0   0   \n",
       "intraretinal microvascular abnormality     0    0  0    0  0  0  0   0   \n",
       "no fundus image                            0    1  0    0  0  0  0   0   \n",
       "\n",
       "                                        Predictive power  \n",
       "cataract                                        1.000000  \n",
       "normal fundus                                   0.975997  \n",
       "laser spot                                      1.000000  \n",
       "moderate non proliferative retinopathy          1.000000  \n",
       "branch retinal artery occlusion                 1.000000  \n",
       "...                                                  ...  \n",
       "suspected cataract                              0.000000  \n",
       "post retinal laser surgery                      1.000000  \n",
       "age-related macular degeneration                0.000000  \n",
       "intraretinal microvascular abnormality          0.000000  \n",
       "no fundus image                                 1.000000  \n",
       "\n",
       "[102 rows x 9 columns]"
      ],
      "text/html": "<div>\n<style scoped>\n    .dataframe tbody tr th:only-of-type {\n        vertical-align: middle;\n    }\n\n    .dataframe tbody tr th {\n        vertical-align: top;\n    }\n\n    .dataframe thead th {\n        text-align: right;\n    }\n</style>\n<table border=\"1\" class=\"dataframe\">\n  <thead>\n    <tr style=\"text-align: right;\">\n      <th></th>\n      <th>N</th>\n      <th>D</th>\n      <th>G</th>\n      <th>C</th>\n      <th>A</th>\n      <th>H</th>\n      <th>M</th>\n      <th>O</th>\n      <th>Predictive power</th>\n    </tr>\n  </thead>\n  <tbody>\n    <tr>\n      <th>cataract</th>\n      <td>0</td>\n      <td>0</td>\n      <td>0</td>\n      <td>235</td>\n      <td>0</td>\n      <td>0</td>\n      <td>0</td>\n      <td>0</td>\n      <td>1.000000</td>\n    </tr>\n    <tr>\n      <th>normal fundus</th>\n      <td>2277</td>\n      <td>0</td>\n      <td>3</td>\n      <td>9</td>\n      <td>0</td>\n      <td>0</td>\n      <td>1</td>\n      <td>43</td>\n      <td>0.975997</td>\n    </tr>\n    <tr>\n      <th>laser spot</th>\n      <td>0</td>\n      <td>0</td>\n      <td>0</td>\n      <td>0</td>\n      <td>0</td>\n      <td>0</td>\n      <td>0</td>\n      <td>9</td>\n      <td>1.000000</td>\n    </tr>\n    <tr>\n      <th>moderate non proliferative retinopathy</th>\n      <td>0</td>\n      <td>624</td>\n      <td>0</td>\n      <td>0</td>\n      <td>0</td>\n      <td>0</td>\n      <td>0</td>\n      <td>0</td>\n      <td>1.000000</td>\n    </tr>\n    <tr>\n      <th>branch retinal artery occlusion</th>\n      <td>0</td>\n      <td>0</td>\n      <td>0</td>\n      <td>0</td>\n      <td>0</td>\n      <td>0</td>\n      <td>0</td>\n      <td>3</td>\n      <td>1.000000</td>\n    </tr>\n    <tr>\n      <th>...</th>\n      <td>...</td>\n      <td>...</td>\n      <td>...</td>\n      <td>...</td>\n      <td>...</td>\n      <td>...</td>\n      <td>...</td>\n      <td>...</td>\n      <td>...</td>\n    </tr>\n    <tr>\n      <th>suspected cataract</th>\n      <td>0</td>\n      <td>0</td>\n      <td>0</td>\n      <td>0</td>\n      <td>0</td>\n      <td>0</td>\n      <td>0</td>\n      <td>0</td>\n      <td>0.000000</td>\n    </tr>\n    <tr>\n      <th>post retinal laser surgery</th>\n      <td>0</td>\n      <td>0</td>\n      <td>0</td>\n      <td>0</td>\n      <td>0</td>\n      <td>0</td>\n      <td>0</td>\n      <td>2</td>\n      <td>1.000000</td>\n    </tr>\n    <tr>\n      <th>age-related macular degeneration</th>\n      <td>0</td>\n      <td>0</td>\n      <td>0</td>\n      <td>0</td>\n      <td>0</td>\n      <td>0</td>\n      <td>0</td>\n      <td>0</td>\n      <td>0.000000</td>\n    </tr>\n    <tr>\n      <th>intraretinal microvascular abnormality</th>\n      <td>0</td>\n      <td>0</td>\n      <td>0</td>\n      <td>0</td>\n      <td>0</td>\n      <td>0</td>\n      <td>0</td>\n      <td>0</td>\n      <td>0.000000</td>\n    </tr>\n    <tr>\n      <th>no fundus image</th>\n      <td>0</td>\n      <td>1</td>\n      <td>0</td>\n      <td>0</td>\n      <td>0</td>\n      <td>0</td>\n      <td>0</td>\n      <td>0</td>\n      <td>1.000000</td>\n    </tr>\n  </tbody>\n</table>\n<p>102 rows × 9 columns</p>\n</div>"
     },
     "metadata": {},
     "execution_count": 19
    }
   ],
   "source": [
    "keyphrases_excl"
   ]
  },
  {
   "cell_type": "markdown",
   "metadata": {
    "papermill": {
     "duration": 0.025369,
     "end_time": "2020-08-31T10:45:52.416821",
     "exception": false,
     "start_time": "2020-08-31T10:45:52.391452",
     "status": "completed"
    },
    "tags": []
   },
   "source": [
    "Let's now make another DataFrame, which will selectively display the degree of specificity (predictive power) of each keyphrase and the class it is specific for, according to both exclusionary and inclusionary analysis. We will also include information, whether there is agreement between classes predicted using both approaches  agree and the difference between specificity calculated.\n",
    "\n",
    "We will include only these keyphrases, which we took into account in the previous exploration."
   ]
  },
  {
   "cell_type": "code",
   "execution_count": 20,
   "metadata": {
    "execution": {
     "iopub.execute_input": "2020-08-31T10:45:52.508346Z",
     "iopub.status.busy": "2020-08-31T10:45:52.477866Z",
     "iopub.status.idle": "2020-08-31T10:45:52.614017Z",
     "shell.execute_reply": "2020-08-31T10:45:52.613161Z"
    },
    "papermill": {
     "duration": 0.171333,
     "end_time": "2020-08-31T10:45:52.614161",
     "exception": false,
     "start_time": "2020-08-31T10:45:52.442828",
     "status": "completed"
    },
    "tags": []
   },
   "outputs": [
    {
     "output_type": "execute_result",
     "data": {
      "text/plain": [
       "                                       condition (excl.) specificity (excl.)  \\\n",
       "normal fundus                                          N            0.975997   \n",
       "lens dust                                              N            0.639769   \n",
       "low image quality                                      D            0.761905   \n",
       "moderate non proliferative retinopathy                 D                 1.0   \n",
       "mild nonproliferative retinopathy                      D                 1.0   \n",
       "...                                                  ...                 ...   \n",
       "optic discitis                                         O                 1.0   \n",
       "macular coloboma                                       O                 1.0   \n",
       "congenital choroidal coloboma                          O                 1.0   \n",
       "asteroid hyalosis                                      O                 1.0   \n",
       "arteriosclerosis                                       O                 1.0   \n",
       "\n",
       "                                       condition (incl.) specificity (incl.)  \\\n",
       "normal fundus                                          N            0.973077   \n",
       "lens dust                                              N            0.497758   \n",
       "low image quality                                      D            0.761905   \n",
       "moderate non proliferative retinopathy                 D            0.799519   \n",
       "mild nonproliferative retinopathy                      D             0.86385   \n",
       "...                                                  ...                 ...   \n",
       "optic discitis                                         O                 1.0   \n",
       "macular coloboma                                       O                 1.0   \n",
       "congenital choroidal coloboma                          O                 1.0   \n",
       "asteroid hyalosis                                      O                 1.0   \n",
       "arteriosclerosis                                       O                 1.0   \n",
       "\n",
       "                                       condition specificity agreement  \\\n",
       "normal fundus                                                     True   \n",
       "lens dust                                                         True   \n",
       "low image quality                                                 True   \n",
       "moderate non proliferative retinopathy                            True   \n",
       "mild nonproliferative retinopathy                                 True   \n",
       "...                                                                ...   \n",
       "optic discitis                                                    True   \n",
       "macular coloboma                                                  True   \n",
       "congenital choroidal coloboma                                     True   \n",
       "asteroid hyalosis                                                 True   \n",
       "arteriosclerosis                                                  True   \n",
       "\n",
       "                                       specificity discrepancy  \n",
       "normal fundus                                          0.00292  \n",
       "lens dust                                             0.142012  \n",
       "low image quality                                          0.0  \n",
       "moderate non proliferative retinopathy                0.200481  \n",
       "mild nonproliferative retinopathy                      0.13615  \n",
       "...                                                        ...  \n",
       "optic discitis                                             0.0  \n",
       "macular coloboma                                           0.0  \n",
       "congenital choroidal coloboma                              0.0  \n",
       "asteroid hyalosis                                          0.0  \n",
       "arteriosclerosis                                           0.0  \n",
       "\n",
       "[74 rows x 6 columns]"
      ],
      "text/html": "<div>\n<style scoped>\n    .dataframe tbody tr th:only-of-type {\n        vertical-align: middle;\n    }\n\n    .dataframe tbody tr th {\n        vertical-align: top;\n    }\n\n    .dataframe thead th {\n        text-align: right;\n    }\n</style>\n<table border=\"1\" class=\"dataframe\">\n  <thead>\n    <tr style=\"text-align: right;\">\n      <th></th>\n      <th>condition (excl.)</th>\n      <th>specificity (excl.)</th>\n      <th>condition (incl.)</th>\n      <th>specificity (incl.)</th>\n      <th>condition specificity agreement</th>\n      <th>specificity discrepancy</th>\n    </tr>\n  </thead>\n  <tbody>\n    <tr>\n      <th>normal fundus</th>\n      <td>N</td>\n      <td>0.975997</td>\n      <td>N</td>\n      <td>0.973077</td>\n      <td>True</td>\n      <td>0.00292</td>\n    </tr>\n    <tr>\n      <th>lens dust</th>\n      <td>N</td>\n      <td>0.639769</td>\n      <td>N</td>\n      <td>0.497758</td>\n      <td>True</td>\n      <td>0.142012</td>\n    </tr>\n    <tr>\n      <th>low image quality</th>\n      <td>D</td>\n      <td>0.761905</td>\n      <td>D</td>\n      <td>0.761905</td>\n      <td>True</td>\n      <td>0.0</td>\n    </tr>\n    <tr>\n      <th>moderate non proliferative retinopathy</th>\n      <td>D</td>\n      <td>1.0</td>\n      <td>D</td>\n      <td>0.799519</td>\n      <td>True</td>\n      <td>0.200481</td>\n    </tr>\n    <tr>\n      <th>mild nonproliferative retinopathy</th>\n      <td>D</td>\n      <td>1.0</td>\n      <td>D</td>\n      <td>0.86385</td>\n      <td>True</td>\n      <td>0.13615</td>\n    </tr>\n    <tr>\n      <th>...</th>\n      <td>...</td>\n      <td>...</td>\n      <td>...</td>\n      <td>...</td>\n      <td>...</td>\n      <td>...</td>\n    </tr>\n    <tr>\n      <th>optic discitis</th>\n      <td>O</td>\n      <td>1.0</td>\n      <td>O</td>\n      <td>1.0</td>\n      <td>True</td>\n      <td>0.0</td>\n    </tr>\n    <tr>\n      <th>macular coloboma</th>\n      <td>O</td>\n      <td>1.0</td>\n      <td>O</td>\n      <td>1.0</td>\n      <td>True</td>\n      <td>0.0</td>\n    </tr>\n    <tr>\n      <th>congenital choroidal coloboma</th>\n      <td>O</td>\n      <td>1.0</td>\n      <td>O</td>\n      <td>1.0</td>\n      <td>True</td>\n      <td>0.0</td>\n    </tr>\n    <tr>\n      <th>asteroid hyalosis</th>\n      <td>O</td>\n      <td>1.0</td>\n      <td>O</td>\n      <td>1.0</td>\n      <td>True</td>\n      <td>0.0</td>\n    </tr>\n    <tr>\n      <th>arteriosclerosis</th>\n      <td>O</td>\n      <td>1.0</td>\n      <td>O</td>\n      <td>1.0</td>\n      <td>True</td>\n      <td>0.0</td>\n    </tr>\n  </tbody>\n</table>\n<p>74 rows × 6 columns</p>\n</div>"
     },
     "metadata": {},
     "execution_count": 20
    }
   ],
   "source": [
    "keyphrases_specificity = pd.DataFrame(\n",
    "    np.zeros(shape=(len(all_keyphrases), 6)),\n",
    "    index = all_keyphrases,\n",
    "    columns = ['condition (excl.)','specificity (excl.)', 'condition (incl.)', 'specificity (incl.)', 'condition specificity agreement','specificity discrepancy'],\n",
    "    dtype='object'\n",
    ")\n",
    "\n",
    "for keyphrase, row in keyphrases_specificity.iterrows():\n",
    "    row.iloc[0] = conditions[keyphrases_excl.loc[keyphrase,:].argmax()]\n",
    "    row.iloc[1] = keyphrases_excl.loc[keyphrase, 'Predictive power']\n",
    "    row.iloc[2] = conditions[keyphrases_incl.loc[keyphrase,:].argmax()]\n",
    "    row.iloc[3] = keyphrases_incl.loc[keyphrase, 'Predictive power']\n",
    "    row.iloc[4] = row.iloc[0]==row.iloc[2]\n",
    "    row.iloc[5] = row.iloc[1]-row.iloc[3]\n",
    "keyphrases_specificity"
   ]
  },
  {
   "cell_type": "markdown",
   "metadata": {
    "papermill": {
     "duration": 0.024985,
     "end_time": "2020-08-31T10:45:52.664756",
     "exception": false,
     "start_time": "2020-08-31T10:45:52.639771",
     "status": "completed"
    },
    "tags": []
   },
   "source": [
    "We see that 'normal fundus' keyphrase is over 97% specific, which means that in more than 2% of cases it was used to describe a retina displaying symptoms of some disease. We can see what that was, by looking at the previous dataframe."
   ]
  },
  {
   "cell_type": "code",
   "execution_count": 21,
   "metadata": {
    "execution": {
     "iopub.execute_input": "2020-08-31T10:45:52.724828Z",
     "iopub.status.busy": "2020-08-31T10:45:52.723671Z",
     "iopub.status.idle": "2020-08-31T10:45:52.728988Z",
     "shell.execute_reply": "2020-08-31T10:45:52.728381Z"
    },
    "papermill": {
     "duration": 0.03911,
     "end_time": "2020-08-31T10:45:52.729132",
     "exception": false,
     "start_time": "2020-08-31T10:45:52.690022",
     "status": "completed"
    },
    "tags": []
   },
   "outputs": [
    {
     "output_type": "execute_result",
     "data": {
      "text/plain": [
       "N                   2277.000000\n",
       "D                      0.000000\n",
       "G                      4.000000\n",
       "C                      9.000000\n",
       "A                      0.000000\n",
       "H                      0.000000\n",
       "M                      1.000000\n",
       "O                     49.000000\n",
       "Predictive power       0.973077\n",
       "Name: normal fundus, dtype: float64"
      ]
     },
     "metadata": {},
     "execution_count": 21
    }
   ],
   "source": [
    "keyphrases_incl.loc['normal fundus']"
   ]
  },
  {
   "cell_type": "markdown",
   "metadata": {
    "papermill": {
     "duration": 0.025662,
     "end_time": "2020-08-31T10:45:52.780968",
     "exception": false,
     "start_time": "2020-08-31T10:45:52.755306",
     "status": "completed"
    },
    "tags": []
   },
   "source": [
    "So there were 4 patients with glaucoma, 9 patients with cataract, 1 patient with myopia, and 49 with some 'other' condition, whose retinal fundi, although displaying symptoms of a disease, still seemed 'normal'? This does not seem right.\n",
    "\n",
    "To make sure that we didn't make some kind of error, let's run code analogous to the one we used to fill our dataframes. This time, we will ask it to print keyphrases for patients diagnosed with glaucoma, cataract, myopia or 'other', in whose cases the 'normal fundus' keyphrase co-occurred with some disease-specific keyphrase.\n"
   ]
  },
  {
   "cell_type": "code",
   "execution_count": 22,
   "metadata": {
    "execution": {
     "iopub.execute_input": "2020-08-31T10:45:52.853459Z",
     "iopub.status.busy": "2020-08-31T10:45:52.852609Z",
     "iopub.status.idle": "2020-08-31T10:45:53.365714Z",
     "shell.execute_reply": "2020-08-31T10:45:53.365079Z"
    },
    "papermill": {
     "duration": 0.558608,
     "end_time": "2020-08-31T10:45:53.365856",
     "exception": false,
     "start_time": "2020-08-31T10:45:52.807248",
     "status": "completed"
    },
    "tags": []
   },
   "outputs": [
    {
     "output_type": "execute_result",
     "data": {
      "text/plain": [
       "        ID  Patient Age Patient Sex    Left-Fundus    Right-Fundus  \\\n",
       "20      20           64      Female    20_left.jpg    20_right.jpg   \n",
       "36      36           55        Male    36_left.jpg    36_right.jpg   \n",
       "57      57           64        Male    57_left.jpg    57_right.jpg   \n",
       "70      70           57      Female    70_left.jpg    70_right.jpg   \n",
       "80      80           50      Female    80_left.jpg    80_right.jpg   \n",
       "...    ...          ...         ...            ...             ...   \n",
       "1600  2139           71        Male  2139_left.jpg  2139_right.jpg   \n",
       "1619  2159           53        Male  2159_left.jpg  2159_right.jpg   \n",
       "1637  2177           87        Male  2177_left.jpg  2177_right.jpg   \n",
       "1665  2208           62        Male  2208_left.jpg  2208_right.jpg   \n",
       "1696  2241           50      Female  2241_left.jpg  2241_right.jpg   \n",
       "\n",
       "                 Left-Diagnostic Keywords          Right-Diagnostic Keywords  \\\n",
       "20      rhegmatogenous retinal detachment            lens dust，normal fundus   \n",
       "36    lens dust，spotted membranous change            lens dust，normal fundus   \n",
       "57                lens dust，normal fundus     lens dust，drusen，normal fundus   \n",
       "70          epiretinal membrane，lens dust            lens dust，normal fundus   \n",
       "80                lens dust，normal fundus  lens dust，myelinated nerve fibers   \n",
       "...                                   ...                                ...   \n",
       "1600              lens dust，normal fundus                           cataract   \n",
       "1619                             cataract            lens dust，normal fundus   \n",
       "1637              normal fundus，lens dust                           cataract   \n",
       "1665              normal fundus，lens dust                           cataract   \n",
       "1696                   cataract，lens dust            lens dust，normal fundus   \n",
       "\n",
       "      N  D  G  C  A  H  M  O  \n",
       "20    0  0  0  0  0  0  0  1  \n",
       "36    0  0  0  0  0  0  0  1  \n",
       "57    0  0  0  0  0  0  0  1  \n",
       "70    0  0  0  0  0  0  0  1  \n",
       "80    0  0  0  0  0  0  0  1  \n",
       "...  .. .. .. .. .. .. .. ..  \n",
       "1600  0  0  0  1  0  0  0  0  \n",
       "1619  0  0  0  1  0  0  0  0  \n",
       "1637  0  0  0  1  0  0  0  0  \n",
       "1665  0  0  0  1  0  0  0  0  \n",
       "1696  0  0  0  1  0  0  0  0  \n",
       "\n",
       "[61 rows x 15 columns]"
      ],
      "text/html": "<div>\n<style scoped>\n    .dataframe tbody tr th:only-of-type {\n        vertical-align: middle;\n    }\n\n    .dataframe tbody tr th {\n        vertical-align: top;\n    }\n\n    .dataframe thead th {\n        text-align: right;\n    }\n</style>\n<table border=\"1\" class=\"dataframe\">\n  <thead>\n    <tr style=\"text-align: right;\">\n      <th></th>\n      <th>ID</th>\n      <th>Patient Age</th>\n      <th>Patient Sex</th>\n      <th>Left-Fundus</th>\n      <th>Right-Fundus</th>\n      <th>Left-Diagnostic Keywords</th>\n      <th>Right-Diagnostic Keywords</th>\n      <th>N</th>\n      <th>D</th>\n      <th>G</th>\n      <th>C</th>\n      <th>A</th>\n      <th>H</th>\n      <th>M</th>\n      <th>O</th>\n    </tr>\n  </thead>\n  <tbody>\n    <tr>\n      <th>20</th>\n      <td>20</td>\n      <td>64</td>\n      <td>Female</td>\n      <td>20_left.jpg</td>\n      <td>20_right.jpg</td>\n      <td>rhegmatogenous retinal detachment</td>\n      <td>lens dust，normal fundus</td>\n      <td>0</td>\n      <td>0</td>\n      <td>0</td>\n      <td>0</td>\n      <td>0</td>\n      <td>0</td>\n      <td>0</td>\n      <td>1</td>\n    </tr>\n    <tr>\n      <th>36</th>\n      <td>36</td>\n      <td>55</td>\n      <td>Male</td>\n      <td>36_left.jpg</td>\n      <td>36_right.jpg</td>\n      <td>lens dust，spotted membranous change</td>\n      <td>lens dust，normal fundus</td>\n      <td>0</td>\n      <td>0</td>\n      <td>0</td>\n      <td>0</td>\n      <td>0</td>\n      <td>0</td>\n      <td>0</td>\n      <td>1</td>\n    </tr>\n    <tr>\n      <th>57</th>\n      <td>57</td>\n      <td>64</td>\n      <td>Male</td>\n      <td>57_left.jpg</td>\n      <td>57_right.jpg</td>\n      <td>lens dust，normal fundus</td>\n      <td>lens dust，drusen，normal fundus</td>\n      <td>0</td>\n      <td>0</td>\n      <td>0</td>\n      <td>0</td>\n      <td>0</td>\n      <td>0</td>\n      <td>0</td>\n      <td>1</td>\n    </tr>\n    <tr>\n      <th>70</th>\n      <td>70</td>\n      <td>57</td>\n      <td>Female</td>\n      <td>70_left.jpg</td>\n      <td>70_right.jpg</td>\n      <td>epiretinal membrane，lens dust</td>\n      <td>lens dust，normal fundus</td>\n      <td>0</td>\n      <td>0</td>\n      <td>0</td>\n      <td>0</td>\n      <td>0</td>\n      <td>0</td>\n      <td>0</td>\n      <td>1</td>\n    </tr>\n    <tr>\n      <th>80</th>\n      <td>80</td>\n      <td>50</td>\n      <td>Female</td>\n      <td>80_left.jpg</td>\n      <td>80_right.jpg</td>\n      <td>lens dust，normal fundus</td>\n      <td>lens dust，myelinated nerve fibers</td>\n      <td>0</td>\n      <td>0</td>\n      <td>0</td>\n      <td>0</td>\n      <td>0</td>\n      <td>0</td>\n      <td>0</td>\n      <td>1</td>\n    </tr>\n    <tr>\n      <th>...</th>\n      <td>...</td>\n      <td>...</td>\n      <td>...</td>\n      <td>...</td>\n      <td>...</td>\n      <td>...</td>\n      <td>...</td>\n      <td>...</td>\n      <td>...</td>\n      <td>...</td>\n      <td>...</td>\n      <td>...</td>\n      <td>...</td>\n      <td>...</td>\n      <td>...</td>\n    </tr>\n    <tr>\n      <th>1600</th>\n      <td>2139</td>\n      <td>71</td>\n      <td>Male</td>\n      <td>2139_left.jpg</td>\n      <td>2139_right.jpg</td>\n      <td>lens dust，normal fundus</td>\n      <td>cataract</td>\n      <td>0</td>\n      <td>0</td>\n      <td>0</td>\n      <td>1</td>\n      <td>0</td>\n      <td>0</td>\n      <td>0</td>\n      <td>0</td>\n    </tr>\n    <tr>\n      <th>1619</th>\n      <td>2159</td>\n      <td>53</td>\n      <td>Male</td>\n      <td>2159_left.jpg</td>\n      <td>2159_right.jpg</td>\n      <td>cataract</td>\n      <td>lens dust，normal fundus</td>\n      <td>0</td>\n      <td>0</td>\n      <td>0</td>\n      <td>1</td>\n      <td>0</td>\n      <td>0</td>\n      <td>0</td>\n      <td>0</td>\n    </tr>\n    <tr>\n      <th>1637</th>\n      <td>2177</td>\n      <td>87</td>\n      <td>Male</td>\n      <td>2177_left.jpg</td>\n      <td>2177_right.jpg</td>\n      <td>normal fundus，lens dust</td>\n      <td>cataract</td>\n      <td>0</td>\n      <td>0</td>\n      <td>0</td>\n      <td>1</td>\n      <td>0</td>\n      <td>0</td>\n      <td>0</td>\n      <td>0</td>\n    </tr>\n    <tr>\n      <th>1665</th>\n      <td>2208</td>\n      <td>62</td>\n      <td>Male</td>\n      <td>2208_left.jpg</td>\n      <td>2208_right.jpg</td>\n      <td>normal fundus，lens dust</td>\n      <td>cataract</td>\n      <td>0</td>\n      <td>0</td>\n      <td>0</td>\n      <td>1</td>\n      <td>0</td>\n      <td>0</td>\n      <td>0</td>\n      <td>0</td>\n    </tr>\n    <tr>\n      <th>1696</th>\n      <td>2241</td>\n      <td>50</td>\n      <td>Female</td>\n      <td>2241_left.jpg</td>\n      <td>2241_right.jpg</td>\n      <td>cataract，lens dust</td>\n      <td>lens dust，normal fundus</td>\n      <td>0</td>\n      <td>0</td>\n      <td>0</td>\n      <td>1</td>\n      <td>0</td>\n      <td>0</td>\n      <td>0</td>\n      <td>0</td>\n    </tr>\n  </tbody>\n</table>\n<p>61 rows × 15 columns</p>\n</div>"
     },
     "metadata": {},
     "execution_count": 22
    }
   ],
   "source": [
    "suspicious_rows = []\n",
    "for i, row in data.query('G==1 or C==1 or M==1 or O==1').iterrows():\n",
    "    # 1.\n",
    "    only_one_condition = bool(row[-8:].sum()==1)\n",
    "    # 2.\n",
    "    keyphrases_L = row['Left-Diagnostic Keywords'].replace('，',',').split(',')\n",
    "    keyphrases_R = row['Right-Diagnostic Keywords'].replace('，',',').split(',')\n",
    "    if ('normal fundus' in keyphrases_L and len(keyphrases_L)!=1) or ('normal fundus' in keyphrases_R and len(keyphrases_R)!=1):\n",
    "        suspicious_rows.append(row)\n",
    "    \n",
    "    \n",
    "suspicious_rows = pd.DataFrame(suspicious_rows)\n",
    "suspicious_rows"
   ]
  },
  {
   "cell_type": "markdown",
   "metadata": {
    "papermill": {
     "duration": 0.026791,
     "end_time": "2020-08-31T10:45:53.419366",
     "exception": false,
     "start_time": "2020-08-31T10:45:53.392575",
     "status": "completed"
    },
    "tags": []
   },
   "source": [
    "It seems that every time an eye with 'normal fundus' was classified by our program as displaying signs of glaucoma, cataract, myopia or 'other', it was due to the 'normal fundus' keyphrase co-occurring with 'lens dust' keyphrase. This seems plausible, since 'lens dust' was used in one-condition diagnoses for N, G, C, M, and O cases, but not D, H, and A, which were not associated with 'normal fundus'."
   ]
  },
  {
   "cell_type": "code",
   "execution_count": 23,
   "metadata": {
    "execution": {
     "iopub.execute_input": "2020-08-31T10:45:53.480963Z",
     "iopub.status.busy": "2020-08-31T10:45:53.479723Z",
     "iopub.status.idle": "2020-08-31T10:45:53.488843Z",
     "shell.execute_reply": "2020-08-31T10:45:53.488214Z"
    },
    "papermill": {
     "duration": 0.042404,
     "end_time": "2020-08-31T10:45:53.488986",
     "exception": false,
     "start_time": "2020-08-31T10:45:53.446582",
     "status": "completed"
    },
    "tags": []
   },
   "outputs": [
    {
     "output_type": "stream",
     "name": "stdout",
     "text": [
      "N True\nD False\nG True\nC True\nA False\nH False\nM True\nO True\n"
     ]
    }
   ],
   "source": [
    "for condition in conditions:\n",
    "    print(condition, 'lens dust' in conditions_keyphrases[condition].keys())"
   ]
  },
  {
   "cell_type": "markdown",
   "metadata": {
    "papermill": {
     "duration": 0.026676,
     "end_time": "2020-08-31T10:45:53.542720",
     "exception": false,
     "start_time": "2020-08-31T10:45:53.516044",
     "status": "completed"
    },
    "tags": []
   },
   "source": [
    "Thus, we used the 'lens dust' keyphrase as characteristic of each of these conditions, but since it was used to describe all of them, it's not appropriate to be used as a reliable diagnostic criterion for either. Looking at the data we have extracted, it's clear that it has a remarkably low specificity:"
   ]
  },
  {
   "cell_type": "code",
   "execution_count": 24,
   "metadata": {
    "execution": {
     "iopub.execute_input": "2020-08-31T10:45:53.605662Z",
     "iopub.status.busy": "2020-08-31T10:45:53.604827Z",
     "iopub.status.idle": "2020-08-31T10:45:53.609301Z",
     "shell.execute_reply": "2020-08-31T10:45:53.608619Z"
    },
    "papermill": {
     "duration": 0.039819,
     "end_time": "2020-08-31T10:45:53.609436",
     "exception": false,
     "start_time": "2020-08-31T10:45:53.569617",
     "status": "completed"
    },
    "tags": []
   },
   "outputs": [
    {
     "output_type": "execute_result",
     "data": {
      "text/plain": [
       "condition (excl.)                         N\n",
       "specificity (excl.)                0.639769\n",
       "condition (incl.)                         N\n",
       "specificity (incl.)                0.497758\n",
       "condition specificity agreement        True\n",
       "specificity discrepancy            0.142012\n",
       "Name: lens dust, dtype: object"
      ]
     },
     "metadata": {},
     "execution_count": 24
    }
   ],
   "source": [
    "keyphrases_specificity.loc['lens dust']"
   ]
  },
  {
   "cell_type": "code",
   "execution_count": 25,
   "metadata": {
    "execution": {
     "iopub.execute_input": "2020-08-31T10:45:53.674049Z",
     "iopub.status.busy": "2020-08-31T10:45:53.673028Z",
     "iopub.status.idle": "2020-08-31T10:45:53.677925Z",
     "shell.execute_reply": "2020-08-31T10:45:53.678506Z"
    },
    "papermill": {
     "duration": 0.041669,
     "end_time": "2020-08-31T10:45:53.678717",
     "exception": false,
     "start_time": "2020-08-31T10:45:53.637048",
     "status": "completed"
    },
    "tags": []
   },
   "outputs": [
    {
     "output_type": "execute_result",
     "data": {
      "text/plain": [
       "N                   222.000000\n",
       "D                    22.000000\n",
       "G                    22.000000\n",
       "C                    36.000000\n",
       "A                     0.000000\n",
       "H                     0.000000\n",
       "M                     7.000000\n",
       "O                   137.000000\n",
       "Predictive power      0.497758\n",
       "Name: lens dust, dtype: float64"
      ]
     },
     "metadata": {},
     "execution_count": 25
    }
   ],
   "source": [
    "keyphrases_incl.loc['lens dust']"
   ]
  },
  {
   "cell_type": "markdown",
   "metadata": {
    "papermill": {
     "duration": 0.026766,
     "end_time": "2020-08-31T10:45:53.733098",
     "exception": false,
     "start_time": "2020-08-31T10:45:53.706332",
     "status": "completed"
    },
    "tags": []
   },
   "source": [
    "Therefore, we will prepare (manually) a list of diagnostic keyphrases for each condition. The problem is that we have no keyphrase characteristic of the class 'other', so we need to use an aggregate of keyphrases, each of which should be highly specific for this class, although occurring only in a small fraction (1/6 at most) of them."
   ]
  },
  {
   "cell_type": "markdown",
   "metadata": {
    "papermill": {
     "duration": 0.026677,
     "end_time": "2020-08-31T10:45:53.787016",
     "exception": false,
     "start_time": "2020-08-31T10:45:53.760339",
     "status": "completed"
    },
    "tags": []
   },
   "source": [
    "We will make a separate dataframe, only for keyphrases associated with the 'other' class and add to it another column, which will tell us what fraction of all the 'O' cases had this keyphrase. We will also add information about the number of times this keyphrase was used to describe a case which was not assigned to this class."
   ]
  },
  {
   "cell_type": "code",
   "execution_count": 26,
   "metadata": {
    "execution": {
     "iopub.execute_input": "2020-08-31T10:45:53.860347Z",
     "iopub.status.busy": "2020-08-31T10:45:53.851114Z",
     "iopub.status.idle": "2020-08-31T10:45:54.363839Z",
     "shell.execute_reply": "2020-08-31T10:45:54.365016Z"
    },
    "papermill": {
     "duration": 0.550988,
     "end_time": "2020-08-31T10:45:54.365349",
     "exception": false,
     "start_time": "2020-08-31T10:45:53.814361",
     "status": "completed"
    },
    "tags": []
   },
   "outputs": [
    {
     "output_type": "execute_result",
     "data": {
      "text/plain": [
       "                                                      N   D   G   C  A  H  M  \\\n",
       "drusen                                                0  14   3   1  0  0  0   \n",
       "macular epiretinal membrane                           0  49   8   0  2  2  0   \n",
       "epiretinal membrane                                   0  47   5   0  0  0  0   \n",
       "myelinated nerve fibers                               0  21   4   2  0  0  0   \n",
       "vitreous degeneration                                 0  10   1   1  0  0  0   \n",
       "lens dust                                           222  22  22  36  0  0  7   \n",
       "refractive media opacity                              0   1   4   0  0  0  4   \n",
       "spotted membranous change                             0   3   0   0  0  0  0   \n",
       "maculopathy                                           0   1   1   0  0  1  0   \n",
       "retinal pigmentation                                  0   1   0   0  0  0  0   \n",
       "chorioretinal atrophy                                 0   1   2   0  0  0  0   \n",
       "branch retinal vein occlusion                         0   2   0   1  0  2  0   \n",
       "retinitis pigmentosa                                  0   1   0   0  0  0  0   \n",
       "retinochoroidal coloboma                              0   0   0   0  0  0  0   \n",
       "laser spot                                            0  78   3   3  0  0  0   \n",
       "epiretinal membrane over the macula                   0   3   0   0  0  0  0   \n",
       "optic disc edema                                      0   2   0   0  0  0  0   \n",
       "central retinal vein occlusion                        0   0   1   0  0  0  0   \n",
       "depigmentation of the retinal pigment epithelium      0   0   0   0  0  0  0   \n",
       "atrophic change                                       0   2   0   0  0  0  0   \n",
       "white vessel                                          0  13   1   0  0  0  0   \n",
       "tessellated fundus                                    0   1   1   0  0  0  0   \n",
       "idiopathic choroidal neovascularization               0   0   0   0  0  0  0   \n",
       "chorioretinal atrophy with pigmentation prolife...    0   1   0   0  0  0  0   \n",
       "central retinal artery occlusion                      0   1   0   0  0  0  0   \n",
       "branch retinal artery occlusion                       0   0   0   0  0  0  0   \n",
       "rhegmatogenous retinal detachment                     0   0   0   0  0  0  0   \n",
       "retina fold                                           0   1   0   0  0  0  0   \n",
       "post retinal laser surgery                            0  16   0   1  0  0  0   \n",
       "pigment epithelium proliferation                      0   0   0   0  0  0  0   \n",
       "optic nerve atrophy                                   0   0   2   0  1  1  0   \n",
       "old chorioretinopathy                                 0   0   0   0  0  0  0   \n",
       "old branch retinal vein occlusion                     0   2   0   0  0  0  0   \n",
       "morning glory syndrome                                0   0   0   0  0  0  0   \n",
       "macular hole                                          0   0   0   0  0  0  0   \n",
       "low image quality                                     3  16   0   0  0  0  0   \n",
       "atrophy                                               0   0   0   0  0  0  0   \n",
       "wedge-shaped change                                   0   0   0   0  0  0  0   \n",
       "wedge white line change                               0   0   0   0  0  0  0   \n",
       "vessel tortuosity                                     0   0   0   0  0  0  0   \n",
       "suspected retinitis pigmentosa                        0   0   0   0  0  0  0   \n",
       "suspected retinal vascular sheathing                  0   0   0   0  0  0  0   \n",
       "suspected abnormal color of  optic disc               0   0   0   0  0  0  0   \n",
       "silicone oil eye                                      0   0   0   0  0  0  0   \n",
       "retinal vascular sheathing                            0   0   0   0  0  0  0   \n",
       "retinal artery macroaneurysm                          0   0   0   0  0  0  0   \n",
       "post laser photocoagulation                           0   6   1   0  1  0  0   \n",
       "pigmentation disorder                                 0   0   0   0  0  0  0   \n",
       "oval yellow-white atrophy                             0   0   0   0  0  0  0   \n",
       "optic discitis                                        0   0   0   0  0  0  0   \n",
       "macular coloboma                                      0   0   0   0  0  0  0   \n",
       "congenital choroidal coloboma                         0   0   0   0  0  0  0   \n",
       "asteroid hyalosis                                     0   0   0   0  0  0  0   \n",
       "arteriosclerosis                                      0   0   0   0  0  0  0   \n",
       "abnormal pigment                                      0   2   0   0  0  0  0   \n",
       "\n",
       "                                                      O  Predictive power  \\\n",
       "drusen                                              180          0.909091   \n",
       "macular epiretinal membrane                         201          0.767176   \n",
       "epiretinal membrane                                 187          0.782427   \n",
       "myelinated nerve fibers                              99          0.785714   \n",
       "vitreous degeneration                                72          0.857143   \n",
       "lens dust                                           137          0.497758   \n",
       "refractive media opacity                             63          0.875000   \n",
       "spotted membranous change                            30          0.909091   \n",
       "maculopathy                                          28          0.903226   \n",
       "retinal pigmentation                                 21          0.954545   \n",
       "chorioretinal atrophy                                26          0.896552   \n",
       "branch retinal vein occlusion                        26          0.838710   \n",
       "retinitis pigmentosa                                 13          0.928571   \n",
       "retinochoroidal coloboma                              9          1.000000   \n",
       "laser spot                                           95          0.530726   \n",
       "epiretinal membrane over the macula                  14          0.823529   \n",
       "optic disc edema                                     10          0.833333   \n",
       "central retinal vein occlusion                       10          0.909091   \n",
       "depigmentation of the retinal pigment epithelium      5          1.000000   \n",
       "atrophic change                                       7          0.777778   \n",
       "white vessel                                         19          0.575758   \n",
       "tessellated fundus                                   29          0.935484   \n",
       "idiopathic choroidal neovascularization               3          1.000000   \n",
       "chorioretinal atrophy with pigmentation prolife...    4          0.800000   \n",
       "central retinal artery occlusion                      4          0.800000   \n",
       "branch retinal artery occlusion                       3          1.000000   \n",
       "rhegmatogenous retinal detachment                     2          1.000000   \n",
       "retina fold                                           3          0.750000   \n",
       "post retinal laser surgery                           18          0.514286   \n",
       "pigment epithelium proliferation                      4          1.000000   \n",
       "optic nerve atrophy                                   7          0.636364   \n",
       "old chorioretinopathy                                 4          1.000000   \n",
       "old branch retinal vein occlusion                     6          0.750000   \n",
       "morning glory syndrome                                2          1.000000   \n",
       "macular hole                                          2          1.000000   \n",
       "low image quality                                     2          0.761905   \n",
       "atrophy                                               2          1.000000   \n",
       "wedge-shaped change                                   1          1.000000   \n",
       "wedge white line change                               1          1.000000   \n",
       "vessel tortuosity                                     2          1.000000   \n",
       "suspected retinitis pigmentosa                        1          1.000000   \n",
       "suspected retinal vascular sheathing                  1          1.000000   \n",
       "suspected abnormal color of  optic disc               1          1.000000   \n",
       "silicone oil eye                                      1          1.000000   \n",
       "retinal vascular sheathing                            1          1.000000   \n",
       "retinal artery macroaneurysm                          1          1.000000   \n",
       "post laser photocoagulation                          10          0.555556   \n",
       "pigmentation disorder                                 2          1.000000   \n",
       "oval yellow-white atrophy                             1          1.000000   \n",
       "optic discitis                                        1          1.000000   \n",
       "macular coloboma                                      1          1.000000   \n",
       "congenital choroidal coloboma                         1          1.000000   \n",
       "asteroid hyalosis                                     1          1.000000   \n",
       "arteriosclerosis                                      1          1.000000   \n",
       "abnormal pigment                                      3          0.600000   \n",
       "\n",
       "                                                    O-fraction  non-O  \n",
       "drusen                                                0.183861      0  \n",
       "macular epiretinal membrane                           0.205312      0  \n",
       "epiretinal membrane                                   0.191011      0  \n",
       "myelinated nerve fibers                               0.101124      0  \n",
       "vitreous degeneration                                 0.073544      0  \n",
       "lens dust                                             0.139939    170  \n",
       "refractive media opacity                              0.064351      0  \n",
       "spotted membranous change                             0.030644      0  \n",
       "maculopathy                                           0.028601      0  \n",
       "retinal pigmentation                                  0.021450      0  \n",
       "chorioretinal atrophy                                 0.026558      0  \n",
       "branch retinal vein occlusion                         0.026558      0  \n",
       "retinitis pigmentosa                                  0.013279      0  \n",
       "retinochoroidal coloboma                              0.009193      0  \n",
       "laser spot                                            0.097038      0  \n",
       "epiretinal membrane over the macula                   0.014300      0  \n",
       "optic disc edema                                      0.010215      0  \n",
       "central retinal vein occlusion                        0.010215      0  \n",
       "depigmentation of the retinal pigment epithelium      0.005107      0  \n",
       "atrophic change                                       0.007150      0  \n",
       "white vessel                                          0.019408      0  \n",
       "tessellated fundus                                    0.029622      0  \n",
       "idiopathic choroidal neovascularization               0.003064      0  \n",
       "chorioretinal atrophy with pigmentation prolife...    0.004086      0  \n",
       "central retinal artery occlusion                      0.004086      0  \n",
       "branch retinal artery occlusion                       0.003064      0  \n",
       "rhegmatogenous retinal detachment                     0.002043      0  \n",
       "retina fold                                           0.003064      0  \n",
       "post retinal laser surgery                            0.018386      0  \n",
       "pigment epithelium proliferation                      0.004086      0  \n",
       "optic nerve atrophy                                   0.007150      0  \n",
       "old chorioretinopathy                                 0.004086      0  \n",
       "old branch retinal vein occlusion                     0.006129      0  \n",
       "morning glory syndrome                                0.002043      0  \n",
       "macular hole                                          0.002043      0  \n",
       "low image quality                                     0.002043     18  \n",
       "atrophy                                               0.002043      0  \n",
       "wedge-shaped change                                   0.001021      0  \n",
       "wedge white line change                               0.001021      0  \n",
       "vessel tortuosity                                     0.002043      0  \n",
       "suspected retinitis pigmentosa                        0.001021      0  \n",
       "suspected retinal vascular sheathing                  0.001021      0  \n",
       "suspected abnormal color of  optic disc               0.001021      0  \n",
       "silicone oil eye                                      0.001021      0  \n",
       "retinal vascular sheathing                            0.001021      0  \n",
       "retinal artery macroaneurysm                          0.001021      0  \n",
       "post laser photocoagulation                           0.010215      0  \n",
       "pigmentation disorder                                 0.002043      0  \n",
       "oval yellow-white atrophy                             0.001021      0  \n",
       "optic discitis                                        0.001021      0  \n",
       "macular coloboma                                      0.001021      0  \n",
       "congenital choroidal coloboma                         0.001021      0  \n",
       "asteroid hyalosis                                     0.001021      0  \n",
       "arteriosclerosis                                      0.001021      0  \n",
       "abnormal pigment                                      0.003064      0  "
      ],
      "text/html": "<div>\n<style scoped>\n    .dataframe tbody tr th:only-of-type {\n        vertical-align: middle;\n    }\n\n    .dataframe tbody tr th {\n        vertical-align: top;\n    }\n\n    .dataframe thead th {\n        text-align: right;\n    }\n</style>\n<table border=\"1\" class=\"dataframe\">\n  <thead>\n    <tr style=\"text-align: right;\">\n      <th></th>\n      <th>N</th>\n      <th>D</th>\n      <th>G</th>\n      <th>C</th>\n      <th>A</th>\n      <th>H</th>\n      <th>M</th>\n      <th>O</th>\n      <th>Predictive power</th>\n      <th>O-fraction</th>\n      <th>non-O</th>\n    </tr>\n  </thead>\n  <tbody>\n    <tr>\n      <th>drusen</th>\n      <td>0</td>\n      <td>14</td>\n      <td>3</td>\n      <td>1</td>\n      <td>0</td>\n      <td>0</td>\n      <td>0</td>\n      <td>180</td>\n      <td>0.909091</td>\n      <td>0.183861</td>\n      <td>0</td>\n    </tr>\n    <tr>\n      <th>macular epiretinal membrane</th>\n      <td>0</td>\n      <td>49</td>\n      <td>8</td>\n      <td>0</td>\n      <td>2</td>\n      <td>2</td>\n      <td>0</td>\n      <td>201</td>\n      <td>0.767176</td>\n      <td>0.205312</td>\n      <td>0</td>\n    </tr>\n    <tr>\n      <th>epiretinal membrane</th>\n      <td>0</td>\n      <td>47</td>\n      <td>5</td>\n      <td>0</td>\n      <td>0</td>\n      <td>0</td>\n      <td>0</td>\n      <td>187</td>\n      <td>0.782427</td>\n      <td>0.191011</td>\n      <td>0</td>\n    </tr>\n    <tr>\n      <th>myelinated nerve fibers</th>\n      <td>0</td>\n      <td>21</td>\n      <td>4</td>\n      <td>2</td>\n      <td>0</td>\n      <td>0</td>\n      <td>0</td>\n      <td>99</td>\n      <td>0.785714</td>\n      <td>0.101124</td>\n      <td>0</td>\n    </tr>\n    <tr>\n      <th>vitreous degeneration</th>\n      <td>0</td>\n      <td>10</td>\n      <td>1</td>\n      <td>1</td>\n      <td>0</td>\n      <td>0</td>\n      <td>0</td>\n      <td>72</td>\n      <td>0.857143</td>\n      <td>0.073544</td>\n      <td>0</td>\n    </tr>\n    <tr>\n      <th>lens dust</th>\n      <td>222</td>\n      <td>22</td>\n      <td>22</td>\n      <td>36</td>\n      <td>0</td>\n      <td>0</td>\n      <td>7</td>\n      <td>137</td>\n      <td>0.497758</td>\n      <td>0.139939</td>\n      <td>170</td>\n    </tr>\n    <tr>\n      <th>refractive media opacity</th>\n      <td>0</td>\n      <td>1</td>\n      <td>4</td>\n      <td>0</td>\n      <td>0</td>\n      <td>0</td>\n      <td>4</td>\n      <td>63</td>\n      <td>0.875000</td>\n      <td>0.064351</td>\n      <td>0</td>\n    </tr>\n    <tr>\n      <th>spotted membranous change</th>\n      <td>0</td>\n      <td>3</td>\n      <td>0</td>\n      <td>0</td>\n      <td>0</td>\n      <td>0</td>\n      <td>0</td>\n      <td>30</td>\n      <td>0.909091</td>\n      <td>0.030644</td>\n      <td>0</td>\n    </tr>\n    <tr>\n      <th>maculopathy</th>\n      <td>0</td>\n      <td>1</td>\n      <td>1</td>\n      <td>0</td>\n      <td>0</td>\n      <td>1</td>\n      <td>0</td>\n      <td>28</td>\n      <td>0.903226</td>\n      <td>0.028601</td>\n      <td>0</td>\n    </tr>\n    <tr>\n      <th>retinal pigmentation</th>\n      <td>0</td>\n      <td>1</td>\n      <td>0</td>\n      <td>0</td>\n      <td>0</td>\n      <td>0</td>\n      <td>0</td>\n      <td>21</td>\n      <td>0.954545</td>\n      <td>0.021450</td>\n      <td>0</td>\n    </tr>\n    <tr>\n      <th>chorioretinal atrophy</th>\n      <td>0</td>\n      <td>1</td>\n      <td>2</td>\n      <td>0</td>\n      <td>0</td>\n      <td>0</td>\n      <td>0</td>\n      <td>26</td>\n      <td>0.896552</td>\n      <td>0.026558</td>\n      <td>0</td>\n    </tr>\n    <tr>\n      <th>branch retinal vein occlusion</th>\n      <td>0</td>\n      <td>2</td>\n      <td>0</td>\n      <td>1</td>\n      <td>0</td>\n      <td>2</td>\n      <td>0</td>\n      <td>26</td>\n      <td>0.838710</td>\n      <td>0.026558</td>\n      <td>0</td>\n    </tr>\n    <tr>\n      <th>retinitis pigmentosa</th>\n      <td>0</td>\n      <td>1</td>\n      <td>0</td>\n      <td>0</td>\n      <td>0</td>\n      <td>0</td>\n      <td>0</td>\n      <td>13</td>\n      <td>0.928571</td>\n      <td>0.013279</td>\n      <td>0</td>\n    </tr>\n    <tr>\n      <th>retinochoroidal coloboma</th>\n      <td>0</td>\n      <td>0</td>\n      <td>0</td>\n      <td>0</td>\n      <td>0</td>\n      <td>0</td>\n      <td>0</td>\n      <td>9</td>\n      <td>1.000000</td>\n      <td>0.009193</td>\n      <td>0</td>\n    </tr>\n    <tr>\n      <th>laser spot</th>\n      <td>0</td>\n      <td>78</td>\n      <td>3</td>\n      <td>3</td>\n      <td>0</td>\n      <td>0</td>\n      <td>0</td>\n      <td>95</td>\n      <td>0.530726</td>\n      <td>0.097038</td>\n      <td>0</td>\n    </tr>\n    <tr>\n      <th>epiretinal membrane over the macula</th>\n      <td>0</td>\n      <td>3</td>\n      <td>0</td>\n      <td>0</td>\n      <td>0</td>\n      <td>0</td>\n      <td>0</td>\n      <td>14</td>\n      <td>0.823529</td>\n      <td>0.014300</td>\n      <td>0</td>\n    </tr>\n    <tr>\n      <th>optic disc edema</th>\n      <td>0</td>\n      <td>2</td>\n      <td>0</td>\n      <td>0</td>\n      <td>0</td>\n      <td>0</td>\n      <td>0</td>\n      <td>10</td>\n      <td>0.833333</td>\n      <td>0.010215</td>\n      <td>0</td>\n    </tr>\n    <tr>\n      <th>central retinal vein occlusion</th>\n      <td>0</td>\n      <td>0</td>\n      <td>1</td>\n      <td>0</td>\n      <td>0</td>\n      <td>0</td>\n      <td>0</td>\n      <td>10</td>\n      <td>0.909091</td>\n      <td>0.010215</td>\n      <td>0</td>\n    </tr>\n    <tr>\n      <th>depigmentation of the retinal pigment epithelium</th>\n      <td>0</td>\n      <td>0</td>\n      <td>0</td>\n      <td>0</td>\n      <td>0</td>\n      <td>0</td>\n      <td>0</td>\n      <td>5</td>\n      <td>1.000000</td>\n      <td>0.005107</td>\n      <td>0</td>\n    </tr>\n    <tr>\n      <th>atrophic change</th>\n      <td>0</td>\n      <td>2</td>\n      <td>0</td>\n      <td>0</td>\n      <td>0</td>\n      <td>0</td>\n      <td>0</td>\n      <td>7</td>\n      <td>0.777778</td>\n      <td>0.007150</td>\n      <td>0</td>\n    </tr>\n    <tr>\n      <th>white vessel</th>\n      <td>0</td>\n      <td>13</td>\n      <td>1</td>\n      <td>0</td>\n      <td>0</td>\n      <td>0</td>\n      <td>0</td>\n      <td>19</td>\n      <td>0.575758</td>\n      <td>0.019408</td>\n      <td>0</td>\n    </tr>\n    <tr>\n      <th>tessellated fundus</th>\n      <td>0</td>\n      <td>1</td>\n      <td>1</td>\n      <td>0</td>\n      <td>0</td>\n      <td>0</td>\n      <td>0</td>\n      <td>29</td>\n      <td>0.935484</td>\n      <td>0.029622</td>\n      <td>0</td>\n    </tr>\n    <tr>\n      <th>idiopathic choroidal neovascularization</th>\n      <td>0</td>\n      <td>0</td>\n      <td>0</td>\n      <td>0</td>\n      <td>0</td>\n      <td>0</td>\n      <td>0</td>\n      <td>3</td>\n      <td>1.000000</td>\n      <td>0.003064</td>\n      <td>0</td>\n    </tr>\n    <tr>\n      <th>chorioretinal atrophy with pigmentation proliferation</th>\n      <td>0</td>\n      <td>1</td>\n      <td>0</td>\n      <td>0</td>\n      <td>0</td>\n      <td>0</td>\n      <td>0</td>\n      <td>4</td>\n      <td>0.800000</td>\n      <td>0.004086</td>\n      <td>0</td>\n    </tr>\n    <tr>\n      <th>central retinal artery occlusion</th>\n      <td>0</td>\n      <td>1</td>\n      <td>0</td>\n      <td>0</td>\n      <td>0</td>\n      <td>0</td>\n      <td>0</td>\n      <td>4</td>\n      <td>0.800000</td>\n      <td>0.004086</td>\n      <td>0</td>\n    </tr>\n    <tr>\n      <th>branch retinal artery occlusion</th>\n      <td>0</td>\n      <td>0</td>\n      <td>0</td>\n      <td>0</td>\n      <td>0</td>\n      <td>0</td>\n      <td>0</td>\n      <td>3</td>\n      <td>1.000000</td>\n      <td>0.003064</td>\n      <td>0</td>\n    </tr>\n    <tr>\n      <th>rhegmatogenous retinal detachment</th>\n      <td>0</td>\n      <td>0</td>\n      <td>0</td>\n      <td>0</td>\n      <td>0</td>\n      <td>0</td>\n      <td>0</td>\n      <td>2</td>\n      <td>1.000000</td>\n      <td>0.002043</td>\n      <td>0</td>\n    </tr>\n    <tr>\n      <th>retina fold</th>\n      <td>0</td>\n      <td>1</td>\n      <td>0</td>\n      <td>0</td>\n      <td>0</td>\n      <td>0</td>\n      <td>0</td>\n      <td>3</td>\n      <td>0.750000</td>\n      <td>0.003064</td>\n      <td>0</td>\n    </tr>\n    <tr>\n      <th>post retinal laser surgery</th>\n      <td>0</td>\n      <td>16</td>\n      <td>0</td>\n      <td>1</td>\n      <td>0</td>\n      <td>0</td>\n      <td>0</td>\n      <td>18</td>\n      <td>0.514286</td>\n      <td>0.018386</td>\n      <td>0</td>\n    </tr>\n    <tr>\n      <th>pigment epithelium proliferation</th>\n      <td>0</td>\n      <td>0</td>\n      <td>0</td>\n      <td>0</td>\n      <td>0</td>\n      <td>0</td>\n      <td>0</td>\n      <td>4</td>\n      <td>1.000000</td>\n      <td>0.004086</td>\n      <td>0</td>\n    </tr>\n    <tr>\n      <th>optic nerve atrophy</th>\n      <td>0</td>\n      <td>0</td>\n      <td>2</td>\n      <td>0</td>\n      <td>1</td>\n      <td>1</td>\n      <td>0</td>\n      <td>7</td>\n      <td>0.636364</td>\n      <td>0.007150</td>\n      <td>0</td>\n    </tr>\n    <tr>\n      <th>old chorioretinopathy</th>\n      <td>0</td>\n      <td>0</td>\n      <td>0</td>\n      <td>0</td>\n      <td>0</td>\n      <td>0</td>\n      <td>0</td>\n      <td>4</td>\n      <td>1.000000</td>\n      <td>0.004086</td>\n      <td>0</td>\n    </tr>\n    <tr>\n      <th>old branch retinal vein occlusion</th>\n      <td>0</td>\n      <td>2</td>\n      <td>0</td>\n      <td>0</td>\n      <td>0</td>\n      <td>0</td>\n      <td>0</td>\n      <td>6</td>\n      <td>0.750000</td>\n      <td>0.006129</td>\n      <td>0</td>\n    </tr>\n    <tr>\n      <th>morning glory syndrome</th>\n      <td>0</td>\n      <td>0</td>\n      <td>0</td>\n      <td>0</td>\n      <td>0</td>\n      <td>0</td>\n      <td>0</td>\n      <td>2</td>\n      <td>1.000000</td>\n      <td>0.002043</td>\n      <td>0</td>\n    </tr>\n    <tr>\n      <th>macular hole</th>\n      <td>0</td>\n      <td>0</td>\n      <td>0</td>\n      <td>0</td>\n      <td>0</td>\n      <td>0</td>\n      <td>0</td>\n      <td>2</td>\n      <td>1.000000</td>\n      <td>0.002043</td>\n      <td>0</td>\n    </tr>\n    <tr>\n      <th>low image quality</th>\n      <td>3</td>\n      <td>16</td>\n      <td>0</td>\n      <td>0</td>\n      <td>0</td>\n      <td>0</td>\n      <td>0</td>\n      <td>2</td>\n      <td>0.761905</td>\n      <td>0.002043</td>\n      <td>18</td>\n    </tr>\n    <tr>\n      <th>atrophy</th>\n      <td>0</td>\n      <td>0</td>\n      <td>0</td>\n      <td>0</td>\n      <td>0</td>\n      <td>0</td>\n      <td>0</td>\n      <td>2</td>\n      <td>1.000000</td>\n      <td>0.002043</td>\n      <td>0</td>\n    </tr>\n    <tr>\n      <th>wedge-shaped change</th>\n      <td>0</td>\n      <td>0</td>\n      <td>0</td>\n      <td>0</td>\n      <td>0</td>\n      <td>0</td>\n      <td>0</td>\n      <td>1</td>\n      <td>1.000000</td>\n      <td>0.001021</td>\n      <td>0</td>\n    </tr>\n    <tr>\n      <th>wedge white line change</th>\n      <td>0</td>\n      <td>0</td>\n      <td>0</td>\n      <td>0</td>\n      <td>0</td>\n      <td>0</td>\n      <td>0</td>\n      <td>1</td>\n      <td>1.000000</td>\n      <td>0.001021</td>\n      <td>0</td>\n    </tr>\n    <tr>\n      <th>vessel tortuosity</th>\n      <td>0</td>\n      <td>0</td>\n      <td>0</td>\n      <td>0</td>\n      <td>0</td>\n      <td>0</td>\n      <td>0</td>\n      <td>2</td>\n      <td>1.000000</td>\n      <td>0.002043</td>\n      <td>0</td>\n    </tr>\n    <tr>\n      <th>suspected retinitis pigmentosa</th>\n      <td>0</td>\n      <td>0</td>\n      <td>0</td>\n      <td>0</td>\n      <td>0</td>\n      <td>0</td>\n      <td>0</td>\n      <td>1</td>\n      <td>1.000000</td>\n      <td>0.001021</td>\n      <td>0</td>\n    </tr>\n    <tr>\n      <th>suspected retinal vascular sheathing</th>\n      <td>0</td>\n      <td>0</td>\n      <td>0</td>\n      <td>0</td>\n      <td>0</td>\n      <td>0</td>\n      <td>0</td>\n      <td>1</td>\n      <td>1.000000</td>\n      <td>0.001021</td>\n      <td>0</td>\n    </tr>\n    <tr>\n      <th>suspected abnormal color of  optic disc</th>\n      <td>0</td>\n      <td>0</td>\n      <td>0</td>\n      <td>0</td>\n      <td>0</td>\n      <td>0</td>\n      <td>0</td>\n      <td>1</td>\n      <td>1.000000</td>\n      <td>0.001021</td>\n      <td>0</td>\n    </tr>\n    <tr>\n      <th>silicone oil eye</th>\n      <td>0</td>\n      <td>0</td>\n      <td>0</td>\n      <td>0</td>\n      <td>0</td>\n      <td>0</td>\n      <td>0</td>\n      <td>1</td>\n      <td>1.000000</td>\n      <td>0.001021</td>\n      <td>0</td>\n    </tr>\n    <tr>\n      <th>retinal vascular sheathing</th>\n      <td>0</td>\n      <td>0</td>\n      <td>0</td>\n      <td>0</td>\n      <td>0</td>\n      <td>0</td>\n      <td>0</td>\n      <td>1</td>\n      <td>1.000000</td>\n      <td>0.001021</td>\n      <td>0</td>\n    </tr>\n    <tr>\n      <th>retinal artery macroaneurysm</th>\n      <td>0</td>\n      <td>0</td>\n      <td>0</td>\n      <td>0</td>\n      <td>0</td>\n      <td>0</td>\n      <td>0</td>\n      <td>1</td>\n      <td>1.000000</td>\n      <td>0.001021</td>\n      <td>0</td>\n    </tr>\n    <tr>\n      <th>post laser photocoagulation</th>\n      <td>0</td>\n      <td>6</td>\n      <td>1</td>\n      <td>0</td>\n      <td>1</td>\n      <td>0</td>\n      <td>0</td>\n      <td>10</td>\n      <td>0.555556</td>\n      <td>0.010215</td>\n      <td>0</td>\n    </tr>\n    <tr>\n      <th>pigmentation disorder</th>\n      <td>0</td>\n      <td>0</td>\n      <td>0</td>\n      <td>0</td>\n      <td>0</td>\n      <td>0</td>\n      <td>0</td>\n      <td>2</td>\n      <td>1.000000</td>\n      <td>0.002043</td>\n      <td>0</td>\n    </tr>\n    <tr>\n      <th>oval yellow-white atrophy</th>\n      <td>0</td>\n      <td>0</td>\n      <td>0</td>\n      <td>0</td>\n      <td>0</td>\n      <td>0</td>\n      <td>0</td>\n      <td>1</td>\n      <td>1.000000</td>\n      <td>0.001021</td>\n      <td>0</td>\n    </tr>\n    <tr>\n      <th>optic discitis</th>\n      <td>0</td>\n      <td>0</td>\n      <td>0</td>\n      <td>0</td>\n      <td>0</td>\n      <td>0</td>\n      <td>0</td>\n      <td>1</td>\n      <td>1.000000</td>\n      <td>0.001021</td>\n      <td>0</td>\n    </tr>\n    <tr>\n      <th>macular coloboma</th>\n      <td>0</td>\n      <td>0</td>\n      <td>0</td>\n      <td>0</td>\n      <td>0</td>\n      <td>0</td>\n      <td>0</td>\n      <td>1</td>\n      <td>1.000000</td>\n      <td>0.001021</td>\n      <td>0</td>\n    </tr>\n    <tr>\n      <th>congenital choroidal coloboma</th>\n      <td>0</td>\n      <td>0</td>\n      <td>0</td>\n      <td>0</td>\n      <td>0</td>\n      <td>0</td>\n      <td>0</td>\n      <td>1</td>\n      <td>1.000000</td>\n      <td>0.001021</td>\n      <td>0</td>\n    </tr>\n    <tr>\n      <th>asteroid hyalosis</th>\n      <td>0</td>\n      <td>0</td>\n      <td>0</td>\n      <td>0</td>\n      <td>0</td>\n      <td>0</td>\n      <td>0</td>\n      <td>1</td>\n      <td>1.000000</td>\n      <td>0.001021</td>\n      <td>0</td>\n    </tr>\n    <tr>\n      <th>arteriosclerosis</th>\n      <td>0</td>\n      <td>0</td>\n      <td>0</td>\n      <td>0</td>\n      <td>0</td>\n      <td>0</td>\n      <td>0</td>\n      <td>1</td>\n      <td>1.000000</td>\n      <td>0.001021</td>\n      <td>0</td>\n    </tr>\n    <tr>\n      <th>abnormal pigment</th>\n      <td>0</td>\n      <td>2</td>\n      <td>0</td>\n      <td>0</td>\n      <td>0</td>\n      <td>0</td>\n      <td>0</td>\n      <td>3</td>\n      <td>0.600000</td>\n      <td>0.003064</td>\n      <td>0</td>\n    </tr>\n  </tbody>\n</table>\n</div>"
     },
     "metadata": {},
     "execution_count": 26
    }
   ],
   "source": [
    "keyphrases_O = keyphrases_incl.copy().loc[list(conditions_keyphrases['O'].keys())]\n",
    "keyphrases_O['O-fraction'] = keyphrases_O['O'] / data['O'].sum()\n",
    "keyphrases_O['non-O'] = 0\n",
    "\n",
    "for i, row in data.query('O!=1').iterrows():\n",
    "    keyphrases_L = row['Left-Diagnostic Keywords'].replace('，',',').split(',')\n",
    "    keyphrases_R = row['Right-Diagnostic Keywords'].replace('，',',').split(',')\n",
    "    for keyphrase in keyphrases_O.index:\n",
    "        if keyphrase in keyphrases_L or keyphrase in keyphrases_R:\n",
    "            keyphrases_O.loc[keyphrase, 'non-O']+=1\n",
    "\n",
    "keyphrases_O"
   ]
  },
  {
   "cell_type": "markdown",
   "metadata": {
    "papermill": {
     "duration": 0.031707,
     "end_time": "2020-08-31T10:45:54.433099",
     "exception": false,
     "start_time": "2020-08-31T10:45:54.401392",
     "status": "completed"
    },
    "tags": []
   },
   "source": [
    "This seems great! Except for 'lens dust' and 'low image quality' all these keyphrases occurred only in cases of patients assigned an 'other' diagnosis (although often with other non-'other' conditions). Thus, we could treat all of them as characteristic of this class, but for the sake of efficiency we will restrict ourselves to those with the highest 'O-fraction' value.\n",
    "\n",
    "Let's remove the two invalid keyphrases and sort this dataframe."
   ]
  },
  {
   "cell_type": "code",
   "execution_count": 27,
   "metadata": {
    "execution": {
     "iopub.execute_input": "2020-08-31T10:45:54.544790Z",
     "iopub.status.busy": "2020-08-31T10:45:54.533830Z",
     "iopub.status.idle": "2020-08-31T10:45:54.552553Z",
     "shell.execute_reply": "2020-08-31T10:45:54.553162Z"
    },
    "papermill": {
     "duration": 0.088076,
     "end_time": "2020-08-31T10:45:54.553365",
     "exception": false,
     "start_time": "2020-08-31T10:45:54.465289",
     "status": "completed"
    },
    "tags": []
   },
   "outputs": [
    {
     "output_type": "execute_result",
     "data": {
      "text/plain": [
       "                                                    N   D  G  C  A  H  M    O  \\\n",
       "macular epiretinal membrane                         0  49  8  0  2  2  0  201   \n",
       "epiretinal membrane                                 0  47  5  0  0  0  0  187   \n",
       "drusen                                              0  14  3  1  0  0  0  180   \n",
       "myelinated nerve fibers                             0  21  4  2  0  0  0   99   \n",
       "laser spot                                          0  78  3  3  0  0  0   95   \n",
       "vitreous degeneration                               0  10  1  1  0  0  0   72   \n",
       "refractive media opacity                            0   1  4  0  0  0  4   63   \n",
       "spotted membranous change                           0   3  0  0  0  0  0   30   \n",
       "tessellated fundus                                  0   1  1  0  0  0  0   29   \n",
       "maculopathy                                         0   1  1  0  0  1  0   28   \n",
       "chorioretinal atrophy                               0   1  2  0  0  0  0   26   \n",
       "branch retinal vein occlusion                       0   2  0  1  0  2  0   26   \n",
       "retinal pigmentation                                0   1  0  0  0  0  0   21   \n",
       "white vessel                                        0  13  1  0  0  0  0   19   \n",
       "post retinal laser surgery                          0  16  0  1  0  0  0   18   \n",
       "epiretinal membrane over the macula                 0   3  0  0  0  0  0   14   \n",
       "retinitis pigmentosa                                0   1  0  0  0  0  0   13   \n",
       "central retinal vein occlusion                      0   0  1  0  0  0  0   10   \n",
       "optic disc edema                                    0   2  0  0  0  0  0   10   \n",
       "post laser photocoagulation                         0   6  1  0  1  0  0   10   \n",
       "retinochoroidal coloboma                            0   0  0  0  0  0  0    9   \n",
       "atrophic change                                     0   2  0  0  0  0  0    7   \n",
       "optic nerve atrophy                                 0   0  2  0  1  1  0    7   \n",
       "old branch retinal vein occlusion                   0   2  0  0  0  0  0    6   \n",
       "depigmentation of the retinal pigment epithelium    0   0  0  0  0  0  0    5   \n",
       "chorioretinal atrophy with pigmentation prolife...  0   1  0  0  0  0  0    4   \n",
       "central retinal artery occlusion                    0   1  0  0  0  0  0    4   \n",
       "old chorioretinopathy                               0   0  0  0  0  0  0    4   \n",
       "pigment epithelium proliferation                    0   0  0  0  0  0  0    4   \n",
       "retina fold                                         0   1  0  0  0  0  0    3   \n",
       "abnormal pigment                                    0   2  0  0  0  0  0    3   \n",
       "idiopathic choroidal neovascularization             0   0  0  0  0  0  0    3   \n",
       "branch retinal artery occlusion                     0   0  0  0  0  0  0    3   \n",
       "vessel tortuosity                                   0   0  0  0  0  0  0    2   \n",
       "pigmentation disorder                               0   0  0  0  0  0  0    2   \n",
       "rhegmatogenous retinal detachment                   0   0  0  0  0  0  0    2   \n",
       "macular hole                                        0   0  0  0  0  0  0    2   \n",
       "morning glory syndrome                              0   0  0  0  0  0  0    2   \n",
       "atrophy                                             0   0  0  0  0  0  0    2   \n",
       "arteriosclerosis                                    0   0  0  0  0  0  0    1   \n",
       "asteroid hyalosis                                   0   0  0  0  0  0  0    1   \n",
       "congenital choroidal coloboma                       0   0  0  0  0  0  0    1   \n",
       "macular coloboma                                    0   0  0  0  0  0  0    1   \n",
       "optic discitis                                      0   0  0  0  0  0  0    1   \n",
       "oval yellow-white atrophy                           0   0  0  0  0  0  0    1   \n",
       "wedge white line change                             0   0  0  0  0  0  0    1   \n",
       "wedge-shaped change                                 0   0  0  0  0  0  0    1   \n",
       "retinal artery macroaneurysm                        0   0  0  0  0  0  0    1   \n",
       "retinal vascular sheathing                          0   0  0  0  0  0  0    1   \n",
       "suspected abnormal color of  optic disc             0   0  0  0  0  0  0    1   \n",
       "suspected retinal vascular sheathing                0   0  0  0  0  0  0    1   \n",
       "suspected retinitis pigmentosa                      0   0  0  0  0  0  0    1   \n",
       "silicone oil eye                                    0   0  0  0  0  0  0    1   \n",
       "\n",
       "                                                    Predictive power  \\\n",
       "macular epiretinal membrane                                 0.767176   \n",
       "epiretinal membrane                                         0.782427   \n",
       "drusen                                                      0.909091   \n",
       "myelinated nerve fibers                                     0.785714   \n",
       "laser spot                                                  0.530726   \n",
       "vitreous degeneration                                       0.857143   \n",
       "refractive media opacity                                    0.875000   \n",
       "spotted membranous change                                   0.909091   \n",
       "tessellated fundus                                          0.935484   \n",
       "maculopathy                                                 0.903226   \n",
       "chorioretinal atrophy                                       0.896552   \n",
       "branch retinal vein occlusion                               0.838710   \n",
       "retinal pigmentation                                        0.954545   \n",
       "white vessel                                                0.575758   \n",
       "post retinal laser surgery                                  0.514286   \n",
       "epiretinal membrane over the macula                         0.823529   \n",
       "retinitis pigmentosa                                        0.928571   \n",
       "central retinal vein occlusion                              0.909091   \n",
       "optic disc edema                                            0.833333   \n",
       "post laser photocoagulation                                 0.555556   \n",
       "retinochoroidal coloboma                                    1.000000   \n",
       "atrophic change                                             0.777778   \n",
       "optic nerve atrophy                                         0.636364   \n",
       "old branch retinal vein occlusion                           0.750000   \n",
       "depigmentation of the retinal pigment epithelium            1.000000   \n",
       "chorioretinal atrophy with pigmentation prolife...          0.800000   \n",
       "central retinal artery occlusion                            0.800000   \n",
       "old chorioretinopathy                                       1.000000   \n",
       "pigment epithelium proliferation                            1.000000   \n",
       "retina fold                                                 0.750000   \n",
       "abnormal pigment                                            0.600000   \n",
       "idiopathic choroidal neovascularization                     1.000000   \n",
       "branch retinal artery occlusion                             1.000000   \n",
       "vessel tortuosity                                           1.000000   \n",
       "pigmentation disorder                                       1.000000   \n",
       "rhegmatogenous retinal detachment                           1.000000   \n",
       "macular hole                                                1.000000   \n",
       "morning glory syndrome                                      1.000000   \n",
       "atrophy                                                     1.000000   \n",
       "arteriosclerosis                                            1.000000   \n",
       "asteroid hyalosis                                           1.000000   \n",
       "congenital choroidal coloboma                               1.000000   \n",
       "macular coloboma                                            1.000000   \n",
       "optic discitis                                              1.000000   \n",
       "oval yellow-white atrophy                                   1.000000   \n",
       "wedge white line change                                     1.000000   \n",
       "wedge-shaped change                                         1.000000   \n",
       "retinal artery macroaneurysm                                1.000000   \n",
       "retinal vascular sheathing                                  1.000000   \n",
       "suspected abnormal color of  optic disc                     1.000000   \n",
       "suspected retinal vascular sheathing                        1.000000   \n",
       "suspected retinitis pigmentosa                              1.000000   \n",
       "silicone oil eye                                            1.000000   \n",
       "\n",
       "                                                    O-fraction  non-O  \n",
       "macular epiretinal membrane                           0.205312      0  \n",
       "epiretinal membrane                                   0.191011      0  \n",
       "drusen                                                0.183861      0  \n",
       "myelinated nerve fibers                               0.101124      0  \n",
       "laser spot                                            0.097038      0  \n",
       "vitreous degeneration                                 0.073544      0  \n",
       "refractive media opacity                              0.064351      0  \n",
       "spotted membranous change                             0.030644      0  \n",
       "tessellated fundus                                    0.029622      0  \n",
       "maculopathy                                           0.028601      0  \n",
       "chorioretinal atrophy                                 0.026558      0  \n",
       "branch retinal vein occlusion                         0.026558      0  \n",
       "retinal pigmentation                                  0.021450      0  \n",
       "white vessel                                          0.019408      0  \n",
       "post retinal laser surgery                            0.018386      0  \n",
       "epiretinal membrane over the macula                   0.014300      0  \n",
       "retinitis pigmentosa                                  0.013279      0  \n",
       "central retinal vein occlusion                        0.010215      0  \n",
       "optic disc edema                                      0.010215      0  \n",
       "post laser photocoagulation                           0.010215      0  \n",
       "retinochoroidal coloboma                              0.009193      0  \n",
       "atrophic change                                       0.007150      0  \n",
       "optic nerve atrophy                                   0.007150      0  \n",
       "old branch retinal vein occlusion                     0.006129      0  \n",
       "depigmentation of the retinal pigment epithelium      0.005107      0  \n",
       "chorioretinal atrophy with pigmentation prolife...    0.004086      0  \n",
       "central retinal artery occlusion                      0.004086      0  \n",
       "old chorioretinopathy                                 0.004086      0  \n",
       "pigment epithelium proliferation                      0.004086      0  \n",
       "retina fold                                           0.003064      0  \n",
       "abnormal pigment                                      0.003064      0  \n",
       "idiopathic choroidal neovascularization               0.003064      0  \n",
       "branch retinal artery occlusion                       0.003064      0  \n",
       "vessel tortuosity                                     0.002043      0  \n",
       "pigmentation disorder                                 0.002043      0  \n",
       "rhegmatogenous retinal detachment                     0.002043      0  \n",
       "macular hole                                          0.002043      0  \n",
       "morning glory syndrome                                0.002043      0  \n",
       "atrophy                                               0.002043      0  \n",
       "arteriosclerosis                                      0.001021      0  \n",
       "asteroid hyalosis                                     0.001021      0  \n",
       "congenital choroidal coloboma                         0.001021      0  \n",
       "macular coloboma                                      0.001021      0  \n",
       "optic discitis                                        0.001021      0  \n",
       "oval yellow-white atrophy                             0.001021      0  \n",
       "wedge white line change                               0.001021      0  \n",
       "wedge-shaped change                                   0.001021      0  \n",
       "retinal artery macroaneurysm                          0.001021      0  \n",
       "retinal vascular sheathing                            0.001021      0  \n",
       "suspected abnormal color of  optic disc               0.001021      0  \n",
       "suspected retinal vascular sheathing                  0.001021      0  \n",
       "suspected retinitis pigmentosa                        0.001021      0  \n",
       "silicone oil eye                                      0.001021      0  "
      ],
      "text/html": "<div>\n<style scoped>\n    .dataframe tbody tr th:only-of-type {\n        vertical-align: middle;\n    }\n\n    .dataframe tbody tr th {\n        vertical-align: top;\n    }\n\n    .dataframe thead th {\n        text-align: right;\n    }\n</style>\n<table border=\"1\" class=\"dataframe\">\n  <thead>\n    <tr style=\"text-align: right;\">\n      <th></th>\n      <th>N</th>\n      <th>D</th>\n      <th>G</th>\n      <th>C</th>\n      <th>A</th>\n      <th>H</th>\n      <th>M</th>\n      <th>O</th>\n      <th>Predictive power</th>\n      <th>O-fraction</th>\n      <th>non-O</th>\n    </tr>\n  </thead>\n  <tbody>\n    <tr>\n      <th>macular epiretinal membrane</th>\n      <td>0</td>\n      <td>49</td>\n      <td>8</td>\n      <td>0</td>\n      <td>2</td>\n      <td>2</td>\n      <td>0</td>\n      <td>201</td>\n      <td>0.767176</td>\n      <td>0.205312</td>\n      <td>0</td>\n    </tr>\n    <tr>\n      <th>epiretinal membrane</th>\n      <td>0</td>\n      <td>47</td>\n      <td>5</td>\n      <td>0</td>\n      <td>0</td>\n      <td>0</td>\n      <td>0</td>\n      <td>187</td>\n      <td>0.782427</td>\n      <td>0.191011</td>\n      <td>0</td>\n    </tr>\n    <tr>\n      <th>drusen</th>\n      <td>0</td>\n      <td>14</td>\n      <td>3</td>\n      <td>1</td>\n      <td>0</td>\n      <td>0</td>\n      <td>0</td>\n      <td>180</td>\n      <td>0.909091</td>\n      <td>0.183861</td>\n      <td>0</td>\n    </tr>\n    <tr>\n      <th>myelinated nerve fibers</th>\n      <td>0</td>\n      <td>21</td>\n      <td>4</td>\n      <td>2</td>\n      <td>0</td>\n      <td>0</td>\n      <td>0</td>\n      <td>99</td>\n      <td>0.785714</td>\n      <td>0.101124</td>\n      <td>0</td>\n    </tr>\n    <tr>\n      <th>laser spot</th>\n      <td>0</td>\n      <td>78</td>\n      <td>3</td>\n      <td>3</td>\n      <td>0</td>\n      <td>0</td>\n      <td>0</td>\n      <td>95</td>\n      <td>0.530726</td>\n      <td>0.097038</td>\n      <td>0</td>\n    </tr>\n    <tr>\n      <th>vitreous degeneration</th>\n      <td>0</td>\n      <td>10</td>\n      <td>1</td>\n      <td>1</td>\n      <td>0</td>\n      <td>0</td>\n      <td>0</td>\n      <td>72</td>\n      <td>0.857143</td>\n      <td>0.073544</td>\n      <td>0</td>\n    </tr>\n    <tr>\n      <th>refractive media opacity</th>\n      <td>0</td>\n      <td>1</td>\n      <td>4</td>\n      <td>0</td>\n      <td>0</td>\n      <td>0</td>\n      <td>4</td>\n      <td>63</td>\n      <td>0.875000</td>\n      <td>0.064351</td>\n      <td>0</td>\n    </tr>\n    <tr>\n      <th>spotted membranous change</th>\n      <td>0</td>\n      <td>3</td>\n      <td>0</td>\n      <td>0</td>\n      <td>0</td>\n      <td>0</td>\n      <td>0</td>\n      <td>30</td>\n      <td>0.909091</td>\n      <td>0.030644</td>\n      <td>0</td>\n    </tr>\n    <tr>\n      <th>tessellated fundus</th>\n      <td>0</td>\n      <td>1</td>\n      <td>1</td>\n      <td>0</td>\n      <td>0</td>\n      <td>0</td>\n      <td>0</td>\n      <td>29</td>\n      <td>0.935484</td>\n      <td>0.029622</td>\n      <td>0</td>\n    </tr>\n    <tr>\n      <th>maculopathy</th>\n      <td>0</td>\n      <td>1</td>\n      <td>1</td>\n      <td>0</td>\n      <td>0</td>\n      <td>1</td>\n      <td>0</td>\n      <td>28</td>\n      <td>0.903226</td>\n      <td>0.028601</td>\n      <td>0</td>\n    </tr>\n    <tr>\n      <th>chorioretinal atrophy</th>\n      <td>0</td>\n      <td>1</td>\n      <td>2</td>\n      <td>0</td>\n      <td>0</td>\n      <td>0</td>\n      <td>0</td>\n      <td>26</td>\n      <td>0.896552</td>\n      <td>0.026558</td>\n      <td>0</td>\n    </tr>\n    <tr>\n      <th>branch retinal vein occlusion</th>\n      <td>0</td>\n      <td>2</td>\n      <td>0</td>\n      <td>1</td>\n      <td>0</td>\n      <td>2</td>\n      <td>0</td>\n      <td>26</td>\n      <td>0.838710</td>\n      <td>0.026558</td>\n      <td>0</td>\n    </tr>\n    <tr>\n      <th>retinal pigmentation</th>\n      <td>0</td>\n      <td>1</td>\n      <td>0</td>\n      <td>0</td>\n      <td>0</td>\n      <td>0</td>\n      <td>0</td>\n      <td>21</td>\n      <td>0.954545</td>\n      <td>0.021450</td>\n      <td>0</td>\n    </tr>\n    <tr>\n      <th>white vessel</th>\n      <td>0</td>\n      <td>13</td>\n      <td>1</td>\n      <td>0</td>\n      <td>0</td>\n      <td>0</td>\n      <td>0</td>\n      <td>19</td>\n      <td>0.575758</td>\n      <td>0.019408</td>\n      <td>0</td>\n    </tr>\n    <tr>\n      <th>post retinal laser surgery</th>\n      <td>0</td>\n      <td>16</td>\n      <td>0</td>\n      <td>1</td>\n      <td>0</td>\n      <td>0</td>\n      <td>0</td>\n      <td>18</td>\n      <td>0.514286</td>\n      <td>0.018386</td>\n      <td>0</td>\n    </tr>\n    <tr>\n      <th>epiretinal membrane over the macula</th>\n      <td>0</td>\n      <td>3</td>\n      <td>0</td>\n      <td>0</td>\n      <td>0</td>\n      <td>0</td>\n      <td>0</td>\n      <td>14</td>\n      <td>0.823529</td>\n      <td>0.014300</td>\n      <td>0</td>\n    </tr>\n    <tr>\n      <th>retinitis pigmentosa</th>\n      <td>0</td>\n      <td>1</td>\n      <td>0</td>\n      <td>0</td>\n      <td>0</td>\n      <td>0</td>\n      <td>0</td>\n      <td>13</td>\n      <td>0.928571</td>\n      <td>0.013279</td>\n      <td>0</td>\n    </tr>\n    <tr>\n      <th>central retinal vein occlusion</th>\n      <td>0</td>\n      <td>0</td>\n      <td>1</td>\n      <td>0</td>\n      <td>0</td>\n      <td>0</td>\n      <td>0</td>\n      <td>10</td>\n      <td>0.909091</td>\n      <td>0.010215</td>\n      <td>0</td>\n    </tr>\n    <tr>\n      <th>optic disc edema</th>\n      <td>0</td>\n      <td>2</td>\n      <td>0</td>\n      <td>0</td>\n      <td>0</td>\n      <td>0</td>\n      <td>0</td>\n      <td>10</td>\n      <td>0.833333</td>\n      <td>0.010215</td>\n      <td>0</td>\n    </tr>\n    <tr>\n      <th>post laser photocoagulation</th>\n      <td>0</td>\n      <td>6</td>\n      <td>1</td>\n      <td>0</td>\n      <td>1</td>\n      <td>0</td>\n      <td>0</td>\n      <td>10</td>\n      <td>0.555556</td>\n      <td>0.010215</td>\n      <td>0</td>\n    </tr>\n    <tr>\n      <th>retinochoroidal coloboma</th>\n      <td>0</td>\n      <td>0</td>\n      <td>0</td>\n      <td>0</td>\n      <td>0</td>\n      <td>0</td>\n      <td>0</td>\n      <td>9</td>\n      <td>1.000000</td>\n      <td>0.009193</td>\n      <td>0</td>\n    </tr>\n    <tr>\n      <th>atrophic change</th>\n      <td>0</td>\n      <td>2</td>\n      <td>0</td>\n      <td>0</td>\n      <td>0</td>\n      <td>0</td>\n      <td>0</td>\n      <td>7</td>\n      <td>0.777778</td>\n      <td>0.007150</td>\n      <td>0</td>\n    </tr>\n    <tr>\n      <th>optic nerve atrophy</th>\n      <td>0</td>\n      <td>0</td>\n      <td>2</td>\n      <td>0</td>\n      <td>1</td>\n      <td>1</td>\n      <td>0</td>\n      <td>7</td>\n      <td>0.636364</td>\n      <td>0.007150</td>\n      <td>0</td>\n    </tr>\n    <tr>\n      <th>old branch retinal vein occlusion</th>\n      <td>0</td>\n      <td>2</td>\n      <td>0</td>\n      <td>0</td>\n      <td>0</td>\n      <td>0</td>\n      <td>0</td>\n      <td>6</td>\n      <td>0.750000</td>\n      <td>0.006129</td>\n      <td>0</td>\n    </tr>\n    <tr>\n      <th>depigmentation of the retinal pigment epithelium</th>\n      <td>0</td>\n      <td>0</td>\n      <td>0</td>\n      <td>0</td>\n      <td>0</td>\n      <td>0</td>\n      <td>0</td>\n      <td>5</td>\n      <td>1.000000</td>\n      <td>0.005107</td>\n      <td>0</td>\n    </tr>\n    <tr>\n      <th>chorioretinal atrophy with pigmentation proliferation</th>\n      <td>0</td>\n      <td>1</td>\n      <td>0</td>\n      <td>0</td>\n      <td>0</td>\n      <td>0</td>\n      <td>0</td>\n      <td>4</td>\n      <td>0.800000</td>\n      <td>0.004086</td>\n      <td>0</td>\n    </tr>\n    <tr>\n      <th>central retinal artery occlusion</th>\n      <td>0</td>\n      <td>1</td>\n      <td>0</td>\n      <td>0</td>\n      <td>0</td>\n      <td>0</td>\n      <td>0</td>\n      <td>4</td>\n      <td>0.800000</td>\n      <td>0.004086</td>\n      <td>0</td>\n    </tr>\n    <tr>\n      <th>old chorioretinopathy</th>\n      <td>0</td>\n      <td>0</td>\n      <td>0</td>\n      <td>0</td>\n      <td>0</td>\n      <td>0</td>\n      <td>0</td>\n      <td>4</td>\n      <td>1.000000</td>\n      <td>0.004086</td>\n      <td>0</td>\n    </tr>\n    <tr>\n      <th>pigment epithelium proliferation</th>\n      <td>0</td>\n      <td>0</td>\n      <td>0</td>\n      <td>0</td>\n      <td>0</td>\n      <td>0</td>\n      <td>0</td>\n      <td>4</td>\n      <td>1.000000</td>\n      <td>0.004086</td>\n      <td>0</td>\n    </tr>\n    <tr>\n      <th>retina fold</th>\n      <td>0</td>\n      <td>1</td>\n      <td>0</td>\n      <td>0</td>\n      <td>0</td>\n      <td>0</td>\n      <td>0</td>\n      <td>3</td>\n      <td>0.750000</td>\n      <td>0.003064</td>\n      <td>0</td>\n    </tr>\n    <tr>\n      <th>abnormal pigment</th>\n      <td>0</td>\n      <td>2</td>\n      <td>0</td>\n      <td>0</td>\n      <td>0</td>\n      <td>0</td>\n      <td>0</td>\n      <td>3</td>\n      <td>0.600000</td>\n      <td>0.003064</td>\n      <td>0</td>\n    </tr>\n    <tr>\n      <th>idiopathic choroidal neovascularization</th>\n      <td>0</td>\n      <td>0</td>\n      <td>0</td>\n      <td>0</td>\n      <td>0</td>\n      <td>0</td>\n      <td>0</td>\n      <td>3</td>\n      <td>1.000000</td>\n      <td>0.003064</td>\n      <td>0</td>\n    </tr>\n    <tr>\n      <th>branch retinal artery occlusion</th>\n      <td>0</td>\n      <td>0</td>\n      <td>0</td>\n      <td>0</td>\n      <td>0</td>\n      <td>0</td>\n      <td>0</td>\n      <td>3</td>\n      <td>1.000000</td>\n      <td>0.003064</td>\n      <td>0</td>\n    </tr>\n    <tr>\n      <th>vessel tortuosity</th>\n      <td>0</td>\n      <td>0</td>\n      <td>0</td>\n      <td>0</td>\n      <td>0</td>\n      <td>0</td>\n      <td>0</td>\n      <td>2</td>\n      <td>1.000000</td>\n      <td>0.002043</td>\n      <td>0</td>\n    </tr>\n    <tr>\n      <th>pigmentation disorder</th>\n      <td>0</td>\n      <td>0</td>\n      <td>0</td>\n      <td>0</td>\n      <td>0</td>\n      <td>0</td>\n      <td>0</td>\n      <td>2</td>\n      <td>1.000000</td>\n      <td>0.002043</td>\n      <td>0</td>\n    </tr>\n    <tr>\n      <th>rhegmatogenous retinal detachment</th>\n      <td>0</td>\n      <td>0</td>\n      <td>0</td>\n      <td>0</td>\n      <td>0</td>\n      <td>0</td>\n      <td>0</td>\n      <td>2</td>\n      <td>1.000000</td>\n      <td>0.002043</td>\n      <td>0</td>\n    </tr>\n    <tr>\n      <th>macular hole</th>\n      <td>0</td>\n      <td>0</td>\n      <td>0</td>\n      <td>0</td>\n      <td>0</td>\n      <td>0</td>\n      <td>0</td>\n      <td>2</td>\n      <td>1.000000</td>\n      <td>0.002043</td>\n      <td>0</td>\n    </tr>\n    <tr>\n      <th>morning glory syndrome</th>\n      <td>0</td>\n      <td>0</td>\n      <td>0</td>\n      <td>0</td>\n      <td>0</td>\n      <td>0</td>\n      <td>0</td>\n      <td>2</td>\n      <td>1.000000</td>\n      <td>0.002043</td>\n      <td>0</td>\n    </tr>\n    <tr>\n      <th>atrophy</th>\n      <td>0</td>\n      <td>0</td>\n      <td>0</td>\n      <td>0</td>\n      <td>0</td>\n      <td>0</td>\n      <td>0</td>\n      <td>2</td>\n      <td>1.000000</td>\n      <td>0.002043</td>\n      <td>0</td>\n    </tr>\n    <tr>\n      <th>arteriosclerosis</th>\n      <td>0</td>\n      <td>0</td>\n      <td>0</td>\n      <td>0</td>\n      <td>0</td>\n      <td>0</td>\n      <td>0</td>\n      <td>1</td>\n      <td>1.000000</td>\n      <td>0.001021</td>\n      <td>0</td>\n    </tr>\n    <tr>\n      <th>asteroid hyalosis</th>\n      <td>0</td>\n      <td>0</td>\n      <td>0</td>\n      <td>0</td>\n      <td>0</td>\n      <td>0</td>\n      <td>0</td>\n      <td>1</td>\n      <td>1.000000</td>\n      <td>0.001021</td>\n      <td>0</td>\n    </tr>\n    <tr>\n      <th>congenital choroidal coloboma</th>\n      <td>0</td>\n      <td>0</td>\n      <td>0</td>\n      <td>0</td>\n      <td>0</td>\n      <td>0</td>\n      <td>0</td>\n      <td>1</td>\n      <td>1.000000</td>\n      <td>0.001021</td>\n      <td>0</td>\n    </tr>\n    <tr>\n      <th>macular coloboma</th>\n      <td>0</td>\n      <td>0</td>\n      <td>0</td>\n      <td>0</td>\n      <td>0</td>\n      <td>0</td>\n      <td>0</td>\n      <td>1</td>\n      <td>1.000000</td>\n      <td>0.001021</td>\n      <td>0</td>\n    </tr>\n    <tr>\n      <th>optic discitis</th>\n      <td>0</td>\n      <td>0</td>\n      <td>0</td>\n      <td>0</td>\n      <td>0</td>\n      <td>0</td>\n      <td>0</td>\n      <td>1</td>\n      <td>1.000000</td>\n      <td>0.001021</td>\n      <td>0</td>\n    </tr>\n    <tr>\n      <th>oval yellow-white atrophy</th>\n      <td>0</td>\n      <td>0</td>\n      <td>0</td>\n      <td>0</td>\n      <td>0</td>\n      <td>0</td>\n      <td>0</td>\n      <td>1</td>\n      <td>1.000000</td>\n      <td>0.001021</td>\n      <td>0</td>\n    </tr>\n    <tr>\n      <th>wedge white line change</th>\n      <td>0</td>\n      <td>0</td>\n      <td>0</td>\n      <td>0</td>\n      <td>0</td>\n      <td>0</td>\n      <td>0</td>\n      <td>1</td>\n      <td>1.000000</td>\n      <td>0.001021</td>\n      <td>0</td>\n    </tr>\n    <tr>\n      <th>wedge-shaped change</th>\n      <td>0</td>\n      <td>0</td>\n      <td>0</td>\n      <td>0</td>\n      <td>0</td>\n      <td>0</td>\n      <td>0</td>\n      <td>1</td>\n      <td>1.000000</td>\n      <td>0.001021</td>\n      <td>0</td>\n    </tr>\n    <tr>\n      <th>retinal artery macroaneurysm</th>\n      <td>0</td>\n      <td>0</td>\n      <td>0</td>\n      <td>0</td>\n      <td>0</td>\n      <td>0</td>\n      <td>0</td>\n      <td>1</td>\n      <td>1.000000</td>\n      <td>0.001021</td>\n      <td>0</td>\n    </tr>\n    <tr>\n      <th>retinal vascular sheathing</th>\n      <td>0</td>\n      <td>0</td>\n      <td>0</td>\n      <td>0</td>\n      <td>0</td>\n      <td>0</td>\n      <td>0</td>\n      <td>1</td>\n      <td>1.000000</td>\n      <td>0.001021</td>\n      <td>0</td>\n    </tr>\n    <tr>\n      <th>suspected abnormal color of  optic disc</th>\n      <td>0</td>\n      <td>0</td>\n      <td>0</td>\n      <td>0</td>\n      <td>0</td>\n      <td>0</td>\n      <td>0</td>\n      <td>1</td>\n      <td>1.000000</td>\n      <td>0.001021</td>\n      <td>0</td>\n    </tr>\n    <tr>\n      <th>suspected retinal vascular sheathing</th>\n      <td>0</td>\n      <td>0</td>\n      <td>0</td>\n      <td>0</td>\n      <td>0</td>\n      <td>0</td>\n      <td>0</td>\n      <td>1</td>\n      <td>1.000000</td>\n      <td>0.001021</td>\n      <td>0</td>\n    </tr>\n    <tr>\n      <th>suspected retinitis pigmentosa</th>\n      <td>0</td>\n      <td>0</td>\n      <td>0</td>\n      <td>0</td>\n      <td>0</td>\n      <td>0</td>\n      <td>0</td>\n      <td>1</td>\n      <td>1.000000</td>\n      <td>0.001021</td>\n      <td>0</td>\n    </tr>\n    <tr>\n      <th>silicone oil eye</th>\n      <td>0</td>\n      <td>0</td>\n      <td>0</td>\n      <td>0</td>\n      <td>0</td>\n      <td>0</td>\n      <td>0</td>\n      <td>1</td>\n      <td>1.000000</td>\n      <td>0.001021</td>\n      <td>0</td>\n    </tr>\n  </tbody>\n</table>\n</div>"
     },
     "metadata": {},
     "execution_count": 27
    }
   ],
   "source": [
    "try:\n",
    "    keyphrases_O.drop(['lens dust', 'low image quality'], axis=0, inplace=True)\n",
    "except Exception as e:\n",
    "    pass\n",
    "keyphrases_O.sort_values(by='O-fraction', axis=0, inplace=True, ascending=False)\n",
    "keyphrases_O"
   ]
  },
  {
   "cell_type": "markdown",
   "metadata": {
    "papermill": {
     "duration": 0.032242,
     "end_time": "2020-08-31T10:45:54.617242",
     "exception": false,
     "start_time": "2020-08-31T10:45:54.585000",
     "status": "completed"
    },
    "tags": []
   },
   "source": [
    "Although 'O-fraction' drops quite quickly from 0.205 at the first place to only 0.03 at the ninth, many of these keyphrases are going to co-occur, which can be clearly seen, if we add up all numbers in these column."
   ]
  },
  {
   "cell_type": "code",
   "execution_count": 28,
   "metadata": {
    "execution": {
     "iopub.execute_input": "2020-08-31T10:45:54.691646Z",
     "iopub.status.busy": "2020-08-31T10:45:54.690545Z",
     "iopub.status.idle": "2020-08-31T10:45:54.695803Z",
     "shell.execute_reply": "2020-08-31T10:45:54.694995Z"
    },
    "papermill": {
     "duration": 0.044453,
     "end_time": "2020-08-31T10:45:54.695959",
     "exception": false,
     "start_time": "2020-08-31T10:45:54.651506",
     "status": "completed"
    },
    "tags": []
   },
   "outputs": [
    {
     "output_type": "execute_result",
     "data": {
      "text/plain": [
       "1.2655771195097032"
      ]
     },
     "metadata": {},
     "execution_count": 28
    }
   ],
   "source": [
    "keyphrases_O['O-fraction'].sum()"
   ]
  },
  {
   "cell_type": "markdown",
   "metadata": {
    "papermill": {
     "duration": 0.033768,
     "end_time": "2020-08-31T10:45:54.763650",
     "exception": false,
     "start_time": "2020-08-31T10:45:54.729882",
     "status": "completed"
    },
    "tags": []
   },
   "source": [
    "If they would not co-occur, we would expect them to add up to 1 (or very close).\n",
    "\n",
    "I will go with my gut feeling at take the first 20 keyphrases. This seems to capture at least a significant amount of all the 'O' cases."
   ]
  },
  {
   "cell_type": "code",
   "execution_count": 29,
   "metadata": {
    "execution": {
     "iopub.execute_input": "2020-08-31T10:45:54.841707Z",
     "iopub.status.busy": "2020-08-31T10:45:54.840797Z",
     "iopub.status.idle": "2020-08-31T10:45:54.845714Z",
     "shell.execute_reply": "2020-08-31T10:45:54.846624Z"
    },
    "papermill": {
     "duration": 0.04702,
     "end_time": "2020-08-31T10:45:54.846875",
     "exception": false,
     "start_time": "2020-08-31T10:45:54.799855",
     "status": "completed"
    },
    "tags": []
   },
   "outputs": [
    {
     "output_type": "stream",
     "name": "stdout",
     "text": [
      "1.1756894790602659\n"
     ]
    }
   ],
   "source": [
    "keyphrases_O_chosen = list(keyphrases_O.iloc[:20].index)\n",
    "print(keyphrases_O.iloc[:20,-2].sum()) # O-fraction is the penultimate column"
   ]
  },
  {
   "cell_type": "markdown",
   "metadata": {
    "papermill": {
     "duration": 0.03432,
     "end_time": "2020-08-31T10:45:54.914149",
     "exception": false,
     "start_time": "2020-08-31T10:45:54.879829",
     "status": "completed"
    },
    "tags": []
   },
   "source": [
    "So, our final set of diagnostic keyphrases is going to look as follows:"
   ]
  },
  {
   "cell_type": "code",
   "execution_count": 30,
   "metadata": {
    "execution": {
     "iopub.execute_input": "2020-08-31T10:45:54.991288Z",
     "iopub.status.busy": "2020-08-31T10:45:54.990118Z",
     "iopub.status.idle": "2020-08-31T10:45:54.993693Z",
     "shell.execute_reply": "2020-08-31T10:45:54.992960Z"
    },
    "papermill": {
     "duration": 0.043827,
     "end_time": "2020-08-31T10:45:54.993843",
     "exception": false,
     "start_time": "2020-08-31T10:45:54.950016",
     "status": "completed"
    },
    "tags": []
   },
   "outputs": [],
   "source": [
    "diagnostic_keyphrases = {\n",
    "    'N' : ['normal fundus'],\n",
    "    'D' : ['nonproliferative retinopathy', 'non proliferative retinopathy', 'proliferative retinopathy'],\n",
    "    'G' : ['glaucoma'],\n",
    "    'C' : ['cataract'],\n",
    "    'A' : ['age-related macular degeneration'],\n",
    "    'H' : ['hypertensive'],\n",
    "    'M' : ['myopi'],\n",
    "    'O' : keyphrases_O_chosen\n",
    "}\n",
    "\n"
   ]
  },
  {
   "cell_type": "markdown",
   "metadata": {
    "papermill": {
     "duration": 0.031343,
     "end_time": "2020-08-31T10:45:55.058595",
     "exception": false,
     "start_time": "2020-08-31T10:45:55.027252",
     "status": "completed"
    },
    "tags": []
   },
   "source": [
    "Before moving on, let's see what keyphrases DataFrames we will obtain using this adjusted set of keyphrases."
   ]
  },
  {
   "cell_type": "code",
   "execution_count": 31,
   "metadata": {
    "execution": {
     "iopub.execute_input": "2020-08-31T10:45:55.159230Z",
     "iopub.status.busy": "2020-08-31T10:45:55.157844Z",
     "iopub.status.idle": "2020-08-31T10:45:58.696109Z",
     "shell.execute_reply": "2020-08-31T10:45:58.695425Z"
    },
    "papermill": {
     "duration": 3.602555,
     "end_time": "2020-08-31T10:45:58.696266",
     "exception": false,
     "start_time": "2020-08-31T10:45:55.093711",
     "status": "completed"
    },
    "tags": []
   },
   "outputs": [],
   "source": [
    "# We reinitialize both DataFrames to avoid errors\n",
    "keyphrases_excl_new = make_keyphrases_df()\n",
    "keyphrases_incl_new = make_keyphrases_df()\n",
    "\n",
    "for i, row in data.iterrows():\n",
    "    # 1.\n",
    "    only_one_condition = bool(row[-8:].sum()==1)\n",
    "    # 2.\n",
    "    keyphrases_L = row['Left-Diagnostic Keywords'].replace('，',',').split(',')\n",
    "    keyphrases_R = row['Right-Diagnostic Keywords'].replace('，',',').split(',')\n",
    "    for condition in conditions:\n",
    "        # 3.\n",
    "        if row[condition]==1:\n",
    "            # Left eye\n",
    "            if any(keyphrase in keyphrases_L for keyphrase in diagnostic_keyphrases[condition]):\n",
    "                for keyphrase in keyphrases_L:\n",
    "                    # 3.1.\n",
    "                    keyphrases_incl_new.loc[keyphrase, condition] += 1\n",
    "                    # 3.2.\n",
    "                    if only_one_condition:\n",
    "                        keyphrases_excl_new.loc[keyphrase, condition] += 1\n",
    "            # Right eye:\n",
    "            if any(keyphrase in keyphrases_R for keyphrase in diagnostic_keyphrases[condition]):\n",
    "                for keyphrase in keyphrases_R:\n",
    "                    # 3.1.\n",
    "                    keyphrases_incl_new.loc[keyphrase, condition] += 1\n",
    "                    # 3.2.\n",
    "                    if only_one_condition:\n",
    "                        keyphrases_excl_new.loc[keyphrase, condition] += 1\n",
    "            \n",
    "\n",
    "keyphrases_excl_new['Predictive power'] = (keyphrases_excl_new.max(axis=1) / keyphrases_excl_new.sum(axis=1)).replace(np.NaN, 0)\n",
    "keyphrases_incl_new['Predictive power'] = (keyphrases_incl_new.max(axis=1) / keyphrases_incl_new.sum(axis=1)).replace(np.NaN, 0)"
   ]
  },
  {
   "cell_type": "code",
   "execution_count": 32,
   "metadata": {
    "execution": {
     "iopub.execute_input": "2020-08-31T10:45:58.767557Z",
     "iopub.status.busy": "2020-08-31T10:45:58.766518Z",
     "iopub.status.idle": "2020-08-31T10:45:58.771615Z",
     "shell.execute_reply": "2020-08-31T10:45:58.770811Z"
    },
    "papermill": {
     "duration": 0.04453,
     "end_time": "2020-08-31T10:45:58.771754",
     "exception": false,
     "start_time": "2020-08-31T10:45:58.727224",
     "status": "completed"
    },
    "tags": []
   },
   "outputs": [
    {
     "output_type": "execute_result",
     "data": {
      "text/plain": [
       "N                   2277.000000\n",
       "D                      0.000000\n",
       "G                      0.000000\n",
       "C                      0.000000\n",
       "A                      0.000000\n",
       "H                      0.000000\n",
       "M                      0.000000\n",
       "O                      3.000000\n",
       "Predictive power       0.998684\n",
       "Name: normal fundus, dtype: float64"
      ]
     },
     "metadata": {},
     "execution_count": 32
    }
   ],
   "source": [
    "keyphrases_incl_new.loc['normal fundus']"
   ]
  },
  {
   "cell_type": "markdown",
   "metadata": {
    "papermill": {
     "duration": 0.030496,
     "end_time": "2020-08-31T10:45:58.833098",
     "exception": false,
     "start_time": "2020-08-31T10:45:58.802602",
     "status": "completed"
    },
    "tags": []
   },
   "source": [
    "Acceptably close to perfect"
   ]
  },
  {
   "cell_type": "markdown",
   "metadata": {
    "papermill": {
     "duration": 0.030629,
     "end_time": "2020-08-31T10:45:58.894725",
     "exception": false,
     "start_time": "2020-08-31T10:45:58.864096",
     "status": "completed"
    },
    "tags": []
   },
   "source": [
    "# Diagnostic keyphrases for image sorting: Testing time"
   ]
  },
  {
   "cell_type": "markdown",
   "metadata": {
    "papermill": {
     "duration": 0.030512,
     "end_time": "2020-08-31T10:45:58.956429",
     "exception": false,
     "start_time": "2020-08-31T10:45:58.925917",
     "status": "completed"
    },
    "tags": []
   },
   "source": [
    "Let's finally put our diagnostic keyphrases to the test, i.e. see how many images of fundi belonging to each class it will capture. We will compare these numbers to the total count of patients diagnosed with each condition in at least one of their eyes, although it's going to be an imperfect comparison, since this the original table itself does not tell us explicitly whether a given patient had only one eye affected with each disease diagnosed or both."
   ]
  },
  {
   "cell_type": "markdown",
   "metadata": {
    "papermill": {
     "duration": 0.030782,
     "end_time": "2020-08-31T10:45:59.019335",
     "exception": false,
     "start_time": "2020-08-31T10:45:58.988553",
     "status": "completed"
    },
    "tags": []
   },
   "source": [
    "Once again, we are going to iterate over all the rows of dataframe. For each row:\n",
    "\n",
    "1. If the patient was healthy ('N'), we add images of both of their eyes to the list of 'N' images and go to the next row.\n",
    "\n",
    "2. Otherwise, we extract the keyphrases used to describe both retinal fundi.\n",
    "\n",
    "3. We make the list of all the conditions this patient was diagnosed with.\n",
    "\n",
    "4. If one of the eyes is healthy, this means, that all the conditions diagnosed affect the other eye. In such a case, we can add the former to the list of 'N' images and the latter to the lists of images for each condition diagnosed.\n",
    "\n",
    "5. Otherwise (i.e. if neither eye is healthy), we re-iterate over these conditions and see whether diagnostic keyphrases specific for each of condition can be found in the keyphrases for each eye. If they do, we add this eye's image to the proper list."
   ]
  },
  {
   "cell_type": "code",
   "execution_count": 33,
   "metadata": {
    "execution": {
     "iopub.execute_input": "2020-08-31T10:45:59.120411Z",
     "iopub.status.busy": "2020-08-31T10:45:59.098287Z",
     "iopub.status.idle": "2020-08-31T10:45:59.676184Z",
     "shell.execute_reply": "2020-08-31T10:45:59.675495Z"
    },
    "papermill": {
     "duration": 0.625766,
     "end_time": "2020-08-31T10:45:59.676341",
     "exception": false,
     "start_time": "2020-08-31T10:45:59.050575",
     "status": "completed"
    },
    "tags": []
   },
   "outputs": [],
   "source": [
    "fundi_images = {condition:[] for condition in conditions}\n",
    "\n",
    "for i, row in data.iterrows():\n",
    "    image_L = row['Left-Fundus']\n",
    "    image_R = row['Right-Fundus']\n",
    "    if row['N']==1:\n",
    "        fundi_images['N'] += [image_L, image_R]\n",
    "        continue\n",
    "    \n",
    "    # This time there is no need for splitting the keyphrases from strings into lists of keyphrases \n",
    "    keyphrases_L = row['Left-Diagnostic Keywords']\n",
    "    keyphrases_R = row['Right-Diagnostic Keywords']\n",
    "\n",
    "    diagnosed_conditions = []\n",
    "    for condition in conditions[1:]:\n",
    "        if row[condition]==1:\n",
    "            diagnosed_conditions.append(condition)\n",
    "            \n",
    "    if 'normal fundus' in keyphrases_L:\n",
    "        fundi_images['N'].append(image_L)\n",
    "        for condition in diagnosed_conditions:\n",
    "            fundi_images[condition].append(image_R)\n",
    "        continue\n",
    "    if 'normal fundus' in keyphrases_R:\n",
    "        fundi_images['N'].append(image_R)\n",
    "        for condition in diagnosed_conditions:\n",
    "            fundi_images[condition].append(image_L)\n",
    "        continue\n",
    "    \n",
    "    for condition in diagnosed_conditions:\n",
    "        if any(keyphrase in keyphrases_L for keyphrase in diagnostic_keyphrases[condition]):\n",
    "            fundi_images[condition].append(image_L)\n",
    "        if any(keyphrase in keyphrases_R for keyphrase in diagnostic_keyphrases[condition]):\n",
    "            fundi_images[condition].append(image_R)\n",
    "            "
   ]
  },
  {
   "cell_type": "markdown",
   "metadata": {
    "papermill": {
     "duration": 0.030448,
     "end_time": "2020-08-31T10:45:59.738133",
     "exception": false,
     "start_time": "2020-08-31T10:45:59.707685",
     "status": "completed"
    },
    "tags": []
   },
   "source": [
    "Let's see see how many images for each condition we managed to aggregate, and how it compares to the number of patients diagnosed with this condition"
   ]
  },
  {
   "cell_type": "code",
   "execution_count": 34,
   "metadata": {
    "execution": {
     "iopub.execute_input": "2020-08-31T10:45:59.808404Z",
     "iopub.status.busy": "2020-08-31T10:45:59.807383Z",
     "iopub.status.idle": "2020-08-31T10:45:59.816667Z",
     "shell.execute_reply": "2020-08-31T10:45:59.815754Z"
    },
    "papermill": {
     "duration": 0.047728,
     "end_time": "2020-08-31T10:45:59.816830",
     "exception": false,
     "start_time": "2020-08-31T10:45:59.769102",
     "status": "completed"
    },
    "tags": []
   },
   "outputs": [
    {
     "output_type": "stream",
     "name": "stdout",
     "text": [
      "N 3100 1140\nD 1711 1128\nG 326 215\nC 313 212\nA 280 164\nH 193 103\nM 268 174\nO 1153 979\n"
     ]
    }
   ],
   "source": [
    "for condition in conditions:\n",
    "    print(condition, len(fundi_images[condition]), data[condition].sum())"
   ]
  },
  {
   "cell_type": "markdown",
   "metadata": {
    "papermill": {
     "duration": 0.031048,
     "end_time": "2020-08-31T10:45:59.879772",
     "exception": false,
     "start_time": "2020-08-31T10:45:59.848724",
     "status": "completed"
    },
    "tags": []
   },
   "source": [
    "Seems good!\n",
    "\n",
    "Over the 1140 healthy patients, with 2 * 1140 = 2280 healthy eyes, we have also 3100 - 2280 = 820 patients with exactly one healthy eye (or maybe with just a little bit of lens dust). About half of patients with glaucoma, cataract, AMBD, hypertension, and myopia seem to have both of their eyes affected. This fraction is closer to 1/6 for patients with 'other' conditions (of which many have one or two other conditions)."
   ]
  },
  {
   "cell_type": "markdown",
   "metadata": {
    "papermill": {
     "duration": 0.031002,
     "end_time": "2020-08-31T10:45:59.943317",
     "exception": false,
     "start_time": "2020-08-31T10:45:59.912315",
     "status": "completed"
    },
    "tags": []
   },
   "source": [
    "Let's see how many images we collected in all classes:"
   ]
  },
  {
   "cell_type": "code",
   "execution_count": 35,
   "metadata": {
    "execution": {
     "iopub.execute_input": "2020-08-31T10:46:00.016314Z",
     "iopub.status.busy": "2020-08-31T10:46:00.015060Z",
     "iopub.status.idle": "2020-08-31T10:46:00.019575Z",
     "shell.execute_reply": "2020-08-31T10:46:00.018969Z"
    },
    "papermill": {
     "duration": 0.044467,
     "end_time": "2020-08-31T10:46:00.019723",
     "exception": false,
     "start_time": "2020-08-31T10:45:59.975256",
     "status": "completed"
    },
    "tags": []
   },
   "outputs": [
    {
     "output_type": "execute_result",
     "data": {
      "text/plain": [
       "7344"
      ]
     },
     "metadata": {},
     "execution_count": 35
    }
   ],
   "source": [
    "np.sum([len(fundi_images[condition]) for condition in conditions])"
   ]
  },
  {
   "cell_type": "markdown",
   "metadata": {
    "papermill": {
     "duration": 0.03143,
     "end_time": "2020-08-31T10:46:00.082668",
     "exception": false,
     "start_time": "2020-08-31T10:46:00.051238",
     "status": "completed"
    },
    "tags": []
   },
   "source": [
    "Obviously, some images ended in more than one categories, so we could expect this number to be greater than the total number of all images in the dataset, which is 7000, especially if we managed to collect all or almost all of the images.\n",
    "\n",
    "Let's see how many of these images ended up in more than one class and how frequent are specific correlations. This will also allow us to check the total number of *individual* images collected. "
   ]
  },
  {
   "cell_type": "code",
   "execution_count": 36,
   "metadata": {
    "execution": {
     "iopub.execute_input": "2020-08-31T10:46:00.197795Z",
     "iopub.status.busy": "2020-08-31T10:46:00.170010Z",
     "iopub.status.idle": "2020-08-31T10:46:00.443514Z",
     "shell.execute_reply": "2020-08-31T10:46:00.442747Z"
    },
    "papermill": {
     "duration": 0.329063,
     "end_time": "2020-08-31T10:46:00.443653",
     "exception": false,
     "start_time": "2020-08-31T10:46:00.114590",
     "status": "completed"
    },
    "tags": []
   },
   "outputs": [
    {
     "output_type": "execute_result",
     "data": {
      "text/plain": [
       "     D   G   C   A   H  M    O\n",
       "D    0  20  15   6  56  8  241\n",
       "G   20   0   2  14   8  8   30\n",
       "C   15   2   0   0   3  0    8\n",
       "A    6  14   0   0   5  2    4\n",
       "H   56   8   3   5   0  0    5\n",
       "M    8   8   0   2   0  0    4\n",
       "O  241  30   8   4   5  4    0"
      ],
      "text/html": "<div>\n<style scoped>\n    .dataframe tbody tr th:only-of-type {\n        vertical-align: middle;\n    }\n\n    .dataframe tbody tr th {\n        vertical-align: top;\n    }\n\n    .dataframe thead th {\n        text-align: right;\n    }\n</style>\n<table border=\"1\" class=\"dataframe\">\n  <thead>\n    <tr style=\"text-align: right;\">\n      <th></th>\n      <th>D</th>\n      <th>G</th>\n      <th>C</th>\n      <th>A</th>\n      <th>H</th>\n      <th>M</th>\n      <th>O</th>\n    </tr>\n  </thead>\n  <tbody>\n    <tr>\n      <th>D</th>\n      <td>0</td>\n      <td>20</td>\n      <td>15</td>\n      <td>6</td>\n      <td>56</td>\n      <td>8</td>\n      <td>241</td>\n    </tr>\n    <tr>\n      <th>G</th>\n      <td>20</td>\n      <td>0</td>\n      <td>2</td>\n      <td>14</td>\n      <td>8</td>\n      <td>8</td>\n      <td>30</td>\n    </tr>\n    <tr>\n      <th>C</th>\n      <td>15</td>\n      <td>2</td>\n      <td>0</td>\n      <td>0</td>\n      <td>3</td>\n      <td>0</td>\n      <td>8</td>\n    </tr>\n    <tr>\n      <th>A</th>\n      <td>6</td>\n      <td>14</td>\n      <td>0</td>\n      <td>0</td>\n      <td>5</td>\n      <td>2</td>\n      <td>4</td>\n    </tr>\n    <tr>\n      <th>H</th>\n      <td>56</td>\n      <td>8</td>\n      <td>3</td>\n      <td>5</td>\n      <td>0</td>\n      <td>0</td>\n      <td>5</td>\n    </tr>\n    <tr>\n      <th>M</th>\n      <td>8</td>\n      <td>8</td>\n      <td>0</td>\n      <td>2</td>\n      <td>0</td>\n      <td>0</td>\n      <td>4</td>\n    </tr>\n    <tr>\n      <th>O</th>\n      <td>241</td>\n      <td>30</td>\n      <td>8</td>\n      <td>4</td>\n      <td>5</td>\n      <td>4</td>\n      <td>0</td>\n    </tr>\n  </tbody>\n</table>\n</div>"
     },
     "metadata": {},
     "execution_count": 36
    }
   ],
   "source": [
    "fundi_images_rev = {}\n",
    "for condition in conditions:\n",
    "    for im in fundi_images[condition]:\n",
    "        if im not in fundi_images_rev:\n",
    "            fundi_images_rev[im] = [condition]\n",
    "        else:\n",
    "            fundi_images_rev[im] = sorted(fundi_images_rev[im]+[condition])\n",
    "            \n",
    "conditions_correlation = pd.DataFrame(np.zeros(shape=(7,7)), columns=conditions[1:], index=conditions[1:], dtype=np.int32)\n",
    "\n",
    "for im in fundi_images_rev:\n",
    "    if len(fundi_images_rev[im])>1:\n",
    "        for i in range(len(fundi_images_rev[im])):\n",
    "            for ii in range(len(fundi_images_rev[im])):\n",
    "                if i!=ii:\n",
    "                    \n",
    "                    conditions_correlation.loc[fundi_images_rev[im][i],fundi_images_rev[im][ii]] += 1\n",
    "    \n",
    "conditions_correlation"
   ]
  },
  {
   "cell_type": "markdown",
   "metadata": {
    "papermill": {
     "duration": 0.031195,
     "end_time": "2020-08-31T10:46:00.506624",
     "exception": false,
     "start_time": "2020-08-31T10:46:00.475429",
     "status": "completed"
    },
    "tags": []
   },
   "source": [
    "The most often occurring pair was 'other' and diabetes, with hypertension and diabetes coming at the second place, and 'other' and glaucoma at the third.\n",
    "\n",
    "We can compare that to the multi-class cases in the original data. We should expect similar numbers, since this does not seem very likely that a patient would have symptoms of two diseases in both of their eyes."
   ]
  },
  {
   "cell_type": "code",
   "execution_count": 37,
   "metadata": {
    "execution": {
     "iopub.execute_input": "2020-08-31T10:46:00.592763Z",
     "iopub.status.busy": "2020-08-31T10:46:00.582024Z",
     "iopub.status.idle": "2020-08-31T10:46:00.598982Z",
     "shell.execute_reply": "2020-08-31T10:46:00.598061Z"
    },
    "papermill": {
     "duration": 0.060697,
     "end_time": "2020-08-31T10:46:00.599148",
     "exception": false,
     "start_time": "2020-08-31T10:46:00.538451",
     "status": "completed"
    },
    "tags": []
   },
   "outputs": [
    {
     "output_type": "stream",
     "name": "stdout",
     "text": [
      "303\n45\n49\n"
     ]
    }
   ],
   "source": [
    "print(data.query('D==1 & O==1').index.shape[0])\n",
    "print(data.query('D==1 & H==1').index.shape[0])\n",
    "print(data.query('G==1 & O==1').index.shape[0])"
   ]
  },
  {
   "cell_type": "markdown",
   "metadata": {
    "papermill": {
     "duration": 0.03148,
     "end_time": "2020-08-31T10:46:00.662516",
     "exception": false,
     "start_time": "2020-08-31T10:46:00.631036",
     "status": "completed"
    },
    "tags": []
   },
   "source": [
    "I suspect we missed some images from patients with 'other' conditions, which should be expected due to use of an incomplete list of diagnostic keyphrases. This would explain why there are more patients with diabetes and 'other' as well as with glaucoma and 'other' than the number of individual eye images, that we collected. The number of patients diagnosed with both diabetes and hypertension, on the other hand (45) is just a little lower than the number of individual images displaying symptomes of both these conditions. It could mean that 11 of these 45 patients have symptoms of their diseases present in both of their eyes."
   ]
  },
  {
   "cell_type": "markdown",
   "metadata": {
    "papermill": {
     "duration": 0.031668,
     "end_time": "2020-08-31T10:46:00.726099",
     "exception": false,
     "start_time": "2020-08-31T10:46:00.694431",
     "status": "completed"
    },
    "tags": []
   },
   "source": [
    "Let's see how many individual images we've collected."
   ]
  },
  {
   "cell_type": "code",
   "execution_count": 38,
   "metadata": {
    "execution": {
     "iopub.execute_input": "2020-08-31T10:46:00.796992Z",
     "iopub.status.busy": "2020-08-31T10:46:00.795950Z",
     "iopub.status.idle": "2020-08-31T10:46:00.799795Z",
     "shell.execute_reply": "2020-08-31T10:46:00.800642Z"
    },
    "papermill": {
     "duration": 0.042709,
     "end_time": "2020-08-31T10:46:00.800837",
     "exception": false,
     "start_time": "2020-08-31T10:46:00.758128",
     "status": "completed"
    },
    "tags": []
   },
   "outputs": [
    {
     "output_type": "stream",
     "name": "stdout",
     "text": [
      "Total individual images:  6910\n"
     ]
    }
   ],
   "source": [
    "print('Total individual images: ', len(fundi_images_rev))"
   ]
  },
  {
   "cell_type": "markdown",
   "metadata": {
    "papermill": {
     "duration": 0.031576,
     "end_time": "2020-08-31T10:46:00.864202",
     "exception": false,
     "start_time": "2020-08-31T10:46:00.832626",
     "status": "completed"
    },
    "tags": []
   },
   "source": [
    "Just 93 short of the 7000 total. Let's see how it'll do if we use all the full set of diagnostic keyphrases for 'O'.\n",
    "\n",
    "First, however, let's save how many images we collected per each class."
   ]
  },
  {
   "cell_type": "code",
   "execution_count": 39,
   "metadata": {
    "execution": {
     "iopub.execute_input": "2020-08-31T10:46:00.937156Z",
     "iopub.status.busy": "2020-08-31T10:46:00.936115Z",
     "iopub.status.idle": "2020-08-31T10:46:00.942272Z",
     "shell.execute_reply": "2020-08-31T10:46:00.941588Z"
    },
    "papermill": {
     "duration": 0.046111,
     "end_time": "2020-08-31T10:46:00.942414",
     "exception": false,
     "start_time": "2020-08-31T10:46:00.896303",
     "status": "completed"
    },
    "tags": []
   },
   "outputs": [
    {
     "output_type": "execute_result",
     "data": {
      "text/plain": [
       "{'N': 3100,\n",
       " 'D': 1711,\n",
       " 'G': 326,\n",
       " 'C': 313,\n",
       " 'A': 280,\n",
       " 'H': 193,\n",
       " 'M': 268,\n",
       " 'O': 1153}"
      ]
     },
     "metadata": {},
     "execution_count": 39
    }
   ],
   "source": [
    "images_per_condition_1 = {}\n",
    "for condition in conditions:\n",
    "    images_per_condition_1[condition] = len(fundi_images[condition])\n",
    "images_per_condition_1"
   ]
  },
  {
   "cell_type": "code",
   "execution_count": 40,
   "metadata": {
    "execution": {
     "iopub.execute_input": "2020-08-31T10:46:01.023630Z",
     "iopub.status.busy": "2020-08-31T10:46:01.018143Z",
     "iopub.status.idle": "2020-08-31T10:46:01.609705Z",
     "shell.execute_reply": "2020-08-31T10:46:01.609023Z"
    },
    "papermill": {
     "duration": 0.635056,
     "end_time": "2020-08-31T10:46:01.609863",
     "exception": false,
     "start_time": "2020-08-31T10:46:00.974807",
     "status": "completed"
    },
    "tags": []
   },
   "outputs": [],
   "source": [
    "keyphrases_O_full = list(keyphrases_O.index)\n",
    "diagnostic_keyphrases['O'] = keyphrases_O_full\n",
    "\n",
    "fundi_images = {condition:[] for condition in conditions}\n",
    "\n",
    "for i, row in data.iterrows():\n",
    "    image_L = row['Left-Fundus']\n",
    "    image_R = row['Right-Fundus']\n",
    "    if row['N']==1:\n",
    "        fundi_images['N'] += [image_L, image_R]\n",
    "        continue\n",
    "    \n",
    "    # This time there is no need for splitting the keyphrases from strings into lists of keyphrases \n",
    "    keyphrases_L = row['Left-Diagnostic Keywords']\n",
    "    keyphrases_R = row['Right-Diagnostic Keywords']\n",
    "\n",
    "    diagnosed_conditions = []\n",
    "    for condition in conditions[1:]:\n",
    "        if row[condition]==1:\n",
    "            diagnosed_conditions.append(condition)\n",
    "            \n",
    "    if 'normal fundus' in keyphrases_L:\n",
    "        fundi_images['N'].append(image_L)\n",
    "        for condition in diagnosed_conditions:\n",
    "            fundi_images[condition].append(image_R)\n",
    "        continue\n",
    "    if 'normal fundus' in keyphrases_R:\n",
    "        fundi_images['N'].append(image_R)\n",
    "        for condition in diagnosed_conditions:\n",
    "            fundi_images[condition].append(image_L)\n",
    "        continue\n",
    "    \n",
    "    for condition in diagnosed_conditions:\n",
    "        if any(keyphrase in keyphrases_L for keyphrase in diagnostic_keyphrases[condition]):\n",
    "            fundi_images[condition].append(image_L)\n",
    "        if any(keyphrase in keyphrases_R for keyphrase in diagnostic_keyphrases[condition]):\n",
    "            fundi_images[condition].append(image_R)\n",
    "            "
   ]
  },
  {
   "cell_type": "code",
   "execution_count": 41,
   "metadata": {
    "execution": {
     "iopub.execute_input": "2020-08-31T10:46:01.683071Z",
     "iopub.status.busy": "2020-08-31T10:46:01.681987Z",
     "iopub.status.idle": "2020-08-31T10:46:01.685524Z",
     "shell.execute_reply": "2020-08-31T10:46:01.684764Z"
    },
    "papermill": {
     "duration": 0.04288,
     "end_time": "2020-08-31T10:46:01.685665",
     "exception": false,
     "start_time": "2020-08-31T10:46:01.642785",
     "status": "completed"
    },
    "tags": []
   },
   "outputs": [],
   "source": [
    "images_per_condition_2 = {}\n",
    "for condition in conditions:\n",
    "    images_per_condition_2[condition] = len(fundi_images[condition])"
   ]
  },
  {
   "cell_type": "code",
   "execution_count": 42,
   "metadata": {
    "execution": {
     "iopub.execute_input": "2020-08-31T10:46:01.757877Z",
     "iopub.status.busy": "2020-08-31T10:46:01.756795Z",
     "iopub.status.idle": "2020-08-31T10:46:01.761695Z",
     "shell.execute_reply": "2020-08-31T10:46:01.760773Z"
    },
    "papermill": {
     "duration": 0.043667,
     "end_time": "2020-08-31T10:46:01.761873",
     "exception": false,
     "start_time": "2020-08-31T10:46:01.718206",
     "status": "completed"
    },
    "tags": []
   },
   "outputs": [
    {
     "output_type": "stream",
     "name": "stdout",
     "text": [
      "{'N': 3100, 'D': 1711, 'G': 326, 'C': 313, 'A': 280, 'H': 193, 'M': 268, 'O': 1153}\n{'N': 3100, 'D': 1711, 'G': 326, 'C': 313, 'A': 280, 'H': 193, 'M': 268, 'O': 1186}\n"
     ]
    }
   ],
   "source": [
    "print(images_per_condition_1)\n",
    "print(images_per_condition_2)"
   ]
  },
  {
   "cell_type": "code",
   "execution_count": 43,
   "metadata": {
    "execution": {
     "iopub.execute_input": "2020-08-31T10:46:01.861899Z",
     "iopub.status.busy": "2020-08-31T10:46:01.852128Z",
     "iopub.status.idle": "2020-08-31T10:46:02.167600Z",
     "shell.execute_reply": "2020-08-31T10:46:02.168580Z"
    },
    "papermill": {
     "duration": 0.374257,
     "end_time": "2020-08-31T10:46:02.168858",
     "exception": false,
     "start_time": "2020-08-31T10:46:01.794601",
     "status": "completed"
    },
    "tags": []
   },
   "outputs": [
    {
     "output_type": "stream",
     "name": "stdout",
     "text": [
      "Total number of individual images:  6932\n"
     ]
    },
    {
     "output_type": "execute_result",
     "data": {
      "text/plain": [
       "     D   G   C   A   H  M    O\n",
       "D    0  20  15   6  56  8  247\n",
       "G   20   0   2  14   8  8   34\n",
       "C   15   2   0   0   3  0    8\n",
       "A    6  14   0   0   5  2    5\n",
       "H   56   8   3   5   0  0    6\n",
       "M    8   8   0   2   0  0    4\n",
       "O  247  34   8   5   6  4    0"
      ],
      "text/html": "<div>\n<style scoped>\n    .dataframe tbody tr th:only-of-type {\n        vertical-align: middle;\n    }\n\n    .dataframe tbody tr th {\n        vertical-align: top;\n    }\n\n    .dataframe thead th {\n        text-align: right;\n    }\n</style>\n<table border=\"1\" class=\"dataframe\">\n  <thead>\n    <tr style=\"text-align: right;\">\n      <th></th>\n      <th>D</th>\n      <th>G</th>\n      <th>C</th>\n      <th>A</th>\n      <th>H</th>\n      <th>M</th>\n      <th>O</th>\n    </tr>\n  </thead>\n  <tbody>\n    <tr>\n      <th>D</th>\n      <td>0</td>\n      <td>20</td>\n      <td>15</td>\n      <td>6</td>\n      <td>56</td>\n      <td>8</td>\n      <td>247</td>\n    </tr>\n    <tr>\n      <th>G</th>\n      <td>20</td>\n      <td>0</td>\n      <td>2</td>\n      <td>14</td>\n      <td>8</td>\n      <td>8</td>\n      <td>34</td>\n    </tr>\n    <tr>\n      <th>C</th>\n      <td>15</td>\n      <td>2</td>\n      <td>0</td>\n      <td>0</td>\n      <td>3</td>\n      <td>0</td>\n      <td>8</td>\n    </tr>\n    <tr>\n      <th>A</th>\n      <td>6</td>\n      <td>14</td>\n      <td>0</td>\n      <td>0</td>\n      <td>5</td>\n      <td>2</td>\n      <td>5</td>\n    </tr>\n    <tr>\n      <th>H</th>\n      <td>56</td>\n      <td>8</td>\n      <td>3</td>\n      <td>5</td>\n      <td>0</td>\n      <td>0</td>\n      <td>6</td>\n    </tr>\n    <tr>\n      <th>M</th>\n      <td>8</td>\n      <td>8</td>\n      <td>0</td>\n      <td>2</td>\n      <td>0</td>\n      <td>0</td>\n      <td>4</td>\n    </tr>\n    <tr>\n      <th>O</th>\n      <td>247</td>\n      <td>34</td>\n      <td>8</td>\n      <td>5</td>\n      <td>6</td>\n      <td>4</td>\n      <td>0</td>\n    </tr>\n  </tbody>\n</table>\n</div>"
     },
     "metadata": {},
     "execution_count": 43
    }
   ],
   "source": [
    "fundi_images_rev = {}\n",
    "for condition in conditions:\n",
    "    for im in fundi_images[condition]:\n",
    "        if im not in fundi_images_rev:\n",
    "            fundi_images_rev[im] = [condition]\n",
    "        else:\n",
    "            fundi_images_rev[im] = sorted(fundi_images_rev[im]+[condition])\n",
    "            \n",
    "conditions_correlation = pd.DataFrame(np.zeros(shape=(7,7)), columns=conditions[1:], index=conditions[1:], dtype=np.int32)\n",
    "\n",
    "for im in fundi_images_rev:\n",
    "    if len(fundi_images_rev[im])>1:\n",
    "        for i in range(len(fundi_images_rev[im])):\n",
    "            for ii in range(len(fundi_images_rev[im])):\n",
    "                if i!=ii:\n",
    "                    conditions_correlation.loc[fundi_images_rev[im][i],fundi_images_rev[im][ii]] += 1\n",
    "\n",
    "print('Total number of individual images: ', len(fundi_images_rev))\n",
    "conditions_correlation"
   ]
  },
  {
   "cell_type": "markdown",
   "metadata": {
    "papermill": {
     "duration": 0.036954,
     "end_time": "2020-08-31T10:46:02.245427",
     "exception": false,
     "start_time": "2020-08-31T10:46:02.208473",
     "status": "completed"
    },
    "tags": []
   },
   "source": [
    "So using the full set of diagnostic keyphrases we've managed to collect only 27 more images. So we could still do better, but I think that this is good enough and we are probably overdue for the diminishing returns ;)"
   ]
  },
  {
   "cell_type": "markdown",
   "metadata": {
    "papermill": {
     "duration": 0.032578,
     "end_time": "2020-08-31T10:46:02.310943",
     "exception": false,
     "start_time": "2020-08-31T10:46:02.278365",
     "status": "completed"
    },
    "tags": []
   },
   "source": [
    "In this section, I'm going to try to replicate the results of a study by Kim et al. (2020), in which they built a model based on the ResNet architecture to predict age and sex from the images of retinal fundi. They trained their models solely on the images of healthy fundi and then tested performance of these models on 4 separate test sets:\n",
    "* Healthy fundi\n",
    "* Fundi with symptoms of hypertension\n",
    "* Fundi with symptoms of diabetes mellitus\n",
    "* Fundi showing signs of prolonged smoking\n",
    "\n",
    "Keep in mind that they had an access to a much larger dataset, than ours (412 026 images) and that we will use a smaller version of ResNet (ResNet-50 instead of ResNet-152), so we should expect to reach the same level of performance."
   ]
  },
  {
   "cell_type": "markdown",
   "metadata": {
    "papermill": {
     "duration": 0.032611,
     "end_time": "2020-08-31T10:46:02.376458",
     "exception": false,
     "start_time": "2020-08-31T10:46:02.343847",
     "status": "completed"
    },
    "tags": []
   },
   "source": [
    "Let's build a DataFrame better suited to our needs, in which every row will contain an information about an individual image. The columns in this DataFrame will be: image name, age, sex, and diagnosed conditions."
   ]
  },
  {
   "cell_type": "code",
   "execution_count": 44,
   "metadata": {
    "execution": {
     "iopub.execute_input": "2020-08-31T10:46:02.456891Z",
     "iopub.status.busy": "2020-08-31T10:46:02.455670Z",
     "iopub.status.idle": "2020-08-31T10:46:03.049147Z",
     "shell.execute_reply": "2020-08-31T10:46:03.048407Z"
    },
    "papermill": {
     "duration": 0.640432,
     "end_time": "2020-08-31T10:46:03.049297",
     "exception": false,
     "start_time": "2020-08-31T10:46:02.408865",
     "status": "completed"
    },
    "tags": []
   },
   "outputs": [
    {
     "output_type": "execute_result",
     "data": {
      "text/plain": [
       "               Image  Patient Age  Patient Sex  N  D  G  C  A  H  M  O\n",
       "0         0_left.jpg           69            0  0  0  0  1  0  0  0  0\n",
       "1        0_right.jpg           69            0  1  0  0  0  0  0  0  0\n",
       "2         1_left.jpg           57            1  1  0  0  0  0  0  0  0\n",
       "3        1_right.jpg           57            1  1  0  0  0  0  0  0  0\n",
       "4         2_left.jpg           42            1  0  1  0  0  0  0  0  1\n",
       "...              ...          ...          ... .. .. .. .. .. .. .. ..\n",
       "6927  4689_right.jpg           54            1  1  0  0  0  0  0  0  0\n",
       "6928   4690_left.jpg           57            1  0  1  0  0  0  0  0  0\n",
       "6929  4690_right.jpg           57            1  0  1  0  0  0  0  0  0\n",
       "6930   4784_left.jpg           58            1  0  0  0  0  1  1  0  0\n",
       "6931  4784_right.jpg           58            1  0  0  0  0  1  1  0  0\n",
       "\n",
       "[6932 rows x 11 columns]"
      ],
      "text/html": "<div>\n<style scoped>\n    .dataframe tbody tr th:only-of-type {\n        vertical-align: middle;\n    }\n\n    .dataframe tbody tr th {\n        vertical-align: top;\n    }\n\n    .dataframe thead th {\n        text-align: right;\n    }\n</style>\n<table border=\"1\" class=\"dataframe\">\n  <thead>\n    <tr style=\"text-align: right;\">\n      <th></th>\n      <th>Image</th>\n      <th>Patient Age</th>\n      <th>Patient Sex</th>\n      <th>N</th>\n      <th>D</th>\n      <th>G</th>\n      <th>C</th>\n      <th>A</th>\n      <th>H</th>\n      <th>M</th>\n      <th>O</th>\n    </tr>\n  </thead>\n  <tbody>\n    <tr>\n      <th>0</th>\n      <td>0_left.jpg</td>\n      <td>69</td>\n      <td>0</td>\n      <td>0</td>\n      <td>0</td>\n      <td>0</td>\n      <td>1</td>\n      <td>0</td>\n      <td>0</td>\n      <td>0</td>\n      <td>0</td>\n    </tr>\n    <tr>\n      <th>1</th>\n      <td>0_right.jpg</td>\n      <td>69</td>\n      <td>0</td>\n      <td>1</td>\n      <td>0</td>\n      <td>0</td>\n      <td>0</td>\n      <td>0</td>\n      <td>0</td>\n      <td>0</td>\n      <td>0</td>\n    </tr>\n    <tr>\n      <th>2</th>\n      <td>1_left.jpg</td>\n      <td>57</td>\n      <td>1</td>\n      <td>1</td>\n      <td>0</td>\n      <td>0</td>\n      <td>0</td>\n      <td>0</td>\n      <td>0</td>\n      <td>0</td>\n      <td>0</td>\n    </tr>\n    <tr>\n      <th>3</th>\n      <td>1_right.jpg</td>\n      <td>57</td>\n      <td>1</td>\n      <td>1</td>\n      <td>0</td>\n      <td>0</td>\n      <td>0</td>\n      <td>0</td>\n      <td>0</td>\n      <td>0</td>\n      <td>0</td>\n    </tr>\n    <tr>\n      <th>4</th>\n      <td>2_left.jpg</td>\n      <td>42</td>\n      <td>1</td>\n      <td>0</td>\n      <td>1</td>\n      <td>0</td>\n      <td>0</td>\n      <td>0</td>\n      <td>0</td>\n      <td>0</td>\n      <td>1</td>\n    </tr>\n    <tr>\n      <th>...</th>\n      <td>...</td>\n      <td>...</td>\n      <td>...</td>\n      <td>...</td>\n      <td>...</td>\n      <td>...</td>\n      <td>...</td>\n      <td>...</td>\n      <td>...</td>\n      <td>...</td>\n      <td>...</td>\n    </tr>\n    <tr>\n      <th>6927</th>\n      <td>4689_right.jpg</td>\n      <td>54</td>\n      <td>1</td>\n      <td>1</td>\n      <td>0</td>\n      <td>0</td>\n      <td>0</td>\n      <td>0</td>\n      <td>0</td>\n      <td>0</td>\n      <td>0</td>\n    </tr>\n    <tr>\n      <th>6928</th>\n      <td>4690_left.jpg</td>\n      <td>57</td>\n      <td>1</td>\n      <td>0</td>\n      <td>1</td>\n      <td>0</td>\n      <td>0</td>\n      <td>0</td>\n      <td>0</td>\n      <td>0</td>\n      <td>0</td>\n    </tr>\n    <tr>\n      <th>6929</th>\n      <td>4690_right.jpg</td>\n      <td>57</td>\n      <td>1</td>\n      <td>0</td>\n      <td>1</td>\n      <td>0</td>\n      <td>0</td>\n      <td>0</td>\n      <td>0</td>\n      <td>0</td>\n      <td>0</td>\n    </tr>\n    <tr>\n      <th>6930</th>\n      <td>4784_left.jpg</td>\n      <td>58</td>\n      <td>1</td>\n      <td>0</td>\n      <td>0</td>\n      <td>0</td>\n      <td>0</td>\n      <td>1</td>\n      <td>1</td>\n      <td>0</td>\n      <td>0</td>\n    </tr>\n    <tr>\n      <th>6931</th>\n      <td>4784_right.jpg</td>\n      <td>58</td>\n      <td>1</td>\n      <td>0</td>\n      <td>0</td>\n      <td>0</td>\n      <td>0</td>\n      <td>1</td>\n      <td>1</td>\n      <td>0</td>\n      <td>0</td>\n    </tr>\n  </tbody>\n</table>\n<p>6932 rows × 11 columns</p>\n</div>"
     },
     "metadata": {},
     "execution_count": 44
    }
   ],
   "source": [
    "# First, let's give these two dictionaries less mouthful handles\n",
    "\n",
    "con2img = fundi_images\n",
    "img2con = fundi_images_rev \n",
    "\n",
    "imgdata_columns = ['Image', 'Patient Age', 'Patient Sex', *conditions]\n",
    "imgdata = []\n",
    "\n",
    "for i, row in data.iterrows():\n",
    "    image_L = row['Left-Fundus']\n",
    "    image_R = row['Right-Fundus']\n",
    "    if image_L in img2con:\n",
    "        image_conditions = [int(condition in img2con[image_L]) for condition in conditions]\n",
    "        imgdata.append([image_L, row['Patient Age'], row['Patient Sex'], *image_conditions])\n",
    "    if image_R in img2con:\n",
    "        image_conditions = [int(condition in img2con[image_R]) for condition in conditions]\n",
    "        imgdata.append([image_R, row['Patient Age'], row['Patient Sex'], *image_conditions])\n",
    "\n",
    "imgdata = pd.DataFrame(imgdata, columns=imgdata_columns)\n",
    "imgdata['Patient Sex'] = imgdata['Patient Sex'].apply(lambda x:0  if x=='Female' else 1) # encode sex: 'Female'=>0, 'Male'=>1\n",
    "imgdata"
   ]
  }
 ],
 "metadata": {
  "kernelspec": {
   "name": "python392jvsc74a57bd0d98f28b429c5bbc561e9a1c313ba7eeea723e1d28d5215ce9b061f12cdef95df",
   "display_name": "Python 3.9.2 64-bit ('Alcon')"
  },
  "language_info": {
   "codemirror_mode": {
    "name": "ipython",
    "version": 3
   },
   "file_extension": ".py",
   "mimetype": "text/x-python",
   "name": "python",
   "nbconvert_exporter": "python",
   "pygments_lexer": "ipython3",
   "version": "3.9.2-final"
  },
  "papermill": {
   "duration": 40.656944,
   "end_time": "2020-08-31T10:46:03.260297",
   "environment_variables": {},
   "exception": null,
   "input_path": "__notebook__.ipynb",
   "output_path": "__notebook__.ipynb",
   "parameters": {},
   "start_time": "2020-08-31T10:45:22.603353",
   "version": "2.1.0"
  },
  "metadata": {
   "interpreter": {
    "hash": "d98f28b429c5bbc561e9a1c313ba7eeea723e1d28d5215ce9b061f12cdef95df"
   }
  }
 },
 "nbformat": 4,
 "nbformat_minor": 4
}